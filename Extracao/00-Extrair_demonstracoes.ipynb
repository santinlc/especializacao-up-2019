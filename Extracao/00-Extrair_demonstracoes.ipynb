{
 "cells": [
  {
   "cell_type": "code",
   "execution_count": 1,
   "metadata": {},
   "outputs": [],
   "source": [
    "import pandas as pd\n",
    "from lxml import html\n",
    "import requests\n",
    "import zipfile\n",
    "import io\n",
    "import os\n",
    "from pathlib import Path\n",
    "import csv"
   ]
  },
  {
   "cell_type": "code",
   "execution_count": 17,
   "metadata": {},
   "outputs": [],
   "source": [
    "import configparser\n",
    "\n",
    "config = configparser.RawConfigParser()\n",
    "config.read('parametros.config')\n",
    "\n",
    "PARAMETROS = dict(config.items('Extracao_Demonstracoes'))\n",
    "PARAMETROS_GERAIS = dict(config.items('Geral'))"
   ]
  },
  {
   "cell_type": "code",
   "execution_count": 19,
   "metadata": {},
   "outputs": [
    {
     "data": {
      "text/plain": [
       "{'caminho_arquivo_download': 'DADOS_DEMONSTRACOES/'}"
      ]
     },
     "execution_count": 19,
     "metadata": {},
     "output_type": "execute_result"
    }
   ],
   "source": [
    "PARAMETROS "
   ]
  },
  {
   "cell_type": "code",
   "execution_count": 20,
   "metadata": {},
   "outputs": [
    {
     "data": {
      "text/plain": [
       "{'pasta_raiz_dados': '/opt/DADOS_ANS/'}"
      ]
     },
     "execution_count": 20,
     "metadata": {},
     "output_type": "execute_result"
    }
   ],
   "source": [
    "PARAMETROS_GERAIS"
   ]
  },
  {
   "cell_type": "code",
   "execution_count": 23,
   "metadata": {},
   "outputs": [],
   "source": [
    "PASTA_DE_DADOS = PARAMETROS_GERAIS['pasta_raiz_dados']+PARAMETROS['caminho_arquivo_download']"
   ]
  },
  {
   "cell_type": "code",
   "execution_count": 5,
   "metadata": {},
   "outputs": [],
   "source": [
    "page = requests.get('http://dados.gov.br/dataset/http-www-ans-gov-br-perfil-do-setor-dados-abertos-dados-abertos-disponiveis-n3')\n",
    "tree = html.fromstring(page.content)"
   ]
  },
  {
   "cell_type": "code",
   "execution_count": 6,
   "metadata": {},
   "outputs": [],
   "source": [
    "link_resources_list = tree.xpath('//a[@class=\"resource-url-analytics\"]')"
   ]
  },
  {
   "cell_type": "code",
   "execution_count": 7,
   "metadata": {},
   "outputs": [],
   "source": [
    "resources_list = []\n",
    "for resource in link_resources_list:\n",
    "    resources_list.append(resource.get(\"href\"))"
   ]
  },
  {
   "cell_type": "code",
   "execution_count": 8,
   "metadata": {},
   "outputs": [
    {
     "name": "stdout",
     "output_type": "stream",
     "text": [
      "Extraindo...  1 de 49 http://www.ans.gov.br/images/stories/Materiais_para_pesquisa/Perfil_setor/Demonstracoes_contabeis/Dados_economicos_financeiros/1T2019.zip\n",
      "Extraindo...  2 de 49 http://www.ans.gov.br/images/stories/Materiais_para_pesquisa/Perfil_setor/Demonstracoes_contabeis/Dados_economicos_financeiros/4T2018.zip\n",
      "Extraindo...  3 de 49 http://www.ans.gov.br/images/stories/Materiais_para_pesquisa/Perfil_setor/Demonstracoes_contabeis/Dados_economicos_financeiros/3T2018.zip\n",
      "Extraindo...  4 de 49 http://www.ans.gov.br/images/stories/Materiais_para_pesquisa/Perfil_setor/Demonstracoes_contabeis/Dados_economicos_financeiros/2T2018.zip\n",
      "Extraindo...  5 de 49 http://www.ans.gov.br/images/stories/Materiais_para_pesquisa/Perfil_setor/Demonstracoes_contabeis/Dados_economicos_financeiros/1T2018.zip\n",
      "Extraindo...  6 de 49 http://www.ans.gov.br/images/stories/Materiais_para_pesquisa/Perfil_setor/Demonstracoes_contabeis/Dados_economicos_financeiros/4T2017.zip\n",
      "Extraindo...  7 de 49 http://www.ans.gov.br/images/stories/Materiais_para_pesquisa/Perfil_setor/Demonstracoes_contabeis/Dados_economicos_financeiros/3-Trimestre.zip\n",
      "Extraindo...  8 de 49 http://www.ans.gov.br/images/stories/Materiais_para_pesquisa/Perfil_setor/Demonstracoes_contabeis/Dados_economicos_financeiros/2T2017.zip\n",
      "Extraindo...  9 de 49 http://www.ans.gov.br/images/stories/Materiais_para_pesquisa/Perfil_setor/Demonstracoes_contabeis/Dados_economicos_financeiros/1T2017.zip\n",
      "Extraindo...  10 de 49 http://www.ans.gov.br/images/stories/Materiais_para_pesquisa/Perfil_setor/Demonstracoes_contabeis/Dados_economicos_financeiros/4T2016.zip\n",
      "Extraindo...  11 de 49 http://www.ans.gov.br/images/stories/Materiais_para_pesquisa/Perfil_setor/Demonstracoes_contabeis/Dados_economicos_financeiros/3T2016.zip\n",
      "Extraindo...  12 de 49 http://www.ans.gov.br/images/stories/Materiais_para_pesquisa/Perfil_setor/Demonstracoes_contabeis/Dados_economicos_financeiros/2T2016.zip\n",
      "Extraindo...  13 de 49 http://www.ans.gov.br/images/stories/Materiais_para_pesquisa/Perfil_setor/Demonstracoes_contabeis/Dados_economicos_financeiros/1T2016.zip\n",
      "Extraindo...  14 de 49 http://www.ans.gov.br/images/stories/Materiais_para_pesquisa/Perfil_setor/Demonstracoes_contabeis/Dados_economicos_financeiros/4T2015.zip\n",
      "Extraindo...  15 de 49 http://www.ans.gov.br/images/stories/Materiais_para_pesquisa/Perfil_setor/Demonstracoes_contabeis/Dados_economicos_financeiros/3T2015.zip\n",
      "Extraindo...  16 de 49 http://www.ans.gov.br/images/stories/Materiais_para_pesquisa/Perfil_setor/Demonstracoes_contabeis/Dados_economicos_financeiros/2T2015.zip\n",
      "Extraindo...  17 de 49 http://www.ans.gov.br/images/stories/Materiais_para_pesquisa/Perfil_setor/Demonstracoes_contabeis/Dados_economicos_financeiros/1T2015.zip\n",
      "Extraindo...  18 de 49 http://www.ans.gov.br/images/stories/Materiais_para_pesquisa/Perfil_setor/Demonstracoes_contabeis/Dados_economicos_financeiros/4T2014.zip\n",
      "Extraindo...  19 de 49 http://www.ans.gov.br/images/stories/Materiais_para_pesquisa/Perfil_setor/Demonstracoes_contabeis/Dados_economicos_financeiros/3T2014.zip\n",
      "Extraindo...  20 de 49 http://www.ans.gov.br/images/stories/Materiais_para_pesquisa/Perfil_setor/Demonstracoes_contabeis/Dados_economicos_financeiros/2T2014.zip\n",
      "Extraindo...  21 de 49 http://www.ans.gov.br/images/stories/Materiais_para_pesquisa/Perfil_setor/Demonstracoes_contabeis/Dados_economicos_financeiros/1T2014.zip\n",
      "Extraindo...  22 de 49 http://www.ans.gov.br/images/stories/Materiais_para_pesquisa/Perfil_setor/Demonstracoes_contabeis/Dados_economicos_financeiros/2013-4t.zip\n",
      "Extraindo...  23 de 49 http://www.ans.gov.br/images/stories/Materiais_para_pesquisa/Perfil_setor/Demonstracoes_contabeis/Dados_economicos_financeiros/2013-3t.zip\n",
      "Extraindo...  24 de 49 http://www.ans.gov.br/images/stories/Materiais_para_pesquisa/Perfil_setor/Demonstracoes_contabeis/Dados_economicos_financeiros/2013-2t.zip\n",
      "Extraindo...  25 de 49 http://www.ans.gov.br/images/stories/Materiais_para_pesquisa/Perfil_setor/Demonstracoes_contabeis/Dados_economicos_financeiros/2013-1t.zip\n",
      "Extraindo...  26 de 49 http://www.ans.gov.br/images/stories/Materiais_para_pesquisa/Perfil_setor/Demonstracoes_contabeis/Dados_economicos_financeiros/20130416_4T2012.zip\n",
      "Extraindo...  27 de 49 http://www.ans.gov.br/images/stories/Materiais_para_pesquisa/Perfil_setor/Demonstracoes_contabeis/Dados_economicos_financeiros/20130416_3T2012.zip\n",
      "Extraindo...  28 de 49 http://www.ans.gov.br/images/stories/Materiais_para_pesquisa/Perfil_setor/Demonstracoes_contabeis/Dados_economicos_financeiros/20130416_2T2012.zip\n",
      "Extraindo...  29 de 49 http://www.ans.gov.br/images/stories/Materiais_para_pesquisa/Perfil_setor/Demonstracoes_contabeis/Dados_economicos_financeiros/20130416_1T2012.zip\n",
      "Extraindo...  30 de 49 http://www.ans.gov.br/images/stories/Materiais_para_pesquisa/Perfil_setor/Demonstracoes_contabeis/Dados_economicos_financeiros/20120614_2011_4_trimestre.zip\n",
      "Extraindo...  31 de 49 http://www.ans.gov.br/images/stories/Materiais_para_pesquisa/Perfil_setor/Demonstracoes_contabeis/Dados_economicos_financeiros/20120614_2011_3_trimestre.zip\n",
      "Extraindo...  32 de 49 http://www.ans.gov.br/images/stories/Materiais_para_pesquisa/Perfil_setor/Demonstracoes_contabeis/Dados_economicos_financeiros/20120614_2011_2_trimestre.zip\n",
      "Extraindo...  33 de 49 http://www.ans.gov.br/images/stories/Materiais_para_pesquisa/Perfil_setor/Demonstracoes_contabeis/Dados_economicos_financeiros/20120614_2011_1_trimestre.zip\n",
      "Extraindo...  34 de 49 http://www.ans.gov.br/images/stories/Materiais_para_pesquisa/Perfil_setor/Demonstracoes_contabeis/Dados_economicos_financeiros/2010_4_trimestre.zip\n",
      "Extraindo...  35 de 49 http://www.ans.gov.br/images/stories/Materiais_para_pesquisa/Perfil_setor/Demonstracoes_contabeis/Dados_economicos_financeiros/2010_3_trimestre.zip\n",
      "Extraindo...  36 de 49 http://www.ans.gov.br/images/stories/Materiais_para_pesquisa/Perfil_setor/Demonstracoes_contabeis/Dados_economicos_financeiros/2010_2_trimestre.zip\n",
      "Extraindo...  37 de 49 http://www.ans.gov.br/images/stories/Materiais_para_pesquisa/Perfil_setor/Demonstracoes_contabeis/Dados_economicos_financeiros/2010_1_trimestre.zip\n",
      "Extraindo...  38 de 49 http://www.ans.gov.br/images/stories/Materiais_para_pesquisa/Perfil_setor/Demonstracoes_contabeis/Dados_economicos_financeiros/2009_4_trimestre.zip\n",
      "Extraindo...  39 de 49 http://www.ans.gov.br/images/stories/Materiais_para_pesquisa/Perfil_setor/Demonstracoes_contabeis/Dados_economicos_financeiros/2009_3_trimestre.zip\n",
      "Extraindo...  40 de 49 http://www.ans.gov.br/images/stories/Materiais_para_pesquisa/Perfil_setor/Demonstracoes_contabeis/Dados_economicos_financeiros/2009_2_trimestre.zip\n",
      "Extraindo...  41 de 49 http://www.ans.gov.br/images/stories/Materiais_para_pesquisa/Perfil_setor/Demonstracoes_contabeis/Dados_economicos_financeiros/2009_1_trimestre.zip\n",
      "Extraindo...  42 de 49 http://www.ans.gov.br/images/stories/Materiais_para_pesquisa/Perfil_setor/Demonstracoes_contabeis/Dados_economicos_financeiros/2008_4_trimestre.zip\n",
      "Extraindo...  43 de 49 http://www.ans.gov.br/images/stories/Materiais_para_pesquisa/Perfil_setor/Demonstracoes_contabeis/Dados_economicos_financeiros/2008_3_trimestre.zip\n",
      "Extraindo...  44 de 49 http://www.ans.gov.br/images/stories/Materiais_para_pesquisa/Perfil_setor/Demonstracoes_contabeis/Dados_economicos_financeiros/2008_2_trimestre.zip\n",
      "Extraindo...  45 de 49 http://www.ans.gov.br/images/stories/Materiais_para_pesquisa/Perfil_setor/Demonstracoes_contabeis/Dados_economicos_financeiros/2008_1_trimestre.zip\n",
      "Extraindo...  46 de 49 http://www.ans.gov.br/images/stories/Materiais_para_pesquisa/Perfil_setor/Demonstracoes_contabeis/Dados_economicos_financeiros/2007_4_trimestre.zip\n",
      "Extraindo...  47 de 49 http://www.ans.gov.br/images/stories/Materiais_para_pesquisa/Perfil_setor/Demonstracoes_contabeis/Dados_economicos_financeiros/2007_3_trimestre.zip\n",
      "Extraindo...  48 de 49 http://www.ans.gov.br/images/stories/Materiais_para_pesquisa/Perfil_setor/Demonstracoes_contabeis/Dados_economicos_financeiros/2007_2_trimestre.zip\n",
      "Extraindo...  49 de 49 http://www.ans.gov.br/images/stories/Materiais_para_pesquisa/Perfil_setor/Demonstracoes_contabeis/Dados_economicos_financeiros/2007_1_trimestre.zip\n"
     ]
    }
   ],
   "source": [
    "\"\"\"\n",
    "Inicia a extração do segundo elemento, pois o primeiro no html é o dicionário de dados\n",
    "\"\"\"\n",
    "for idx,link in enumerate(resources_list[1:]):\n",
    "    print(\"Extraindo... \",(idx+1),\"de\",len(resources_list[1:]),link)\n",
    "    r = requests.get(link)\n",
    "    z = zipfile.ZipFile(io.BytesIO(r.content))\n",
    "    z.extractall(PASTA_DE_DADOS)"
   ]
  },
  {
   "cell_type": "code",
   "execution_count": 9,
   "metadata": {},
   "outputs": [],
   "source": [
    "lista_arquivos = os.listdir(PASTA_DE_DADOS)\n",
    "lista_arquivos = [(PASTA_DE_DADOS+ \"/\" + x) for x in lista_arquivos if not str(x) == \"nan\"]"
   ]
  },
  {
   "cell_type": "code",
   "execution_count": 10,
   "metadata": {},
   "outputs": [],
   "source": [
    "\"\"\"\n",
    "Chamada genérica para \"puxar\" todos os arquivos para dentro da pasta 'dados'\n",
    "\"\"\"\n",
    "for arquivo in lista_arquivos:\n",
    "    caminho_absoluto = Path(arquivo).absolute()\n",
    "    pasta_dados = Path(PASTA_DE_DADOS).absolute()\n",
    "    if (os.path.isdir(caminho_absoluto)):\n",
    "        for _arquivo in os.listdir(caminho_absoluto):\n",
    "            _de = str(caminho_absoluto)+\"/\"+_arquivo\n",
    "            _para = str(pasta_dados)+\"/\"+_arquivo\n",
    "            os.rename(_de,_para)\n",
    "        \"\"    \n",
    "        caminho_absoluto.rmdir()\n",
    "        "
   ]
  },
  {
   "cell_type": "markdown",
   "metadata": {},
   "source": [
    "### Transformando arquivo xlsx em csv com ajustes necessários"
   ]
  },
  {
   "cell_type": "code",
   "execution_count": 11,
   "metadata": {},
   "outputs": [],
   "source": [
    "df_excel = pd.read_excel(PASTA_DE_DADOS+\"2T2018.xlsx\")"
   ]
  },
  {
   "cell_type": "markdown",
   "metadata": {},
   "source": [
    "#### Convertendo a data saldo final e deixando registro ans com 6 casas"
   ]
  },
  {
   "cell_type": "code",
   "execution_count": 12,
   "metadata": {},
   "outputs": [],
   "source": [
    "df_excel['VL_SALDO_FINAL'] = df_excel['VL_SALDO_FINAL'].map(lambda x: (\"%.2f\" % x).replace(\",\",\"\").replace(\".\",\",\"))"
   ]
  },
  {
   "cell_type": "code",
   "execution_count": 13,
   "metadata": {},
   "outputs": [],
   "source": [
    "df_excel['REG_ANS'] = df_excel['REG_ANS'].astype(str).str.pad(width=6, side='left', fillchar='0')"
   ]
  },
  {
   "cell_type": "code",
   "execution_count": 14,
   "metadata": {},
   "outputs": [
    {
     "data": {
      "text/plain": [
       "Index(['DATA', 'REG_ANS', 'CD_CONTA_CONTABIL', 'DESCRICAO', 'VL_SALDO_FINAL'], dtype='object')"
      ]
     },
     "execution_count": 14,
     "metadata": {},
     "output_type": "execute_result"
    }
   ],
   "source": [
    "df_excel.columns"
   ]
  },
  {
   "cell_type": "code",
   "execution_count": 15,
   "metadata": {},
   "outputs": [],
   "source": [
    "df_excel.to_csv(PASTA_DE_DADOS+\"/2T2018.csv\",sep=\";\",quotechar='\"',quoting=csv.QUOTE_ALL,encoding=\"ISO-8859-1\",index=False)"
   ]
  },
  {
   "cell_type": "code",
   "execution_count": 16,
   "metadata": {},
   "outputs": [],
   "source": [
    "os.remove(PASTA_DE_DADOS+\"/2T2018.xlsx\")"
   ]
  },
  {
   "cell_type": "code",
   "execution_count": null,
   "metadata": {},
   "outputs": [],
   "source": []
  }
 ],
 "metadata": {
  "kernelspec": {
   "display_name": "Python 3",
   "language": "python",
   "name": "python3"
  },
  "language_info": {
   "codemirror_mode": {
    "name": "ipython",
    "version": 3
   },
   "file_extension": ".py",
   "mimetype": "text/x-python",
   "name": "python",
   "nbconvert_exporter": "python",
   "pygments_lexer": "ipython3",
   "version": "3.6.5"
  }
 },
 "nbformat": 4,
 "nbformat_minor": 2
}
