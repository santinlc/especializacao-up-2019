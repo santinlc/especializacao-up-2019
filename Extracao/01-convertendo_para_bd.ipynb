{
 "cells": [
  {
   "cell_type": "code",
   "execution_count": 8,
   "metadata": {},
   "outputs": [],
   "source": [
    "import pandas as pd\n",
    "import os\n",
    "import re"
   ]
  },
  {
   "cell_type": "code",
   "execution_count": 9,
   "metadata": {},
   "outputs": [],
   "source": [
    "import configparser\n",
    "\n",
    "config = configparser.RawConfigParser()\n",
    "config.read('parametros.config')\n",
    "\n",
    "PARAMETROS = dict(config.items('Padronizacao_conversao'))\n",
    "PARAMETROS_GERAIS = dict(config.items('Geral'))"
   ]
  },
  {
   "cell_type": "code",
   "execution_count": 10,
   "metadata": {},
   "outputs": [],
   "source": [
    "PASTA_DE_DADOS = PARAMETROS_GERAIS['pasta_raiz_dados']+PARAMETROS['caminho_arquivo_download']\n",
    "PASTA_SAIDA = PARAMETROS_GERAIS['pasta_raiz_dados']+PARAMETROS['caminho_arquivo_convertido']\n",
    "ARQUIVO_OPERADORAS = PARAMETROS_GERAIS['arquivo_operadoras']\n",
    "ANO_INICIO_ANALISES = int(PARAMETROS_GERAIS['ano_inicio_analises'])"
   ]
  },
  {
   "cell_type": "code",
   "execution_count": 11,
   "metadata": {},
   "outputs": [
    {
     "data": {
      "text/plain": [
       "'http://ftp.dadosabertos.ans.gov.br/FTP/PDA/operadoras_de_plano_de_saude_ativas/Relatorio_cadop.csv'"
      ]
     },
     "execution_count": 11,
     "metadata": {},
     "output_type": "execute_result"
    }
   ],
   "source": [
    "ARQUIVO_OPERADORAS"
   ]
  },
  {
   "cell_type": "code",
   "execution_count": 12,
   "metadata": {},
   "outputs": [],
   "source": [
    "df_operadoras = pd.read_csv(ARQUIVO_OPERADORAS,dtype=str,sep=\";\",encoding=\"ISO-8859-1\")"
   ]
  },
  {
   "cell_type": "code",
   "execution_count": 13,
   "metadata": {},
   "outputs": [],
   "source": [
    "df_operadoras = df_operadoras[df_operadoras['Modalidade'] == 'Cooperativa Médica']"
   ]
  },
  {
   "cell_type": "code",
   "execution_count": 14,
   "metadata": {},
   "outputs": [],
   "source": [
    "patternPeriodo = re.compile('(.*)T(.*).csv')"
   ]
  },
  {
   "cell_type": "code",
   "execution_count": 15,
   "metadata": {},
   "outputs": [],
   "source": [
    "lista_arquivos = os.listdir(PASTA_DE_DADOS)"
   ]
  },
  {
   "cell_type": "code",
   "execution_count": 16,
   "metadata": {},
   "outputs": [],
   "source": [
    "if (not(os.path.exists(PASTA_SAIDA))):\n",
    "    os.mkdir(PASTA_SAIDA)"
   ]
  },
  {
   "cell_type": "code",
   "execution_count": 17,
   "metadata": {},
   "outputs": [
    {
     "name": "stdout",
     "output_type": "stream",
     "text": [
      "Convertido  1 de 51\n",
      "Convertido  2 de 51\n",
      "Convertido  3 de 51\n",
      "Convertido  4 de 51\n",
      "Convertido  5 de 51\n",
      "Convertido  6 de 51\n",
      "Convertido  7 de 51\n",
      "Convertido  8 de 51\n",
      "Convertido  9 de 51\n",
      "Convertido  10 de 51\n",
      "Convertido  11 de 51\n",
      "Convertido  12 de 51\n",
      "Convertido  13 de 51\n",
      "Convertido  14 de 51\n",
      "Convertido  15 de 51\n",
      "Convertido  16 de 51\n",
      "Convertido  17 de 51\n",
      "Convertido  18 de 51\n",
      "Convertido  19 de 51\n",
      "Convertido  20 de 51\n",
      "Convertido  21 de 51\n",
      "Convertido  22 de 51\n",
      "Convertido  23 de 51\n",
      "Convertido  24 de 51\n",
      "Convertido  25 de 51\n",
      "Convertido  26 de 51\n",
      "Convertido  27 de 51\n",
      "Convertido  28 de 51\n",
      "Convertido  29 de 51\n",
      "Convertido  30 de 51\n",
      "Convertido  31 de 51\n",
      "Convertido  32 de 51\n",
      "Convertido  33 de 51\n",
      "Convertido  34 de 51\n",
      "Convertido  35 de 51\n",
      "Convertido  36 de 51\n",
      "Convertido  37 de 51\n",
      "Convertido  38 de 51\n",
      "Convertido  39 de 51\n",
      "Convertido  40 de 51\n",
      "Convertido  41 de 51\n",
      "Convertido  42 de 51\n",
      "Convertido  43 de 51\n",
      "Convertido  44 de 51\n",
      "Convertido  45 de 51\n",
      "Convertido  46 de 51\n",
      "Convertido  47 de 51\n",
      "Convertido  48 de 51\n",
      "Convertido  49 de 51\n",
      "Convertido  50 de 51\n",
      "Convertido  51 de 51\n"
     ]
    }
   ],
   "source": [
    "for _idx,arquivo in enumerate(lista_arquivos):\n",
    "    _match = patternPeriodo.findall(arquivo)[0]\n",
    "    _trimestre = _match[0]\n",
    "    _ano =  _match[1]\n",
    "    if (int(_ano) >= ANO_INICIO_ANALISES):\n",
    "        df = pd.read_csv(PASTA_DE_DADOS+arquivo,sep=\";\",dtype=str,encoding=\"ISO-8859-1\")\n",
    "        df = df.merge(df_operadoras,left_on='REG_ANS', right_on='Registro_ANS')\n",
    "        df.insert(0,'TRIMESTRE',_trimestre)\n",
    "        df.insert(0,'ANO',_ano)\n",
    "        df.insert(0,'PERIODO',_ano+_trimestre.rjust(2, '0'))\n",
    "        df.insert(0,'CHAVE',df['CD_CONTA_CONTABIL']+\"_\"+df['REG_ANS']+\"_\"+_ano+\"_\"+_trimestre)\n",
    "        df['VL_SALDO_FINAL'] = df['VL_SALDO_FINAL'].str.replace(\",\",\".\").astype(float)\n",
    "        df.drop(columns=[\"DATA\"],inplace=True)\n",
    "        df.set_index('CHAVE',inplace=True)\n",
    "        df.to_csv(PASTA_SAIDA+arquivo,encoding=\"ISO-8859-1\")\n",
    "    print(\"Finalizado \",(_idx+1),\"de\",len(lista_arquivos))"
   ]
  },
  {
   "cell_type": "code",
   "execution_count": null,
   "metadata": {},
   "outputs": [],
   "source": []
  }
 ],
 "metadata": {
  "kernelspec": {
   "display_name": "Python 3",
   "language": "python",
   "name": "python3"
  },
  "language_info": {
   "codemirror_mode": {
    "name": "ipython",
    "version": 3
   },
   "file_extension": ".py",
   "mimetype": "text/x-python",
   "name": "python",
   "nbconvert_exporter": "python",
   "pygments_lexer": "ipython3",
   "version": "3.7.4"
  }
 },
 "nbformat": 4,
 "nbformat_minor": 4
}
