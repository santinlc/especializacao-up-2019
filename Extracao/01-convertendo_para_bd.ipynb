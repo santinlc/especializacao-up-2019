{
 "cells": [
  {
   "cell_type": "code",
   "execution_count": 1,
   "metadata": {},
   "outputs": [],
   "source": [
    "import pandas as pd\n",
    "import os\n",
    "import re"
   ]
  },
  {
   "cell_type": "code",
   "execution_count": 2,
   "metadata": {},
   "outputs": [],
   "source": [
    "import configparser\n",
    "\n",
    "config = configparser.RawConfigParser()\n",
    "config.read('parametros.config')\n",
    "\n",
    "PARAMETROS = dict(config.items('Padronizacao_conversao'))\n",
    "PARAMETROS_GERAIS = dict(config.items('Geral'))"
   ]
  },
  {
   "cell_type": "code",
   "execution_count": 3,
   "metadata": {},
   "outputs": [],
   "source": [
    "PASTA_DE_DADOS = PARAMETROS_GERAIS['pasta_raiz_dados']+PARAMETROS['caminho_arquivo_download']\n",
    "PASTA_SAIDA = PARAMETROS_GERAIS['pasta_raiz_dados']+PARAMETROS['caminho_arquivo_convertido']\n",
    "ARQUIVO_OPERADORAS = PARAMETROS_GERAIS['arquivo_operadoras']\n",
    "ANO_INICIO_ANALISES = int(PARAMETROS_GERAIS['ano_inicio_analises'])"
   ]
  },
  {
   "cell_type": "code",
   "execution_count": 4,
   "metadata": {},
   "outputs": [
    {
     "data": {
      "text/plain": [
       "'http://ftp.dadosabertos.ans.gov.br/FTP/PDA/operadoras_de_plano_de_saude_ativas/Relatorio_cadop.csv'"
      ]
     },
     "execution_count": 4,
     "metadata": {},
     "output_type": "execute_result"
    }
   ],
   "source": [
    "ARQUIVO_OPERADORAS"
   ]
  },
  {
   "cell_type": "code",
   "execution_count": 5,
   "metadata": {},
   "outputs": [],
   "source": [
    "df_operadoras = pd.read_csv(ARQUIVO_OPERADORAS,dtype=str,sep=\";\",encoding=\"ISO-8859-1\")"
   ]
  },
  {
   "cell_type": "code",
   "execution_count": 6,
   "metadata": {},
   "outputs": [],
   "source": [
    "df_operadoras = df_operadoras[df_operadoras['Modalidade'] == 'Cooperativa Médica']"
   ]
  },
  {
   "cell_type": "code",
   "execution_count": 7,
   "metadata": {},
   "outputs": [],
   "source": [
    "patternPeriodo = re.compile('(.*)T(.*).csv')"
   ]
  },
  {
   "cell_type": "code",
   "execution_count": 8,
   "metadata": {},
   "outputs": [],
   "source": [
    "lista_arquivos = os.listdir(PASTA_DE_DADOS)"
   ]
  },
  {
   "cell_type": "code",
   "execution_count": 9,
   "metadata": {},
   "outputs": [
    {
     "data": {
      "text/plain": [
       "['1T2016.csv',\n",
       " '3T2014.csv',\n",
       " '4T2013.csv',\n",
       " '2T2018.csv',\n",
       " '1T2019.csv',\n",
       " '2T2016.csv',\n",
       " '1T2015.csv',\n",
       " '1T2018.csv',\n",
       " '1T2013.csv',\n",
       " '4T2014.csv',\n",
       " '2T2014.csv',\n",
       " '4T2017.csv',\n",
       " '2T2019.csv',\n",
       " '4T2015.csv',\n",
       " '3T2019.csv',\n",
       " '4T2018.csv',\n",
       " '2T2017.csv',\n",
       " '3T2016.csv',\n",
       " '1T2014.csv',\n",
       " '3T2013.csv',\n",
       " '2T2015.csv',\n",
       " '3T2015.csv',\n",
       " '2T2013.csv',\n",
       " '1T2017.csv',\n",
       " '3T2018.csv',\n",
       " '3T2017.csv',\n",
       " '4T2016.csv']"
      ]
     },
     "execution_count": 9,
     "metadata": {},
     "output_type": "execute_result"
    }
   ],
   "source": [
    "lista_arquivos"
   ]
  },
  {
   "cell_type": "code",
   "execution_count": 10,
   "metadata": {},
   "outputs": [],
   "source": [
    "if (not(os.path.exists(PASTA_SAIDA))):\n",
    "    os.mkdir(PASTA_SAIDA)"
   ]
  },
  {
   "cell_type": "code",
   "execution_count": 11,
   "metadata": {},
   "outputs": [
    {
     "name": "stdout",
     "output_type": "stream",
     "text": [
      "2016 1\n",
      "Finalizado  1 de 27\n",
      "2014 3\n",
      "Finalizado  2 de 27\n",
      "2013 4\n",
      "Finalizado  3 de 27\n",
      "2018 2\n",
      "Finalizado  4 de 27\n",
      "2019 1\n",
      "Finalizado  5 de 27\n",
      "2016 2\n",
      "Finalizado  6 de 27\n",
      "2015 1\n",
      "Finalizado  7 de 27\n",
      "2018 1\n",
      "Finalizado  8 de 27\n",
      "2013 1\n",
      "Finalizado  9 de 27\n",
      "2014 4\n",
      "Finalizado  10 de 27\n",
      "2014 2\n",
      "Finalizado  11 de 27\n",
      "2017 4\n",
      "Finalizado  12 de 27\n",
      "2019 2\n",
      "Finalizado  13 de 27\n",
      "2015 4\n",
      "Finalizado  14 de 27\n",
      "2019 3\n",
      "Finalizado  15 de 27\n",
      "2018 4\n",
      "Finalizado  16 de 27\n",
      "2017 2\n",
      "Finalizado  17 de 27\n",
      "2016 3\n",
      "Finalizado  18 de 27\n",
      "2014 1\n",
      "Finalizado  19 de 27\n",
      "2013 3\n",
      "Finalizado  20 de 27\n",
      "2015 2\n",
      "Finalizado  21 de 27\n",
      "2015 3\n",
      "Finalizado  22 de 27\n",
      "2013 2\n",
      "Finalizado  23 de 27\n",
      "2017 1\n",
      "Finalizado  24 de 27\n",
      "2018 3\n",
      "Finalizado  25 de 27\n",
      "2017 3\n",
      "Finalizado  26 de 27\n",
      "2016 4\n",
      "Finalizado  27 de 27\n"
     ]
    }
   ],
   "source": [
    "for _idx,arquivo in enumerate(lista_arquivos):\n",
    "    _match = patternPeriodo.findall(arquivo)[0]\n",
    "    _trimestre = _match[0]\n",
    "    _ano =  _match[1]\n",
    "    print(_ano,_trimestre)\n",
    "    if (int(_ano) >= ANO_INICIO_ANALISES):\n",
    "#         print(\"Inicio\")\n",
    "        df = pd.read_csv(PASTA_DE_DADOS+arquivo,sep=\";\",dtype=str,encoding=\"ISO-8859-1\")\n",
    "#         print(\"DF lido\",len(df))\n",
    "        df = df.merge(df_operadoras,left_on='REG_ANS', right_on='Registro_ANS')\n",
    "#         print(\"DF merge\",len(df))\n",
    "        df.insert(0,'TRIMESTRE',_trimestre)\n",
    "        df.insert(0,'ANO',_ano)\n",
    "        df.insert(0,'PERIODO',_ano+_trimestre.rjust(2, '0'))\n",
    "        df.insert(0,'CHAVE',df['CD_CONTA_CONTABIL']+\"_\"+df['REG_ANS']+\"_\"+_ano+\"_\"+_trimestre)\n",
    "#         print(\"DF inserts\",len(df))\n",
    "        df['VL_SALDO_FINAL'] = df['VL_SALDO_FINAL'].str.replace(\",\",\".\").astype(float)\n",
    "#         print(\"DF saldofinal\",len(df))\n",
    "        df.drop(columns=[\"DATA\"],inplace=True)\n",
    "#         print(\"DF drop data\",len(df))\n",
    "        df.set_index('CHAVE',inplace=True)\n",
    "        df.to_csv(PASTA_SAIDA+arquivo,encoding=\"ISO-8859-1\")\n",
    "    print(\"Finalizado \",(_idx+1),\"de\",len(lista_arquivos))"
   ]
  },
  {
   "cell_type": "code",
   "execution_count": null,
   "metadata": {},
   "outputs": [],
   "source": []
  }
 ],
 "metadata": {
  "kernelspec": {
   "display_name": "Python 3",
   "language": "python",
   "name": "python3"
  },
  "language_info": {
   "codemirror_mode": {
    "name": "ipython",
    "version": 3
   },
   "file_extension": ".py",
   "mimetype": "text/x-python",
   "name": "python",
   "nbconvert_exporter": "python",
   "pygments_lexer": "ipython3",
   "version": "3.7.4"
  }
 },
 "nbformat": 4,
 "nbformat_minor": 4
}
