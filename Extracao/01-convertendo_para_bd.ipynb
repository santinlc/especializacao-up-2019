{
 "cells": [
  {
   "cell_type": "code",
   "execution_count": null,
   "metadata": {},
   "outputs": [],
   "source": [
    "import pandas as pd\n",
    "import os\n",
    "import re"
   ]
  },
  {
   "cell_type": "code",
   "execution_count": null,
   "metadata": {},
   "outputs": [],
   "source": [
    "import configparser\n",
    "\n",
    "config = configparser.RawConfigParser()\n",
    "config.read('parametros.config')\n",
    "\n",
    "PARAMETROS = dict(config.items('Padronizacao_conversao'))\n",
    "PARAMETROS_GERAIS = dict(config.items('Geral'))"
   ]
  },
  {
   "cell_type": "code",
   "execution_count": null,
   "metadata": {},
   "outputs": [],
   "source": [
    "PASTA_DE_DADOS = PARAMETROS_GERAIS['pasta_raiz_dados']+PARAMETROS['caminho_arquivo_download']\n",
    "PASTA_SAIDA = PARAMETROS_GERAIS['pasta_raiz_dados']+PARAMETROS['caminho_arquivo_convertido']\n",
    "ARQUIVO_OPERADORAS = PARAMETROS_GERAIS['arquivo_operadoras']\n"
   ]
  },
  {
   "cell_type": "code",
   "execution_count": null,
   "metadata": {},
   "outputs": [],
   "source": [
    "ARQUIVO_OPERADORAS"
   ]
  },
  {
   "cell_type": "code",
   "execution_count": null,
   "metadata": {},
   "outputs": [],
   "source": [
    "df_operadoras = pd.read_csv(ARQUIVO_OPERADORAS,dtype=str,sep=\"\\t\",encoding=\"ISO-8859-1\")"
   ]
  },
  {
   "cell_type": "code",
   "execution_count": null,
   "metadata": {},
   "outputs": [],
   "source": [
    "df_operadoras.head()"
   ]
  },
  {
   "cell_type": "code",
   "execution_count": null,
   "metadata": {},
   "outputs": [],
   "source": [
    "patternPeriodo = re.compile('(.*)T(.*).csv')"
   ]
  },
  {
   "cell_type": "code",
   "execution_count": null,
   "metadata": {},
   "outputs": [],
   "source": [
    "lista_arquivos = os.listdir(PASTA_DE_DADOS)"
   ]
  },
  {
   "cell_type": "code",
   "execution_count": null,
   "metadata": {},
   "outputs": [],
   "source": [
    "if (not(os.path.exists(PASTA_SAIDA))):\n",
    "    os.mkdir(PASTA_SAIDA)"
   ]
  },
  {
   "cell_type": "code",
   "execution_count": null,
   "metadata": {},
   "outputs": [],
   "source": [
    "for _idx,arquivo in enumerate(lista_arquivos):\n",
    "    _match = patternPeriodo.findall(arquivo)[0]\n",
    "    _semestre = _match[0]\n",
    "    _ano =  _match[1]\n",
    "    if (int(_ano) > 2010):\n",
    "        df = pd.read_csv(PASTA_DE_DADOS+arquivo,sep=\";\",dtype=str,encoding=\"ISO-8859-1\")\n",
    "        df = df.merge(df_operadoras,left_on='REG_ANS', right_on='Registro_ANS')\n",
    "        df.insert(0,'SEMESTRE',_semestre)\n",
    "        df.insert(0,'ANO',_ano)\n",
    "        df.insert(0,'CHAVE',df['CD_CONTA_CONTABIL']+\"_\"+df['REG_ANS']+\"_\"+_ano+\"_\"+_semestre)\n",
    "        df['VL_SALDO_FINAL'] = df['VL_SALDO_FINAL'].str.replace(\",\",\".\").astype(float)\n",
    "        df.drop(columns=\"DATA\",inplace=True)\n",
    "        df.set_index('CHAVE',inplace=True)\n",
    "        df.to_csv(PASTA_SAIDA+arquivo,encoding=\"ISO-8859-1\")\n",
    "    print(\"Convertido \",(_idx+1),\"de\",len(lista_arquivos))"
   ]
  },
  {
   "cell_type": "code",
   "execution_count": null,
   "metadata": {},
   "outputs": [],
   "source": []
  }
 ],
 "metadata": {
  "kernelspec": {
   "display_name": "Python 3",
   "language": "python",
   "name": "python3"
  },
  "language_info": {
   "codemirror_mode": {
    "name": "ipython",
    "version": 3
   },
   "file_extension": ".py",
   "mimetype": "text/x-python",
   "name": "python",
   "nbconvert_exporter": "python",
   "pygments_lexer": "ipython3",
   "version": "3.7.4"
  }
 },
 "nbformat": 4,
 "nbformat_minor": 4
}
