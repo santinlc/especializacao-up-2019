{
 "cells": [
  {
   "cell_type": "code",
   "execution_count": 1,
   "metadata": {},
   "outputs": [],
   "source": [
    "import pandas as pd\n",
    "import os\n",
    "import re"
   ]
  },
  {
   "cell_type": "code",
   "execution_count": 2,
   "metadata": {},
   "outputs": [],
   "source": [
    "import configparser\n",
    "\n",
    "config = configparser.RawConfigParser()\n",
    "config.read('parametros.config')\n",
    "\n",
    "PARAMETROS = dict(config.items('Padronizacao_conversao'))\n",
    "PARAMETROS_GERAIS = dict(config.items('Geral'))"
   ]
  },
  {
   "cell_type": "code",
   "execution_count": 3,
   "metadata": {},
   "outputs": [],
   "source": [
    "PASTA_DE_DADOS = PARAMETROS_GERAIS['pasta_raiz_dados']+PARAMETROS['caminho_arquivo_download']\n",
    "PASTA_SAIDA = PARAMETROS_GERAIS['pasta_raiz_dados']+PARAMETROS['caminho_arquivo_convertido']"
   ]
  },
  {
   "cell_type": "code",
   "execution_count": 4,
   "metadata": {},
   "outputs": [],
   "source": [
    "patternPeriodo = re.compile('(.*)T(.*).csv')"
   ]
  },
  {
   "cell_type": "code",
   "execution_count": 5,
   "metadata": {},
   "outputs": [],
   "source": [
    "lista_arquivos = os.listdir(PASTA_DE_DADOS)"
   ]
  },
  {
   "cell_type": "code",
   "execution_count": 6,
   "metadata": {},
   "outputs": [],
   "source": [
    "if (not(os.path.exists(PASTA_SAIDA))):\n",
    "    os.mkdir(PASTA_SAIDA)"
   ]
  },
  {
   "cell_type": "code",
   "execution_count": null,
   "metadata": {},
   "outputs": [
    {
     "name": "stdout",
     "output_type": "stream",
     "text": [
      "Convertido  1 de 50\n",
      "Convertido  2 de 50\n",
      "Convertido  3 de 50\n",
      "Convertido  4 de 50\n",
      "Convertido  5 de 50\n",
      "Convertido  6 de 50\n",
      "Convertido  7 de 50\n",
      "Convertido  8 de 50\n",
      "Convertido  9 de 50\n",
      "Convertido  10 de 50\n",
      "Convertido  11 de 50\n",
      "Convertido  12 de 50\n",
      "Convertido  13 de 50\n",
      "Convertido  14 de 50\n",
      "Convertido  15 de 50\n",
      "Convertido  16 de 50\n",
      "Convertido  17 de 50\n",
      "Convertido  18 de 50\n",
      "Convertido  19 de 50\n",
      "Convertido  20 de 50\n",
      "Convertido  21 de 50\n",
      "Convertido  22 de 50\n",
      "Convertido  23 de 50\n",
      "Convertido  24 de 50\n",
      "Convertido  25 de 50\n",
      "Convertido  26 de 50\n",
      "Convertido  27 de 50\n",
      "Convertido  28 de 50\n",
      "Convertido  29 de 50\n",
      "Convertido  30 de 50\n",
      "Convertido  31 de 50\n",
      "Convertido  32 de 50\n",
      "Convertido  33 de 50\n",
      "Convertido  34 de 50\n",
      "Convertido  35 de 50\n",
      "Convertido  36 de 50\n",
      "Convertido  37 de 50\n",
      "Convertido  38 de 50\n",
      "Convertido  39 de 50\n",
      "Convertido  40 de 50\n",
      "Convertido  41 de 50\n",
      "Convertido  42 de 50\n",
      "Convertido  43 de 50\n",
      "Convertido  44 de 50\n",
      "Convertido  45 de 50\n",
      "Convertido  46 de 50\n"
     ]
    }
   ],
   "source": [
    "for _idx,arquivo in enumerate(lista_arquivos):\n",
    "    _match = patternPeriodo.findall(arquivo)[0]\n",
    "    _semestre = _match[0]\n",
    "    _ano =  _match[1]\n",
    "    df = pd.read_csv(PASTA_DE_DADOS+arquivo,sep=\";\",dtype=str,encoding=\"ISO-8859-1\")\n",
    "    df.insert(0,'SEMESTRE',_semestre)\n",
    "    df.insert(0,'ANO',_ano)\n",
    "    df['VL_SALDO_FINAL'] = df['VL_SALDO_FINAL'].str.replace(\",\",\".\").astype(float)\n",
    "    df.drop(columns=\"DATA\",inplace=True)\n",
    "    df_saida = df[['ANO', 'SEMESTRE','REG_ANS', 'CD_CONTA_CONTABIL', 'DESCRICAO','VL_SALDO_FINAL']]\n",
    "    df_saida.to_csv(PASTA_SAIDA+arquivo,index=False)\n",
    "    print(\"Convertido \",(_idx+1),\"de\",len(lista_arquivos))"
   ]
  }
 ],
 "metadata": {
  "kernelspec": {
   "display_name": "Python 3",
   "language": "python",
   "name": "python3"
  },
  "language_info": {
   "codemirror_mode": {
    "name": "ipython",
    "version": 3
   },
   "file_extension": ".py",
   "mimetype": "text/x-python",
   "name": "python",
   "nbconvert_exporter": "python",
   "pygments_lexer": "ipython3",
   "version": "3.6.9"
  }
 },
 "nbformat": 4,
 "nbformat_minor": 2
}
