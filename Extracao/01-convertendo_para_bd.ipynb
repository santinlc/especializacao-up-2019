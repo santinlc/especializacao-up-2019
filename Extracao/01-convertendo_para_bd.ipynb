{
 "cells": [
  {
   "cell_type": "code",
   "execution_count": 1,
   "metadata": {},
   "outputs": [],
   "source": [
    "import pandas as pd\n",
    "import os\n",
    "import re"
   ]
  },
  {
   "cell_type": "code",
   "execution_count": 8,
   "metadata": {},
   "outputs": [],
   "source": [
    "import configparser\n",
    "\n",
    "config = configparser.RawConfigParser()\n",
    "config.read('parametros.config')\n",
    "\n",
    "PARAMETROS = dict(config.items('Padronizacao_conversao'))\n",
    "PARAMETROS_GERAIS = dict(config.items('Geral'))"
   ]
  },
  {
   "cell_type": "code",
   "execution_count": 10,
   "metadata": {},
   "outputs": [],
   "source": [
    "PASTA_DE_DADOS = PARAMETROS_GERAIS['pasta_raiz_dados']+PARAMETROS['caminho_arquivo_download']\n",
    "PASTA_SAIDA = PARAMETROS_GERAIS['pasta_raiz_dados']+PARAMETROS['caminho_arquivo_convertido']"
   ]
  },
  {
   "cell_type": "code",
   "execution_count": 4,
   "metadata": {},
   "outputs": [],
   "source": [
    "patternPeriodo = re.compile('(.*)T(.*).csv')"
   ]
  },
  {
   "cell_type": "code",
   "execution_count": 5,
   "metadata": {},
   "outputs": [],
   "source": [
    "lista_arquivos = os.listdir(PASTA_DE_DADOS)"
   ]
  },
  {
   "cell_type": "code",
   "execution_count": 6,
   "metadata": {},
   "outputs": [],
   "source": [
    "if (not(os.path.exists(PASTA_SAIDA))):\n",
    "    os.mkdir(PASTA_SAIDA)"
   ]
  },
  {
   "cell_type": "code",
   "execution_count": 7,
   "metadata": {},
   "outputs": [
    {
     "name": "stdout",
     "output_type": "stream",
     "text": [
      "Convetido  1 de 49\n",
      "Convetido  2 de 49\n",
      "Convetido  3 de 49\n",
      "Convetido  4 de 49\n",
      "Convetido  5 de 49\n",
      "Convetido  6 de 49\n",
      "Convetido  7 de 49\n",
      "Convetido  8 de 49\n",
      "Convetido  9 de 49\n",
      "Convetido  10 de 49\n",
      "Convetido  11 de 49\n",
      "Convetido  12 de 49\n",
      "Convetido  13 de 49\n",
      "Convetido  14 de 49\n",
      "Convetido  15 de 49\n",
      "Convetido  16 de 49\n",
      "Convetido  17 de 49\n",
      "Convetido  18 de 49\n",
      "Convetido  19 de 49\n",
      "Convetido  20 de 49\n",
      "Convetido  21 de 49\n",
      "Convetido  22 de 49\n",
      "Convetido  23 de 49\n",
      "Convetido  24 de 49\n",
      "Convetido  25 de 49\n",
      "Convetido  26 de 49\n",
      "Convetido  27 de 49\n",
      "Convetido  28 de 49\n",
      "Convetido  29 de 49\n",
      "Convetido  30 de 49\n",
      "Convetido  31 de 49\n",
      "Convetido  32 de 49\n",
      "Convetido  33 de 49\n",
      "Convetido  34 de 49\n",
      "Convetido  35 de 49\n",
      "Convetido  36 de 49\n",
      "Convetido  37 de 49\n",
      "Convetido  38 de 49\n",
      "Convetido  39 de 49\n",
      "Convetido  40 de 49\n",
      "Convetido  41 de 49\n",
      "Convetido  42 de 49\n",
      "Convetido  43 de 49\n",
      "Convetido  44 de 49\n",
      "Convetido  45 de 49\n",
      "Convetido  46 de 49\n",
      "Convetido  47 de 49\n",
      "Convetido  48 de 49\n",
      "Convetido  49 de 49\n"
     ]
    }
   ],
   "source": [
    "for _idx,arquivo in enumerate(lista_arquivos):\n",
    "    _match = patternPeriodo.findall(arquivo)[0]\n",
    "    _semestre = _match[0]\n",
    "    _ano =  _match[1]\n",
    "    df = pd.read_csv(PASTA_DE_DADOS+arquivo,sep=\";\",dtype=str,encoding=\"ISO-8859-1\")\n",
    "    df.insert(0,'SEMESTRE',_semestre)\n",
    "    df.insert(0,'ANO',_ano)\n",
    "    df['VL_SALDO_FINAL'] = df['VL_SALDO_FINAL'].str.replace(\",\",\".\").astype(float)\n",
    "    df.drop(columns=\"DATA\",inplace=True)\n",
    "    df_saida = df[['ANO', 'SEMESTRE','REG_ANS', 'CD_CONTA_CONTABIL', 'DESCRICAO','VL_SALDO_FINAL']]\n",
    "    df_saida.to_csv(PASTA_SAIDA+arquivo,index=False)\n",
    "    print(\"Convetido \",(_idx+1),\"de\",len(lista_arquivos))"
   ]
  }
 ],
 "metadata": {
  "kernelspec": {
   "display_name": "Python 3",
   "language": "python",
   "name": "python3"
  },
  "language_info": {
   "codemirror_mode": {
    "name": "ipython",
    "version": 3
   },
   "file_extension": ".py",
   "mimetype": "text/x-python",
   "name": "python",
   "nbconvert_exporter": "python",
   "pygments_lexer": "ipython3",
   "version": "3.6.5"
  }
 },
 "nbformat": 4,
 "nbformat_minor": 2
}
