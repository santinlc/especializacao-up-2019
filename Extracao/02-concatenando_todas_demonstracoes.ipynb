{
 "cells": [
  {
   "cell_type": "code",
   "execution_count": 1,
   "metadata": {},
   "outputs": [],
   "source": [
    "import pandas as pd\n",
    "import glob\n",
    "import numpy as np\n",
    "import os"
   ]
  },
  {
   "cell_type": "code",
   "execution_count": 2,
   "metadata": {},
   "outputs": [],
   "source": [
    "import configparser\n",
    "\n",
    "config = configparser.RawConfigParser()\n",
    "config.read('parametros.config')\n",
    "\n",
    "PARAMETROS = dict(config.items('Padronizacao_conversao'))\n",
    "PARAMETROS_GERAIS = dict(config.items('Geral'))"
   ]
  },
  {
   "cell_type": "code",
   "execution_count": 3,
   "metadata": {},
   "outputs": [],
   "source": [
    "PASTA_DADOS_CONVERTIDOS = PARAMETROS_GERAIS['pasta_raiz_dados']+PARAMETROS['caminho_arquivo_convertido']\n",
    "PASTA_DADOS_CONCATENADOS = PARAMETROS_GERAIS['pasta_raiz_dados']+PARAMETROS['pasta_arquivos_contenados']\n",
    "ANO_INICIO_ANALISES = int(PARAMETROS_GERAIS['ano_inicio_analises'])"
   ]
  },
  {
   "cell_type": "code",
   "execution_count": 4,
   "metadata": {},
   "outputs": [
    {
     "data": {
      "text/plain": [
       "2013"
      ]
     },
     "execution_count": 4,
     "metadata": {},
     "output_type": "execute_result"
    }
   ],
   "source": [
    "ANO_INICIO_ANALISES"
   ]
  },
  {
   "cell_type": "code",
   "execution_count": 5,
   "metadata": {},
   "outputs": [
    {
     "data": {
      "text/plain": [
       "'/opt/DADOS_ANS5/DADOS_DEMONSTRACOES_CONVERTIDO/'"
      ]
     },
     "execution_count": 5,
     "metadata": {},
     "output_type": "execute_result"
    }
   ],
   "source": [
    "PASTA_DADOS_CONVERTIDOS"
   ]
  },
  {
   "cell_type": "code",
   "execution_count": 6,
   "metadata": {},
   "outputs": [
    {
     "data": {
      "text/plain": [
       "'/opt/DADOS_ANS5/todas_demonstracoes_por_ano/'"
      ]
     },
     "execution_count": 6,
     "metadata": {},
     "output_type": "execute_result"
    }
   ],
   "source": [
    "PASTA_DADOS_CONCATENADOS"
   ]
  },
  {
   "cell_type": "code",
   "execution_count": 7,
   "metadata": {},
   "outputs": [],
   "source": [
    "if (not(os.path.exists(PASTA_DADOS_CONCATENADOS))):\n",
    "    os.mkdir(PASTA_DADOS_CONCATENADOS)"
   ]
  },
  {
   "cell_type": "code",
   "execution_count": 8,
   "metadata": {},
   "outputs": [],
   "source": [
    "lista_arquivos = [i for i in glob.glob(PASTA_DADOS_CONVERTIDOS+\"/*\")]"
   ]
  },
  {
   "cell_type": "code",
   "execution_count": 9,
   "metadata": {},
   "outputs": [],
   "source": [
    "anos = np.arange(ANO_INICIO_ANALISES,2020)"
   ]
  },
  {
   "cell_type": "code",
   "execution_count": 10,
   "metadata": {},
   "outputs": [
    {
     "data": {
      "text/plain": [
       "array([2013, 2014, 2015, 2016, 2017, 2018, 2019])"
      ]
     },
     "execution_count": 10,
     "metadata": {},
     "output_type": "execute_result"
    }
   ],
   "source": [
    "anos"
   ]
  },
  {
   "cell_type": "code",
   "execution_count": 11,
   "metadata": {},
   "outputs": [],
   "source": [
    "lista_arquivos_por_ano = {}"
   ]
  },
  {
   "cell_type": "code",
   "execution_count": 12,
   "metadata": {},
   "outputs": [],
   "source": [
    "for _ano in anos:\n",
    "    lista_arquivos_por_ano[_ano] = [k for k in lista_arquivos if str(_ano)+\".csv\" in k]"
   ]
  },
  {
   "cell_type": "code",
   "execution_count": 13,
   "metadata": {},
   "outputs": [
    {
     "data": {
      "text/plain": [
       "{2013: ['/opt/DADOS_ANS5/DADOS_DEMONSTRACOES_CONVERTIDO/4T2013.csv',\n",
       "  '/opt/DADOS_ANS5/DADOS_DEMONSTRACOES_CONVERTIDO/1T2013.csv',\n",
       "  '/opt/DADOS_ANS5/DADOS_DEMONSTRACOES_CONVERTIDO/3T2013.csv',\n",
       "  '/opt/DADOS_ANS5/DADOS_DEMONSTRACOES_CONVERTIDO/2T2013.csv'],\n",
       " 2014: ['/opt/DADOS_ANS5/DADOS_DEMONSTRACOES_CONVERTIDO/3T2014.csv',\n",
       "  '/opt/DADOS_ANS5/DADOS_DEMONSTRACOES_CONVERTIDO/4T2014.csv',\n",
       "  '/opt/DADOS_ANS5/DADOS_DEMONSTRACOES_CONVERTIDO/2T2014.csv',\n",
       "  '/opt/DADOS_ANS5/DADOS_DEMONSTRACOES_CONVERTIDO/1T2014.csv'],\n",
       " 2015: ['/opt/DADOS_ANS5/DADOS_DEMONSTRACOES_CONVERTIDO/1T2015.csv',\n",
       "  '/opt/DADOS_ANS5/DADOS_DEMONSTRACOES_CONVERTIDO/4T2015.csv',\n",
       "  '/opt/DADOS_ANS5/DADOS_DEMONSTRACOES_CONVERTIDO/2T2015.csv',\n",
       "  '/opt/DADOS_ANS5/DADOS_DEMONSTRACOES_CONVERTIDO/3T2015.csv'],\n",
       " 2016: ['/opt/DADOS_ANS5/DADOS_DEMONSTRACOES_CONVERTIDO/1T2016.csv',\n",
       "  '/opt/DADOS_ANS5/DADOS_DEMONSTRACOES_CONVERTIDO/2T2016.csv',\n",
       "  '/opt/DADOS_ANS5/DADOS_DEMONSTRACOES_CONVERTIDO/3T2016.csv',\n",
       "  '/opt/DADOS_ANS5/DADOS_DEMONSTRACOES_CONVERTIDO/4T2016.csv'],\n",
       " 2017: ['/opt/DADOS_ANS5/DADOS_DEMONSTRACOES_CONVERTIDO/4T2017.csv',\n",
       "  '/opt/DADOS_ANS5/DADOS_DEMONSTRACOES_CONVERTIDO/2T2017.csv',\n",
       "  '/opt/DADOS_ANS5/DADOS_DEMONSTRACOES_CONVERTIDO/1T2017.csv',\n",
       "  '/opt/DADOS_ANS5/DADOS_DEMONSTRACOES_CONVERTIDO/3T2017.csv'],\n",
       " 2018: ['/opt/DADOS_ANS5/DADOS_DEMONSTRACOES_CONVERTIDO/2T2018.csv',\n",
       "  '/opt/DADOS_ANS5/DADOS_DEMONSTRACOES_CONVERTIDO/1T2018.csv',\n",
       "  '/opt/DADOS_ANS5/DADOS_DEMONSTRACOES_CONVERTIDO/4T2018.csv',\n",
       "  '/opt/DADOS_ANS5/DADOS_DEMONSTRACOES_CONVERTIDO/3T2018.csv'],\n",
       " 2019: ['/opt/DADOS_ANS5/DADOS_DEMONSTRACOES_CONVERTIDO/1T2019.csv',\n",
       "  '/opt/DADOS_ANS5/DADOS_DEMONSTRACOES_CONVERTIDO/2T2019.csv',\n",
       "  '/opt/DADOS_ANS5/DADOS_DEMONSTRACOES_CONVERTIDO/3T2019.csv']}"
      ]
     },
     "execution_count": 13,
     "metadata": {},
     "output_type": "execute_result"
    }
   ],
   "source": [
    "lista_arquivos_por_ano"
   ]
  },
  {
   "cell_type": "code",
   "execution_count": 14,
   "metadata": {},
   "outputs": [
    {
     "name": "stdout",
     "output_type": "stream",
     "text": [
      "Salvou: /opt/DADOS_ANS5/todas_demonstracoes_por_ano/2013_todas_demonstracoes_concatenadas.csv\n",
      "Salvou: /opt/DADOS_ANS5/todas_demonstracoes_por_ano/2014_todas_demonstracoes_concatenadas.csv\n",
      "Salvou: /opt/DADOS_ANS5/todas_demonstracoes_por_ano/2015_todas_demonstracoes_concatenadas.csv\n",
      "Salvou: /opt/DADOS_ANS5/todas_demonstracoes_por_ano/2016_todas_demonstracoes_concatenadas.csv\n",
      "Salvou: /opt/DADOS_ANS5/todas_demonstracoes_por_ano/2017_todas_demonstracoes_concatenadas.csv\n",
      "Salvou: /opt/DADOS_ANS5/todas_demonstracoes_por_ano/2018_todas_demonstracoes_concatenadas.csv\n",
      "Salvou: /opt/DADOS_ANS5/todas_demonstracoes_por_ano/2019_todas_demonstracoes_concatenadas.csv\n"
     ]
    }
   ],
   "source": [
    "for _ano in anos:\n",
    "    df_demonstracoes_concatenadas_por_ano = pd.concat([pd.read_csv(f,dtype=str,encoding=\"ISO-8859-1\") for f in lista_arquivos_por_ano[_ano]],sort=False)\n",
    "    nome_arquivo = PASTA_DADOS_CONCATENADOS+str(_ano)+\"_\"+PARAMETROS['nome_arquivo_concatenado']\n",
    "    df_demonstracoes_concatenadas_por_ano.to_csv(nome_arquivo, index=False,encoding=\"ISO-8859-1\")\n",
    "    print(\"Salvou:\",nome_arquivo)"
   ]
  },
  {
   "cell_type": "code",
   "execution_count": null,
   "metadata": {},
   "outputs": [],
   "source": []
  },
  {
   "cell_type": "code",
   "execution_count": null,
   "metadata": {},
   "outputs": [],
   "source": []
  }
 ],
 "metadata": {
  "kernelspec": {
   "display_name": "Python 3",
   "language": "python",
   "name": "python3"
  },
  "language_info": {
   "codemirror_mode": {
    "name": "ipython",
    "version": 3
   },
   "file_extension": ".py",
   "mimetype": "text/x-python",
   "name": "python",
   "nbconvert_exporter": "python",
   "pygments_lexer": "ipython3",
   "version": "3.7.4"
  }
 },
 "nbformat": 4,
 "nbformat_minor": 4
}
