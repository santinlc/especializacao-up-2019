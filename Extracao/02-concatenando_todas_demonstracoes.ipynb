{
 "cells": [
  {
   "cell_type": "code",
   "execution_count": 1,
   "metadata": {},
   "outputs": [],
   "source": [
    "import pandas as pd\n",
    "import glob"
   ]
  },
  {
   "cell_type": "code",
   "execution_count": 2,
   "metadata": {},
   "outputs": [],
   "source": [
    "import configparser\n",
    "\n",
    "config = configparser.RawConfigParser()\n",
    "config.read('parametros.config')\n",
    "\n",
    "PARAMETROS = dict(config.items('Padronizacao_conversao'))\n",
    "PARAMETROS_GERAIS = dict(config.items('Geral'))"
   ]
  },
  {
   "cell_type": "code",
   "execution_count": 3,
   "metadata": {},
   "outputs": [],
   "source": [
    "PASTA_DADOS_CONVERTIDOS = PARAMETROS_GERAIS['pasta_raiz_dados']+PARAMETROS['caminho_arquivo_convertido']\n",
    "ARQUIVO_FINAL = PARAMETROS_GERAIS['pasta_raiz_dados']+PARAMETROS['nome_arquivo_concatenado']"
   ]
  },
  {
   "cell_type": "code",
   "execution_count": 4,
   "metadata": {},
   "outputs": [
    {
     "data": {
      "text/plain": [
       "'/opt/DADOS_ANS_RESUMIDO/DADOS_DEMONSTRACOES_CONVERTIDO/'"
      ]
     },
     "execution_count": 4,
     "metadata": {},
     "output_type": "execute_result"
    }
   ],
   "source": [
    "PASTA_DADOS_CONVERTIDOS"
   ]
  },
  {
   "cell_type": "code",
   "execution_count": 5,
   "metadata": {},
   "outputs": [],
   "source": [
    "lista_arquivos = [i for i in glob.glob(PASTA_DADOS_CONVERTIDOS+\"/*\")]"
   ]
  },
  {
   "cell_type": "code",
   "execution_count": 6,
   "metadata": {},
   "outputs": [
    {
     "data": {
      "text/plain": [
       "['/opt/DADOS_ANS_RESUMIDO/DADOS_DEMONSTRACOES_CONVERTIDO/1T2016.csv',\n",
       " '/opt/DADOS_ANS_RESUMIDO/DADOS_DEMONSTRACOES_CONVERTIDO/3T2010.csv',\n",
       " '/opt/DADOS_ANS_RESUMIDO/DADOS_DEMONSTRACOES_CONVERTIDO/3T2014.csv',\n",
       " '/opt/DADOS_ANS_RESUMIDO/DADOS_DEMONSTRACOES_CONVERTIDO/4T2013.csv',\n",
       " '/opt/DADOS_ANS_RESUMIDO/DADOS_DEMONSTRACOES_CONVERTIDO/2T2018.csv',\n",
       " '/opt/DADOS_ANS_RESUMIDO/DADOS_DEMONSTRACOES_CONVERTIDO/1T2019.csv',\n",
       " '/opt/DADOS_ANS_RESUMIDO/DADOS_DEMONSTRACOES_CONVERTIDO/4T2012.csv',\n",
       " '/opt/DADOS_ANS_RESUMIDO/DADOS_DEMONSTRACOES_CONVERTIDO/4T2009.csv',\n",
       " '/opt/DADOS_ANS_RESUMIDO/DADOS_DEMONSTRACOES_CONVERTIDO/3T2009.csv',\n",
       " '/opt/DADOS_ANS_RESUMIDO/DADOS_DEMONSTRACOES_CONVERTIDO/1T2012.csv',\n",
       " '/opt/DADOS_ANS_RESUMIDO/DADOS_DEMONSTRACOES_CONVERTIDO/2T2016.csv',\n",
       " '/opt/DADOS_ANS_RESUMIDO/DADOS_DEMONSTRACOES_CONVERTIDO/3T2008.csv',\n",
       " '/opt/DADOS_ANS_RESUMIDO/DADOS_DEMONSTRACOES_CONVERTIDO/1T2015.csv',\n",
       " '/opt/DADOS_ANS_RESUMIDO/DADOS_DEMONSTRACOES_CONVERTIDO/4T2008.csv',\n",
       " '/opt/DADOS_ANS_RESUMIDO/DADOS_DEMONSTRACOES_CONVERTIDO/1T2018.csv',\n",
       " '/opt/DADOS_ANS_RESUMIDO/DADOS_DEMONSTRACOES_CONVERTIDO/1T2013.csv',\n",
       " '/opt/DADOS_ANS_RESUMIDO/DADOS_DEMONSTRACOES_CONVERTIDO/4T2014.csv',\n",
       " '/opt/DADOS_ANS_RESUMIDO/DADOS_DEMONSTRACOES_CONVERTIDO/2T2012.csv',\n",
       " '/opt/DADOS_ANS_RESUMIDO/DADOS_DEMONSTRACOES_CONVERTIDO/4T2010.csv',\n",
       " '/opt/DADOS_ANS_RESUMIDO/DADOS_DEMONSTRACOES_CONVERTIDO/1T2007.csv',\n",
       " '/opt/DADOS_ANS_RESUMIDO/DADOS_DEMONSTRACOES_CONVERTIDO/2T2009.csv',\n",
       " '/opt/DADOS_ANS_RESUMIDO/DADOS_DEMONSTRACOES_CONVERTIDO/2T2014.csv',\n",
       " '/opt/DADOS_ANS_RESUMIDO/DADOS_DEMONSTRACOES_CONVERTIDO/4T2017.csv',\n",
       " '/opt/DADOS_ANS_RESUMIDO/DADOS_DEMONSTRACOES_CONVERTIDO/2T2019.csv',\n",
       " '/opt/DADOS_ANS_RESUMIDO/DADOS_DEMONSTRACOES_CONVERTIDO/2T2008.csv',\n",
       " '/opt/DADOS_ANS_RESUMIDO/DADOS_DEMONSTRACOES_CONVERTIDO/4T2015.csv',\n",
       " '/opt/DADOS_ANS_RESUMIDO/DADOS_DEMONSTRACOES_CONVERTIDO/3T2007.csv',\n",
       " '/opt/DADOS_ANS_RESUMIDO/DADOS_DEMONSTRACOES_CONVERTIDO/3T2011.csv',\n",
       " '/opt/DADOS_ANS_RESUMIDO/DADOS_DEMONSTRACOES_CONVERTIDO/1T2010.csv',\n",
       " '/opt/DADOS_ANS_RESUMIDO/DADOS_DEMONSTRACOES_CONVERTIDO/4T2018.csv',\n",
       " '/opt/DADOS_ANS_RESUMIDO/DADOS_DEMONSTRACOES_CONVERTIDO/2T2017.csv',\n",
       " '/opt/DADOS_ANS_RESUMIDO/DADOS_DEMONSTRACOES_CONVERTIDO/3T2016.csv',\n",
       " '/opt/DADOS_ANS_RESUMIDO/DADOS_DEMONSTRACOES_CONVERTIDO/1T2014.csv',\n",
       " '/opt/DADOS_ANS_RESUMIDO/DADOS_DEMONSTRACOES_CONVERTIDO/4T2011.csv',\n",
       " '/opt/DADOS_ANS_RESUMIDO/DADOS_DEMONSTRACOES_CONVERTIDO/1T2008.csv',\n",
       " '/opt/DADOS_ANS_RESUMIDO/DADOS_DEMONSTRACOES_CONVERTIDO/3T2013.csv',\n",
       " '/opt/DADOS_ANS_RESUMIDO/DADOS_DEMONSTRACOES_CONVERTIDO/2T2015.csv',\n",
       " '/opt/DADOS_ANS_RESUMIDO/DADOS_DEMONSTRACOES_CONVERTIDO/2T2007.csv',\n",
       " '/opt/DADOS_ANS_RESUMIDO/DADOS_DEMONSTRACOES_CONVERTIDO/4T2007.csv',\n",
       " '/opt/DADOS_ANS_RESUMIDO/DADOS_DEMONSTRACOES_CONVERTIDO/2T2010.csv',\n",
       " '/opt/DADOS_ANS_RESUMIDO/DADOS_DEMONSTRACOES_CONVERTIDO/3T2015.csv',\n",
       " '/opt/DADOS_ANS_RESUMIDO/DADOS_DEMONSTRACOES_CONVERTIDO/2T2013.csv',\n",
       " '/opt/DADOS_ANS_RESUMIDO/DADOS_DEMONSTRACOES_CONVERTIDO/1T2009.csv',\n",
       " '/opt/DADOS_ANS_RESUMIDO/DADOS_DEMONSTRACOES_CONVERTIDO/3T2012.csv',\n",
       " '/opt/DADOS_ANS_RESUMIDO/DADOS_DEMONSTRACOES_CONVERTIDO/1T2017.csv',\n",
       " '/opt/DADOS_ANS_RESUMIDO/DADOS_DEMONSTRACOES_CONVERTIDO/3T2018.csv',\n",
       " '/opt/DADOS_ANS_RESUMIDO/DADOS_DEMONSTRACOES_CONVERTIDO/3T2017.csv',\n",
       " '/opt/DADOS_ANS_RESUMIDO/DADOS_DEMONSTRACOES_CONVERTIDO/2T2011.csv',\n",
       " '/opt/DADOS_ANS_RESUMIDO/DADOS_DEMONSTRACOES_CONVERTIDO/1T2011.csv',\n",
       " '/opt/DADOS_ANS_RESUMIDO/DADOS_DEMONSTRACOES_CONVERTIDO/4T2016.csv']"
      ]
     },
     "execution_count": 6,
     "metadata": {},
     "output_type": "execute_result"
    }
   ],
   "source": [
    "lista_arquivos"
   ]
  },
  {
   "cell_type": "code",
   "execution_count": 7,
   "metadata": {},
   "outputs": [],
   "source": [
    "df_demonstracoes_concatenadas = pd.concat([pd.read_csv(f,dtype=str) for f in lista_arquivos])"
   ]
  },
  {
   "cell_type": "code",
   "execution_count": 8,
   "metadata": {},
   "outputs": [],
   "source": [
    "df_demonstracoes_concatenadas.to_csv(ARQUIVO_FINAL, index=False)"
   ]
  },
  {
   "cell_type": "code",
   "execution_count": 9,
   "metadata": {},
   "outputs": [
    {
     "data": {
      "text/plain": [
       "'/opt/DADOS_ANS_RESUMIDO/todas_demonstracoes_concatenadas.csv'"
      ]
     },
     "execution_count": 9,
     "metadata": {},
     "output_type": "execute_result"
    }
   ],
   "source": [
    "ARQUIVO_FINAL"
   ]
  },
  {
   "cell_type": "code",
   "execution_count": null,
   "metadata": {},
   "outputs": [],
   "source": []
  }
 ],
 "metadata": {
  "kernelspec": {
   "display_name": "Python 3",
   "language": "python",
   "name": "python3"
  },
  "language_info": {
   "codemirror_mode": {
    "name": "ipython",
    "version": 3
   },
   "file_extension": ".py",
   "mimetype": "text/x-python",
   "name": "python",
   "nbconvert_exporter": "python",
   "pygments_lexer": "ipython3",
   "version": "3.7.4"
  }
 },
 "nbformat": 4,
 "nbformat_minor": 4
}
