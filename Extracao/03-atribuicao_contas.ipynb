{
 "cells": [
  {
   "cell_type": "code",
   "execution_count": 1,
   "metadata": {},
   "outputs": [],
   "source": [
    "import pandas as pd\n",
    "import re\n",
    "import numpy as np\n",
    "import os\n",
    "import glob"
   ]
  },
  {
   "cell_type": "code",
   "execution_count": 2,
   "metadata": {},
   "outputs": [],
   "source": [
    "import configparser\n",
    "\n",
    "config = configparser.RawConfigParser()\n",
    "config.read('parametros.config')\n",
    "\n",
    "PARAMETROS = dict(config.items('Padronizacao_conversao'))\n",
    "PARAMETROS_GERAIS = dict(config.items('Geral'))"
   ]
  },
  {
   "cell_type": "code",
   "execution_count": 3,
   "metadata": {},
   "outputs": [],
   "source": [
    "regex = {}\n",
    "regex['ATIVO']                    = {'regex':  \"1            \",'executar_variacao': None}\n",
    "regex['ATIVO_CIRCULANTE']         = {'regex':  \"12           \",'executar_variacao': None}\n",
    "regex['CREDITO_OPER_PS']          = {'regex':  \"123          \",'executar_variacao': None}\n",
    "regex['PASSIVO']                  = {'regex':  \"2            \",'executar_variacao': None}\n",
    "regex['PASSIVO_CIRCULANTE']       = {'regex':  \"21           \",'executar_variacao': None}\n",
    "regex['PASSIVO_NAO_CIRCULANTE']   = {'regex':  \"23           \",'executar_variacao': None}\n",
    "regex['PL']                       = {'regex':  \"25           \",'executar_variacao': None}\n",
    "regex['RECEITA']                  = {'regex':  \"31           \"}\n",
    "regex['CONTRAPRESTACAO_PRE']      = {'regex':  \"311[^7].1       \", '2012': \"311111101    \"}\n",
    "regex['CONTRAPRESTACAO_POS']      = {'regex':  \"311[^7].2       \", '2012': \"311112101    \"}\n",
    "regex['CORRESP_CEDIDA_PRE']       = {'regex':  \"3117.1       \"}\n",
    "regex['CORRESP_CEDIDA_POS']       = {'regex':  \"3117.2       \"}\n",
    "regex['DESPESA']                  = {'regex':  \"41           \"}\n",
    "regex['EVENTOS_INDENIZAVEIS_PRE'] = {'regex':  \"411..1       \"}\n",
    "regex['EVENTOS_INDENIZAVEIS_POS'] = {'regex':  \"411..2       \"}\n",
    "regex['VARIACAO_PEONA']           = {'regex':  \"414          \"}\n",
    "regex['DESPESA_COM']              = {'regex':  \"43           \"}\n",
    "regex['DESPESA_ADM']              = {'regex':  \"46           \"}\n"
   ]
  },
  {
   "cell_type": "code",
   "execution_count": 4,
   "metadata": {},
   "outputs": [],
   "source": [
    "PASTA_DEMONSTRACOES_POR_ANO = PARAMETROS_GERAIS['pasta_raiz_dados']+PARAMETROS['pasta_arquivos_contenados']"
   ]
  },
  {
   "cell_type": "code",
   "execution_count": 5,
   "metadata": {},
   "outputs": [],
   "source": [
    "lista_arquivos = [i for i in glob.glob(PASTA_DEMONSTRACOES_POR_ANO+\"/*\")]"
   ]
  },
  {
   "cell_type": "code",
   "execution_count": 6,
   "metadata": {},
   "outputs": [
    {
     "data": {
      "text/plain": [
       "['D:\\\\tccdata\\\\todas_demonstracoes_por_ano\\\\2010todas_demonstracoes_concatenadas.csv',\n",
       " 'D:\\\\tccdata\\\\todas_demonstracoes_por_ano\\\\2011todas_demonstracoes_concatenadas.csv',\n",
       " 'D:\\\\tccdata\\\\todas_demonstracoes_por_ano\\\\2012todas_demonstracoes_concatenadas.csv',\n",
       " 'D:\\\\tccdata\\\\todas_demonstracoes_por_ano\\\\2013todas_demonstracoes_concatenadas.csv',\n",
       " 'D:\\\\tccdata\\\\todas_demonstracoes_por_ano\\\\2014todas_demonstracoes_concatenadas.csv',\n",
       " 'D:\\\\tccdata\\\\todas_demonstracoes_por_ano\\\\2015todas_demonstracoes_concatenadas.csv',\n",
       " 'D:\\\\tccdata\\\\todas_demonstracoes_por_ano\\\\2016todas_demonstracoes_concatenadas.csv',\n",
       " 'D:\\\\tccdata\\\\todas_demonstracoes_por_ano\\\\2017todas_demonstracoes_concatenadas.csv',\n",
       " 'D:\\\\tccdata\\\\todas_demonstracoes_por_ano\\\\2018todas_demonstracoes_concatenadas.csv',\n",
       " 'D:\\\\tccdata\\\\todas_demonstracoes_por_ano\\\\2019todas_demonstracoes_concatenadas.csv']"
      ]
     },
     "execution_count": 6,
     "metadata": {},
     "output_type": "execute_result"
    }
   ],
   "source": [
    "lista_arquivos"
   ]
  },
  {
   "cell_type": "code",
   "execution_count": 7,
   "metadata": {},
   "outputs": [],
   "source": [
    "def ordenar_dataset(data):\n",
    "    return data.sort_values(by=['ANO','SEMESTRE',\"REG_ANS\",\"CD_CONTA_CONTABIL\"])"
   ]
  },
  {
   "cell_type": "code",
   "execution_count": 8,
   "metadata": {},
   "outputs": [],
   "source": [
    "def ajustar_linhas(data):\n",
    "    data['CD_CONTA_CONTABIL'] = data['CD_CONTA_CONTABIL'].str.ljust(width=13, fillchar=' ')\n",
    "    data['VL_SALDO_FINAL'] = data['VL_SALDO_FINAL'].str.replace(pat=',', repl='.').astype(float)\n",
    "    data = ordenar_dataset(data)\n",
    "    return data"
   ]
  },
  {
   "cell_type": "code",
   "execution_count": 9,
   "metadata": {},
   "outputs": [],
   "source": [
    "def recuperar_trimestre_anterior(item,data):\n",
    "    try: \n",
    "        chave_anterior = item.name[:item.name.rfind(\"_\")+1]\n",
    "        semestre_anterior = int(item['SEMESTRE']) - 1\n",
    "        if (semestre_anterior == 0):\n",
    "            return None\n",
    "        chave_anterior = chave_anterior+str(semestre_anterior)\n",
    "        item_anterior =  data.loc[[chave_anterior]]\n",
    "        if(len(item_anterior) > 0):\n",
    "            item_anterior = item_anterior.squeeze()\n",
    "            return item_anterior\n",
    "    except:\n",
    "        return None"
   ]
  },
  {
   "cell_type": "code",
   "execution_count": 10,
   "metadata": {},
   "outputs": [],
   "source": [
    "def process(item,data,_param_conta):\n",
    "    valor_atual = item['VL_SALDO_FINAL']\n",
    "    if(item['SEMESTRE'] != \"1\"):\n",
    "        try:\n",
    "            item_anterior = recuperar_trimestre_anterior(item,data)\n",
    "            if \"executar_variacao\" in _param_conta:\n",
    "                pass\n",
    "            else:\n",
    "                valor_atual = valor_atual - item_anterior['VL_SALDO_FINAL']\n",
    "        except:\n",
    "            pass\n",
    "    item[_nome_conta] = str(float(\"{0:.2f}\".format((valor_atual))))\n",
    "    return item    "
   ]
  },
  {
   "cell_type": "code",
   "execution_count": 11,
   "metadata": {},
   "outputs": [],
   "source": [
    "def ajustar_contas(_nome_conta, _param_conta, data, lista_codigos):\n",
    "    _ano = data['ANO'].unique().tolist()[0]\n",
    "    _regex = _param_conta['regex']\n",
    "    if _ano in _param_conta:\n",
    "        _regex = _param_conta[_ano]\n",
    "    print(_ano,_nome_conta,\"-->\"+_regex+\"<--\")\n",
    "    r = re.compile(_regex)\n",
    "    lista_match_regex = list(filter(r.match, lista_codigos)) \n",
    "    df_contas = data[data['CD_CONTA_CONTABIL'].isin(lista_match_regex)]\n",
    "    df_contas.insert(loc=0, column='pos', value=np.arange(len(df_contas)))\n",
    "    df_contas = df_contas.apply(lambda x : process(x,df_contas,_param_conta),axis=1)\n",
    "    df_contas.drop(columns=['pos'],inplace=True)\n",
    "    return df_contas"
   ]
  },
  {
   "cell_type": "code",
   "execution_count": 12,
   "metadata": {},
   "outputs": [
    {
     "name": "stdout",
     "output_type": "stream",
     "text": [
      "D:\\tccdata\\todas_demonstracoes_por_ano\\2010todas_demonstracoes_concatenadas.csv\n",
      "2010 ATIVO -->1            <--\n",
      "2010 ATIVO_CIRCULANTE -->12           <--\n",
      "2010 CREDITO_OPER_PS -->123          <--\n",
      "2010 PASSIVO -->2            <--\n",
      "2010 PASSIVO_CIRCULANTE -->21           <--\n",
      "2010 PASSIVO_NAO_CIRCULANTE -->23           <--\n",
      "2010 PL -->25           <--\n",
      "2010 RECEITA -->31           <--\n",
      "2010 CONTRAPRESTACAO_PRE -->311[^7].1       <--\n",
      "2010 CONTRAPRESTACAO_POS -->311[^7].2       <--\n",
      "2010 CORRESP_CEDIDA_PRE -->3117.1       <--\n",
      "2010 CORRESP_CEDIDA_POS -->3117.2       <--\n",
      "2010 DESPESA -->41           <--\n",
      "2010 EVENTOS_INDENIZAVEIS_PRE -->411..1       <--\n",
      "2010 EVENTOS_INDENIZAVEIS_POS -->411..2       <--\n",
      "2010 VARIACAO_PEONA -->414          <--\n",
      "2010 DESPESA_COM -->43           <--\n",
      "2010 DESPESA_ADM -->46           <--\n",
      "2010todas_demonstracoes_concatenadas.csv\n",
      "D:\\tccdata\\todas_demonstracoes_por_ano\\2011todas_demonstracoes_concatenadas.csv\n",
      "2011 ATIVO -->1            <--\n",
      "2011 ATIVO_CIRCULANTE -->12           <--\n",
      "2011 CREDITO_OPER_PS -->123          <--\n",
      "2011 PASSIVO -->2            <--\n",
      "2011 PASSIVO_CIRCULANTE -->21           <--\n",
      "2011 PASSIVO_NAO_CIRCULANTE -->23           <--\n",
      "2011 PL -->25           <--\n",
      "2011 RECEITA -->31           <--\n",
      "2011 CONTRAPRESTACAO_PRE -->311[^7].1       <--\n",
      "2011 CONTRAPRESTACAO_POS -->311[^7].2       <--\n",
      "2011 CORRESP_CEDIDA_PRE -->3117.1       <--\n",
      "2011 CORRESP_CEDIDA_POS -->3117.2       <--\n",
      "2011 DESPESA -->41           <--\n",
      "2011 EVENTOS_INDENIZAVEIS_PRE -->411..1       <--\n",
      "2011 EVENTOS_INDENIZAVEIS_POS -->411..2       <--\n",
      "2011 VARIACAO_PEONA -->414          <--\n",
      "2011 DESPESA_COM -->43           <--\n",
      "2011 DESPESA_ADM -->46           <--\n",
      "2011todas_demonstracoes_concatenadas.csv\n",
      "D:\\tccdata\\todas_demonstracoes_por_ano\\2012todas_demonstracoes_concatenadas.csv\n",
      "2012 ATIVO -->1            <--\n",
      "2012 ATIVO_CIRCULANTE -->12           <--\n",
      "2012 CREDITO_OPER_PS -->123          <--\n",
      "2012 PASSIVO -->2            <--\n",
      "2012 PASSIVO_CIRCULANTE -->21           <--\n",
      "2012 PASSIVO_NAO_CIRCULANTE -->23           <--\n",
      "2012 PL -->25           <--\n",
      "2012 RECEITA -->31           <--\n",
      "2012 CONTRAPRESTACAO_PRE -->311111101    <--\n",
      "2012 CONTRAPRESTACAO_POS -->311112101    <--\n",
      "2012 CORRESP_CEDIDA_PRE -->3117.1       <--\n",
      "2012 CORRESP_CEDIDA_POS -->3117.2       <--\n",
      "2012 DESPESA -->41           <--\n",
      "2012 EVENTOS_INDENIZAVEIS_PRE -->411..1       <--\n",
      "2012 EVENTOS_INDENIZAVEIS_POS -->411..2       <--\n",
      "2012 VARIACAO_PEONA -->414          <--\n",
      "2012 DESPESA_COM -->43           <--\n",
      "2012 DESPESA_ADM -->46           <--\n",
      "2012todas_demonstracoes_concatenadas.csv\n",
      "D:\\tccdata\\todas_demonstracoes_por_ano\\2013todas_demonstracoes_concatenadas.csv\n",
      "2013 ATIVO -->1            <--\n",
      "2013 ATIVO_CIRCULANTE -->12           <--\n",
      "2013 CREDITO_OPER_PS -->123          <--\n",
      "2013 PASSIVO -->2            <--\n",
      "2013 PASSIVO_CIRCULANTE -->21           <--\n",
      "2013 PASSIVO_NAO_CIRCULANTE -->23           <--\n",
      "2013 PL -->25           <--\n",
      "2013 RECEITA -->31           <--\n",
      "2013 CONTRAPRESTACAO_PRE -->311[^7].1       <--\n",
      "2013 CONTRAPRESTACAO_POS -->311[^7].2       <--\n",
      "2013 CORRESP_CEDIDA_PRE -->3117.1       <--\n",
      "2013 CORRESP_CEDIDA_POS -->3117.2       <--\n",
      "2013 DESPESA -->41           <--\n",
      "2013 EVENTOS_INDENIZAVEIS_PRE -->411..1       <--\n",
      "2013 EVENTOS_INDENIZAVEIS_POS -->411..2       <--\n",
      "2013 VARIACAO_PEONA -->414          <--\n",
      "2013 DESPESA_COM -->43           <--\n",
      "2013 DESPESA_ADM -->46           <--\n",
      "2013todas_demonstracoes_concatenadas.csv\n",
      "D:\\tccdata\\todas_demonstracoes_por_ano\\2014todas_demonstracoes_concatenadas.csv\n",
      "2014 ATIVO -->1            <--\n",
      "2014 ATIVO_CIRCULANTE -->12           <--\n",
      "2014 CREDITO_OPER_PS -->123          <--\n",
      "2014 PASSIVO -->2            <--\n",
      "2014 PASSIVO_CIRCULANTE -->21           <--\n",
      "2014 PASSIVO_NAO_CIRCULANTE -->23           <--\n",
      "2014 PL -->25           <--\n",
      "2014 RECEITA -->31           <--\n",
      "2014 CONTRAPRESTACAO_PRE -->311[^7].1       <--\n",
      "2014 CONTRAPRESTACAO_POS -->311[^7].2       <--\n",
      "2014 CORRESP_CEDIDA_PRE -->3117.1       <--\n",
      "2014 CORRESP_CEDIDA_POS -->3117.2       <--\n",
      "2014 DESPESA -->41           <--\n",
      "2014 EVENTOS_INDENIZAVEIS_PRE -->411..1       <--\n",
      "2014 EVENTOS_INDENIZAVEIS_POS -->411..2       <--\n",
      "2014 VARIACAO_PEONA -->414          <--\n",
      "2014 DESPESA_COM -->43           <--\n",
      "2014 DESPESA_ADM -->46           <--\n",
      "2014todas_demonstracoes_concatenadas.csv\n",
      "D:\\tccdata\\todas_demonstracoes_por_ano\\2015todas_demonstracoes_concatenadas.csv\n",
      "2015 ATIVO -->1            <--\n",
      "2015 ATIVO_CIRCULANTE -->12           <--\n",
      "2015 CREDITO_OPER_PS -->123          <--\n",
      "2015 PASSIVO -->2            <--\n",
      "2015 PASSIVO_CIRCULANTE -->21           <--\n",
      "2015 PASSIVO_NAO_CIRCULANTE -->23           <--\n",
      "2015 PL -->25           <--\n",
      "2015 RECEITA -->31           <--\n",
      "2015 CONTRAPRESTACAO_PRE -->311[^7].1       <--\n",
      "2015 CONTRAPRESTACAO_POS -->311[^7].2       <--\n",
      "2015 CORRESP_CEDIDA_PRE -->3117.1       <--\n",
      "2015 CORRESP_CEDIDA_POS -->3117.2       <--\n",
      "2015 DESPESA -->41           <--\n",
      "2015 EVENTOS_INDENIZAVEIS_PRE -->411..1       <--\n",
      "2015 EVENTOS_INDENIZAVEIS_POS -->411..2       <--\n",
      "2015 VARIACAO_PEONA -->414          <--\n",
      "2015 DESPESA_COM -->43           <--\n",
      "2015 DESPESA_ADM -->46           <--\n",
      "2015todas_demonstracoes_concatenadas.csv\n",
      "D:\\tccdata\\todas_demonstracoes_por_ano\\2016todas_demonstracoes_concatenadas.csv\n",
      "2016 ATIVO -->1            <--\n",
      "2016 ATIVO_CIRCULANTE -->12           <--\n",
      "2016 CREDITO_OPER_PS -->123          <--\n",
      "2016 PASSIVO -->2            <--\n",
      "2016 PASSIVO_CIRCULANTE -->21           <--\n",
      "2016 PASSIVO_NAO_CIRCULANTE -->23           <--\n",
      "2016 PL -->25           <--\n",
      "2016 RECEITA -->31           <--\n",
      "2016 CONTRAPRESTACAO_PRE -->311[^7].1       <--\n",
      "2016 CONTRAPRESTACAO_POS -->311[^7].2       <--\n",
      "2016 CORRESP_CEDIDA_PRE -->3117.1       <--\n",
      "2016 CORRESP_CEDIDA_POS -->3117.2       <--\n",
      "2016 DESPESA -->41           <--\n",
      "2016 EVENTOS_INDENIZAVEIS_PRE -->411..1       <--\n",
      "2016 EVENTOS_INDENIZAVEIS_POS -->411..2       <--\n",
      "2016 VARIACAO_PEONA -->414          <--\n",
      "2016 DESPESA_COM -->43           <--\n",
      "2016 DESPESA_ADM -->46           <--\n",
      "2016todas_demonstracoes_concatenadas.csv\n",
      "D:\\tccdata\\todas_demonstracoes_por_ano\\2017todas_demonstracoes_concatenadas.csv\n",
      "2017 ATIVO -->1            <--\n",
      "2017 ATIVO_CIRCULANTE -->12           <--\n",
      "2017 CREDITO_OPER_PS -->123          <--\n",
      "2017 PASSIVO -->2            <--\n",
      "2017 PASSIVO_CIRCULANTE -->21           <--\n",
      "2017 PASSIVO_NAO_CIRCULANTE -->23           <--\n",
      "2017 PL -->25           <--\n",
      "2017 RECEITA -->31           <--\n",
      "2017 CONTRAPRESTACAO_PRE -->311[^7].1       <--\n",
      "2017 CONTRAPRESTACAO_POS -->311[^7].2       <--\n",
      "2017 CORRESP_CEDIDA_PRE -->3117.1       <--\n",
      "2017 CORRESP_CEDIDA_POS -->3117.2       <--\n",
      "2017 DESPESA -->41           <--\n",
      "2017 EVENTOS_INDENIZAVEIS_PRE -->411..1       <--\n",
      "2017 EVENTOS_INDENIZAVEIS_POS -->411..2       <--\n",
      "2017 VARIACAO_PEONA -->414          <--\n",
      "2017 DESPESA_COM -->43           <--\n",
      "2017 DESPESA_ADM -->46           <--\n",
      "2017todas_demonstracoes_concatenadas.csv\n",
      "D:\\tccdata\\todas_demonstracoes_por_ano\\2018todas_demonstracoes_concatenadas.csv\n",
      "2018 ATIVO -->1            <--\n",
      "2018 ATIVO_CIRCULANTE -->12           <--\n",
      "2018 CREDITO_OPER_PS -->123          <--\n",
      "2018 PASSIVO -->2            <--\n",
      "2018 PASSIVO_CIRCULANTE -->21           <--\n",
      "2018 PASSIVO_NAO_CIRCULANTE -->23           <--\n",
      "2018 PL -->25           <--\n",
      "2018 RECEITA -->31           <--\n",
      "2018 CONTRAPRESTACAO_PRE -->311[^7].1       <--\n",
      "2018 CONTRAPRESTACAO_POS -->311[^7].2       <--\n",
      "2018 CORRESP_CEDIDA_PRE -->3117.1       <--\n",
      "2018 CORRESP_CEDIDA_POS -->3117.2       <--\n",
      "2018 DESPESA -->41           <--\n",
      "2018 EVENTOS_INDENIZAVEIS_PRE -->411..1       <--\n",
      "2018 EVENTOS_INDENIZAVEIS_POS -->411..2       <--\n",
      "2018 VARIACAO_PEONA -->414          <--\n",
      "2018 DESPESA_COM -->43           <--\n",
      "2018 DESPESA_ADM -->46           <--\n",
      "2018todas_demonstracoes_concatenadas.csv\n",
      "D:\\tccdata\\todas_demonstracoes_por_ano\\2019todas_demonstracoes_concatenadas.csv\n",
      "2019 ATIVO -->1            <--\n",
      "2019 ATIVO_CIRCULANTE -->12           <--\n",
      "2019 CREDITO_OPER_PS -->123          <--\n",
      "2019 PASSIVO -->2            <--\n",
      "2019 PASSIVO_CIRCULANTE -->21           <--\n",
      "2019 PASSIVO_NAO_CIRCULANTE -->23           <--\n",
      "2019 PL -->25           <--\n",
      "2019 RECEITA -->31           <--\n",
      "2019 CONTRAPRESTACAO_PRE -->311[^7].1       <--\n",
      "2019 CONTRAPRESTACAO_POS -->311[^7].2       <--\n",
      "2019 CORRESP_CEDIDA_PRE -->3117.1       <--\n",
      "2019 CORRESP_CEDIDA_POS -->3117.2       <--\n",
      "2019 DESPESA -->41           <--\n",
      "2019 EVENTOS_INDENIZAVEIS_PRE -->411..1       <--\n",
      "2019 EVENTOS_INDENIZAVEIS_POS -->411..2       <--\n",
      "2019 VARIACAO_PEONA -->414          <--\n",
      "2019 DESPESA_COM -->43           <--\n",
      "2019 DESPESA_ADM -->46           <--\n",
      "2019todas_demonstracoes_concatenadas.csv\n"
     ]
    }
   ],
   "source": [
    "if (not(os.path.exists(\"resultado\"))):\n",
    "    os.mkdir(\"resultado\")\n",
    "for _arquivo in lista_arquivos:\n",
    "    data = pd.read_csv(_arquivo, dtype=str)\n",
    "    print(_arquivo)\n",
    "    data = data.set_index(\"CHAVE\")\n",
    "    data = ajustar_linhas(data)\n",
    "    lista_codigos_conta_contabil = data['CD_CONTA_CONTABIL'].unique().tolist()    \n",
    "    for _nome_conta, _param_conta in regex.items():\n",
    "        data.insert(loc=3, column=_nome_conta, value=0.0)\n",
    "        df_contas = ajustar_contas(_nome_conta,_param_conta,data,lista_codigos_conta_contabil)\n",
    "        data.drop(df_contas.index,inplace=True)\n",
    "        data = pd.concat([data,df_contas])\n",
    "    nome_arquivo = _arquivo[_arquivo.rfind(os.path.sep)+1:]\n",
    "    print(nome_arquivo)\n",
    "    data = ordenar_dataset(data)\n",
    "    data.to_csv(\"resultado\"+os.path.sep+nome_arquivo)"
   ]
  },
  {
   "cell_type": "code",
   "execution_count": 17,
   "metadata": {},
   "outputs": [],
   "source": [
    "lista_arquivos = [i for i in glob.glob(\"resultado/*\")]"
   ]
  },
  {
   "cell_type": "code",
   "execution_count": 18,
   "metadata": {},
   "outputs": [],
   "source": [
    "df_demonstracoes_concatenadas = pd.concat([pd.read_csv(f,dtype=str) for f in lista_arquivos],sort=False)"
   ]
  },
  {
   "cell_type": "code",
   "execution_count": 19,
   "metadata": {},
   "outputs": [
    {
     "data": {
      "text/plain": [
       "7580861"
      ]
     },
     "execution_count": 19,
     "metadata": {},
     "output_type": "execute_result"
    }
   ],
   "source": [
    "len(df_demonstracoes_concatenadas)"
   ]
  },
  {
   "cell_type": "code",
   "execution_count": 20,
   "metadata": {},
   "outputs": [],
   "source": [
    "df_demonstracoes_concatenadas.to_csv(\"todas_demonstracoes.csv\")"
   ]
  }
 ],
 "metadata": {
  "kernelspec": {
   "display_name": "Python 3",
   "language": "python",
   "name": "python3"
  },
  "language_info": {
   "codemirror_mode": {
    "name": "ipython",
    "version": 3
   },
   "file_extension": ".py",
   "mimetype": "text/x-python",
   "name": "python",
   "nbconvert_exporter": "python",
   "pygments_lexer": "ipython3",
   "version": "3.6.5"
  }
 },
 "nbformat": 4,
 "nbformat_minor": 4
}
