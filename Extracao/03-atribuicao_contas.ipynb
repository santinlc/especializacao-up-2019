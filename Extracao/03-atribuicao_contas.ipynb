{
 "cells": [
  {
   "cell_type": "code",
   "execution_count": null,
   "metadata": {},
   "outputs": [],
   "source": [
    "import pandas as pd\n",
    "import re\n",
    "import numpy as np\n",
    "import os\n",
    "import glob"
   ]
  },
  {
   "cell_type": "code",
   "execution_count": null,
   "metadata": {},
   "outputs": [],
   "source": [
    "import configparser\n",
    "\n",
    "config = configparser.RawConfigParser()\n",
    "config.read('parametros.config')\n",
    "\n",
    "PARAMETROS = dict(config.items('Padronizacao_conversao'))\n",
    "PARAMETROS_GERAIS = dict(config.items('Geral'))"
   ]
  },
  {
   "cell_type": "code",
   "execution_count": null,
   "metadata": {},
   "outputs": [],
   "source": [
    "regex = {}\n",
    "regex['ATIVO']                          = {'regex':  \"1            \"}\n",
    "regex['ATIVO_CIRCULANTE']               = {'regex':  \"12           \"}\n",
    "regex['CREDITO_OPER_PS']                = {'regex':  \"123          \"}\n",
    "regex['PASSIVO']                        = {'regex':  \"2            \"}\n",
    "regex['PASSIVO_CIRCULANTE']             = {'regex':  \"21           \"}\n",
    "regex['PASSIVO_NAO_CIRCULANTE']         = {'regex':  \"23           \"}\n",
    "regex['PL']                             = {'regex':  \"25           \"}\n",
    "regex['RECEITA_COM_ASSISTENCIA_A_SAUDE']= {'regex':  \"31           \"}\n",
    "regex['CONTRAPRESTACAO_PRE']            = {'regex':  \"311[^7].1       \"}\n",
    "regex['CONTRAPRESTACAO_POS']            = {'regex':  \"311[^7].2       \"}\n",
    "regex['CORRESP_CEDIDA_PRE']             = {'regex':  \"0\",\n",
    "                                              '2018':\"3117.1       \",\n",
    "                                              '2019':\"3117.1       \"}\n",
    "regex['CORRESP_CEDIDA_POS']             = {'regex':  \"0\",\n",
    "                                              '2018':\"3117.2       \",\n",
    "                                              '2019':\"3117.2       \"}\n",
    "regex['EVENTOS_INDENIZAVEIS_LIQUIDOS']  = {'regex':  \"41           \"}\n",
    "regex['EVENTOS_INDENIZAVEIS_PRE']       = {'regex':  \"411..1       \"}\n",
    "regex['EVENTOS_INDENIZAVEIS_POS']       = {'regex':  \"411..2       \"}\n",
    "regex['VARIACAO_PEONA']                 = {'regex':  \"414          \"}\n",
    "regex['DESPESA_COM']                    = {'regex':  \"43           \"}\n",
    "regex['DESPESA_ADM']                    = {'regex':  \"46           \"}\n",
    "regex['PROVISOES_TECNICAS']             = {'regex' : \"2[1|3]1          \"}\n",
    "regex['PPCNG']                          = {'regex' : \"2[1|3]1....11    \"}\n",
    "regex['REMISSAO']                       = {'regex' : \"2[1|3]1....1[3|4]    \"}\n",
    "regex['PESL_SUS']                       = {'regex' : \"2[1|3]1....2     \"}\n",
    "regex['PESL_OUTROS']                    = {'regex' : \"2[1|3]1....3     \"}\n",
    "regex['PEONA_OUTROS']                   = {'regex' : \"2[1|3]1....41    \"}\n",
    "regex['IMPOSTO SOBRE LUCRO']            = {'regex':  \"61           \"}\n",
    "regex['TRIBUTOS DIRETOS']               = {'regex':  \"32           \"}\n",
    "regex['RECEITA']                        = {'regex':  \"3            \"}\n",
    "regex['DESPESA']                        = {'regex':  \"4            \"}\n",
    "regex['TRIBUTOS DIRETOS']               = {'regex':  \"32           \"}\n",
    "regex['RECEITA']                        = {'regex':  \"3            \"}\n",
    "regex['DESPESA']                        = {'regex':  \"4            \"}\n",
    "regex['OUTRAS DESPESAS OPERACIONAIS']   = {'regex':  \"44           \"}\n",
    "regex['OUTRAS RECEITAS OPERACIONAIS']   = {'regex':  \"33           \"}\n",
    "regex['DESPESAS FINANCEIRAS']           = {'regex':  \"45           \"}\n",
    "regex['RECEITAS FINANCEIRAS']           = {'regex':  \"35           \"}\n",
    "regex['PPSC']                           = {'regex':  \"4419         \"}\n",
    "regex['APLICAÇÕES GARANTIDORAS']        = {'regex':  \"1221         \"}\n",
    "regex['PARTICIPAÇÕES COOPERATIVAS']     = {'regex':  \"132819112    \"}\n",
    "regex['PARTICIPAÇÕES INSTITUIÇÕES REGULADAS'] = {'regex':  \"13214        \"}\n",
    "regex['PARTICIPAÇÕES OPS']              = {'regex':  \"13211        \"}\n",
    "regex['CRÉDITO TRIBUTÁRIO']             = {'regex':  \"1316         \"}\n",
    "regex['DESPESAS ANTECIPADAS']           = {'regex':  \"128          \"}\n",
    "regex['ATIVO NÃO CIRCULANTE INTANGÍVEL']= {'regex':  \"1341         \"}\n",
    "regex['DESPESA DE COMERCIALIZAÇÃO DIFERIDA']   = {'regex':  \"1[2|3]51         \"}\n",
    "\n"
   ]
  },
  {
   "cell_type": "code",
   "execution_count": null,
   "metadata": {},
   "outputs": [],
   "source": [
    "PASTA_DEMONSTRACOES_POR_ANO = PARAMETROS_GERAIS['pasta_raiz_dados']+PARAMETROS['pasta_arquivos_contenados']"
   ]
  },
  {
   "cell_type": "code",
   "execution_count": null,
   "metadata": {},
   "outputs": [],
   "source": [
    "lista_arquivos = [i for i in glob.glob(PASTA_DEMONSTRACOES_POR_ANO+\"/*\")]"
   ]
  },
  {
   "cell_type": "code",
   "execution_count": null,
   "metadata": {},
   "outputs": [],
   "source": [
    "lista_arquivos"
   ]
  },
  {
   "cell_type": "code",
   "execution_count": null,
   "metadata": {},
   "outputs": [],
   "source": [
    "def ordenar_dataset(data):\n",
    "    return data.sort_values(by=[\"REG_ANS\",'ANO','TRIMESTRE',\"CD_CONTA_CONTABIL\"])"
   ]
  },
  {
   "cell_type": "code",
   "execution_count": null,
   "metadata": {},
   "outputs": [],
   "source": [
    "def ajustar_linhas(data):\n",
    "    data['CD_CONTA_CONTABIL'] = data['CD_CONTA_CONTABIL'].str.ljust(width=13, fillchar=' ')\n",
    "    data['VL_SALDO_FINAL'] = data['VL_SALDO_FINAL'].str.replace(pat=',', repl='.').astype(float)\n",
    "    data = ordenar_dataset(data)\n",
    "    return data"
   ]
  },
  {
   "cell_type": "code",
   "execution_count": null,
   "metadata": {},
   "outputs": [],
   "source": [
    "def process(item,data,_param_conta):\n",
    "    valor_atual = item['VL_SALDO_FINAL']\n",
    "    item[_nome_conta] = str(float(\"{0:.2f}\".format((valor_atual))))\n",
    "    return item    "
   ]
  },
  {
   "cell_type": "code",
   "execution_count": null,
   "metadata": {},
   "outputs": [],
   "source": [
    "def ajustar_contas(_nome_conta, _param_conta, data, lista_codigos):\n",
    "    _ano = data['ANO'].unique().tolist()[0]\n",
    "    _regex = _param_conta['regex']\n",
    "    if _ano in _param_conta:\n",
    "        _regex = _param_conta[_ano]\n",
    "    print(_ano,_nome_conta,\"-->\"+_regex+\"<--\")\n",
    "    r = re.compile(_regex)\n",
    "    lista_match_regex = list(filter(r.match, lista_codigos)) \n",
    "    df_contas = data[data['CD_CONTA_CONTABIL'].isin(lista_match_regex)]\n",
    "#     print(df_contas)\n",
    "    df_contas.insert(loc=0, column='pos', value=np.arange(len(df_contas)))\n",
    "    df_contas = df_contas.apply(lambda x : process(x,df_contas,_param_conta),axis=1)\n",
    "    df_contas.drop(columns=['pos'],inplace=True)\n",
    "    return df_contas"
   ]
  },
  {
   "cell_type": "code",
   "execution_count": null,
   "metadata": {},
   "outputs": [],
   "source": [
    "PASTA_DEMONSTRACOES_CONTAS = PARAMETROS_GERAIS['pasta_raiz_dados']+os.path.sep+\"DEMONSTRACOES_CONTAS\"\n",
    "PASTA_DEMONSTRACOES_CONTAS_SUMARIZADAS = PARAMETROS_GERAIS['pasta_raiz_dados']+os.path.sep+\"DEMONSTRACOES_CONTAS_SUMARIZADAS\"\n",
    "if (not(os.path.exists(PASTA_DEMONSTRACOES_CONTAS))):\n",
    "    os.mkdir(PASTA_DEMONSTRACOES_CONTAS)\n",
    "if (not(os.path.exists(PASTA_DEMONSTRACOES_CONTAS_SUMARIZADAS))):\n",
    "    os.mkdir(PASTA_DEMONSTRACOES_CONTAS_SUMARIZADAS)"
   ]
  },
  {
   "cell_type": "code",
   "execution_count": null,
   "metadata": {},
   "outputs": [],
   "source": [
    "for _arquivo in lista_arquivos:\n",
    "    ano_arquivo  = _arquivo.split(os.path.sep)[-1].split(\"_\")[0]\n",
    "    data = pd.read_csv(_arquivo, dtype=str,encoding=\"ISO-8859-1\")\n",
    "    print(_arquivo)\n",
    "    data = data.set_index(\"CHAVE\")\n",
    "    data = ajustar_linhas(data)\n",
    "    lista_codigos_conta_contabil = data['CD_CONTA_CONTABIL'].unique().tolist()    \n",
    "    for _nome_conta, _param_conta in regex.items():\n",
    "        data.insert(loc=3, column=_nome_conta, value=0.0)\n",
    "        df_contas = ajustar_contas(_nome_conta,_param_conta,data,lista_codigos_conta_contabil)\n",
    "        data.drop(df_contas.index,inplace=True)\n",
    "        data = pd.concat([data,df_contas])\n",
    "    nome_arquivo = _arquivo[_arquivo.rfind(os.path.sep)+1:]\n",
    "    print(nome_arquivo)\n",
    "    data = ordenar_dataset(data)\n",
    "    data.to_csv(PASTA_DEMONSTRACOES_CONTAS+os.path.sep+ano_arquivo+\".csv\",encoding=\"ISO-8859-1\")"
   ]
  },
  {
   "cell_type": "markdown",
   "metadata": {},
   "source": [
    "### Salvando o arquivo Versão 2"
   ]
  },
  {
   "cell_type": "code",
   "execution_count": null,
   "metadata": {},
   "outputs": [],
   "source": [
    "lista_arquivos = [i for i in glob.glob(PASTA_DEMONSTRACOES_CONTAS+os.path.sep+\"*\")]"
   ]
  },
  {
   "cell_type": "code",
   "execution_count": null,
   "metadata": {},
   "outputs": [],
   "source": [
    "lista_arquivos"
   ]
  },
  {
   "cell_type": "code",
   "execution_count": null,
   "metadata": {},
   "outputs": [],
   "source": [
    "def converter_colunas_regex_para_float(df):\n",
    "    for coluna in list(regex.keys()):\n",
    "        df[coluna] = df[coluna].astype(float)"
   ]
  },
  {
   "cell_type": "code",
   "execution_count": null,
   "metadata": {},
   "outputs": [],
   "source": [
    "for arquivo in lista_arquivos:\n",
    "    nome_arquivo = arquivo.split(os.path.sep)[-1]\n",
    "    print(nome_arquivo)\n",
    "    df_temp = pd.read_csv(arquivo,dtype=str,encoding=\"ISO-8859-1\")\n",
    "    converter_colunas_regex_para_float(df_temp)\n",
    "#     df_temp = df_temp[colunas_dataset]\n",
    "    print(df_temp.columns)\n",
    "    df_temp = df_temp.groupby([\"REG_ANS\",\"ANO\",\"TRIMESTRE\",\"PERIODO\"],as_index=False).sum()\n",
    "    df_temp.to_csv(PASTA_DEMONSTRACOES_CONTAS_SUMARIZADAS+os.path.sep+nome_arquivo,index=False,encoding=\"ISO-8859-1\")\n",
    "    print(\"Salvo\")"
   ]
  },
  {
   "cell_type": "code",
   "execution_count": null,
   "metadata": {},
   "outputs": [],
   "source": [
    "lista_arquivos = [i for i in glob.glob(PASTA_DEMONSTRACOES_CONTAS_SUMARIZADAS+os.path.sep+\"*\")]"
   ]
  },
  {
   "cell_type": "code",
   "execution_count": null,
   "metadata": {},
   "outputs": [],
   "source": [
    "lista_arquivos"
   ]
  },
  {
   "cell_type": "code",
   "execution_count": null,
   "metadata": {},
   "outputs": [],
   "source": [
    "df_demonstracoes_concatenadas2 = pd.concat([pd.read_csv(f,dtype=str,encoding=\"ISO-8859-1\") for f in lista_arquivos],sort=False)"
   ]
  },
  {
   "cell_type": "code",
   "execution_count": null,
   "metadata": {},
   "outputs": [],
   "source": [
    "df_demonstracoes_concatenadas2.to_csv(PARAMETROS_GERAIS['pasta_raiz_dados']+PARAMETROS_GERAIS['arquivo_final_todas_demonstracoes'],encoding=\"ISO-8859-1\",index=False)"
   ]
  },
  {
   "cell_type": "code",
   "execution_count": null,
   "metadata": {},
   "outputs": [],
   "source": [
    "df_demonstracoes_concatenadas2.head()"
   ]
  },
  {
   "cell_type": "code",
   "execution_count": null,
   "metadata": {},
   "outputs": [],
   "source": []
  },
  {
   "cell_type": "code",
   "execution_count": null,
   "metadata": {},
   "outputs": [],
   "source": [
    "PARAMETROS_GERAIS['pasta_raiz_dados']+PARAMETROS_GERAIS['arquivo_final_todas_demonstracoes']"
   ]
  },
  {
   "cell_type": "code",
   "execution_count": null,
   "metadata": {},
   "outputs": [],
   "source": []
  }
 ],
 "metadata": {
  "kernelspec": {
   "display_name": "Python 3",
   "language": "python",
   "name": "python3"
  },
  "language_info": {
   "codemirror_mode": {
    "name": "ipython",
    "version": 3
   },
   "file_extension": ".py",
   "mimetype": "text/x-python",
   "name": "python",
   "nbconvert_exporter": "python",
   "pygments_lexer": "ipython3",
   "version": "3.7.4"
  }
 },
 "nbformat": 4,
 "nbformat_minor": 4
}
