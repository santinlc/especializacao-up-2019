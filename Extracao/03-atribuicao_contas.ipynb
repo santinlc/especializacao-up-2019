{
 "cells": [
  {
   "cell_type": "code",
   "execution_count": 1,
   "metadata": {},
   "outputs": [],
   "source": [
    "import pandas as pd\n",
    "import re\n",
    "import numpy as np\n",
    "import os\n",
    "import glob"
   ]
  },
  {
   "cell_type": "code",
   "execution_count": 2,
   "metadata": {},
   "outputs": [],
   "source": [
    "import configparser\n",
    "\n",
    "config = configparser.RawConfigParser()\n",
    "config.read('parametros.config')\n",
    "\n",
    "PARAMETROS = dict(config.items('Padronizacao_conversao'))\n",
    "PARAMETROS_GERAIS = dict(config.items('Geral'))"
   ]
  },
  {
   "cell_type": "code",
   "execution_count": 3,
   "metadata": {},
   "outputs": [],
   "source": [
    "regex = {}\n",
    "regex['ATIVO']                    = \"1            \"\n",
    "regex['ATIVO_CIRCULANTE']         = \"12           \"\n",
    "regex['CREDITO_OPER_PS']          = \"123          \"\n",
    "regex['PASSIVO']                  = \"2            \"\n",
    "regex['PASSIVO_CIRCULANTE']       = \"21           \"\n",
    "regex['PASSIVO_NAO_CIRCULANTE']   = \"23           \"\n",
    "regex['PL']                       = \"25           \"\n",
    "regex['RECEITA']                  = \"31           \"\n",
    "regex['CONTRAPRESTACAO_PRE']      = \"311..2       \"\n",
    "regex['CONTRAPRESTACAO_POS']      = \"311..1       \"\n",
    "regex['CORRESP_CEDIDA_PRE']       = \"3117.1       \"\n",
    "regex['CORRESP_CEDIDA_POS']       = \"3117.2       \"\n",
    "regex['DESPESA']                  = \"41           \"\n",
    "regex['EVENTOS_INDENIZAVEIS_PRE'] = \"411..1       \"\n",
    "regex['EVENTOS_INDENIZAVEIS_POS'] = \"411..2       \"\n",
    "regex['PEONA']                    = \"414          \"\n",
    "regex['DESPESA_COM']              = \"43           \"\n",
    "regex['DESPESA_ADM']              = \"46           \"\n",
    "\n"
   ]
  },
  {
   "cell_type": "code",
   "execution_count": 4,
   "metadata": {},
   "outputs": [],
   "source": [
    "PASTA_DEMONSTRACOES_POR_ANO = PARAMETROS_GERAIS['pasta_raiz_dados']+PARAMETROS['pasta_arquivos_contenados']"
   ]
  },
  {
   "cell_type": "code",
   "execution_count": 5,
   "metadata": {},
   "outputs": [],
   "source": [
    "lista_arquivos = [i for i in glob.glob(PASTA_DEMONSTRACOES_POR_ANO+\"/*\")]"
   ]
  },
  {
   "cell_type": "code",
   "execution_count": 6,
   "metadata": {},
   "outputs": [
    {
     "data": {
      "text/plain": [
       "['/opt/DADOS_ANS_RESUMIDO/todas_demonstracoes_por_ano/2010todas_demonstracoes_concatenadas.csv',\n",
       " '/opt/DADOS_ANS_RESUMIDO/todas_demonstracoes_por_ano/2019todas_demonstracoes_concatenadas.csv',\n",
       " '/opt/DADOS_ANS_RESUMIDO/todas_demonstracoes_por_ano/2013todas_demonstracoes_concatenadas.csv',\n",
       " '/opt/DADOS_ANS_RESUMIDO/todas_demonstracoes_por_ano/2018todas_demonstracoes_concatenadas.csv',\n",
       " '/opt/DADOS_ANS_RESUMIDO/todas_demonstracoes_por_ano/2011todas_demonstracoes_concatenadas.csv',\n",
       " '/opt/DADOS_ANS_RESUMIDO/todas_demonstracoes_por_ano/2012todas_demonstracoes_concatenadas.csv',\n",
       " '/opt/DADOS_ANS_RESUMIDO/todas_demonstracoes_por_ano/2014todas_demonstracoes_concatenadas.csv',\n",
       " '/opt/DADOS_ANS_RESUMIDO/todas_demonstracoes_por_ano/2015todas_demonstracoes_concatenadas.csv',\n",
       " '/opt/DADOS_ANS_RESUMIDO/todas_demonstracoes_por_ano/2016todas_demonstracoes_concatenadas.csv',\n",
       " '/opt/DADOS_ANS_RESUMIDO/todas_demonstracoes_por_ano/2017todas_demonstracoes_concatenadas.csv']"
      ]
     },
     "execution_count": 6,
     "metadata": {},
     "output_type": "execute_result"
    }
   ],
   "source": [
    "lista_arquivos"
   ]
  },
  {
   "cell_type": "code",
   "execution_count": 7,
   "metadata": {},
   "outputs": [],
   "source": [
    "def ordenar_dataset(data):\n",
    "    return data.sort_values(by=['ANO','SEMESTRE',\"REG_ANS\",\"CD_CONTA_CONTABIL\"])"
   ]
  },
  {
   "cell_type": "code",
   "execution_count": 8,
   "metadata": {},
   "outputs": [],
   "source": [
    "def ajustar_linhas(data):\n",
    "    data['CD_CONTA_CONTABIL'] = data['CD_CONTA_CONTABIL'].str.ljust(width=13, fillchar=' ')\n",
    "    data['VL_SALDO_FINAL'] = data['VL_SALDO_FINAL'].str.replace(pat=',', repl='.').astype(float)\n",
    "    data = ordenar_dataset(data)\n",
    "    return data"
   ]
  },
  {
   "cell_type": "code",
   "execution_count": 9,
   "metadata": {},
   "outputs": [],
   "source": [
    "def recuperar_trimestre_anterior(item,data):\n",
    "#     print(\"Recuperar trimestre anterior de \",item.name)\n",
    "    try: \n",
    "        chave_anterior = item.name[:item.name.rfind(\"_\")+1]\n",
    "        semestre_anterior = int(item['SEMESTRE']) - 1\n",
    "        if (semestre_anterior == 0):\n",
    "            return None\n",
    "        chave_anterior = chave_anterior+str(semestre_anterior)\n",
    "        item_anterior =  data.loc[[chave_anterior]]\n",
    "        if(len(item_anterior) > 0):\n",
    "            item_anterior = item_anterior.squeeze()\n",
    "            return item_anterior\n",
    "    except:\n",
    "        return None"
   ]
  },
  {
   "cell_type": "code",
   "execution_count": 10,
   "metadata": {},
   "outputs": [],
   "source": [
    "def process(item,data,_nome_conta):\n",
    "    valor_atual = item['VL_SALDO_FINAL']\n",
    "    if (item['SEMESTRE'] != \"1\"):\n",
    "        try:\n",
    "            item_anterior = recuperar_trimestre_anterior(item,data)\n",
    "            valor_atual = valor_atual - item_anterior['VL_SALDO_FINAL']\n",
    "        except:\n",
    "            pass\n",
    "    item[_nome_conta] = str(float(\"{0:.2f}\".format((valor_atual))))\n",
    "    return item    "
   ]
  },
  {
   "cell_type": "code",
   "execution_count": 11,
   "metadata": {},
   "outputs": [],
   "source": [
    "def ajustar_contas(_nome_conta, _regex_conta, data, lista_codigos):\n",
    "    print(_nome_conta,_regex_conta)\n",
    "    r = re.compile(_regex_conta)\n",
    "    lista_match_regex = list(filter(r.match, lista_codigos)) \n",
    "    df_contas = data[data['CD_CONTA_CONTABIL'].isin(lista_match_regex)]\n",
    "    df_contas.insert(loc=0, column='pos', value=np.arange(len(df_contas)))\n",
    "    df_contas = df_contas.apply(lambda x : process(x,df_contas,_nome_conta),axis=1)\n",
    "    df_contas.drop(columns=['pos'],inplace=True)\n",
    "    return df_contas"
   ]
  },
  {
   "cell_type": "code",
   "execution_count": 12,
   "metadata": {},
   "outputs": [
    {
     "name": "stdout",
     "output_type": "stream",
     "text": [
      "/opt/DADOS_ANS_RESUMIDO/todas_demonstracoes_por_ano/2010todas_demonstracoes_concatenadas.csv\n",
      "ATIVO 1            \n",
      "ATIVO_CIRCULANTE 12           \n",
      "CREDITO_OPER_PS 123          \n",
      "PASSIVO 2            \n",
      "PASSIVO_CIRCULANTE 21           \n",
      "PASSIVO_NAO_CIRCULANTE 23           \n",
      "PL 25           \n",
      "RECEITA 31           \n",
      "CONTRAPRESTACAO_PRE 311..2       \n",
      "CONTRAPRESTACAO_POS 311..1       \n",
      "CORRESP_CEDIDA_PRE 3117.1       \n",
      "CORRESP_CEDIDA_POS 3117.2       \n",
      "DESPESA 41           \n",
      "EVENTOS_INDENIZAVEIS_PRE 411..1       \n",
      "EVENTOS_INDENIZAVEIS_POS 411..2       \n",
      "PEONA 414          \n",
      "DESPESA_COM 43           \n",
      "DESPESA_ADM 46           \n",
      "2010todas_demonstracoes_concatenadas.csv\n",
      "/opt/DADOS_ANS_RESUMIDO/todas_demonstracoes_por_ano/2019todas_demonstracoes_concatenadas.csv\n",
      "ATIVO 1            \n",
      "ATIVO_CIRCULANTE 12           \n",
      "CREDITO_OPER_PS 123          \n",
      "PASSIVO 2            \n",
      "PASSIVO_CIRCULANTE 21           \n",
      "PASSIVO_NAO_CIRCULANTE 23           \n",
      "PL 25           \n",
      "RECEITA 31           \n",
      "CONTRAPRESTACAO_PRE 311..2       \n",
      "CONTRAPRESTACAO_POS 311..1       \n",
      "CORRESP_CEDIDA_PRE 3117.1       \n",
      "CORRESP_CEDIDA_POS 3117.2       \n",
      "DESPESA 41           \n",
      "EVENTOS_INDENIZAVEIS_PRE 411..1       \n",
      "EVENTOS_INDENIZAVEIS_POS 411..2       \n",
      "PEONA 414          \n",
      "DESPESA_COM 43           \n",
      "DESPESA_ADM 46           \n",
      "2019todas_demonstracoes_concatenadas.csv\n",
      "/opt/DADOS_ANS_RESUMIDO/todas_demonstracoes_por_ano/2013todas_demonstracoes_concatenadas.csv\n",
      "ATIVO 1            \n",
      "ATIVO_CIRCULANTE 12           \n",
      "CREDITO_OPER_PS 123          \n",
      "PASSIVO 2            \n",
      "PASSIVO_CIRCULANTE 21           \n",
      "PASSIVO_NAO_CIRCULANTE 23           \n",
      "PL 25           \n",
      "RECEITA 31           \n",
      "CONTRAPRESTACAO_PRE 311..2       \n",
      "CONTRAPRESTACAO_POS 311..1       \n",
      "CORRESP_CEDIDA_PRE 3117.1       \n",
      "CORRESP_CEDIDA_POS 3117.2       \n",
      "DESPESA 41           \n",
      "EVENTOS_INDENIZAVEIS_PRE 411..1       \n",
      "EVENTOS_INDENIZAVEIS_POS 411..2       \n",
      "PEONA 414          \n",
      "DESPESA_COM 43           \n",
      "DESPESA_ADM 46           \n",
      "2013todas_demonstracoes_concatenadas.csv\n",
      "/opt/DADOS_ANS_RESUMIDO/todas_demonstracoes_por_ano/2018todas_demonstracoes_concatenadas.csv\n",
      "ATIVO 1            \n",
      "ATIVO_CIRCULANTE 12           \n",
      "CREDITO_OPER_PS 123          \n",
      "PASSIVO 2            \n",
      "PASSIVO_CIRCULANTE 21           \n",
      "PASSIVO_NAO_CIRCULANTE 23           \n",
      "PL 25           \n",
      "RECEITA 31           \n",
      "CONTRAPRESTACAO_PRE 311..2       \n",
      "CONTRAPRESTACAO_POS 311..1       \n",
      "CORRESP_CEDIDA_PRE 3117.1       \n",
      "CORRESP_CEDIDA_POS 3117.2       \n",
      "DESPESA 41           \n",
      "EVENTOS_INDENIZAVEIS_PRE 411..1       \n",
      "EVENTOS_INDENIZAVEIS_POS 411..2       \n",
      "PEONA 414          \n",
      "DESPESA_COM 43           \n",
      "DESPESA_ADM 46           \n",
      "2018todas_demonstracoes_concatenadas.csv\n",
      "/opt/DADOS_ANS_RESUMIDO/todas_demonstracoes_por_ano/2011todas_demonstracoes_concatenadas.csv\n",
      "ATIVO 1            \n",
      "ATIVO_CIRCULANTE 12           \n",
      "CREDITO_OPER_PS 123          \n",
      "PASSIVO 2            \n",
      "PASSIVO_CIRCULANTE 21           \n",
      "PASSIVO_NAO_CIRCULANTE 23           \n",
      "PL 25           \n",
      "RECEITA 31           \n",
      "CONTRAPRESTACAO_PRE 311..2       \n",
      "CONTRAPRESTACAO_POS 311..1       \n",
      "CORRESP_CEDIDA_PRE 3117.1       \n",
      "CORRESP_CEDIDA_POS 3117.2       \n",
      "DESPESA 41           \n",
      "EVENTOS_INDENIZAVEIS_PRE 411..1       \n",
      "EVENTOS_INDENIZAVEIS_POS 411..2       \n",
      "PEONA 414          \n",
      "DESPESA_COM 43           \n",
      "DESPESA_ADM 46           \n",
      "2011todas_demonstracoes_concatenadas.csv\n",
      "/opt/DADOS_ANS_RESUMIDO/todas_demonstracoes_por_ano/2012todas_demonstracoes_concatenadas.csv\n",
      "ATIVO 1            \n",
      "ATIVO_CIRCULANTE 12           \n",
      "CREDITO_OPER_PS 123          \n",
      "PASSIVO 2            \n",
      "PASSIVO_CIRCULANTE 21           \n",
      "PASSIVO_NAO_CIRCULANTE 23           \n",
      "PL 25           \n",
      "RECEITA 31           \n",
      "CONTRAPRESTACAO_PRE 311..2       \n",
      "CONTRAPRESTACAO_POS 311..1       \n",
      "CORRESP_CEDIDA_PRE 3117.1       \n",
      "CORRESP_CEDIDA_POS 3117.2       \n",
      "DESPESA 41           \n",
      "EVENTOS_INDENIZAVEIS_PRE 411..1       \n",
      "EVENTOS_INDENIZAVEIS_POS 411..2       \n",
      "PEONA 414          \n",
      "DESPESA_COM 43           \n",
      "DESPESA_ADM 46           \n",
      "2012todas_demonstracoes_concatenadas.csv\n",
      "/opt/DADOS_ANS_RESUMIDO/todas_demonstracoes_por_ano/2014todas_demonstracoes_concatenadas.csv\n",
      "ATIVO 1            \n",
      "ATIVO_CIRCULANTE 12           \n",
      "CREDITO_OPER_PS 123          \n",
      "PASSIVO 2            \n",
      "PASSIVO_CIRCULANTE 21           \n",
      "PASSIVO_NAO_CIRCULANTE 23           \n",
      "PL 25           \n",
      "RECEITA 31           \n",
      "CONTRAPRESTACAO_PRE 311..2       \n",
      "CONTRAPRESTACAO_POS 311..1       \n",
      "CORRESP_CEDIDA_PRE 3117.1       \n",
      "CORRESP_CEDIDA_POS 3117.2       \n",
      "DESPESA 41           \n",
      "EVENTOS_INDENIZAVEIS_PRE 411..1       \n",
      "EVENTOS_INDENIZAVEIS_POS 411..2       \n",
      "PEONA 414          \n",
      "DESPESA_COM 43           \n",
      "DESPESA_ADM 46           \n",
      "2014todas_demonstracoes_concatenadas.csv\n",
      "/opt/DADOS_ANS_RESUMIDO/todas_demonstracoes_por_ano/2015todas_demonstracoes_concatenadas.csv\n",
      "ATIVO 1            \n",
      "ATIVO_CIRCULANTE 12           \n",
      "CREDITO_OPER_PS 123          \n",
      "PASSIVO 2            \n",
      "PASSIVO_CIRCULANTE 21           \n",
      "PASSIVO_NAO_CIRCULANTE 23           \n",
      "PL 25           \n",
      "RECEITA 31           \n",
      "CONTRAPRESTACAO_PRE 311..2       \n",
      "CONTRAPRESTACAO_POS 311..1       \n",
      "CORRESP_CEDIDA_PRE 3117.1       \n",
      "CORRESP_CEDIDA_POS 3117.2       \n",
      "DESPESA 41           \n",
      "EVENTOS_INDENIZAVEIS_PRE 411..1       \n",
      "EVENTOS_INDENIZAVEIS_POS 411..2       \n",
      "PEONA 414          \n",
      "DESPESA_COM 43           \n",
      "DESPESA_ADM 46           \n",
      "2015todas_demonstracoes_concatenadas.csv\n",
      "/opt/DADOS_ANS_RESUMIDO/todas_demonstracoes_por_ano/2016todas_demonstracoes_concatenadas.csv\n",
      "ATIVO 1            \n",
      "ATIVO_CIRCULANTE 12           \n",
      "CREDITO_OPER_PS 123          \n",
      "PASSIVO 2            \n",
      "PASSIVO_CIRCULANTE 21           \n",
      "PASSIVO_NAO_CIRCULANTE 23           \n",
      "PL 25           \n",
      "RECEITA 31           \n",
      "CONTRAPRESTACAO_PRE 311..2       \n",
      "CONTRAPRESTACAO_POS 311..1       \n",
      "CORRESP_CEDIDA_PRE 3117.1       \n",
      "CORRESP_CEDIDA_POS 3117.2       \n",
      "DESPESA 41           \n",
      "EVENTOS_INDENIZAVEIS_PRE 411..1       \n",
      "EVENTOS_INDENIZAVEIS_POS 411..2       \n",
      "PEONA 414          \n",
      "DESPESA_COM 43           \n",
      "DESPESA_ADM 46           \n",
      "2016todas_demonstracoes_concatenadas.csv\n",
      "/opt/DADOS_ANS_RESUMIDO/todas_demonstracoes_por_ano/2017todas_demonstracoes_concatenadas.csv\n",
      "ATIVO 1            \n",
      "ATIVO_CIRCULANTE 12           \n",
      "CREDITO_OPER_PS 123          \n",
      "PASSIVO 2            \n",
      "PASSIVO_CIRCULANTE 21           \n",
      "PASSIVO_NAO_CIRCULANTE 23           \n",
      "PL 25           \n",
      "RECEITA 31           \n",
      "CONTRAPRESTACAO_PRE 311..2       \n",
      "CONTRAPRESTACAO_POS 311..1       \n",
      "CORRESP_CEDIDA_PRE 3117.1       \n",
      "CORRESP_CEDIDA_POS 3117.2       \n",
      "DESPESA 41           \n",
      "EVENTOS_INDENIZAVEIS_PRE 411..1       \n",
      "EVENTOS_INDENIZAVEIS_POS 411..2       \n",
      "PEONA 414          \n",
      "DESPESA_COM 43           \n",
      "DESPESA_ADM 46           \n",
      "2017todas_demonstracoes_concatenadas.csv\n"
     ]
    }
   ],
   "source": [
    "if (not(os.path.exists(\"resultado\"))):\n",
    "    os.mkdir(\"resultado\")\n",
    "for _arquivo in lista_arquivos:\n",
    "    data = pd.read_csv(_arquivo, dtype=str)\n",
    "    print(_arquivo)\n",
    "    data = data.set_index(\"CHAVE\")\n",
    "    data = ajustar_linhas(data)\n",
    "    lista_codigos_conta_contabil = data['CD_CONTA_CONTABIL'].unique().tolist()    \n",
    "    for _nome_conta, _regex_conta in regex.items():\n",
    "        data.insert(loc=3, column=_nome_conta, value=0.0)\n",
    "        df_contas = ajustar_contas(_nome_conta,_regex_conta,data,lista_codigos_conta_contabil)\n",
    "        data.drop(df_contas.index,inplace=True)\n",
    "        data = pd.concat([data,df_contas])\n",
    "    nome_arquivo = _arquivo[_arquivo.rfind(os.path.sep)+1:]\n",
    "    print(nome_arquivo)\n",
    "    data = ordenar_dataset(data)\n",
    "    data.to_csv(\"resultado\"+os.path.sep+nome_arquivo)"
   ]
  },
  {
   "cell_type": "code",
   "execution_count": 13,
   "metadata": {},
   "outputs": [],
   "source": [
    "lista_arquivos = [i for i in glob.glob(\"resultado/*\")]"
   ]
  },
  {
   "cell_type": "code",
   "execution_count": 14,
   "metadata": {},
   "outputs": [],
   "source": [
    "df_demonstracoes_concatenadas = pd.concat([pd.read_csv(f,dtype=str) for f in lista_arquivos],sort=False)"
   ]
  },
  {
   "cell_type": "code",
   "execution_count": 15,
   "metadata": {},
   "outputs": [
    {
     "data": {
      "text/plain": [
       "7580861"
      ]
     },
     "execution_count": 15,
     "metadata": {},
     "output_type": "execute_result"
    }
   ],
   "source": [
    "len(df_demonstracoes_concatenadas)"
   ]
  },
  {
   "cell_type": "code",
   "execution_count": 16,
   "metadata": {},
   "outputs": [],
   "source": [
    "df_demonstracoes_concatenadas.to_csv(\"todas_demonstracoes.csv\")"
   ]
  }
 ],
 "metadata": {
  "kernelspec": {
   "display_name": "Python 3",
   "language": "python",
   "name": "python3"
  },
  "language_info": {
   "codemirror_mode": {
    "name": "ipython",
    "version": 3
   },
   "file_extension": ".py",
   "mimetype": "text/x-python",
   "name": "python",
   "nbconvert_exporter": "python",
   "pygments_lexer": "ipython3",
   "version": "3.7.4"
  }
 },
 "nbformat": 4,
 "nbformat_minor": 4
}
