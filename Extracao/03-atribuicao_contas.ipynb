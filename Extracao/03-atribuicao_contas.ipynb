{
 "cells": [
  {
   "cell_type": "code",
   "execution_count": null,
   "metadata": {},
   "outputs": [],
   "source": [
    "import pandas as pd\n",
    "import re\n",
    "import numpy as np\n",
    "import os\n",
    "import glob"
   ]
  },
  {
   "cell_type": "code",
   "execution_count": null,
   "metadata": {},
   "outputs": [],
   "source": [
    "import configparser\n",
    "\n",
    "config = configparser.RawConfigParser()\n",
    "config.read('parametros.config')\n",
    "\n",
    "PARAMETROS = dict(config.items('Padronizacao_conversao'))\n",
    "PARAMETROS_GERAIS = dict(config.items('Geral'))"
   ]
  },
  {
   "cell_type": "code",
   "execution_count": null,
   "metadata": {},
   "outputs": [],
   "source": [
    "regex = {}\n",
    "regex['ATIVO']                    = {'regex':  \"1            \",'executar_variacao': None}\n",
    "regex['ATIVO_CIRCULANTE']         = {'regex':  \"12           \",'executar_variacao': None}\n",
    "regex['CREDITO_OPER_PS']          = {'regex':  \"123          \",'executar_variacao': None}\n",
    "regex['PASSIVO']                  = {'regex':  \"2            \",'executar_variacao': None}\n",
    "regex['PASSIVO_CIRCULANTE']       = {'regex':  \"21           \",'executar_variacao': None}\n",
    "regex['PASSIVO_NAO_CIRCULANTE']   = {'regex':  \"23           \",'executar_variacao': None}\n",
    "regex['PL']                       = {'regex':  \"25           \",'executar_variacao': None}\n",
    "regex['RECEITA']                  = {'regex':  \"31           \"}\n",
    "regex['CONTRAPRESTACAO_PRE']      = {'regex':  \"311[^7].1       \", '2012': \"311111101    \"}\n",
    "regex['CONTRAPRESTACAO_POS']      = {'regex':  \"311[^7].2       \", '2012': \"311112101    \"}\n",
    "regex['CORRESP_CEDIDA_PRE']       = {'regex':  \"3117.1       \"}\n",
    "regex['CORRESP_CEDIDA_POS']       = {'regex':  \"3117.2       \"}\n",
    "regex['DESPESA']                  = {'regex':  \"41           \"}\n",
    "regex['EVENTOS_INDENIZAVEIS_PRE'] = {'regex':  \"411..1       \"}\n",
    "regex['EVENTOS_INDENIZAVEIS_POS'] = {'regex':  \"411..2       \"}\n",
    "regex['VARIACAO_PEONA']           = {'regex':  \"414          \"}\n",
    "regex['DESPESA_COM']              = {'regex':  \"43           \"}\n",
    "regex['DESPESA_ADM']              = {'regex':  \"46           \"}\n",
    "regex['PROVISOES_TECNICAS']       = {'regex' : \"2[1|3]1          \"}\n",
    "regex['PPCNG']                    = {'regex' : \"2[1|3]1....11    \"}\n",
    "regex['REMISSAO']                 = {'regex' : \"2[1|3]1....13    \"}\n",
    "regex['PESL_SUS']                 = {'regex' : \"2[1|3]1....2     \"}\n",
    "regex['PESL_OUTROS']              = {'regex' : \"2[1|3]1....3     \"}\n",
    "regex['PEONA_OUTROS']             = {'regex' : \"2[1|3]1....41    \"}\n",
    "regex['PEONA_SUS']                = {'regex' : \"2[1|3]1....42    \"}\n",
    "\n"
   ]
  },
  {
   "cell_type": "code",
   "execution_count": null,
   "metadata": {},
   "outputs": [],
   "source": [
    "r = re.compile(\"2[1|3]1          \")\n",
    "lista_match_regex = list(filter(r.match, \"211          \")) "
   ]
  },
  {
   "cell_type": "code",
   "execution_count": null,
   "metadata": {},
   "outputs": [],
   "source": [
    "lista_match_regex"
   ]
  },
  {
   "cell_type": "code",
   "execution_count": null,
   "metadata": {},
   "outputs": [],
   "source": []
  },
  {
   "cell_type": "code",
   "execution_count": null,
   "metadata": {},
   "outputs": [],
   "source": [
    "PASTA_DEMONSTRACOES_POR_ANO = PARAMETROS_GERAIS['pasta_raiz_dados']+PARAMETROS['pasta_arquivos_contenados']"
   ]
  },
  {
   "cell_type": "code",
   "execution_count": null,
   "metadata": {},
   "outputs": [],
   "source": [
    "lista_arquivos = [i for i in glob.glob(PASTA_DEMONSTRACOES_POR_ANO+\"/*\")]"
   ]
  },
  {
   "cell_type": "code",
   "execution_count": null,
   "metadata": {},
   "outputs": [],
   "source": [
    "lista_arquivos"
   ]
  },
  {
   "cell_type": "code",
   "execution_count": null,
   "metadata": {},
   "outputs": [],
   "source": [
    "def ordenar_dataset(data):\n",
    "    return data.sort_values(by=['ANO','SEMESTRE',\"REG_ANS\",\"CD_CONTA_CONTABIL\"])"
   ]
  },
  {
   "cell_type": "code",
   "execution_count": null,
   "metadata": {},
   "outputs": [],
   "source": [
    "def ajustar_linhas(data):\n",
    "    data['CD_CONTA_CONTABIL'] = data['CD_CONTA_CONTABIL'].str.ljust(width=13, fillchar=' ')\n",
    "    data['VL_SALDO_FINAL'] = data['VL_SALDO_FINAL'].str.replace(pat=',', repl='.').astype(float)\n",
    "    data = ordenar_dataset(data)\n",
    "    return data"
   ]
  },
  {
   "cell_type": "code",
   "execution_count": null,
   "metadata": {},
   "outputs": [],
   "source": [
    "def recuperar_trimestre_anterior(item,data):\n",
    "    try: \n",
    "        chave_anterior = item.name[:item.name.rfind(\"_\")+1]\n",
    "        semestre_anterior = int(item['SEMESTRE']) - 1\n",
    "        if (semestre_anterior == 0):\n",
    "            return None\n",
    "        chave_anterior = chave_anterior+str(semestre_anterior)\n",
    "        item_anterior =  data.loc[[chave_anterior]]\n",
    "        if(len(item_anterior) > 0):\n",
    "            item_anterior = item_anterior.squeeze()\n",
    "            return item_anterior\n",
    "    except:\n",
    "        return None"
   ]
  },
  {
   "cell_type": "code",
   "execution_count": null,
   "metadata": {},
   "outputs": [],
   "source": [
    "def process(item,data,_param_conta):\n",
    "    valor_atual = item['VL_SALDO_FINAL']\n",
    "    if(item['SEMESTRE'] != \"1\"):\n",
    "        try:\n",
    "            item_anterior = recuperar_trimestre_anterior(item,data)\n",
    "            if \"executar_variacao\" in _param_conta:\n",
    "                pass\n",
    "            else:\n",
    "                valor_atual = valor_atual - item_anterior['VL_SALDO_FINAL']\n",
    "        except:\n",
    "            pass\n",
    "    item[_nome_conta] = str(float(\"{0:.2f}\".format((valor_atual))))\n",
    "    return item    "
   ]
  },
  {
   "cell_type": "code",
   "execution_count": null,
   "metadata": {},
   "outputs": [],
   "source": [
    "def ajustar_contas(_nome_conta, _param_conta, data, lista_codigos):\n",
    "    _ano = data['ANO'].unique().tolist()[0]\n",
    "    _regex = _param_conta['regex']\n",
    "    if _ano in _param_conta:\n",
    "        _regex = _param_conta[_ano]\n",
    "    print(_ano,_nome_conta,\"-->\"+_regex+\"<--\")\n",
    "    r = re.compile(_regex)\n",
    "    lista_match_regex = list(filter(r.match, lista_codigos)) \n",
    "    df_contas = data[data['CD_CONTA_CONTABIL'].isin(lista_match_regex)]\n",
    "    df_contas.insert(loc=0, column='pos', value=np.arange(len(df_contas)))\n",
    "    df_contas = df_contas.apply(lambda x : process(x,df_contas,_param_conta),axis=1)\n",
    "    df_contas.drop(columns=['pos'],inplace=True)\n",
    "    return df_contas"
   ]
  },
  {
   "cell_type": "code",
   "execution_count": null,
   "metadata": {},
   "outputs": [],
   "source": [
    "if (not(os.path.exists(\"resultado\"))):\n",
    "    os.mkdir(\"resultado\")\n",
    "for _arquivo in lista_arquivos:\n",
    "    data = pd.read_csv(_arquivo, dtype=str,encoding=\"ISO-8859-1\")\n",
    "    print(_arquivo)\n",
    "    data = data.set_index(\"CHAVE\")\n",
    "    data = ajustar_linhas(data)\n",
    "    lista_codigos_conta_contabil = data['CD_CONTA_CONTABIL'].unique().tolist()    \n",
    "    for _nome_conta, _param_conta in regex.items():\n",
    "        data.insert(loc=3, column=_nome_conta, value=0.0)\n",
    "        df_contas = ajustar_contas(_nome_conta,_param_conta,data,lista_codigos_conta_contabil)\n",
    "        data.drop(df_contas.index,inplace=True)\n",
    "        data = pd.concat([data,df_contas])\n",
    "    nome_arquivo = _arquivo[_arquivo.rfind(os.path.sep)+1:]\n",
    "    print(nome_arquivo)\n",
    "    data = ordenar_dataset(data)\n",
    "    data.to_csv(\"resultado\"+os.path.sep+nome_arquivo,encoding=\"ISO-8859-1\")"
   ]
  },
  {
   "cell_type": "code",
   "execution_count": null,
   "metadata": {},
   "outputs": [],
   "source": [
    "lista_arquivos = [i for i in glob.glob(\"resultado/*\")]"
   ]
  },
  {
   "cell_type": "code",
   "execution_count": null,
   "metadata": {},
   "outputs": [],
   "source": [
    "df_demonstracoes_concatenadas = pd.concat([pd.read_csv(f,dtype=str,encoding=\"ISO-8859-1\") for f in lista_arquivos],sort=False)"
   ]
  },
  {
   "cell_type": "code",
   "execution_count": null,
   "metadata": {},
   "outputs": [],
   "source": [
    "len(df_demonstracoes_concatenadas)"
   ]
  },
  {
   "cell_type": "code",
   "execution_count": null,
   "metadata": {},
   "outputs": [],
   "source": [
    "df_demonstracoes_concatenadas.to_csv(\"todas_demonstracoes.csv\",encoding=\"ISO-8859-1\")"
   ]
  }
 ],
 "metadata": {
  "kernelspec": {
   "display_name": "Python 3",
   "language": "python",
   "name": "python3"
  },
  "language_info": {
   "codemirror_mode": {
    "name": "ipython",
    "version": 3
   },
   "file_extension": ".py",
   "mimetype": "text/x-python",
   "name": "python",
   "nbconvert_exporter": "python",
   "pygments_lexer": "ipython3",
   "version": "3.7.4"
  }
 },
 "nbformat": 4,
 "nbformat_minor": 4
}
