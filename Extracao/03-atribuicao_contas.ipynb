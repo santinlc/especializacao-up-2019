{
 "cells": [
  {
   "cell_type": "markdown",
   "metadata": {},
   "source": [
    "# Base otimizada para importar no Power BI"
   ]
  },
  {
   "cell_type": "raw",
   "metadata": {},
   "source": [
    "#conda install qgrid"
   ]
  },
  {
   "cell_type": "raw",
   "metadata": {},
   "source": [
    "#conda install -c conda-forge parallel"
   ]
  },
  {
   "cell_type": "code",
   "execution_count": 62,
   "metadata": {},
   "outputs": [],
   "source": [
    "import pandas as pd\n",
    "import qgrid\n",
    "import numpy as np\n",
    "import glob"
   ]
  },
  {
   "cell_type": "code",
   "execution_count": 63,
   "metadata": {},
   "outputs": [],
   "source": [
    "import configparser\n",
    "\n",
    "config = configparser.RawConfigParser()\n",
    "config.read('parametros.config')\n",
    "\n",
    "PARAMETROS = dict(config.items('Padronizacao_conversao'))\n",
    "PARAMETROS_GERAIS = dict(config.items('Geral'))"
   ]
  },
  {
   "cell_type": "code",
   "execution_count": 64,
   "metadata": {},
   "outputs": [
    {
     "data": {
      "text/plain": [
       "{'caminho_arquivo_download': 'DADOS_DEMONSTRACOES/',\n",
       " 'caminho_arquivo_convertido': 'DADOS_DEMONSTRACOES_CONVERTIDO/',\n",
       " 'pasta_arquivos_contenados': 'todas_demonstracoes_por_ano/',\n",
       " 'nome_arquivo_concatenado': 'todas_demonstracoes_concatenadas.csv'}"
      ]
     },
     "execution_count": 64,
     "metadata": {},
     "output_type": "execute_result"
    }
   ],
   "source": [
    "PARAMETROS"
   ]
  },
  {
   "cell_type": "code",
   "execution_count": 65,
   "metadata": {},
   "outputs": [
    {
     "data": {
      "text/plain": [
       "{'pasta_raiz_dados': '/opt/DADOS_ANS_RESUMIDO/',\n",
       " 'arquivo_operadoras': 'CooperativasMedicasAtivas_CADOP.txt'}"
      ]
     },
     "execution_count": 65,
     "metadata": {},
     "output_type": "execute_result"
    }
   ],
   "source": [
    "PARAMETROS_GERAIS"
   ]
  },
  {
   "cell_type": "code",
   "execution_count": 66,
   "metadata": {},
   "outputs": [],
   "source": [
    "PASTA_DEMONSTRACOES_POR_ANO = PARAMETROS_GERAIS['pasta_raiz_dados']+PARAMETROS['pasta_arquivos_contenados']"
   ]
  },
  {
   "cell_type": "code",
   "execution_count": 67,
   "metadata": {},
   "outputs": [
    {
     "data": {
      "text/plain": [
       "'/opt/DADOS_ANS_RESUMIDO/todas_demonstracoes_por_ano/'"
      ]
     },
     "execution_count": 67,
     "metadata": {},
     "output_type": "execute_result"
    }
   ],
   "source": [
    "PASTA_DEMONSTRACOES_POR_ANO"
   ]
  },
  {
   "cell_type": "code",
   "execution_count": null,
   "metadata": {},
   "outputs": [],
   "source": []
  },
  {
   "cell_type": "markdown",
   "metadata": {},
   "source": [
    "### Como não consegui executar as alterações recentes, utilizei a 1ª base"
   ]
  },
  {
   "cell_type": "code",
   "execution_count": 38,
   "metadata": {},
   "outputs": [],
   "source": [
    "def process_ativo(item):\n",
    "    if item['CD_CONTA_CONTABIL'].strip() == '1':\n",
    "        return item['VL_SALDO_FINAL']\n",
    "    return 0"
   ]
  },
  {
   "cell_type": "code",
   "execution_count": 39,
   "metadata": {},
   "outputs": [],
   "source": [
    "def process_ativo_circulante(item):\n",
    "    if item['CD_CONTA_CONTABIL'].strip() == '12':\n",
    "        return item['VL_SALDO_FINAL']\n",
    "    return 0"
   ]
  },
  {
   "cell_type": "code",
   "execution_count": 40,
   "metadata": {},
   "outputs": [],
   "source": [
    "def process_credito_oper_ps(item):\n",
    "    if item['CD_CONTA_CONTABIL'].strip() == '123':\n",
    "        return item['VL_SALDO_FINAL']\n",
    "    return 0"
   ]
  },
  {
   "cell_type": "code",
   "execution_count": 41,
   "metadata": {},
   "outputs": [],
   "source": [
    "def process_passivo(item):\n",
    "    if item['CD_CONTA_CONTABIL'].strip() == '2':\n",
    "        return item['VL_SALDO_FINAL']\n",
    "    return 0"
   ]
  },
  {
   "cell_type": "code",
   "execution_count": 42,
   "metadata": {},
   "outputs": [],
   "source": [
    "def process_passivo_circulante(item):\n",
    "    if item['CD_CONTA_CONTABIL'].strip() == '21':\n",
    "        return item['VL_SALDO_FINAL']\n",
    "    return 0"
   ]
  },
  {
   "cell_type": "code",
   "execution_count": 43,
   "metadata": {},
   "outputs": [],
   "source": [
    "def process_passivo_nao_circulante(item):\n",
    "    if item['CD_CONTA_CONTABIL'].strip() == '23':\n",
    "        return item['VL_SALDO_FINAL']\n",
    "    return 0"
   ]
  },
  {
   "cell_type": "code",
   "execution_count": 44,
   "metadata": {},
   "outputs": [],
   "source": [
    "def process_pl(item):\n",
    "    if item['CD_CONTA_CONTABIL'].strip() == '25':\n",
    "        return item['VL_SALDO_FINAL']\n",
    "    return 0"
   ]
  },
  {
   "cell_type": "code",
   "execution_count": 45,
   "metadata": {},
   "outputs": [],
   "source": [
    "def process_receita(item):\n",
    "    if item['CD_CONTA_CONTABIL'].strip() == '31':\n",
    "        return item['VL_SALDO_FINAL']\n",
    "    return 0"
   ]
  },
  {
   "cell_type": "code",
   "execution_count": 46,
   "metadata": {},
   "outputs": [],
   "source": [
    "def process_contraprestacao_pre(item):\n",
    "    if item['CD_CONTA_CONTABIL'][0:3] == '311':\n",
    "        if item['CD_CONTA_CONTABIL'][5:6] == '1':\n",
    "            return item['VL_SALDO_FINAL']\n",
    "    return 0"
   ]
  },
  {
   "cell_type": "code",
   "execution_count": 47,
   "metadata": {},
   "outputs": [],
   "source": [
    "def process_contraprestacao_pos(item):\n",
    "    if item['CD_CONTA_CONTABIL'][0:3] == '311':\n",
    "        if item['CD_CONTA_CONTABIL'][5:6] == '2':\n",
    "            return item['VL_SALDO_FINAL']\n",
    "    return 0"
   ]
  },
  {
   "cell_type": "code",
   "execution_count": 48,
   "metadata": {},
   "outputs": [],
   "source": [
    "def process_corresp_cedida_pre(item):\n",
    "    if item['CD_CONTA_CONTABIL'][0:4] == '3117':\n",
    "        if item['CD_CONTA_CONTABIL'][5:6] == '1':\n",
    "            return item['VL_SALDO_FINAL']\n",
    "    return 0"
   ]
  },
  {
   "cell_type": "code",
   "execution_count": 49,
   "metadata": {},
   "outputs": [],
   "source": [
    "def process_corresp_cedida_pos(item):\n",
    "    if item['CD_CONTA_CONTABIL'][0:4] == '3117':\n",
    "        if item['CD_CONTA_CONTABIL'][5:6] == '2':\n",
    "            return item['VL_SALDO_FINAL']\n",
    "    return 0"
   ]
  },
  {
   "cell_type": "code",
   "execution_count": 50,
   "metadata": {},
   "outputs": [],
   "source": [
    "def process_despesa(item):\n",
    "    if item['CD_CONTA_CONTABIL'].strip() == '41':\n",
    "          return item['VL_SALDO_FINAL']\n",
    "    return 0"
   ]
  },
  {
   "cell_type": "code",
   "execution_count": 51,
   "metadata": {},
   "outputs": [],
   "source": [
    "def process_eventos_indenizaveis_pre(item):\n",
    "    if item['CD_CONTA_CONTABIL'][0:3] == '411':\n",
    "        if item['CD_CONTA_CONTABIL'][5:6] == '1':\n",
    "            return item['VL_SALDO_FINAL']\n",
    "    return 0"
   ]
  },
  {
   "cell_type": "code",
   "execution_count": 52,
   "metadata": {},
   "outputs": [],
   "source": [
    "def process_eventos_indenizaveis_pos(item):\n",
    "    if item['CD_CONTA_CONTABIL'][0:3] == '411':\n",
    "        if item['CD_CONTA_CONTABIL'][5:6] == '2':\n",
    "            return item['VL_SALDO_FINAL']\n",
    "    return 0"
   ]
  },
  {
   "cell_type": "code",
   "execution_count": 53,
   "metadata": {},
   "outputs": [],
   "source": [
    "def process_variacao_peona(item):\n",
    "    if item['CD_CONTA_CONTABIL'] == '414':\n",
    "          return item['VL_SALDO_FINAL']\n",
    "    return 0"
   ]
  },
  {
   "cell_type": "code",
   "execution_count": 54,
   "metadata": {},
   "outputs": [],
   "source": [
    "def process_despesa_com(item):\n",
    "    if item['CD_CONTA_CONTABIL'].strip() == '43':\n",
    "          return item['VL_SALDO_FINAL']\n",
    "    return 0"
   ]
  },
  {
   "cell_type": "code",
   "execution_count": 55,
   "metadata": {},
   "outputs": [],
   "source": [
    "def process_despesa_adm(item):\n",
    "    if item['CD_CONTA_CONTABIL'].strip() == '46':\n",
    "          return item['VL_SALDO_FINAL']\n",
    "    return 0"
   ]
  },
  {
   "cell_type": "code",
   "execution_count": 56,
   "metadata": {},
   "outputs": [],
   "source": [
    "def recuperar_trimestre_anterior(item):\n",
    "    try: \n",
    "        chave_anterior = item.name[:item.name.rfind(\"_\")+1]\n",
    "        semestre_anterior = int(item['SEMESTRE']) - 1\n",
    "        if (semestre_anterior == 0):\n",
    "            return None\n",
    "        chave_anterior = chave_anterior+str(semestre_anterior)\n",
    "        item_anterior =  data.loc[[chave_anterior]]\n",
    "        if(len(item_anterior) > 0):\n",
    "            item_anterior = item_anterior.squeeze()\n",
    "            return item_anterior\n",
    "    except:\n",
    "        return None"
   ]
  },
  {
   "cell_type": "code",
   "execution_count": 57,
   "metadata": {},
   "outputs": [],
   "source": [
    "def remove_acumulado(func_calculo,item,item_anterior):\n",
    "    valor_atual = func_calculo(item)\n",
    "    try:\n",
    "        valor_anterior = func_calculo(item_anterior)\n",
    "    except:\n",
    "        valor_anterior = 0\n",
    "    valor_trimestre = float(\"{0:.2f}\".format((valor_atual-valor_anterior)))\n",
    "    return valor_trimestre"
   ]
  },
  {
   "cell_type": "code",
   "execution_count": 58,
   "metadata": {},
   "outputs": [],
   "source": [
    "def process(item):\n",
    "    if (item['pos']% 1000 == 0):\n",
    "        print(\"Processado\",item['pos'],\"de\",len(data))\n",
    "    item_anterior = recuperar_trimestre_anterior(item)\n",
    "    if (int(item['SEMESTRE']) == 1):\n",
    "        item['ATIVO'] = process_ativo(item)\n",
    "        item['ATIVO_CIRCULANTE'] = process_ativo_circulante(item)\n",
    "        item['CREDITO_OPER_PS'] = process_credito_oper_ps(item)\n",
    "        item['PASSIVO'] = process_passivo(item)\n",
    "        item['PASSIVO_CIRCULANTE'] = process_passivo_circulante(item)\n",
    "        item['PASSIVO_NAO_CIRCULANTE'] = process_passivo_nao_circulante(item)\n",
    "        item['PL'] = process_pl(item)\n",
    "        item['RECEITA'] = process_receita(item)\n",
    "        item['CONTRAPRESTACAO_PRE'] = process_contraprestacao_pre(item)\n",
    "        item['CONTRAPRESTACAO_POS'] = process_contraprestacao_pos(item)\n",
    "        item['CORRESP_CEDIDA_POS'] = process_corresp_cedida_pos(item)\n",
    "        item['DESPESA'] = process_despesa(item)\n",
    "        item['EVENTOS_INDENIZAVEIS_PRE'] = process_eventos_indenizaveis_pre(item)\n",
    "        item['EVENTOS_INDENIZAVEIS_POS'] = process_eventos_indenizaveis_pos(item)\n",
    "        item['VARIACAO_PEONA'] = process_variacao_peona(item)\n",
    "        item['DESPESA_COM'] = process_despesa_com(item)\n",
    "        item['DESPESA_ADM'] = process_despesa_adm(item)\n",
    "    else:\n",
    "        \"\"\"SEMESTRE MAIOR QUE UM REMOVER ACUMULADO\"\"\"\n",
    "        item['ATIVO'] =  remove_acumulado(process_ativo,item,item_anterior)\n",
    "        item['ATIVO_CIRCULANTE'] = remove_acumulado(process_ativo_circulante,item,item_anterior)\n",
    "        item['CREDITO_OPER_PS'] = remove_acumulado(process_credito_oper_ps,item,item_anterior)\n",
    "        item['PASSIVO'] = remove_acumulado(process_passivo,item,item_anterior)\n",
    "        item['PASSIVO_CIRCULANTE'] = remove_acumulado(process_passivo_circulante,item,item_anterior)\n",
    "        item['PASSIVO_NAO_CIRCULANTE'] = remove_acumulado(process_passivo_nao_circulante,item,item_anterior)\n",
    "        item['PL'] = remove_acumulado(process_pl,item,item_anterior)\n",
    "        item['RECEITA'] = remove_acumulado(process_receita,item,item_anterior)\n",
    "        item['CONTRAPRESTACAO_PRE'] = remove_acumulado(process_contraprestacao_pre,item,item_anterior)\n",
    "        item['CONTRAPRESTACAO_POS'] = remove_acumulado(process_contraprestacao_pos,item,item_anterior)\n",
    "        item['CORRESP_CEDIDA_POS'] = remove_acumulado(process_corresp_cedida_pos,item,item_anterior)\n",
    "        item['DESPESA'] = remove_acumulado(process_despesa,item,item_anterior)\n",
    "        item['EVENTOS_INDENIZAVEIS_PRE'] = remove_acumulado(process_eventos_indenizaveis_pre,item,item_anterior)\n",
    "        item['EVENTOS_INDENIZAVEIS_POS'] = remove_acumulado(process_eventos_indenizaveis_pos,item,item_anterior)\n",
    "        item['VARIACAO_PEONA'] = remove_acumulado(process_variacao_peona,item,item_anterior)\n",
    "        item['DESPESA_COM'] = remove_acumulado(process_despesa_com,item,item_anterior)\n",
    "        item['DESPESA_ADM'] = remove_acumulado(process_despesa_adm,item,item_anterior)\n",
    "    return item\n",
    "   "
   ]
  },
  {
   "cell_type": "code",
   "execution_count": 73,
   "metadata": {},
   "outputs": [],
   "source": [
    "lista_arquivos = [i for i in glob.glob(PASTA_DEMONSTRACOES_POR_ANO+\"/*\")]"
   ]
  },
  {
   "cell_type": "code",
   "execution_count": 74,
   "metadata": {},
   "outputs": [
    {
     "data": {
      "text/plain": [
       "['/opt/DADOS_ANS_RESUMIDO/todas_demonstracoes_por_ano/2010todas_demonstracoes_concatenadas.csv',\n",
       " '/opt/DADOS_ANS_RESUMIDO/todas_demonstracoes_por_ano/2019todas_demonstracoes_concatenadas.csv',\n",
       " '/opt/DADOS_ANS_RESUMIDO/todas_demonstracoes_por_ano/2013todas_demonstracoes_concatenadas.csv',\n",
       " '/opt/DADOS_ANS_RESUMIDO/todas_demonstracoes_por_ano/2018todas_demonstracoes_concatenadas.csv',\n",
       " '/opt/DADOS_ANS_RESUMIDO/todas_demonstracoes_por_ano/2011todas_demonstracoes_concatenadas.csv',\n",
       " '/opt/DADOS_ANS_RESUMIDO/todas_demonstracoes_por_ano/2012todas_demonstracoes_concatenadas.csv',\n",
       " '/opt/DADOS_ANS_RESUMIDO/todas_demonstracoes_por_ano/2014todas_demonstracoes_concatenadas.csv',\n",
       " '/opt/DADOS_ANS_RESUMIDO/todas_demonstracoes_por_ano/2015todas_demonstracoes_concatenadas.csv',\n",
       " '/opt/DADOS_ANS_RESUMIDO/todas_demonstracoes_por_ano/2016todas_demonstracoes_concatenadas.csv',\n",
       " '/opt/DADOS_ANS_RESUMIDO/todas_demonstracoes_por_ano/2017todas_demonstracoes_concatenadas.csv']"
      ]
     },
     "execution_count": 74,
     "metadata": {},
     "output_type": "execute_result"
    }
   ],
   "source": [
    "lista_arquivos"
   ]
  },
  {
   "cell_type": "code",
   "execution_count": 84,
   "metadata": {},
   "outputs": [],
   "source": [
    "def gerar_arquivos_por_ano(nome_arquivo,data,nome_arquivo_gerado):\n",
    "    print(\"EXecutando para\",nome_arquivo)\n",
    "    data.insert(loc=6, column='ATIVO', value=0.0)\n",
    "    data.insert(loc=7, column='ATIVO_CIRCULANTE', value=0.0)\n",
    "    data.insert(loc=8, column='PPSC', value=0.0)\n",
    "    data.insert(loc=9, column='CREDITO_OPER_PS', value=0.0)\n",
    "    data.insert(loc=10, column='PASSIVO', value=0.0)\n",
    "    data.insert(loc=11, column='PASSIVO_CIRCULANTE', value=0.0)\n",
    "    data.insert(loc=12, column='PASSIVO_NAO_CIRCULANTE', value=0.0)\n",
    "    data.insert(loc=13, column='PESL', value=0.0)\n",
    "    data.insert(loc=14, column='PL', value=0.0)\n",
    "    data.insert(loc=15, column='RECEITA', value=0.0)\n",
    "    data.insert(loc=16, column='CONTRAPRESTACAO_PRE', value=0.0)\n",
    "    data.insert(loc=17, column='CONTRAPRESTACAO_POS', value=0.0)\n",
    "    data.insert(loc=18, column='CORRESP_CEDIDA_PRE', value=0.0)\n",
    "    data.insert(loc=19, column='CORRESP_CEDIDA_POS', value=0.0)\n",
    "    data.insert(loc=20, column='DESPESA', value=0.0)\n",
    "    data.insert(loc=21, column='EVENTOS_INDENIZAVEIS_PRE', value=0.0)\n",
    "    data.insert(loc=22, column='EVENTOS_INDENIZAVEIS_POS', value=0.0)\n",
    "    data.insert(loc=23, column='VARIACAO_PEONA', value=0.0)\n",
    "    data.insert(loc=24, column='DESPESA_COM', value=0.0)\n",
    "    data.insert(loc=25, column='DESPESA_ADM', value=0.0)\n",
    "    data['CD_CONTA_CONTABIL'] = data['CD_CONTA_CONTABIL'].str.ljust(width=13, fillchar=' ')\n",
    "    data['VL_SALDO_FINAL'] = data['VL_SALDO_FINAL'].str.replace(pat=',', repl='.').astype(float)\n",
    "    data = data.set_index(\"CHAVE\")\n",
    "    data = data.sort_values(by=[\"REG_ANS\",\"ANO\",\"SEMESTRE\",\"CD_CONTA_CONTABIL\"])\n",
    "    data.insert(loc=0, column='pos', value=np.arange(len(data)))\n",
    "    data_test = data.apply(process,axis=1)\n",
    "    data_test.drop(columns=['pos'],inplace=True)\n",
    "    data_test.to_csv(nome_arquivo_gerado, dtype=str)"
   ]
  },
  {
   "cell_type": "code",
   "execution_count": null,
   "metadata": {},
   "outputs": [
    {
     "name": "stdout",
     "output_type": "stream",
     "text": [
      "EXecutando para /opt/DADOS_ANS_RESUMIDO/todas_demonstracoes_por_ano/2010todas_demonstracoes_concatenadas.csv\n",
      "Processado 0 de 690080\n",
      "Processado 0 de 690080\n",
      "Processado 1000 de 690080\n",
      "Processado 2000 de 690080\n",
      "Processado 3000 de 690080\n",
      "Processado 4000 de 690080\n",
      "Processado 5000 de 690080\n",
      "Processado 6000 de 690080\n",
      "Processado 7000 de 690080\n",
      "Processado 8000 de 690080\n",
      "Processado 9000 de 690080\n",
      "Processado 10000 de 690080\n",
      "Processado 11000 de 690080\n",
      "Processado 12000 de 690080\n",
      "Processado 13000 de 690080\n",
      "Processado 14000 de 690080\n",
      "Processado 15000 de 690080\n",
      "Processado 16000 de 690080\n",
      "Processado 17000 de 690080\n",
      "Processado 18000 de 690080\n",
      "Processado 19000 de 690080\n",
      "Processado 20000 de 690080\n",
      "Processado 21000 de 690080\n",
      "Processado 22000 de 690080\n",
      "Processado 23000 de 690080\n",
      "Processado 24000 de 690080\n",
      "Processado 25000 de 690080\n",
      "Processado 26000 de 690080\n"
     ]
    }
   ],
   "source": [
    "for _arquivo in lista_arquivos[:1]:\n",
    "    nome_arquivo_gerado = \"ok.\"+_arquivo[_arquivo.rfind('/')+1:]\n",
    "    data = pd.read_csv(_arquivo,dtype=str)\n",
    "    gerar_arquivos_por_ano(_arquivo,data,nome_arquivo_gerado)"
   ]
  },
  {
   "cell_type": "markdown",
   "metadata": {},
   "source": [
    "#### qgrid.show_grid(data)"
   ]
  },
  {
   "cell_type": "code",
   "execution_count": 207,
   "metadata": {},
   "outputs": [],
   "source": [
    "# data.to_feather(fname='data_processed.feather')"
   ]
  },
  {
   "cell_type": "code",
   "execution_count": 208,
   "metadata": {},
   "outputs": [],
   "source": [
    "# data"
   ]
  },
  {
   "cell_type": "code",
   "execution_count": null,
   "metadata": {},
   "outputs": [],
   "source": []
  }
 ],
 "metadata": {
  "kernelspec": {
   "display_name": "Python 3",
   "language": "python",
   "name": "python3"
  },
  "language_info": {
   "codemirror_mode": {
    "name": "ipython",
    "version": 3
   },
   "file_extension": ".py",
   "mimetype": "text/x-python",
   "name": "python",
   "nbconvert_exporter": "python",
   "pygments_lexer": "ipython3",
   "version": "3.7.4"
  }
 },
 "nbformat": 4,
 "nbformat_minor": 4
}
