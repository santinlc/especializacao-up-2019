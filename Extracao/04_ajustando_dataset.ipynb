{
 "cells": [
  {
   "cell_type": "code",
   "execution_count": 20,
   "metadata": {},
   "outputs": [],
   "source": [
    "import pandas as pd"
   ]
  },
  {
   "cell_type": "code",
   "execution_count": 21,
   "metadata": {},
   "outputs": [],
   "source": [
    "import configparser\n",
    "\n",
    "config = configparser.RawConfigParser()\n",
    "config.read('parametros.config')\n",
    "PARAMETROS_GERAIS = dict(config.items('Geral'))"
   ]
  },
  {
   "cell_type": "code",
   "execution_count": 22,
   "metadata": {},
   "outputs": [],
   "source": [
    "ARQUIVO_TODAS_DEMONSTRACOES = PARAMETROS_GERAIS['pasta_raiz_dados']+PARAMETROS_GERAIS['arquivo_final_todas_demonstracoes']"
   ]
  },
  {
   "cell_type": "code",
   "execution_count": 23,
   "metadata": {},
   "outputs": [
    {
     "data": {
      "text/plain": [
       "'/opt/DADOS_ANS5/todas_demonstracoes_concatenadas.csv'"
      ]
     },
     "execution_count": 23,
     "metadata": {},
     "output_type": "execute_result"
    }
   ],
   "source": [
    "ARQUIVO_TODAS_DEMONSTRACOES"
   ]
  },
  {
   "cell_type": "code",
   "execution_count": 24,
   "metadata": {},
   "outputs": [],
   "source": [
    "df_todas_demonstracoes = pd.read_csv(ARQUIVO_TODAS_DEMONSTRACOES,encoding=\"ISO-8859-1\")"
   ]
  },
  {
   "cell_type": "code",
   "execution_count": 25,
   "metadata": {},
   "outputs": [],
   "source": [
    "df_operadoras = pd.read_csv('http://ftp.dadosabertos.ans.gov.br/FTP/PDA/operadoras_de_plano_de_saude_ativas/Relatorio_cadop.csv',sep=\";\",encoding=\"ISO-8859-1\")"
   ]
  },
  {
   "cell_type": "code",
   "execution_count": 26,
   "metadata": {},
   "outputs": [
    {
     "data": {
      "text/plain": [
       "array(['Administradora de Benefícios', 'Odontologia de Grupo',\n",
       "       'Medicina de Grupo', 'Autogestão',\n",
       "       'Seguradora Especializada em Saúde', 'Filantropia',\n",
       "       'Cooperativa Médica', 'Cooperativa odontológica'], dtype=object)"
      ]
     },
     "execution_count": 26,
     "metadata": {},
     "output_type": "execute_result"
    }
   ],
   "source": [
    "df_operadoras['Modalidade'].unique()"
   ]
  },
  {
   "cell_type": "code",
   "execution_count": 27,
   "metadata": {},
   "outputs": [],
   "source": [
    "df_operadoras = df_operadoras[df_operadoras['Modalidade'] == 'Cooperativa Médica']"
   ]
  },
  {
   "cell_type": "code",
   "execution_count": 28,
   "metadata": {},
   "outputs": [
    {
     "data": {
      "text/plain": [
       "283"
      ]
     },
     "execution_count": 28,
     "metadata": {},
     "output_type": "execute_result"
    }
   ],
   "source": [
    "len(df_operadoras)"
   ]
  },
  {
   "cell_type": "code",
   "execution_count": 29,
   "metadata": {},
   "outputs": [],
   "source": [
    "lista_operadoras = df_operadoras['Registro_ANS'].unique()"
   ]
  },
  {
   "cell_type": "code",
   "execution_count": 30,
   "metadata": {},
   "outputs": [],
   "source": [
    "df_todas_demonstracoes = df_todas_demonstracoes[df_todas_demonstracoes['REG_ANS'].isin(lista_operadoras)]"
   ]
  },
  {
   "cell_type": "code",
   "execution_count": 31,
   "metadata": {},
   "outputs": [
    {
     "data": {
      "text/plain": [
       "7249"
      ]
     },
     "execution_count": 31,
     "metadata": {},
     "output_type": "execute_result"
    }
   ],
   "source": [
    "len(df_todas_demonstracoes)"
   ]
  },
  {
   "cell_type": "code",
   "execution_count": 32,
   "metadata": {},
   "outputs": [],
   "source": [
    "LISTA_OPERADORAS_PARA_REMOVER = [328031,357138,316741]"
   ]
  },
  {
   "cell_type": "code",
   "execution_count": 33,
   "metadata": {},
   "outputs": [],
   "source": [
    "df_todas_demonstracoes = df_todas_demonstracoes[~df_todas_demonstracoes['REG_ANS'].isin(LISTA_OPERADORAS_PARA_REMOVER)]"
   ]
  },
  {
   "cell_type": "code",
   "execution_count": 34,
   "metadata": {},
   "outputs": [
    {
     "data": {
      "text/plain": [
       "280"
      ]
     },
     "execution_count": 34,
     "metadata": {},
     "output_type": "execute_result"
    }
   ],
   "source": [
    "len(df_todas_demonstracoes['REG_ANS'].unique())"
   ]
  },
  {
   "cell_type": "code",
   "execution_count": 35,
   "metadata": {},
   "outputs": [],
   "source": [
    "df_todas_demonstracoes.to_csv(ARQUIVO_TODAS_DEMONSTRACOES,encoding=\"ISO-8859-1\",index=False,float_format=\"%.2f\")"
   ]
  },
  {
   "cell_type": "code",
   "execution_count": 36,
   "metadata": {},
   "outputs": [
    {
     "data": {
      "text/html": [
       "<div>\n",
       "<style scoped>\n",
       "    .dataframe tbody tr th:only-of-type {\n",
       "        vertical-align: middle;\n",
       "    }\n",
       "\n",
       "    .dataframe tbody tr th {\n",
       "        vertical-align: top;\n",
       "    }\n",
       "\n",
       "    .dataframe thead th {\n",
       "        text-align: right;\n",
       "    }\n",
       "</style>\n",
       "<table border=\"1\" class=\"dataframe\">\n",
       "  <thead>\n",
       "    <tr style=\"text-align: right;\">\n",
       "      <th></th>\n",
       "      <th>REG_ANS</th>\n",
       "      <th>ANO</th>\n",
       "      <th>TRIMESTRE</th>\n",
       "      <th>PERIODO</th>\n",
       "      <th>DESPESA DE COMERCIALIZAÇÃO DIFERIDA</th>\n",
       "      <th>ATIVO NÃO CIRCULANTE INTANGÍVEL</th>\n",
       "      <th>DESPESAS ANTECIPADAS</th>\n",
       "      <th>CRÉDITO TRIBUTÁRIO</th>\n",
       "      <th>PARTICIPAÇÕES OPS</th>\n",
       "      <th>PARTICIPAÇÕES INSTITUIÇÕES REGULADAS</th>\n",
       "      <th>...</th>\n",
       "      <th>CONTRAPRESTACAO_PRE</th>\n",
       "      <th>RECEITA_COM_ASSISTENCIA_A_SAUDE</th>\n",
       "      <th>PL</th>\n",
       "      <th>PASSIVO_NAO_CIRCULANTE</th>\n",
       "      <th>PASSIVO_CIRCULANTE</th>\n",
       "      <th>PASSIVO</th>\n",
       "      <th>CREDITO_OPER_PS</th>\n",
       "      <th>ATIVO_CIRCULANTE</th>\n",
       "      <th>ATIVO</th>\n",
       "      <th>beneficiarios</th>\n",
       "    </tr>\n",
       "  </thead>\n",
       "  <tbody>\n",
       "    <tr>\n",
       "      <td>count</td>\n",
       "      <td>7223.000000</td>\n",
       "      <td>7223.000000</td>\n",
       "      <td>7223.000000</td>\n",
       "      <td>7223.000000</td>\n",
       "      <td>7.223000e+03</td>\n",
       "      <td>7.223000e+03</td>\n",
       "      <td>7.223000e+03</td>\n",
       "      <td>7.223000e+03</td>\n",
       "      <td>7.223000e+03</td>\n",
       "      <td>7.223000e+03</td>\n",
       "      <td>...</td>\n",
       "      <td>7.223000e+03</td>\n",
       "      <td>7.223000e+03</td>\n",
       "      <td>7.223000e+03</td>\n",
       "      <td>7.223000e+03</td>\n",
       "      <td>7.223000e+03</td>\n",
       "      <td>7.223000e+03</td>\n",
       "      <td>7.223000e+03</td>\n",
       "      <td>7.223000e+03</td>\n",
       "      <td>7.223000e+03</td>\n",
       "      <td>7.223000e+03</td>\n",
       "    </tr>\n",
       "    <tr>\n",
       "      <td>mean</td>\n",
       "      <td>338229.494531</td>\n",
       "      <td>2015.795376</td>\n",
       "      <td>2.461996</td>\n",
       "      <td>201581.999585</td>\n",
       "      <td>1.286782e+05</td>\n",
       "      <td>1.217068e+06</td>\n",
       "      <td>1.735163e+05</td>\n",
       "      <td>5.431006e+05</td>\n",
       "      <td>2.773709e+05</td>\n",
       "      <td>5.142300e+05</td>\n",
       "      <td>...</td>\n",
       "      <td>1.060532e+08</td>\n",
       "      <td>1.112756e+08</td>\n",
       "      <td>3.092746e+07</td>\n",
       "      <td>2.673647e+07</td>\n",
       "      <td>4.633063e+07</td>\n",
       "      <td>1.039946e+08</td>\n",
       "      <td>9.083179e+06</td>\n",
       "      <td>5.990365e+07</td>\n",
       "      <td>1.047900e+08</td>\n",
       "      <td>6.273994e+04</td>\n",
       "    </tr>\n",
       "    <tr>\n",
       "      <td>std</td>\n",
       "      <td>23591.790460</td>\n",
       "      <td>1.939316</td>\n",
       "      <td>1.117403</td>\n",
       "      <td>193.863144</td>\n",
       "      <td>1.053831e+06</td>\n",
       "      <td>7.333313e+06</td>\n",
       "      <td>5.362720e+05</td>\n",
       "      <td>6.764287e+06</td>\n",
       "      <td>1.098049e+06</td>\n",
       "      <td>1.518223e+06</td>\n",
       "      <td>...</td>\n",
       "      <td>3.061747e+08</td>\n",
       "      <td>3.165777e+08</td>\n",
       "      <td>1.097253e+08</td>\n",
       "      <td>7.531951e+07</td>\n",
       "      <td>1.262022e+08</td>\n",
       "      <td>2.336165e+08</td>\n",
       "      <td>2.697328e+07</td>\n",
       "      <td>1.256454e+08</td>\n",
       "      <td>2.353089e+08</td>\n",
       "      <td>1.495961e+05</td>\n",
       "    </tr>\n",
       "    <tr>\n",
       "      <td>min</td>\n",
       "      <td>300136.000000</td>\n",
       "      <td>2013.000000</td>\n",
       "      <td>1.000000</td>\n",
       "      <td>201301.000000</td>\n",
       "      <td>0.000000e+00</td>\n",
       "      <td>0.000000e+00</td>\n",
       "      <td>0.000000e+00</td>\n",
       "      <td>0.000000e+00</td>\n",
       "      <td>0.000000e+00</td>\n",
       "      <td>0.000000e+00</td>\n",
       "      <td>...</td>\n",
       "      <td>-8.718595e+04</td>\n",
       "      <td>-1.046248e+07</td>\n",
       "      <td>-1.206356e+09</td>\n",
       "      <td>0.000000e+00</td>\n",
       "      <td>2.149010e+05</td>\n",
       "      <td>5.925331e+05</td>\n",
       "      <td>0.000000e+00</td>\n",
       "      <td>4.958303e+05</td>\n",
       "      <td>5.925331e+05</td>\n",
       "      <td>0.000000e+00</td>\n",
       "    </tr>\n",
       "    <tr>\n",
       "      <td>25%</td>\n",
       "      <td>318213.000000</td>\n",
       "      <td>2014.000000</td>\n",
       "      <td>1.000000</td>\n",
       "      <td>201403.000000</td>\n",
       "      <td>0.000000e+00</td>\n",
       "      <td>1.405195e+04</td>\n",
       "      <td>2.112030e+03</td>\n",
       "      <td>0.000000e+00</td>\n",
       "      <td>0.000000e+00</td>\n",
       "      <td>0.000000e+00</td>\n",
       "      <td>...</td>\n",
       "      <td>1.163351e+07</td>\n",
       "      <td>1.243270e+07</td>\n",
       "      <td>5.724317e+06</td>\n",
       "      <td>2.338844e+06</td>\n",
       "      <td>6.702189e+06</td>\n",
       "      <td>1.801251e+07</td>\n",
       "      <td>9.759225e+05</td>\n",
       "      <td>1.181122e+07</td>\n",
       "      <td>1.825312e+07</td>\n",
       "      <td>1.058500e+04</td>\n",
       "    </tr>\n",
       "    <tr>\n",
       "      <td>50%</td>\n",
       "      <td>337498.000000</td>\n",
       "      <td>2016.000000</td>\n",
       "      <td>3.000000</td>\n",
       "      <td>201601.000000</td>\n",
       "      <td>0.000000e+00</td>\n",
       "      <td>8.385434e+04</td>\n",
       "      <td>1.965369e+04</td>\n",
       "      <td>0.000000e+00</td>\n",
       "      <td>0.000000e+00</td>\n",
       "      <td>0.000000e+00</td>\n",
       "      <td>...</td>\n",
       "      <td>2.895224e+07</td>\n",
       "      <td>3.090139e+07</td>\n",
       "      <td>1.223485e+07</td>\n",
       "      <td>6.796909e+06</td>\n",
       "      <td>1.481888e+07</td>\n",
       "      <td>3.590274e+07</td>\n",
       "      <td>2.747314e+06</td>\n",
       "      <td>2.299560e+07</td>\n",
       "      <td>3.613341e+07</td>\n",
       "      <td>2.280300e+04</td>\n",
       "    </tr>\n",
       "    <tr>\n",
       "      <td>75%</td>\n",
       "      <td>354678.000000</td>\n",
       "      <td>2017.000000</td>\n",
       "      <td>3.000000</td>\n",
       "      <td>201704.000000</td>\n",
       "      <td>0.000000e+00</td>\n",
       "      <td>4.158177e+05</td>\n",
       "      <td>1.025360e+05</td>\n",
       "      <td>0.000000e+00</td>\n",
       "      <td>0.000000e+00</td>\n",
       "      <td>3.017042e+05</td>\n",
       "      <td>...</td>\n",
       "      <td>7.856700e+07</td>\n",
       "      <td>8.162642e+07</td>\n",
       "      <td>2.862860e+07</td>\n",
       "      <td>2.088270e+07</td>\n",
       "      <td>3.671324e+07</td>\n",
       "      <td>9.003774e+07</td>\n",
       "      <td>7.259244e+06</td>\n",
       "      <td>5.060235e+07</td>\n",
       "      <td>9.148065e+07</td>\n",
       "      <td>5.430000e+04</td>\n",
       "    </tr>\n",
       "    <tr>\n",
       "      <td>max</td>\n",
       "      <td>417092.000000</td>\n",
       "      <td>2019.000000</td>\n",
       "      <td>4.000000</td>\n",
       "      <td>201903.000000</td>\n",
       "      <td>2.374038e+07</td>\n",
       "      <td>2.222644e+08</td>\n",
       "      <td>1.717517e+07</td>\n",
       "      <td>2.672333e+08</td>\n",
       "      <td>2.413293e+07</td>\n",
       "      <td>1.969104e+07</td>\n",
       "      <td>...</td>\n",
       "      <td>5.128989e+09</td>\n",
       "      <td>5.082689e+09</td>\n",
       "      <td>2.129066e+09</td>\n",
       "      <td>1.223358e+09</td>\n",
       "      <td>2.071833e+09</td>\n",
       "      <td>3.517182e+09</td>\n",
       "      <td>6.706496e+08</td>\n",
       "      <td>1.688575e+09</td>\n",
       "      <td>3.517182e+09</td>\n",
       "      <td>1.779328e+06</td>\n",
       "    </tr>\n",
       "  </tbody>\n",
       "</table>\n",
       "<p>8 rows × 46 columns</p>\n",
       "</div>"
      ],
      "text/plain": [
       "             REG_ANS          ANO    TRIMESTRE        PERIODO  \\\n",
       "count    7223.000000  7223.000000  7223.000000    7223.000000   \n",
       "mean   338229.494531  2015.795376     2.461996  201581.999585   \n",
       "std     23591.790460     1.939316     1.117403     193.863144   \n",
       "min    300136.000000  2013.000000     1.000000  201301.000000   \n",
       "25%    318213.000000  2014.000000     1.000000  201403.000000   \n",
       "50%    337498.000000  2016.000000     3.000000  201601.000000   \n",
       "75%    354678.000000  2017.000000     3.000000  201704.000000   \n",
       "max    417092.000000  2019.000000     4.000000  201903.000000   \n",
       "\n",
       "       DESPESA DE COMERCIALIZAÇÃO DIFERIDA  ATIVO NÃO CIRCULANTE INTANGÍVEL  \\\n",
       "count                         7.223000e+03                     7.223000e+03   \n",
       "mean                          1.286782e+05                     1.217068e+06   \n",
       "std                           1.053831e+06                     7.333313e+06   \n",
       "min                           0.000000e+00                     0.000000e+00   \n",
       "25%                           0.000000e+00                     1.405195e+04   \n",
       "50%                           0.000000e+00                     8.385434e+04   \n",
       "75%                           0.000000e+00                     4.158177e+05   \n",
       "max                           2.374038e+07                     2.222644e+08   \n",
       "\n",
       "       DESPESAS ANTECIPADAS  CRÉDITO TRIBUTÁRIO  PARTICIPAÇÕES OPS  \\\n",
       "count          7.223000e+03        7.223000e+03       7.223000e+03   \n",
       "mean           1.735163e+05        5.431006e+05       2.773709e+05   \n",
       "std            5.362720e+05        6.764287e+06       1.098049e+06   \n",
       "min            0.000000e+00        0.000000e+00       0.000000e+00   \n",
       "25%            2.112030e+03        0.000000e+00       0.000000e+00   \n",
       "50%            1.965369e+04        0.000000e+00       0.000000e+00   \n",
       "75%            1.025360e+05        0.000000e+00       0.000000e+00   \n",
       "max            1.717517e+07        2.672333e+08       2.413293e+07   \n",
       "\n",
       "       PARTICIPAÇÕES INSTITUIÇÕES REGULADAS  ...  CONTRAPRESTACAO_PRE  \\\n",
       "count                          7.223000e+03  ...         7.223000e+03   \n",
       "mean                           5.142300e+05  ...         1.060532e+08   \n",
       "std                            1.518223e+06  ...         3.061747e+08   \n",
       "min                            0.000000e+00  ...        -8.718595e+04   \n",
       "25%                            0.000000e+00  ...         1.163351e+07   \n",
       "50%                            0.000000e+00  ...         2.895224e+07   \n",
       "75%                            3.017042e+05  ...         7.856700e+07   \n",
       "max                            1.969104e+07  ...         5.128989e+09   \n",
       "\n",
       "       RECEITA_COM_ASSISTENCIA_A_SAUDE            PL  PASSIVO_NAO_CIRCULANTE  \\\n",
       "count                     7.223000e+03  7.223000e+03            7.223000e+03   \n",
       "mean                      1.112756e+08  3.092746e+07            2.673647e+07   \n",
       "std                       3.165777e+08  1.097253e+08            7.531951e+07   \n",
       "min                      -1.046248e+07 -1.206356e+09            0.000000e+00   \n",
       "25%                       1.243270e+07  5.724317e+06            2.338844e+06   \n",
       "50%                       3.090139e+07  1.223485e+07            6.796909e+06   \n",
       "75%                       8.162642e+07  2.862860e+07            2.088270e+07   \n",
       "max                       5.082689e+09  2.129066e+09            1.223358e+09   \n",
       "\n",
       "       PASSIVO_CIRCULANTE       PASSIVO  CREDITO_OPER_PS  ATIVO_CIRCULANTE  \\\n",
       "count        7.223000e+03  7.223000e+03     7.223000e+03      7.223000e+03   \n",
       "mean         4.633063e+07  1.039946e+08     9.083179e+06      5.990365e+07   \n",
       "std          1.262022e+08  2.336165e+08     2.697328e+07      1.256454e+08   \n",
       "min          2.149010e+05  5.925331e+05     0.000000e+00      4.958303e+05   \n",
       "25%          6.702189e+06  1.801251e+07     9.759225e+05      1.181122e+07   \n",
       "50%          1.481888e+07  3.590274e+07     2.747314e+06      2.299560e+07   \n",
       "75%          3.671324e+07  9.003774e+07     7.259244e+06      5.060235e+07   \n",
       "max          2.071833e+09  3.517182e+09     6.706496e+08      1.688575e+09   \n",
       "\n",
       "              ATIVO  beneficiarios  \n",
       "count  7.223000e+03   7.223000e+03  \n",
       "mean   1.047900e+08   6.273994e+04  \n",
       "std    2.353089e+08   1.495961e+05  \n",
       "min    5.925331e+05   0.000000e+00  \n",
       "25%    1.825312e+07   1.058500e+04  \n",
       "50%    3.613341e+07   2.280300e+04  \n",
       "75%    9.148065e+07   5.430000e+04  \n",
       "max    3.517182e+09   1.779328e+06  \n",
       "\n",
       "[8 rows x 46 columns]"
      ]
     },
     "execution_count": 36,
     "metadata": {},
     "output_type": "execute_result"
    }
   ],
   "source": [
    "df_todas_demonstracoes.describe()"
   ]
  }
 ],
 "metadata": {
  "kernelspec": {
   "display_name": "Python 3",
   "language": "python",
   "name": "python3"
  },
  "language_info": {
   "codemirror_mode": {
    "name": "ipython",
    "version": 3
   },
   "file_extension": ".py",
   "mimetype": "text/x-python",
   "name": "python",
   "nbconvert_exporter": "python",
   "pygments_lexer": "ipython3",
   "version": "3.7.4"
  }
 },
 "nbformat": 4,
 "nbformat_minor": 4
}
