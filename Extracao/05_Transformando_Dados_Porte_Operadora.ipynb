{
 "cells": [
  {
   "cell_type": "code",
   "execution_count": null,
   "metadata": {},
   "outputs": [],
   "source": [
    "import pandas as pd"
   ]
  },
  {
   "cell_type": "code",
   "execution_count": null,
   "metadata": {},
   "outputs": [],
   "source": [
    "df = pd.read_csv(\"../entrada/Porte_Operadoras_Trimestre.csv\",skiprows=4,encoding=\"ISO-8859-1\",sep=\";\")"
   ]
  },
  {
   "cell_type": "code",
   "execution_count": null,
   "metadata": {},
   "outputs": [],
   "source": [
    "df.columns = ['Registro_ANS', 'Razão Social', 'B.2019.04', 'B.2019.03', 'B.2019.02','B.2019.01',\n",
    "                                              'B.2018.04', 'B.2018.03', 'B.2018.02', 'B.2018.01',\n",
    "                                              'B.2017.04','B.2017.03', 'B.2017.02', 'B.2017.01', \n",
    "                                              'B.2016.04', 'B.2016.03', 'B.2016.02','B.2016.01',\n",
    "                                              'B.2015.04', 'B.2015.03', 'B.2015.02','B.2015.01',\n",
    "                                              'B.2014.04','B.2014.03', 'B.2014.02', 'B.2014.01', \n",
    "                                              'B.2013.04', 'B.2013.03', 'B.2013.02','B.2013.01', \n",
    "                                              'B.2012.04', 'B.2012.03', 'B.2012.02', 'B.2012.01',\n",
    "                                              'B.2011.04','B.2011.03', 'B.2011.02', \n",
    "                                              'P.2019.04', 'P.2019.03', 'P.2019.02','P.2019.01', \n",
    "                                              'P.2018.04', 'P.2018.03', 'P.2018.02', 'P.2018.01',\n",
    "                                              'P.2017.04', 'P.2017.03', 'P.2017.02', 'P.2017.01', \n",
    "                                              'P.2016.04','P.2016.03', 'P.2016.02', 'P.2016.01',\n",
    "                                              'P.2015.04','P.2015.03','P.2015.02', 'P.2015.01', \n",
    "                                              'P.2014.04', 'P.2014.03','P.2014.02','P.2014.01', \n",
    "                                              'P.2013.04', 'P.2013.03', 'P.2013.02','P.2013.01',\n",
    "                                              'P.2012.04', 'P.2012.03', 'P.2012.02', 'P.2012.01', \n",
    "                                              'P.2011.04','P.2011.03', 'P.2011.02']"
   ]
  },
  {
   "cell_type": "code",
   "execution_count": null,
   "metadata": {},
   "outputs": [],
   "source": [
    "anos = range(2011,2020)\n",
    "trimestres = ['01','02','03','04']"
   ]
  },
  {
   "cell_type": "code",
   "execution_count": null,
   "metadata": {},
   "outputs": [],
   "source": [
    "lista_operadoras_final = []\n",
    "lista_operadoras = df['Registro_ANS'].unique().tolist()\n"
   ]
  },
  {
   "cell_type": "code",
   "execution_count": null,
   "metadata": {},
   "outputs": [],
   "source": [
    "for registro_ans in lista_operadoras:\n",
    "    lista_portes = []\n",
    "    df_registro = df[df['Registro_ANS'] == registro_ans]\n",
    "    for ano in anos:\n",
    "        for trimestre in trimestres:\n",
    "            dict_porte = {'Registro_ANS':registro_ans,\"ano\":ano,\"trimestre\":trimestre}\n",
    "#             Inserindo os befeficiarios\n",
    "            nome_coluna_beneficiarios = \"B.\"+str(ano)+\".\"+trimestre\n",
    "            if (nome_coluna_beneficiarios in df.columns.tolist()):\n",
    "                print(nome_coluna_beneficiarios,len(df_registro[nome_coluna_beneficiarios]))\n",
    "                dict_porte['beneficiarios'] = df_registro[nome_coluna_beneficiarios].sum()\n",
    "#             Inserindo os portes\n",
    "            nome_coluna_porte = \"P.\"+str(ano)+\".\"+trimestre\n",
    "            if (nome_coluna_porte in df.columns.tolist()):\n",
    "                print(nome_coluna_porte,len(df_registro[nome_coluna_porte]))\n",
    "                dict_porte['porte'] = df_registro[nome_coluna_porte].sum()\n",
    "            lista_portes.append(dict_porte)\n",
    "    lista_operadoras_final += lista_portes    "
   ]
  },
  {
   "cell_type": "code",
   "execution_count": null,
   "metadata": {},
   "outputs": [],
   "source": [
    "pd.DataFrame(lista_operadoras_final).to_csv(\"../entrada/porte_operadoras.csv\",encoding=\"ISO-8859-1\",index=False)"
   ]
  },
  {
   "cell_type": "code",
   "execution_count": null,
   "metadata": {},
   "outputs": [],
   "source": []
  }
 ],
 "metadata": {
  "kernelspec": {
   "display_name": "Python 3",
   "language": "python",
   "name": "python3"
  },
  "language_info": {
   "codemirror_mode": {
    "name": "ipython",
    "version": 3
   },
   "file_extension": ".py",
   "mimetype": "text/x-python",
   "name": "python",
   "nbconvert_exporter": "python",
   "pygments_lexer": "ipython3",
   "version": "3.7.4"
  }
 },
 "nbformat": 4,
 "nbformat_minor": 4
}
