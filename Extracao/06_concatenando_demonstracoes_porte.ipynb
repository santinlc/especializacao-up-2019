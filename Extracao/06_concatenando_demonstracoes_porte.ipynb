{
 "cells": [
  {
   "cell_type": "code",
   "execution_count": 12,
   "metadata": {},
   "outputs": [],
   "source": [
    "import pandas as pd"
   ]
  },
  {
   "cell_type": "code",
   "execution_count": 13,
   "metadata": {},
   "outputs": [],
   "source": [
    "import configparser\n",
    "\n",
    "config = configparser.RawConfigParser()\n",
    "config.read('parametros.config')\n",
    "PARAMETROS_GERAIS = dict(config.items('Geral'))"
   ]
  },
  {
   "cell_type": "code",
   "execution_count": 14,
   "metadata": {},
   "outputs": [],
   "source": [
    "ARQUIVO_TODAS_DEMONSTRACOES = PARAMETROS_GERAIS['pasta_raiz_dados']+PARAMETROS_GERAIS['arquivo_final_todas_demonstracoes']"
   ]
  },
  {
   "cell_type": "code",
   "execution_count": 15,
   "metadata": {},
   "outputs": [],
   "source": [
    "df_porte = pd.read_csv(\"../entrada/porte_operadoras.csv\",encoding=\"ISO-8859-1\")"
   ]
  },
  {
   "cell_type": "code",
   "execution_count": 16,
   "metadata": {},
   "outputs": [
    {
     "data": {
      "text/plain": [
       "11700"
      ]
     },
     "execution_count": 16,
     "metadata": {},
     "output_type": "execute_result"
    }
   ],
   "source": [
    "len(df_porte)"
   ]
  },
  {
   "cell_type": "code",
   "execution_count": 17,
   "metadata": {},
   "outputs": [],
   "source": [
    "df_demonstracoes = pd.read_csv(ARQUIVO_TODAS_DEMONSTRACOES,encoding=\"ISO-8859-1\")"
   ]
  },
  {
   "cell_type": "code",
   "execution_count": 18,
   "metadata": {},
   "outputs": [
    {
     "data": {
      "text/plain": [
       "7223"
      ]
     },
     "execution_count": 18,
     "metadata": {},
     "output_type": "execute_result"
    }
   ],
   "source": [
    "len(df_demonstracoes)"
   ]
  },
  {
   "cell_type": "code",
   "execution_count": 19,
   "metadata": {},
   "outputs": [
    {
     "data": {
      "text/html": [
       "<div>\n",
       "<style scoped>\n",
       "    .dataframe tbody tr th:only-of-type {\n",
       "        vertical-align: middle;\n",
       "    }\n",
       "\n",
       "    .dataframe tbody tr th {\n",
       "        vertical-align: top;\n",
       "    }\n",
       "\n",
       "    .dataframe thead th {\n",
       "        text-align: right;\n",
       "    }\n",
       "</style>\n",
       "<table border=\"1\" class=\"dataframe\">\n",
       "  <thead>\n",
       "    <tr style=\"text-align: right;\">\n",
       "      <th></th>\n",
       "      <th>Registro_ANS</th>\n",
       "      <th>ano</th>\n",
       "      <th>trimestre</th>\n",
       "      <th>beneficiarios</th>\n",
       "      <th>porte</th>\n",
       "    </tr>\n",
       "  </thead>\n",
       "  <tbody>\n",
       "    <tr>\n",
       "      <td>0</td>\n",
       "      <td>300136</td>\n",
       "      <td>2011</td>\n",
       "      <td>1</td>\n",
       "      <td>NaN</td>\n",
       "      <td>NaN</td>\n",
       "    </tr>\n",
       "    <tr>\n",
       "      <td>1</td>\n",
       "      <td>300136</td>\n",
       "      <td>2011</td>\n",
       "      <td>2</td>\n",
       "      <td>23133.0</td>\n",
       "      <td>Médio Porte</td>\n",
       "    </tr>\n",
       "    <tr>\n",
       "      <td>2</td>\n",
       "      <td>300136</td>\n",
       "      <td>2011</td>\n",
       "      <td>3</td>\n",
       "      <td>24097.0</td>\n",
       "      <td>Médio Porte</td>\n",
       "    </tr>\n",
       "    <tr>\n",
       "      <td>3</td>\n",
       "      <td>300136</td>\n",
       "      <td>2011</td>\n",
       "      <td>4</td>\n",
       "      <td>25344.0</td>\n",
       "      <td>Médio Porte</td>\n",
       "    </tr>\n",
       "    <tr>\n",
       "      <td>4</td>\n",
       "      <td>300136</td>\n",
       "      <td>2012</td>\n",
       "      <td>1</td>\n",
       "      <td>26469.0</td>\n",
       "      <td>Médio Porte</td>\n",
       "    </tr>\n",
       "  </tbody>\n",
       "</table>\n",
       "</div>"
      ],
      "text/plain": [
       "   Registro_ANS   ano  trimestre  beneficiarios        porte\n",
       "0        300136  2011          1            NaN          NaN\n",
       "1        300136  2011          2        23133.0  Médio Porte\n",
       "2        300136  2011          3        24097.0  Médio Porte\n",
       "3        300136  2011          4        25344.0  Médio Porte\n",
       "4        300136  2012          1        26469.0  Médio Porte"
      ]
     },
     "execution_count": 19,
     "metadata": {},
     "output_type": "execute_result"
    }
   ],
   "source": [
    "df_porte.head()"
   ]
  },
  {
   "cell_type": "code",
   "execution_count": 20,
   "metadata": {},
   "outputs": [],
   "source": [
    "df_temp = df_demonstracoes.merge(df_porte,left_on=['REG_ANS','ANO','TRIMESTRE'],\n",
    "                                right_on=['Registro_ANS','ano','trimestre'],\n",
    "                                  how=\"left\",copy=False)"
   ]
  },
  {
   "cell_type": "code",
   "execution_count": 21,
   "metadata": {},
   "outputs": [],
   "source": [
    "df_temp.drop(columns=['Registro_ANS','ano','trimestre'],inplace=True)"
   ]
  },
  {
   "cell_type": "code",
   "execution_count": 22,
   "metadata": {},
   "outputs": [
    {
     "name": "stdout",
     "output_type": "stream",
     "text": [
      "Arquivo final gerado em:  /opt/DADOS_ANS5/todas_demonstracoes_concatenadas.csv\n"
     ]
    }
   ],
   "source": [
    "df_temp.to_csv(ARQUIVO_TODAS_DEMONSTRACOES,index=False, encoding=\"ISO-8859-1\")\n",
    "print(\"Arquivo final gerado em: \",ARQUIVO_TODAS_DEMONSTRACOES)"
   ]
  },
  {
   "cell_type": "code",
   "execution_count": null,
   "metadata": {},
   "outputs": [],
   "source": []
  }
 ],
 "metadata": {
  "kernelspec": {
   "display_name": "Python 3",
   "language": "python",
   "name": "python3"
  },
  "language_info": {
   "codemirror_mode": {
    "name": "ipython",
    "version": 3
   },
   "file_extension": ".py",
   "mimetype": "text/x-python",
   "name": "python",
   "nbconvert_exporter": "python",
   "pygments_lexer": "ipython3",
   "version": "3.7.4"
  }
 },
 "nbformat": 4,
 "nbformat_minor": 4
}
