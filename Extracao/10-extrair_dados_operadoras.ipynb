{
 "cells": [
  {
   "cell_type": "code",
   "execution_count": 1,
   "metadata": {},
   "outputs": [],
   "source": [
    "import pandas as pd \n",
    "import requests\n",
    "import os\n",
    "import urllib.request"
   ]
  },
  {
   "cell_type": "code",
   "execution_count": 2,
   "metadata": {},
   "outputs": [],
   "source": [
    "import configparser\n",
    "\n",
    "config = configparser.RawConfigParser()\n",
    "config.read('parametros.config')\n",
    "\n",
    "PARAMETROS = dict(config.items('Extracao_Dados_Operadoras'))\n",
    "PARAMETROS_GERAIS = dict(config.items('Geral'))"
   ]
  },
  {
   "cell_type": "code",
   "execution_count": 3,
   "metadata": {},
   "outputs": [],
   "source": [
    "CAMINHO_ARQUIVOS = PARAMETROS_GERAIS['pasta_raiz_dados']+PARAMETROS['caminho_arquivo_download']"
   ]
  },
  {
   "cell_type": "code",
   "execution_count": 4,
   "metadata": {},
   "outputs": [],
   "source": [
    "NOME_ARQUIVO_DOWNLOAD = CAMINHO_ARQUIVOS+\"caracteristicas_produtos_saude_suplementar.csv\"\n",
    "NOME_ARQUIVO_FINAL = CAMINHO_ARQUIVOS+PARAMETROS['nome_arquivo_final']"
   ]
  },
  {
   "cell_type": "code",
   "execution_count": 5,
   "metadata": {},
   "outputs": [
    {
     "data": {
      "text/plain": [
       "{'caminho_arquivo_download': 'DADOS_OPERADORAS/',\n",
       " 'url_csv': 'http://ftp.dadosabertos.ans.gov.br/FTP/PDA/caracteristicas_produtos_saude_suplementar/caracteristicas_produtos_saude_suplementar.csv',\n",
       " 'nome_arquivo_final': 'dados_operadoras.csv',\n",
       " 'url_csv_operadoras_ativas': 'http://ftp.dadosabertos.ans.gov.br/FTP/PDA/operadoras_de_plano_de_saude_ativas/Relatorio_cadop.csv'}"
      ]
     },
     "execution_count": 5,
     "metadata": {},
     "output_type": "execute_result"
    }
   ],
   "source": [
    "PARAMETROS"
   ]
  },
  {
   "cell_type": "code",
   "execution_count": 6,
   "metadata": {},
   "outputs": [
    {
     "data": {
      "text/plain": [
       "{'pasta_raiz_dados': '/opt/DADOS_ANS/'}"
      ]
     },
     "execution_count": 6,
     "metadata": {},
     "output_type": "execute_result"
    }
   ],
   "source": [
    "PARAMETROS_GERAIS"
   ]
  },
  {
   "cell_type": "code",
   "execution_count": 7,
   "metadata": {},
   "outputs": [],
   "source": [
    "if (not(os.path.exists(CAMINHO_ARQUIVOS))):\n",
    "    os.mkdir(CAMINHO_ARQUIVOS)"
   ]
  },
  {
   "cell_type": "code",
   "execution_count": 8,
   "metadata": {},
   "outputs": [
    {
     "data": {
      "text/plain": [
       "('/opt/DADOS_ANS/DADOS_OPERADORAS/caracteristicas_produtos_saude_suplementar.csv',\n",
       " <http.client.HTTPMessage at 0x7f7070c295f8>)"
      ]
     },
     "execution_count": 8,
     "metadata": {},
     "output_type": "execute_result"
    }
   ],
   "source": [
    "urllib.request.urlretrieve(PARAMETROS['url_csv'], NOME_ARQUIVO_DOWNLOAD)"
   ]
  },
  {
   "cell_type": "code",
   "execution_count": 9,
   "metadata": {},
   "outputs": [],
   "source": [
    "df = pd.read_csv(NOME_ARQUIVO_DOWNLOAD,sep=\";\",encoding=\"ISO-8859-1\",dtype=str)"
   ]
  },
  {
   "cell_type": "code",
   "execution_count": 10,
   "metadata": {},
   "outputs": [
    {
     "data": {
      "text/html": [
       "<div>\n",
       "<style scoped>\n",
       "    .dataframe tbody tr th:only-of-type {\n",
       "        vertical-align: middle;\n",
       "    }\n",
       "\n",
       "    .dataframe tbody tr th {\n",
       "        vertical-align: top;\n",
       "    }\n",
       "\n",
       "    .dataframe thead th {\n",
       "        text-align: right;\n",
       "    }\n",
       "</style>\n",
       "<table border=\"1\" class=\"dataframe\">\n",
       "  <thead>\n",
       "    <tr style=\"text-align: right;\">\n",
       "      <th></th>\n",
       "      <th>#id_plano</th>\n",
       "      <th>Cd_Plano</th>\n",
       "      <th>Nome_Plano</th>\n",
       "      <th>Registro_ANS</th>\n",
       "      <th>Razao_Social</th>\n",
       "      <th>Nome_Fantasia</th>\n",
       "      <th>Codigo_Modalidade</th>\n",
       "      <th>Porte_Operadora</th>\n",
       "      <th>Vigencia_Plano</th>\n",
       "      <th>Codigo_Contratacao</th>\n",
       "      <th>...</th>\n",
       "      <th>Grupo_Segmentacao_Assistencial</th>\n",
       "      <th>Cobertura</th>\n",
       "      <th>Tipo_Financiamento</th>\n",
       "      <th>Codigo_Abrangencia_Cobertura</th>\n",
       "      <th>Fator_Moderador</th>\n",
       "      <th>Log_Fator_Moderador</th>\n",
       "      <th>Acomodacao_Hospitalar</th>\n",
       "      <th>ID_Situacao_Plano</th>\n",
       "      <th>Data_Situacao_Plano</th>\n",
       "      <th>Data_Registro_Plano</th>\n",
       "    </tr>\n",
       "  </thead>\n",
       "  <tbody>\n",
       "    <tr>\n",
       "      <th>0</th>\n",
       "      <td>1335931</td>\n",
       "      <td>401404989</td>\n",
       "      <td>EXECUTIVO II</td>\n",
       "      <td>000477</td>\n",
       "      <td>SOMPO SAÚDE SEGUROS S.A.</td>\n",
       "      <td>NaN</td>\n",
       "      <td>28</td>\n",
       "      <td>MÉDIA</td>\n",
       "      <td>P</td>\n",
       "      <td>2</td>\n",
       "      <td>...</td>\n",
       "      <td>AMB + HOSP C/ OBST</td>\n",
       "      <td>MÉDICO-HOSPITALAR</td>\n",
       "      <td>Pre-estabelecido</td>\n",
       "      <td>4</td>\n",
       "      <td>CO-PARTICIPACÃO</td>\n",
       "      <td>1</td>\n",
       "      <td>INDIVIDUAL</td>\n",
       "      <td>ATIVO</td>\n",
       "      <td>30/12/1998</td>\n",
       "      <td>30/12/1998</td>\n",
       "    </tr>\n",
       "    <tr>\n",
       "      <th>1</th>\n",
       "      <td>1341425</td>\n",
       "      <td>405906999</td>\n",
       "      <td>Plano A-Ambulatorial Hospitalar Com Obstetríci...</td>\n",
       "      <td>311944</td>\n",
       "      <td>UNIMED DE ADAMANTINA-COOPERATIVA DE TRABALHO M...</td>\n",
       "      <td>UNIMED DE ADAMANTINA</td>\n",
       "      <td>22</td>\n",
       "      <td>PEQUENA</td>\n",
       "      <td>P</td>\n",
       "      <td>2</td>\n",
       "      <td>...</td>\n",
       "      <td>AMB + HOSP C/ OBST</td>\n",
       "      <td>MÉDICO-HOSPITALAR</td>\n",
       "      <td>Pre-estabelecido</td>\n",
       "      <td>4</td>\n",
       "      <td>CO-PARTICIPACÃO</td>\n",
       "      <td>1</td>\n",
       "      <td>COLETIVA</td>\n",
       "      <td>ATIVO</td>\n",
       "      <td>28/01/1999</td>\n",
       "      <td>28/01/1999</td>\n",
       "    </tr>\n",
       "    <tr>\n",
       "      <th>2</th>\n",
       "      <td>1342396</td>\n",
       "      <td>436359011</td>\n",
       "      <td>Senior Standard 751</td>\n",
       "      <td>319180</td>\n",
       "      <td>SÃO DOMINGOS SAÚDE- ASSISTÊNCIA MÉDICA  LTDA</td>\n",
       "      <td>SÃO DOMINGOS SAÚDE</td>\n",
       "      <td>25</td>\n",
       "      <td>PEQUENA</td>\n",
       "      <td>P</td>\n",
       "      <td>1</td>\n",
       "      <td>...</td>\n",
       "      <td>AMB + HOSP S/ OBST</td>\n",
       "      <td>MÉDICO-HOSPITALAR</td>\n",
       "      <td>Pre-estabelecido</td>\n",
       "      <td>4</td>\n",
       "      <td>AUSENTE</td>\n",
       "      <td>0</td>\n",
       "      <td>COLETIVA</td>\n",
       "      <td>ATIVO COM COMERCIALIZAÇÃO SUSPENSA</td>\n",
       "      <td>26/10/2015 10:15:15</td>\n",
       "      <td>07/08/2001</td>\n",
       "    </tr>\n",
       "    <tr>\n",
       "      <th>3</th>\n",
       "      <td>1342410</td>\n",
       "      <td>440002020</td>\n",
       "      <td>Executivo 742</td>\n",
       "      <td>319180</td>\n",
       "      <td>SÃO DOMINGOS SAÚDE- ASSISTÊNCIA MÉDICA  LTDA</td>\n",
       "      <td>SÃO DOMINGOS SAÚDE</td>\n",
       "      <td>25</td>\n",
       "      <td>PEQUENA</td>\n",
       "      <td>P</td>\n",
       "      <td>1</td>\n",
       "      <td>...</td>\n",
       "      <td>AMB + HOSP C/ OBST</td>\n",
       "      <td>MÉDICO-HOSPITALAR</td>\n",
       "      <td>Pre-estabelecido</td>\n",
       "      <td>5</td>\n",
       "      <td>CO-PARTICIPACÃO</td>\n",
       "      <td>1</td>\n",
       "      <td>INDIVIDUAL</td>\n",
       "      <td>ATIVO COM COMERCIALIZAÇÃO SUSPENSA</td>\n",
       "      <td>02/02/2009 09:57:03</td>\n",
       "      <td>12/11/2002</td>\n",
       "    </tr>\n",
       "    <tr>\n",
       "      <th>4</th>\n",
       "      <td>1342450</td>\n",
       "      <td>400630985</td>\n",
       "      <td>VITA - B (Enfermaria)</td>\n",
       "      <td>316296</td>\n",
       "      <td>MASSA FALIDA DE VITA SAÚDE ADMINISTRAÇÃO HOSPI...</td>\n",
       "      <td>CASA DE SAÚDE SÃO SEBASTIÃO</td>\n",
       "      <td>25</td>\n",
       "      <td>SEM BENEFICIÁRIOS</td>\n",
       "      <td>P</td>\n",
       "      <td>1</td>\n",
       "      <td>...</td>\n",
       "      <td>AMB + HOSP C/ OBST</td>\n",
       "      <td>MÉDICO-HOSPITALAR</td>\n",
       "      <td>Pre-estabelecido</td>\n",
       "      <td>4</td>\n",
       "      <td>AUSENTE</td>\n",
       "      <td>0</td>\n",
       "      <td>COLETIVA</td>\n",
       "      <td>CANCELADO</td>\n",
       "      <td>29/10/2012 13:35:45</td>\n",
       "      <td>29/12/1998</td>\n",
       "    </tr>\n",
       "  </tbody>\n",
       "</table>\n",
       "<p>5 rows × 22 columns</p>\n",
       "</div>"
      ],
      "text/plain": [
       "  #id_plano   Cd_Plano                                         Nome_Plano  \\\n",
       "0   1335931  401404989                                       EXECUTIVO II   \n",
       "1   1341425  405906999  Plano A-Ambulatorial Hospitalar Com Obstetríci...   \n",
       "2   1342396  436359011                                Senior Standard 751   \n",
       "3   1342410  440002020                                      Executivo 742   \n",
       "4   1342450  400630985                              VITA - B (Enfermaria)   \n",
       "\n",
       "  Registro_ANS                                       Razao_Social  \\\n",
       "0       000477                           SOMPO SAÚDE SEGUROS S.A.   \n",
       "1       311944  UNIMED DE ADAMANTINA-COOPERATIVA DE TRABALHO M...   \n",
       "2       319180       SÃO DOMINGOS SAÚDE- ASSISTÊNCIA MÉDICA  LTDA   \n",
       "3       319180       SÃO DOMINGOS SAÚDE- ASSISTÊNCIA MÉDICA  LTDA   \n",
       "4       316296  MASSA FALIDA DE VITA SAÚDE ADMINISTRAÇÃO HOSPI...   \n",
       "\n",
       "                 Nome_Fantasia Codigo_Modalidade    Porte_Operadora  \\\n",
       "0                          NaN                28              MÉDIA   \n",
       "1         UNIMED DE ADAMANTINA                22            PEQUENA   \n",
       "2           SÃO DOMINGOS SAÚDE                25            PEQUENA   \n",
       "3           SÃO DOMINGOS SAÚDE                25            PEQUENA   \n",
       "4  CASA DE SAÚDE SÃO SEBASTIÃO                25  SEM BENEFICIÁRIOS   \n",
       "\n",
       "  Vigencia_Plano Codigo_Contratacao         ...          \\\n",
       "0              P                  2         ...           \n",
       "1              P                  2         ...           \n",
       "2              P                  1         ...           \n",
       "3              P                  1         ...           \n",
       "4              P                  1         ...           \n",
       "\n",
       "  Grupo_Segmentacao_Assistencial          Cobertura Tipo_Financiamento  \\\n",
       "0             AMB + HOSP C/ OBST  MÉDICO-HOSPITALAR   Pre-estabelecido   \n",
       "1             AMB + HOSP C/ OBST  MÉDICO-HOSPITALAR   Pre-estabelecido   \n",
       "2             AMB + HOSP S/ OBST  MÉDICO-HOSPITALAR   Pre-estabelecido   \n",
       "3             AMB + HOSP C/ OBST  MÉDICO-HOSPITALAR   Pre-estabelecido   \n",
       "4             AMB + HOSP C/ OBST  MÉDICO-HOSPITALAR   Pre-estabelecido   \n",
       "\n",
       "  Codigo_Abrangencia_Cobertura  Fator_Moderador Log_Fator_Moderador  \\\n",
       "0                            4  CO-PARTICIPACÃO                   1   \n",
       "1                            4  CO-PARTICIPACÃO                   1   \n",
       "2                            4          AUSENTE                   0   \n",
       "3                            5  CO-PARTICIPACÃO                   1   \n",
       "4                            4          AUSENTE                   0   \n",
       "\n",
       "  Acomodacao_Hospitalar                   ID_Situacao_Plano  \\\n",
       "0            INDIVIDUAL                               ATIVO   \n",
       "1              COLETIVA                               ATIVO   \n",
       "2              COLETIVA  ATIVO COM COMERCIALIZAÇÃO SUSPENSA   \n",
       "3            INDIVIDUAL  ATIVO COM COMERCIALIZAÇÃO SUSPENSA   \n",
       "4              COLETIVA                           CANCELADO   \n",
       "\n",
       "   Data_Situacao_Plano Data_Registro_Plano  \n",
       "0           30/12/1998          30/12/1998  \n",
       "1           28/01/1999          28/01/1999  \n",
       "2  26/10/2015 10:15:15          07/08/2001  \n",
       "3  02/02/2009 09:57:03          12/11/2002  \n",
       "4  29/10/2012 13:35:45          29/12/1998  \n",
       "\n",
       "[5 rows x 22 columns]"
      ]
     },
     "execution_count": 10,
     "metadata": {},
     "output_type": "execute_result"
    }
   ],
   "source": [
    "df.head()"
   ]
  },
  {
   "cell_type": "code",
   "execution_count": 11,
   "metadata": {},
   "outputs": [],
   "source": [
    "df_dados_operadora = df[[\"Registro_ANS\",\"Razao_Social\",\"Nome_Fantasia\",\"Codigo_Modalidade\",\"Porte_Operadora\"]]"
   ]
  },
  {
   "cell_type": "code",
   "execution_count": 12,
   "metadata": {},
   "outputs": [
    {
     "name": "stderr",
     "output_type": "stream",
     "text": [
      "/home/leticia/opt/anaconda3/lib/python3.6/site-packages/ipykernel_launcher.py:1: SettingWithCopyWarning: \n",
      "A value is trying to be set on a copy of a slice from a DataFrame\n",
      "\n",
      "See the caveats in the documentation: http://pandas.pydata.org/pandas-docs/stable/indexing.html#indexing-view-versus-copy\n",
      "  \"\"\"Entry point for launching an IPython kernel.\n"
     ]
    }
   ],
   "source": [
    "df_dados_operadora.drop_duplicates(inplace=True)"
   ]
  },
  {
   "cell_type": "code",
   "execution_count": 13,
   "metadata": {},
   "outputs": [
    {
     "name": "stderr",
     "output_type": "stream",
     "text": [
      "/home/leticia/opt/anaconda3/lib/python3.6/site-packages/ipykernel_launcher.py:1: SettingWithCopyWarning: \n",
      "A value is trying to be set on a copy of a slice from a DataFrame.\n",
      "Try using .loc[row_indexer,col_indexer] = value instead\n",
      "\n",
      "See the caveats in the documentation: http://pandas.pydata.org/pandas-docs/stable/indexing.html#indexing-view-versus-copy\n",
      "  \"\"\"Entry point for launching an IPython kernel.\n"
     ]
    }
   ],
   "source": [
    "df_dados_operadora['Nome_Fantasia'] = df_dados_operadora['Nome_Fantasia'].fillna(df_dados_operadora['Razao_Social'])"
   ]
  },
  {
   "cell_type": "code",
   "execution_count": 15,
   "metadata": {},
   "outputs": [],
   "source": [
    "df_dados_operadora.to_csv(NOME_ARQUIVO_FINAL,index=False)"
   ]
  }
 ],
 "metadata": {
  "kernelspec": {
   "display_name": "Python 3",
   "language": "python",
   "name": "python3"
  },
  "language_info": {
   "codemirror_mode": {
    "name": "ipython",
    "version": 3
   },
   "file_extension": ".py",
   "mimetype": "text/x-python",
   "name": "python",
   "nbconvert_exporter": "python",
   "pygments_lexer": "ipython3",
   "version": "3.6.5"
  }
 },
 "nbformat": 4,
 "nbformat_minor": 2
}
