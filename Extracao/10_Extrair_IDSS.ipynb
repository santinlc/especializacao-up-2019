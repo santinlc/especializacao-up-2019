{
 "cells": [
  {
   "cell_type": "markdown",
   "metadata": {},
   "source": [
    "## Tranformar datase de IDS para utilizar apenas dimensão economica"
   ]
  },
  {
   "cell_type": "code",
   "execution_count": 3,
   "metadata": {},
   "outputs": [],
   "source": [
    "import pandas as pd\n",
    "from lxml import html\n",
    "import requests\n",
    "import zipfile\n",
    "import io\n",
    "import os\n",
    "from pathlib import Path\n",
    "import csv"
   ]
  },
  {
   "cell_type": "code",
   "execution_count": 6,
   "metadata": {},
   "outputs": [],
   "source": [
    "df = pd.read_csv(\"http://ftp.dadosabertos.ans.gov.br/FTP/PDA/historico_idss/historico_idss.csv\",sep=\";\",encoding=\"ISO-8859-1\")"
   ]
  },
  {
   "cell_type": "code",
   "execution_count": 13,
   "metadata": {},
   "outputs": [
    {
     "data": {
      "text/plain": [
       "Index(['Registro', 'CNPJ', 'Razao_Social', 'Modalidade', 'IDSS_2009_2008',\n",
       "       'IDSS_2010_2009', 'IDSS_2011_2010', 'IDAS_2011_2010', 'IDEO_2011_2010',\n",
       "       'IDEF_2011_2010', 'IDSB_2011_2010', 'IDSS_2012_2011', 'IDAS_2012_2011',\n",
       "       'IDEO_2012_2011', 'IDEF_2012_2011', 'IDSB_2012_2011', 'IDSS_2013_2012',\n",
       "       'IDAS_2013_2012', 'IDEO_2013_2012', 'IDEF_2013_2012', 'IDSB_2013_2012',\n",
       "       'IDSS_2014_2013', 'IDAS_2014_2013', 'IDEO_2014_2013', 'IDEF_2014_2013',\n",
       "       'IDSB_2014_2013', 'IDSS_2015_2014', 'IDAS_2015_2014', 'IDEO_2015_2014',\n",
       "       'IDEF_2015_2014', 'IDSB_2015_2014', 'IDSS_2016_2015', 'IDQS_2016_2015',\n",
       "       'IDGA_2016_2015', 'IDSM_2016_2015', 'IDGR_2016_2015', 'IDSS_2017_2016',\n",
       "       'IDQS_2017_2016', 'IDGA_2017_2016', 'IDSM_2017_2016', 'IDGR_2017_2016',\n",
       "       'IDSS_2018_2017', 'IDQS_2018_2017', 'IDGA_2018_2017', 'IDSM_2018_2017',\n",
       "       'IDGR_2018_2017'],\n",
       "      dtype='object')"
      ]
     },
     "execution_count": 13,
     "metadata": {},
     "output_type": "execute_result"
    }
   ],
   "source": [
    "df.columns"
   ]
  },
  {
   "cell_type": "code",
   "execution_count": 15,
   "metadata": {},
   "outputs": [],
   "source": [
    "df = df[['Registro','Razao_Social','Modalidade','IDEF_2012_2011','IDEF_2013_2012','IDEF_2014_2013','IDEF_2015_2014','IDSM_2016_2015','IDSM_2017_2016','IDSM_2018_2017']]"
   ]
  },
  {
   "cell_type": "markdown",
   "metadata": {},
   "source": [
    "## Filtrando para obter apenas cooperativas"
   ]
  },
  {
   "cell_type": "code",
   "execution_count": 18,
   "metadata": {},
   "outputs": [],
   "source": [
    "df_cooperativas = df[df['Modalidade'] == \"Cooperativa Médica\"]"
   ]
  },
  {
   "cell_type": "code",
   "execution_count": 20,
   "metadata": {},
   "outputs": [
    {
     "name": "stderr",
     "output_type": "stream",
     "text": [
      "/home/leticia/anaconda3/lib/python3.7/site-packages/ipykernel_launcher.py:1: SettingWithCopyWarning: \n",
      "A value is trying to be set on a copy of a slice from a DataFrame\n",
      "\n",
      "See the caveats in the documentation: http://pandas.pydata.org/pandas-docs/stable/user_guide/indexing.html#returning-a-view-versus-a-copy\n",
      "  \"\"\"Entry point for launching an IPython kernel.\n"
     ]
    }
   ],
   "source": [
    "df_cooperativas.dropna(inplace=True)"
   ]
  },
  {
   "cell_type": "code",
   "execution_count": 21,
   "metadata": {},
   "outputs": [
    {
     "data": {
      "text/html": [
       "<div>\n",
       "<style scoped>\n",
       "    .dataframe tbody tr th:only-of-type {\n",
       "        vertical-align: middle;\n",
       "    }\n",
       "\n",
       "    .dataframe tbody tr th {\n",
       "        vertical-align: top;\n",
       "    }\n",
       "\n",
       "    .dataframe thead th {\n",
       "        text-align: right;\n",
       "    }\n",
       "</style>\n",
       "<table border=\"1\" class=\"dataframe\">\n",
       "  <thead>\n",
       "    <tr style=\"text-align: right;\">\n",
       "      <th></th>\n",
       "      <th>Registro</th>\n",
       "      <th>Razao_Social</th>\n",
       "      <th>Modalidade</th>\n",
       "      <th>IDEF_2012_2011</th>\n",
       "      <th>IDEF_2013_2012</th>\n",
       "      <th>IDEF_2014_2013</th>\n",
       "      <th>IDEF_2015_2014</th>\n",
       "      <th>IDSM_2016_2015</th>\n",
       "      <th>IDSM_2017_2016</th>\n",
       "      <th>IDSM_2018_2017</th>\n",
       "    </tr>\n",
       "  </thead>\n",
       "  <tbody>\n",
       "    <tr>\n",
       "      <td>14</td>\n",
       "      <td>300136</td>\n",
       "      <td>UNIMED LITORAL SUL/RS - COOPERATIVA MÉDICA LTDA.</td>\n",
       "      <td>Cooperativa Médica</td>\n",
       "      <td>0,8845</td>\n",
       "      <td>0,9519</td>\n",
       "      <td>0,6503</td>\n",
       "      <td>0,8333</td>\n",
       "      <td>0,7693</td>\n",
       "      <td>0,7882</td>\n",
       "      <td>0,6030</td>\n",
       "    </tr>\n",
       "    <tr>\n",
       "      <td>18</td>\n",
       "      <td>300713</td>\n",
       "      <td>UNIMED DE ASSIS COOPERATIVA DE TRABALHO MÉDICO</td>\n",
       "      <td>Cooperativa Médica</td>\n",
       "      <td>0,9245</td>\n",
       "      <td>0,9060</td>\n",
       "      <td>0,8900</td>\n",
       "      <td>1,0000</td>\n",
       "      <td>0,8875</td>\n",
       "      <td>0,9530</td>\n",
       "      <td>0,9640</td>\n",
       "    </tr>\n",
       "    <tr>\n",
       "      <td>21</td>\n",
       "      <td>300870</td>\n",
       "      <td>UNIMED DO BRASIL - CONF. NACIONAL DAS COOPERAT...</td>\n",
       "      <td>Cooperativa Médica</td>\n",
       "      <td>ND</td>\n",
       "      <td>ND</td>\n",
       "      <td>ND</td>\n",
       "      <td>1,0000</td>\n",
       "      <td>ND</td>\n",
       "      <td>0,0000</td>\n",
       "      <td>0,5714</td>\n",
       "    </tr>\n",
       "    <tr>\n",
       "      <td>25</td>\n",
       "      <td>301060</td>\n",
       "      <td>UNIMED ITUIUTABA COOPERATIVA TRABALHO MÉDICO L...</td>\n",
       "      <td>Cooperativa Médica</td>\n",
       "      <td>0,8218</td>\n",
       "      <td>0,8914</td>\n",
       "      <td>0,9218</td>\n",
       "      <td>1,0000</td>\n",
       "      <td>0,7453</td>\n",
       "      <td>0,8240</td>\n",
       "      <td>0,9914</td>\n",
       "    </tr>\n",
       "    <tr>\n",
       "      <td>26</td>\n",
       "      <td>301124</td>\n",
       "      <td>UNIMED GURUPI COOPERATIVA DE TRABALHO MÉDICO</td>\n",
       "      <td>Cooperativa Médica</td>\n",
       "      <td>0,7956</td>\n",
       "      <td>0,9227</td>\n",
       "      <td>0,9069</td>\n",
       "      <td>1,0000</td>\n",
       "      <td>0,9890</td>\n",
       "      <td>0,5970</td>\n",
       "      <td>0,6660</td>\n",
       "    </tr>\n",
       "  </tbody>\n",
       "</table>\n",
       "</div>"
      ],
      "text/plain": [
       "    Registro                                       Razao_Social  \\\n",
       "14    300136   UNIMED LITORAL SUL/RS - COOPERATIVA MÉDICA LTDA.   \n",
       "18    300713     UNIMED DE ASSIS COOPERATIVA DE TRABALHO MÉDICO   \n",
       "21    300870  UNIMED DO BRASIL - CONF. NACIONAL DAS COOPERAT...   \n",
       "25    301060  UNIMED ITUIUTABA COOPERATIVA TRABALHO MÉDICO L...   \n",
       "26    301124       UNIMED GURUPI COOPERATIVA DE TRABALHO MÉDICO   \n",
       "\n",
       "            Modalidade IDEF_2012_2011 IDEF_2013_2012 IDEF_2014_2013  \\\n",
       "14  Cooperativa Médica         0,8845         0,9519         0,6503   \n",
       "18  Cooperativa Médica         0,9245         0,9060         0,8900   \n",
       "21  Cooperativa Médica             ND             ND             ND   \n",
       "25  Cooperativa Médica         0,8218         0,8914         0,9218   \n",
       "26  Cooperativa Médica         0,7956         0,9227         0,9069   \n",
       "\n",
       "   IDEF_2015_2014 IDSM_2016_2015 IDSM_2017_2016 IDSM_2018_2017  \n",
       "14         0,8333         0,7693         0,7882         0,6030  \n",
       "18         1,0000         0,8875         0,9530         0,9640  \n",
       "21         1,0000             ND         0,0000         0,5714  \n",
       "25         1,0000         0,7453         0,8240         0,9914  \n",
       "26         1,0000         0,9890         0,5970         0,6660  "
      ]
     },
     "execution_count": 21,
     "metadata": {},
     "output_type": "execute_result"
    }
   ],
   "source": [
    "df_cooperativas.head()"
   ]
  },
  {
   "cell_type": "markdown",
   "metadata": {},
   "source": [
    "### Filtrando para remover operadoras com valores não definidos"
   ]
  },
  {
   "cell_type": "code",
   "execution_count": 26,
   "metadata": {},
   "outputs": [],
   "source": [
    "df_cooperativas = df_cooperativas[df_cooperativas.apply(lambda row: row.astype(str).str.contains('ND').any(), axis=1) == False]"
   ]
  },
  {
   "cell_type": "markdown",
   "metadata": {},
   "source": [
    "### Tranformando índices em variáveis do tipo float"
   ]
  },
  {
   "cell_type": "code",
   "execution_count": 32,
   "metadata": {},
   "outputs": [
    {
     "name": "stdout",
     "output_type": "stream",
     "text": [
      "<class 'pandas.core.frame.DataFrame'>\n",
      "Int64Index: 243 entries, 14 to 1651\n",
      "Data columns (total 10 columns):\n",
      "Registro          243 non-null int64\n",
      "Razao_Social      243 non-null object\n",
      "Modalidade        243 non-null object\n",
      "IDEF_2012_2011    243 non-null object\n",
      "IDEF_2013_2012    243 non-null object\n",
      "IDEF_2014_2013    243 non-null object\n",
      "IDEF_2015_2014    243 non-null object\n",
      "IDSM_2016_2015    243 non-null object\n",
      "IDSM_2017_2016    243 non-null object\n",
      "IDSM_2018_2017    243 non-null object\n",
      "dtypes: int64(1), object(9)\n",
      "memory usage: 20.9+ KB\n"
     ]
    }
   ],
   "source": [
    "df_cooperativas.info()"
   ]
  },
  {
   "cell_type": "code",
   "execution_count": null,
   "metadata": {},
   "outputs": [],
   "source": []
  }
 ],
 "metadata": {
  "kernelspec": {
   "display_name": "Python 3",
   "language": "python",
   "name": "python3"
  },
  "language_info": {
   "codemirror_mode": {
    "name": "ipython",
    "version": 3
   },
   "file_extension": ".py",
   "mimetype": "text/x-python",
   "name": "python",
   "nbconvert_exporter": "python",
   "pygments_lexer": "ipython3",
   "version": "3.7.4"
  }
 },
 "nbformat": 4,
 "nbformat_minor": 4
}
