{
 "cells": [
  {
   "cell_type": "code",
   "execution_count": null,
   "metadata": {},
   "outputs": [],
   "source": [
    "import pandas as pd"
   ]
  },
  {
   "cell_type": "code",
   "execution_count": null,
   "metadata": {},
   "outputs": [],
   "source": [
    "df = pd.read_excel(\"../entrada/Porte das Operadoras.xlsx\",skiprows=5)"
   ]
  },
  {
   "cell_type": "code",
   "execution_count": null,
   "metadata": {},
   "outputs": [],
   "source": [
    "df = df[df[\"Modalidade\"] == \"Cooperativa Médica\"]"
   ]
  },
  {
   "cell_type": "code",
   "execution_count": null,
   "metadata": {},
   "outputs": [],
   "source": [
    "df.head()"
   ]
  },
  {
   "cell_type": "code",
   "execution_count": null,
   "metadata": {},
   "outputs": [],
   "source": [
    "lista_operadoras_final = []\n",
    "lista_operadoras = df['Registro ANS'].unique().tolist()\n",
    "\n",
    "for registro_ans in lista_operadoras:\n",
    "    lista_portes = []\n",
    "    df_registro = df[df['Registro ANS'] == registro_ans]\n",
    "    dict_19 = {'Registro_ANS': registro_ans,\"ano\": 2019, \"beneficiarios\" : df_registro['Ben_dez/19'].sum(), 'porte' : df_registro['Porte_dez/19'].sum()}\n",
    "    dict_18 = {'Registro_ANS': registro_ans,\"ano\": 2018, \"beneficiarios\" : df_registro['Ben_dez/18'].sum(), 'porte' : df_registro['Porte_dez/18'].sum()}\n",
    "    dict_17 = {'Registro_ANS': registro_ans,\"ano\": 2017, \"beneficiarios\" : df_registro['Ben_dez/17'].sum(), 'porte' : df_registro['Porte_dez/17'].sum()}\n",
    "    dict_16 = {'Registro_ANS': registro_ans,\"ano\": 2016, \"beneficiarios\" : df_registro['Ben_dez/16'].sum(), 'porte' : df_registro['Porte_dez/16'].sum()}\n",
    "    dict_15 = {'Registro_ANS': registro_ans,\"ano\": 2015, \"beneficiarios\" : df_registro['Ben_dez/15'].sum(), 'porte' : df_registro['Porte_dez/15'].sum()}\n",
    "    dict_14 = {'Registro_ANS': registro_ans,\"ano\": 2014, \"beneficiarios\" : df_registro['Ben_dez/14'].sum(), 'porte' : df_registro['Porte_dez/19'].sum()}\n",
    "    dict_13 = {'Registro_ANS': registro_ans,\"ano\": 2013, \"beneficiarios\" : df_registro['Ben_dez/13'].sum(), 'porte' : df_registro['Porte_dez/13'].sum()}\n",
    "    dict_12 = {'Registro_ANS': registro_ans,\"ano\": 2012, \"beneficiarios\" : df_registro['Ben_dez/12'].sum(), 'porte' : df_registro['Porte_dez/12'].sum()}\n",
    "    dict_11 = {'Registro_ANS': registro_ans,\"ano\": 2011, \"beneficiarios\" : df_registro['Ben_dez/11'].sum(), 'porte' : df_registro['Porte_dez/11'].sum()}\n",
    "    lista_portes = [dict_11,dict_12,dict_13,dict_14,dict_15,dict_16,dict_17,dict_18,dict_19]\n",
    "    lista_operadoras_final += lista_portes\n",
    "    "
   ]
  },
  {
   "cell_type": "code",
   "execution_count": null,
   "metadata": {},
   "outputs": [],
   "source": [
    "pd.DataFrame(lista_operadoras_final).to_csv(\"../entrada/porte_operadoras.csv\",encoding=\"ISO-8859-1\",index=False)"
   ]
  },
  {
   "cell_type": "code",
   "execution_count": null,
   "metadata": {},
   "outputs": [],
   "source": []
  }
 ],
 "metadata": {
  "kernelspec": {
   "display_name": "Python 3",
   "language": "python",
   "name": "python3"
  },
  "language_info": {
   "codemirror_mode": {
    "name": "ipython",
    "version": 3
   },
   "file_extension": ".py",
   "mimetype": "text/x-python",
   "name": "python",
   "nbconvert_exporter": "python",
   "pygments_lexer": "ipython3",
   "version": "3.6.5"
  }
 },
 "nbformat": 4,
 "nbformat_minor": 4
}
