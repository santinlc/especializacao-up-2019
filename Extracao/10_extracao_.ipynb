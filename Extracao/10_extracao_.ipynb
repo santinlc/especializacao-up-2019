{
 "cells": [
  {
   "cell_type": "code",
   "execution_count": 1,
   "metadata": {},
   "outputs": [],
   "source": [
    "import pandas as pd\n",
    "import numpy as np"
   ]
  },
  {
   "cell_type": "code",
   "execution_count": 2,
   "metadata": {},
   "outputs": [],
   "source": [
    "import configparser\n",
    "\n",
    "config = configparser.RawConfigParser()\n",
    "config.read('parametros.config')\n",
    "PARAMETROS_GERAIS = dict(config.items('Geral'))"
   ]
  },
  {
   "cell_type": "code",
   "execution_count": 3,
   "metadata": {},
   "outputs": [
    {
     "data": {
      "text/plain": [
       "{'pasta_raiz_dados': '/opt/DADOS_ANS5/',\n",
       " 'arquivo_operadoras': 'http://ftp.dadosabertos.ans.gov.br/FTP/PDA/operadoras_de_plano_de_saude_ativas/Relatorio_cadop.csv',\n",
       " 'arquivo_final_todas_demonstracoes': 'todas_demonstracoes_concatenadas.csv',\n",
       " 'ano_inicio_analises': '2013'}"
      ]
     },
     "execution_count": 3,
     "metadata": {},
     "output_type": "execute_result"
    }
   ],
   "source": [
    "PARAMETROS_GERAIS"
   ]
  },
  {
   "cell_type": "code",
   "execution_count": 4,
   "metadata": {},
   "outputs": [],
   "source": [
    "ARQUIVO_TODAS_DEMONSTRACOES = PARAMETROS_GERAIS['pasta_raiz_dados']+PARAMETROS_GERAIS['arquivo_final_todas_demonstracoes']"
   ]
  },
  {
   "cell_type": "code",
   "execution_count": 5,
   "metadata": {},
   "outputs": [
    {
     "data": {
      "text/plain": [
       "'/opt/DADOS_ANS5/todas_demonstracoes_concatenadas.csv'"
      ]
     },
     "execution_count": 5,
     "metadata": {},
     "output_type": "execute_result"
    }
   ],
   "source": [
    "ARQUIVO_TODAS_DEMONSTRACOES"
   ]
  },
  {
   "cell_type": "code",
   "execution_count": 6,
   "metadata": {},
   "outputs": [],
   "source": [
    "df_temp = pd.read_csv(ARQUIVO_TODAS_DEMONSTRACOES,encoding=\"ISO-8859-1\")"
   ]
  },
  {
   "cell_type": "code",
   "execution_count": 9,
   "metadata": {},
   "outputs": [
    {
     "data": {
      "text/plain": [
       "array([201501, 201502, 201503, 201504, 201301, 201302, 201303, 201304,\n",
       "       201901, 201902, 201903, 201401, 201402, 201403, 201404, 201701,\n",
       "       201702, 201703, 201704, 201601, 201602, 201603, 201604, 201801,\n",
       "       201802, 201803, 201804])"
      ]
     },
     "execution_count": 9,
     "metadata": {},
     "output_type": "execute_result"
    }
   ],
   "source": [
    "df_temp['PERIODO'].unique()"
   ]
  },
  {
   "cell_type": "code",
   "execution_count": 10,
   "metadata": {},
   "outputs": [],
   "source": [
    "df_temp = df_temp.sort_values(by=\"PERIODO\")\n",
    "df_temp.reset_index(drop=True,inplace=True)"
   ]
  },
  {
   "cell_type": "code",
   "execution_count": 11,
   "metadata": {},
   "outputs": [],
   "source": [
    "lista_periodos = df_temp['PERIODO'].unique().tolist()"
   ]
  },
  {
   "cell_type": "code",
   "execution_count": 12,
   "metadata": {},
   "outputs": [],
   "source": [
    "def calcular_1(df):\n",
    "    serie = df['CONTRAPRESTACAO_PRE']+df['CORRESP_CEDIDA_PRE']\n",
    "    return \"{:.2f}\".format(serie.values[0])"
   ]
  },
  {
   "cell_type": "code",
   "execution_count": 13,
   "metadata": {},
   "outputs": [],
   "source": [
    "def calcular_2(df):\n",
    "    serie = df['CONTRAPRESTACAO_POS']+df['CORRESP_CEDIDA_POS']\n",
    "    return \"{:.2f}\".format(serie.values[0])"
   ]
  },
  {
   "cell_type": "code",
   "execution_count": 14,
   "metadata": {},
   "outputs": [],
   "source": [
    "def calcular_3(df):\n",
    "    serie = df['EVENTOS_INDENIZAVEIS_PRE']+df['VARIACAO_PEONA']\n",
    "    return \"{:.2f}\".format(serie.values[0])"
   ]
  },
  {
   "cell_type": "code",
   "execution_count": 15,
   "metadata": {},
   "outputs": [],
   "source": [
    "def calcular_4(df):\n",
    "    serie = df['EVENTOS_INDENIZAVEIS_POS']\n",
    "    return \"{:.2f}\".format(serie.values[0])"
   ]
  },
  {
   "cell_type": "code",
   "execution_count": 36,
   "metadata": {},
   "outputs": [],
   "source": [
    "lista_somatorios = []\n",
    "for reg_ans in df_temp['REG_ANS'].unique():\n",
    "    df_operadora = df_temp[df_temp['REG_ANS'] == reg_ans].copy()\n",
    "    df_operadora.reset_index(inplace=True,drop=True)\n",
    "    for indice in df_operadora.index.tolist()[3:]:\n",
    "#         dict_periodo = {'REG_ANS':reg_ans, 'periodo':atual};\n",
    "        atual = df_operadora.iloc[indice]\n",
    "        dict_periodo = {'REG_ANS':reg_ans, 'periodo':str(atual['TRIMESTRE'])+\"T\"+str(atual['ANO'])};\n",
    "#         dict_periodo['periodo'] = str(atual['TRIMESTRE'])+\"T\"+str(atual['ANO'])\n",
    "        _range = np.arange(indice-3,indice+1)\n",
    "        df_conta = df_operadora.iloc[_range].groupby(['REG_ANS']).sum()\n",
    "        dict_periodo['contas'] = {'1': calcular_1(df_conta)}\n",
    "        dict_periodo['contas']['2'] = calcular_2(df_conta)\n",
    "        dict_periodo['contas']['3'] = calcular_3(df_conta)\n",
    "        dict_periodo['contas']['4'] = calcular_4(df_conta)\n",
    "#         print(dict_periodo)\n",
    "        lista_somatorios.append(dict_periodo)"
   ]
  },
  {
   "cell_type": "code",
   "execution_count": 37,
   "metadata": {},
   "outputs": [],
   "source": [
    "newlist = sorted(lista_somatorios, key=lambda k: k['REG_ANS']) "
   ]
  },
  {
   "cell_type": "code",
   "execution_count": 38,
   "metadata": {},
   "outputs": [],
   "source": [
    "df_final = pd.DataFrame(newlist)"
   ]
  },
  {
   "cell_type": "code",
   "execution_count": 39,
   "metadata": {},
   "outputs": [],
   "source": [
    "def gerar_colunas(x):\n",
    "    x['1'] = x['contas']['1']\n",
    "    x['2'] = x['contas']['2']\n",
    "    x['3'] = x['contas']['3']\n",
    "    x['4'] = x['contas']['4']\n",
    "    return x"
   ]
  },
  {
   "cell_type": "code",
   "execution_count": 40,
   "metadata": {},
   "outputs": [],
   "source": [
    "df_final = df_final.apply(lambda x: gerar_colunas(x),axis=1)"
   ]
  },
  {
   "cell_type": "code",
   "execution_count": 41,
   "metadata": {},
   "outputs": [],
   "source": [
    "df_final.drop(columns=\"contas\",inplace=True)\n",
    "df_final.drop_duplicates(inplace=True)"
   ]
  },
  {
   "cell_type": "code",
   "execution_count": 42,
   "metadata": {},
   "outputs": [],
   "source": [
    "df_final.to_csv(\"calculos_natalia.csv\",index=False, encoding=\"ISO-8859-1\")"
   ]
  },
  {
   "cell_type": "code",
   "execution_count": 43,
   "metadata": {},
   "outputs": [
    {
     "data": {
      "text/plain": [
       "6660"
      ]
     },
     "execution_count": 43,
     "metadata": {},
     "output_type": "execute_result"
    }
   ],
   "source": [
    "len(df_final)"
   ]
  },
  {
   "cell_type": "code",
   "execution_count": null,
   "metadata": {},
   "outputs": [],
   "source": []
  }
 ],
 "metadata": {
  "kernelspec": {
   "display_name": "Python 3",
   "language": "python",
   "name": "python3"
  },
  "language_info": {
   "codemirror_mode": {
    "name": "ipython",
    "version": 3
   },
   "file_extension": ".py",
   "mimetype": "text/x-python",
   "name": "python",
   "nbconvert_exporter": "python",
   "pygments_lexer": "ipython3",
   "version": "3.7.4"
  }
 },
 "nbformat": 4,
 "nbformat_minor": 4
}
