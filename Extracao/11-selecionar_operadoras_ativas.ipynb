{
 "cells": [
  {
   "cell_type": "code",
   "execution_count": 1,
   "metadata": {},
   "outputs": [],
   "source": [
    "import pandas as pd \n",
    "import requests\n",
    "import os\n",
    "import urllib.request"
   ]
  },
  {
   "cell_type": "code",
   "execution_count": 14,
   "metadata": {},
   "outputs": [],
   "source": [
    "import configparser\n",
    "\n",
    "config = configparser.RawConfigParser()\n",
    "config.read('parametros.config')\n",
    "\n",
    "PARAMETROS = dict(config.items('Extracao_Dados_Operadoras'))\n",
    "PARAMETROS_GERAIS = dict(config.items('Geral'))"
   ]
  },
  {
   "cell_type": "code",
   "execution_count": 3,
   "metadata": {},
   "outputs": [],
   "source": [
    "CAMINHO_ARQUIVOS = PARAMETROS_GERAIS['pasta_raiz_dados']+PARAMETROS['caminho_arquivo_download']"
   ]
  },
  {
   "cell_type": "code",
   "execution_count": 5,
   "metadata": {},
   "outputs": [],
   "source": [
    "NOME_ARQUIVO_FINAL = CAMINHO_ARQUIVOS+PARAMETROS['nome_arquivo_final']"
   ]
  },
  {
   "cell_type": "code",
   "execution_count": 6,
   "metadata": {},
   "outputs": [
    {
     "data": {
      "text/plain": [
       "'/opt/DADOS_ANS/DADOS_OPERADORAS/dados_operadoras.csv'"
      ]
     },
     "execution_count": 6,
     "metadata": {},
     "output_type": "execute_result"
    }
   ],
   "source": [
    "NOME_ARQUIVO_FINAL"
   ]
  },
  {
   "cell_type": "code",
   "execution_count": 7,
   "metadata": {},
   "outputs": [],
   "source": [
    "if (not(os.path.exists(CAMINHO_ARQUIVOS))):\n",
    "    os.mkdir(CAMINHO_ARQUIVOS)"
   ]
  },
  {
   "cell_type": "code",
   "execution_count": 10,
   "metadata": {},
   "outputs": [],
   "source": [
    "df_operadoras = pd.read_csv(NOME_ARQUIVO_FINAL,dtype=str)"
   ]
  },
  {
   "cell_type": "code",
   "execution_count": 12,
   "metadata": {},
   "outputs": [
    {
     "data": {
      "text/html": [
       "<div>\n",
       "<style scoped>\n",
       "    .dataframe tbody tr th:only-of-type {\n",
       "        vertical-align: middle;\n",
       "    }\n",
       "\n",
       "    .dataframe tbody tr th {\n",
       "        vertical-align: top;\n",
       "    }\n",
       "\n",
       "    .dataframe thead th {\n",
       "        text-align: right;\n",
       "    }\n",
       "</style>\n",
       "<table border=\"1\" class=\"dataframe\">\n",
       "  <thead>\n",
       "    <tr style=\"text-align: right;\">\n",
       "      <th></th>\n",
       "      <th>Registro_ANS</th>\n",
       "      <th>Razao_Social</th>\n",
       "      <th>Nome_Fantasia</th>\n",
       "      <th>Codigo_Modalidade</th>\n",
       "      <th>Porte_Operadora</th>\n",
       "    </tr>\n",
       "  </thead>\n",
       "  <tbody>\n",
       "    <tr>\n",
       "      <th>0</th>\n",
       "      <td>000477</td>\n",
       "      <td>SOMPO SAÚDE SEGUROS S.A.</td>\n",
       "      <td>SOMPO SAÚDE SEGUROS S.A.</td>\n",
       "      <td>28</td>\n",
       "      <td>MÉDIA</td>\n",
       "    </tr>\n",
       "    <tr>\n",
       "      <th>1</th>\n",
       "      <td>311944</td>\n",
       "      <td>UNIMED DE ADAMANTINA-COOPERATIVA DE TRABALHO M...</td>\n",
       "      <td>UNIMED DE ADAMANTINA</td>\n",
       "      <td>22</td>\n",
       "      <td>PEQUENA</td>\n",
       "    </tr>\n",
       "    <tr>\n",
       "      <th>2</th>\n",
       "      <td>319180</td>\n",
       "      <td>SÃO DOMINGOS SAÚDE- ASSISTÊNCIA MÉDICA  LTDA</td>\n",
       "      <td>SÃO DOMINGOS SAÚDE</td>\n",
       "      <td>25</td>\n",
       "      <td>PEQUENA</td>\n",
       "    </tr>\n",
       "    <tr>\n",
       "      <th>3</th>\n",
       "      <td>316296</td>\n",
       "      <td>MASSA FALIDA DE VITA SAÚDE ADMINISTRAÇÃO HOSPI...</td>\n",
       "      <td>CASA DE SAÚDE SÃO SEBASTIÃO</td>\n",
       "      <td>25</td>\n",
       "      <td>SEM BENEFICIÁRIOS</td>\n",
       "    </tr>\n",
       "    <tr>\n",
       "      <th>4</th>\n",
       "      <td>311693</td>\n",
       "      <td>ORAL SAÚDE CLÍNICA ODONTOLÓGICA LTDA.</td>\n",
       "      <td>ORAL SAÚDE CLÍNICA ODONTOLÓGICA LTDA.</td>\n",
       "      <td>26</td>\n",
       "      <td>PEQUENA</td>\n",
       "    </tr>\n",
       "  </tbody>\n",
       "</table>\n",
       "</div>"
      ],
      "text/plain": [
       "  Registro_ANS                                       Razao_Social  \\\n",
       "0       000477                           SOMPO SAÚDE SEGUROS S.A.   \n",
       "1       311944  UNIMED DE ADAMANTINA-COOPERATIVA DE TRABALHO M...   \n",
       "2       319180       SÃO DOMINGOS SAÚDE- ASSISTÊNCIA MÉDICA  LTDA   \n",
       "3       316296  MASSA FALIDA DE VITA SAÚDE ADMINISTRAÇÃO HOSPI...   \n",
       "4       311693              ORAL SAÚDE CLÍNICA ODONTOLÓGICA LTDA.   \n",
       "\n",
       "                           Nome_Fantasia Codigo_Modalidade    Porte_Operadora  \n",
       "0               SOMPO SAÚDE SEGUROS S.A.                28              MÉDIA  \n",
       "1                   UNIMED DE ADAMANTINA                22            PEQUENA  \n",
       "2                     SÃO DOMINGOS SAÚDE                25            PEQUENA  \n",
       "3            CASA DE SAÚDE SÃO SEBASTIÃO                25  SEM BENEFICIÁRIOS  \n",
       "4  ORAL SAÚDE CLÍNICA ODONTOLÓGICA LTDA.                26            PEQUENA  "
      ]
     },
     "execution_count": 12,
     "metadata": {},
     "output_type": "execute_result"
    }
   ],
   "source": [
    "df_operadoras.head()"
   ]
  },
  {
   "cell_type": "code",
   "execution_count": 16,
   "metadata": {},
   "outputs": [
    {
     "data": {
      "text/plain": [
       "{'caminho_arquivo_download': 'DADOS_OPERADORAS/',\n",
       " 'url_csv': 'http://ftp.dadosabertos.ans.gov.br/FTP/PDA/caracteristicas_produtos_saude_suplementar/caracteristicas_produtos_saude_suplementar.csv',\n",
       " 'nome_arquivo_final': 'dados_operadoras.csv',\n",
       " 'url_csv_operadoras_ativas': 'http://ftp.dadosabertos.ans.gov.br/FTP/PDA/operadoras_de_plano_de_saude_ativas/Relatorio_cadop.csv'}"
      ]
     },
     "execution_count": 16,
     "metadata": {},
     "output_type": "execute_result"
    }
   ],
   "source": [
    "PARAMETROS"
   ]
  },
  {
   "cell_type": "code",
   "execution_count": 19,
   "metadata": {},
   "outputs": [],
   "source": [
    "NOME_ARQUIVO_DOWNLOAD = CAMINHO_ARQUIVOS+\"operadoras_ativas.csv\""
   ]
  },
  {
   "cell_type": "markdown",
   "metadata": {},
   "source": [
    "## Baixando .csv com operadoras ativas"
   ]
  },
  {
   "cell_type": "code",
   "execution_count": 20,
   "metadata": {},
   "outputs": [
    {
     "data": {
      "text/plain": [
       "('/opt/DADOS_ANS/DADOS_OPERADORAS/operadoras_ativas.csv',\n",
       " <http.client.HTTPMessage at 0x7fb3c1e9f390>)"
      ]
     },
     "execution_count": 20,
     "metadata": {},
     "output_type": "execute_result"
    }
   ],
   "source": [
    "urllib.request.urlretrieve(PARAMETROS['url_csv_operadoras_ativas'], NOME_ARQUIVO_DOWNLOAD)"
   ]
  },
  {
   "cell_type": "code",
   "execution_count": 27,
   "metadata": {},
   "outputs": [],
   "source": [
    "df_operadoras_ativas = pd.read_csv(NOME_ARQUIVO_DOWNLOAD,sep=\";\",encoding=\"ISO-8859-1\",dtype=str)"
   ]
  },
  {
   "cell_type": "code",
   "execution_count": null,
   "metadata": {},
   "outputs": [],
   "source": []
  },
  {
   "cell_type": "markdown",
   "metadata": {},
   "source": [
    "## Filtrando operadoras ativas"
   ]
  },
  {
   "cell_type": "code",
   "execution_count": 37,
   "metadata": {},
   "outputs": [],
   "source": [
    "lista_regans_ativas = df_operadoras_ativas['Registro_ANS'].unique().tolist()"
   ]
  },
  {
   "cell_type": "code",
   "execution_count": 38,
   "metadata": {},
   "outputs": [],
   "source": [
    "df_operadoras = df_operadoras[df_operadoras['Registro_ANS'].isin(lista_regans_ativas)]"
   ]
  },
  {
   "cell_type": "code",
   "execution_count": 40,
   "metadata": {},
   "outputs": [],
   "source": [
    "df_operadoras.to_csv(NOME_ARQUIVO_FINAL,index=False)"
   ]
  },
  {
   "cell_type": "code",
   "execution_count": 41,
   "metadata": {},
   "outputs": [
    {
     "data": {
      "text/plain": [
       "'/opt/DADOS_ANS/DADOS_OPERADORAS/dados_operadoras.csv'"
      ]
     },
     "execution_count": 41,
     "metadata": {},
     "output_type": "execute_result"
    }
   ],
   "source": [
    "NOME_ARQUIVO_FINAL"
   ]
  },
  {
   "cell_type": "code",
   "execution_count": null,
   "metadata": {},
   "outputs": [],
   "source": []
  }
 ],
 "metadata": {
  "kernelspec": {
   "display_name": "Python 3",
   "language": "python",
   "name": "python3"
  },
  "language_info": {
   "codemirror_mode": {
    "name": "ipython",
    "version": 3
   },
   "file_extension": ".py",
   "mimetype": "text/x-python",
   "name": "python",
   "nbconvert_exporter": "python",
   "pygments_lexer": "ipython3",
   "version": "3.6.5"
  }
 },
 "nbformat": 4,
 "nbformat_minor": 2
}
