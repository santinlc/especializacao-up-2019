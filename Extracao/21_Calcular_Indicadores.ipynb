{
 "cells": [
  {
   "cell_type": "code",
   "execution_count": 1,
   "metadata": {},
   "outputs": [],
   "source": [
    "import pandas as pd"
   ]
  },
  {
   "cell_type": "code",
   "execution_count": 2,
   "metadata": {},
   "outputs": [],
   "source": [
    "import configparser\n",
    "\n",
    "config = configparser.RawConfigParser()\n",
    "config.read('parametros.config')\n",
    "PARAMETROS_GERAIS = dict(config.items('Geral'))"
   ]
  },
  {
   "cell_type": "code",
   "execution_count": 3,
   "metadata": {},
   "outputs": [],
   "source": [
    "ARQUIVO_TODAS_DEMONSTRACOES = PARAMETROS_GERAIS['pasta_raiz_dados']+PARAMETROS_GERAIS['arquivo_final_todas_demonstracoes']"
   ]
  },
  {
   "cell_type": "code",
   "execution_count": 4,
   "metadata": {},
   "outputs": [
    {
     "data": {
      "text/plain": [
       "'D:/tccdata/todas_demonstracoes_concatenadas.csv'"
      ]
     },
     "execution_count": 4,
     "metadata": {},
     "output_type": "execute_result"
    }
   ],
   "source": [
    "ARQUIVO_TODAS_DEMONSTRACOES"
   ]
  },
  {
   "cell_type": "code",
   "execution_count": 5,
   "metadata": {},
   "outputs": [],
   "source": [
    "df_demonstracoes_plano_contas = pd.read_csv(ARQUIVO_TODAS_DEMONSTRACOES,encoding=\"ISO-8859-1\")"
   ]
  },
  {
   "cell_type": "code",
   "execution_count": 6,
   "metadata": {},
   "outputs": [],
   "source": [
    "df_idss = pd.read_csv(\"../entrada/idss_alto_nivel.csv\",encoding=\"ISO-8859-1\")"
   ]
  },
  {
   "cell_type": "code",
   "execution_count": 7,
   "metadata": {},
   "outputs": [],
   "source": [
    "df_demonstracoes = df_demonstracoes_plano_contas.copy()"
   ]
  },
  {
   "cell_type": "code",
   "execution_count": 8,
   "metadata": {},
   "outputs": [
    {
     "data": {
      "text/plain": [
       "9601"
      ]
     },
     "execution_count": 8,
     "metadata": {},
     "output_type": "execute_result"
    }
   ],
   "source": [
    "len(df_demonstracoes_plano_contas)"
   ]
  },
  {
   "cell_type": "code",
   "execution_count": 9,
   "metadata": {},
   "outputs": [
    {
     "data": {
      "text/plain": [
       "Index(['REG_ANS', 'ANO', 'SEMESTRE', 'DESPESA DE COMERCIALIZAÇÃO DIFERIDA',\n",
       "       'ATIVO NÃO CIRCULANTE INTANGÍVEL', 'DESPESAS ANTECIPADAS',\n",
       "       'CRÉDITO TRIBUTÁRIO', 'PARTICIPAÇÕES OPS',\n",
       "       'PARTICIPAÇÕES INSTITUIÇÕES REGULADAS', 'PARTICIPAÇÕES COOPERATIVAS',\n",
       "       'APLICAÇÕES GARANTIDORAS', 'PPSC', 'RECEITAS FINANCEIRAS',\n",
       "       'DESPESAS FINANCEIRAS', 'OUTRAS RECEITAS OPERACIONAIS',\n",
       "       'OUTRAS DESPESAS OPERACIONAIS', 'DESPESA', 'RECEITA',\n",
       "       'TRIBUTOS DIRETOS', 'IMPOSTO SOBRE LUCRO', 'PEONA_SUS', 'PEONA_OUTROS',\n",
       "       'PESL_OUTROS', 'PESL_SUS', 'REMISSAO', 'PPCNG', 'PROVISOES_TECNICAS',\n",
       "       'DESPESA_ADM', 'DESPESA_COM', 'VARIACAO_PEONA',\n",
       "       'EVENTOS_INDENIZAVEIS_POS', 'EVENTOS_INDENIZAVEIS_PRE',\n",
       "       'EVENTOS_INDENIZAVEIS_LIQUIDOS', 'CORRESP_CEDIDA_POS',\n",
       "       'CORRESP_CEDIDA_PRE', 'CONTRAPRESTACAO_POS', 'CONTRAPRESTACAO_PRE',\n",
       "       'RECEITA_COM_ASSISTENCIA_A_SAUDE', 'PL', 'PASSIVO_NAO_CIRCULANTE',\n",
       "       'PASSIVO_CIRCULANTE', 'PASSIVO', 'CREDITO_OPER_PS', 'ATIVO_CIRCULANTE',\n",
       "       'ATIVO'],\n",
       "      dtype='object')"
      ]
     },
     "execution_count": 9,
     "metadata": {},
     "output_type": "execute_result"
    }
   ],
   "source": [
    "df_demonstracoes.columns"
   ]
  },
  {
   "cell_type": "code",
   "execution_count": 10,
   "metadata": {},
   "outputs": [],
   "source": [
    "df_demons = df_demonstracoes.merge(df_idss,left_on=['REG_ANS','ANO'],right_on=['Registro_ANS','ano'])"
   ]
  },
  {
   "cell_type": "code",
   "execution_count": 11,
   "metadata": {},
   "outputs": [
    {
     "data": {
      "text/plain": [
       "Index(['REG_ANS', 'ANO', 'SEMESTRE', 'DESPESA DE COMERCIALIZAÇÃO DIFERIDA',\n",
       "       'ATIVO NÃO CIRCULANTE INTANGÍVEL', 'DESPESAS ANTECIPADAS',\n",
       "       'CRÉDITO TRIBUTÁRIO', 'PARTICIPAÇÕES OPS',\n",
       "       'PARTICIPAÇÕES INSTITUIÇÕES REGULADAS', 'PARTICIPAÇÕES COOPERATIVAS',\n",
       "       'APLICAÇÕES GARANTIDORAS', 'PPSC', 'RECEITAS FINANCEIRAS',\n",
       "       'DESPESAS FINANCEIRAS', 'OUTRAS RECEITAS OPERACIONAIS',\n",
       "       'OUTRAS DESPESAS OPERACIONAIS', 'DESPESA', 'RECEITA',\n",
       "       'TRIBUTOS DIRETOS', 'IMPOSTO SOBRE LUCRO', 'PEONA_SUS', 'PEONA_OUTROS',\n",
       "       'PESL_OUTROS', 'PESL_SUS', 'REMISSAO', 'PPCNG', 'PROVISOES_TECNICAS',\n",
       "       'DESPESA_ADM', 'DESPESA_COM', 'VARIACAO_PEONA',\n",
       "       'EVENTOS_INDENIZAVEIS_POS', 'EVENTOS_INDENIZAVEIS_PRE',\n",
       "       'EVENTOS_INDENIZAVEIS_LIQUIDOS', 'CORRESP_CEDIDA_POS',\n",
       "       'CORRESP_CEDIDA_PRE', 'CONTRAPRESTACAO_POS', 'CONTRAPRESTACAO_PRE',\n",
       "       'RECEITA_COM_ASSISTENCIA_A_SAUDE', 'PL', 'PASSIVO_NAO_CIRCULANTE',\n",
       "       'PASSIVO_CIRCULANTE', 'PASSIVO', 'CREDITO_OPER_PS', 'ATIVO_CIRCULANTE',\n",
       "       'ATIVO', 'Registro_ANS', 'ano', 'porte', 'alto_nivel'],\n",
       "      dtype='object')"
      ]
     },
     "execution_count": 11,
     "metadata": {},
     "output_type": "execute_result"
    }
   ],
   "source": [
    "df_demons.columns"
   ]
  },
  {
   "cell_type": "markdown",
   "metadata": {},
   "source": [
    "#### Margem de lucro líquida (MLL)"
   ]
  },
  {
   "cell_type": "code",
   "execution_count": 12,
   "metadata": {},
   "outputs": [],
   "source": [
    "\n",
    "df_demons['RESULTADO_LIQUIDO'] = df_demons['RECEITA']-df_demons['DESPESA']-df_demons['IMPOSTO SOBRE LUCRO']\n",
    "df_demons['CORRESPONSABILIDADE_CEDIDA_EFETIVA'] = df_demons['CORRESP_CEDIDA_PRE'].abs() + df_demons['CORRESP_CEDIDA_POS'].abs()\n",
    "df_demons['CONTRAPRESTACOES_EFETIVAS'] = df_demons['RECEITA_COM_ASSISTENCIA_A_SAUDE'] + \\\n",
    "                                    df_demons['CORRESPONSABILIDADE_CEDIDA_EFETIVA'] +\\\n",
    "                                    df_demons['TRIBUTOS DIRETOS']\n",
    "df_demons['MLL'] = df_demons['RESULTADO_LIQUIDO']/df_demons['CONTRAPRESTACOES_EFETIVAS']\n"
   ]
  },
  {
   "cell_type": "markdown",
   "metadata": {},
   "source": [
    "#### Retorno sobre o Patrimônio Líquido (ROE)"
   ]
  },
  {
   "cell_type": "code",
   "execution_count": 13,
   "metadata": {},
   "outputs": [],
   "source": [
    "df_demons[\"ROE\"] = df_demons['RESULTADO_LIQUIDO']/df_demons['PL']\n"
   ]
  },
  {
   "cell_type": "markdown",
   "metadata": {},
   "source": [
    "#### Retorno sobre o Ativo (ROA)"
   ]
  },
  {
   "cell_type": "code",
   "execution_count": 14,
   "metadata": {},
   "outputs": [],
   "source": [
    "df_demons[\"ROA\"] = df_demons['RESULTADO_LIQUIDO']/df_demons['ATIVO']"
   ]
  },
  {
   "cell_type": "markdown",
   "metadata": {},
   "source": [
    "#### Percentual de Despesas Assistenciais em relação às Receitas de Contraprestações (DM)"
   ]
  },
  {
   "cell_type": "code",
   "execution_count": 15,
   "metadata": {},
   "outputs": [],
   "source": [
    "df_demons['Eventos indenizáveis líquidos'] = (df_demons['DESPESA']+ \\\n",
    "                                df_demons['CORRESPONSABILIDADE_CEDIDA_EFETIVA'])\n",
    "df_demons['DM'] = df_demons['Eventos indenizáveis líquidos']/df_demons['CONTRAPRESTACOES_EFETIVAS']\n"
   ]
  },
  {
   "cell_type": "markdown",
   "metadata": {},
   "source": [
    "#### Percentual de Despesas Administrativas em relação às Receitas de Contraprestações (DA)"
   ]
  },
  {
   "cell_type": "code",
   "execution_count": 16,
   "metadata": {},
   "outputs": [],
   "source": [
    "df_demons['DA'] = df_demons['DESPESA_ADM']/df_demons['CONTRAPRESTACOES_EFETIVAS']"
   ]
  },
  {
   "cell_type": "markdown",
   "metadata": {},
   "source": [
    "#### Percentual de Despesa Comercial em relação à Receita de Contraprestações (DC)"
   ]
  },
  {
   "cell_type": "code",
   "execution_count": 17,
   "metadata": {},
   "outputs": [],
   "source": [
    "df_demons['DC'] = df_demons['DESPESA_COM']/df_demons['CONTRAPRESTACOES_EFETIVAS']"
   ]
  },
  {
   "cell_type": "markdown",
   "metadata": {},
   "source": [
    "### Percentual de Despesas Operacionais em relação às Receitas Operacionais (DOP)"
   ]
  },
  {
   "cell_type": "code",
   "execution_count": 18,
   "metadata": {},
   "outputs": [],
   "source": [
    "df_demons['DOP'] = (df_demons['Eventos indenizáveis líquidos']+df_demons['DESPESA_ADM']+ \\\n",
    "                    df_demons['DESPESA_COM'] + df_demons['OUTRAS DESPESAS OPERACIONAIS'])/ \\\n",
    "                    (df_demons['CONTRAPRESTACOES_EFETIVAS'] + df_demons['OUTRAS RECEITAS OPERACIONAIS'])"
   ]
  },
  {
   "cell_type": "markdown",
   "metadata": {},
   "source": [
    "#### Índice de Resultado Financeiro (IRF)"
   ]
  },
  {
   "cell_type": "code",
   "execution_count": 19,
   "metadata": {},
   "outputs": [],
   "source": [
    "df_demons['RESULTADO_FINANCEIRO_LIQUIDO'] = df_demons['RECEITAS FINANCEIRAS'] - df_demons['DESPESAS FINANCEIRAS']\n",
    "df_demons['IRF'] = df_demons['RESULTADO_FINANCEIRO_LIQUIDO']/df_demons['CONTRAPRESTACOES_EFETIVAS']"
   ]
  },
  {
   "cell_type": "markdown",
   "metadata": {},
   "source": [
    "#### Liquidez Corrente (LC)"
   ]
  },
  {
   "cell_type": "code",
   "execution_count": 20,
   "metadata": {},
   "outputs": [],
   "source": [
    "df_demons['LC'] = df_demons['ATIVO_CIRCULANTE']/df_demons['PASSIVO_CIRCULANTE']"
   ]
  },
  {
   "cell_type": "markdown",
   "metadata": {},
   "source": [
    "#### Capital de terceiros sobre o Capital próprio (CT/CP)"
   ]
  },
  {
   "cell_type": "code",
   "execution_count": 21,
   "metadata": {},
   "outputs": [],
   "source": [
    "df_demons['CT/CP'] = (df_demons['PASSIVO_CIRCULANTE'] + df_demons['PASSIVO_NAO_CIRCULANTE'])/ \\\n",
    "                        df_demons['PL']\n"
   ]
  },
  {
   "cell_type": "markdown",
   "metadata": {},
   "source": [
    "### Prazo Médio de Recebimento de Contraprestações (PMRC)"
   ]
  },
  {
   "cell_type": "code",
   "execution_count": 22,
   "metadata": {},
   "outputs": [],
   "source": [
    "df_demons['PMRC'] = ((df_demons['CREDITO_OPER_PS'] + df_demons['PPSC'].abs())/ \\\n",
    "                     df_demons['CONTRAPRESTACOES_EFETIVAS'])*360"
   ]
  },
  {
   "cell_type": "markdown",
   "metadata": {},
   "source": [
    "### Prazo Médio de Pagamento de Eventos (PMPE)"
   ]
  },
  {
   "cell_type": "code",
   "execution_count": 23,
   "metadata": {},
   "outputs": [],
   "source": [
    "df_demons['PROVISAO_EVENTOS_A_LIQUIDAR'] = df_demons['PESL_OUTROS']+df_demons['PEONA_SUS']\n",
    "df_demons['PMPE'] = (df_demons['PROVISAO_EVENTOS_A_LIQUIDAR']/df_demons['Eventos indenizáveis líquidos'])*360"
   ]
  },
  {
   "cell_type": "markdown",
   "metadata": {},
   "source": [
    "#### Suficiência de lastro das provisões técnicas"
   ]
  },
  {
   "cell_type": "code",
   "execution_count": 24,
   "metadata": {},
   "outputs": [],
   "source": [
    "df_demons['PROVISOES_TECNICAS_EXIGIDAS'] = df_demons['REMISSAO'] + df_demons['PESL_SUS']+ \\\n",
    "                                        df_demons['PESL_OUTROS'] + df_demons['PEONA_OUTROS']\n",
    "df_demons['Lastro P T'] = df_demons['APLICAÇÕES GARANTIDORAS']/df_demons['PROVISOES_TECNICAS_EXIGIDAS']"
   ]
  },
  {
   "cell_type": "code",
   "execution_count": 25,
   "metadata": {},
   "outputs": [
    {
     "data": {
      "text/plain": [
       "Index(['REG_ANS', 'ANO', 'SEMESTRE', 'DESPESA DE COMERCIALIZAÇÃO DIFERIDA',\n",
       "       'ATIVO NÃO CIRCULANTE INTANGÍVEL', 'DESPESAS ANTECIPADAS',\n",
       "       'CRÉDITO TRIBUTÁRIO', 'PARTICIPAÇÕES OPS',\n",
       "       'PARTICIPAÇÕES INSTITUIÇÕES REGULADAS', 'PARTICIPAÇÕES COOPERATIVAS',\n",
       "       'APLICAÇÕES GARANTIDORAS', 'PPSC', 'RECEITAS FINANCEIRAS',\n",
       "       'DESPESAS FINANCEIRAS', 'OUTRAS RECEITAS OPERACIONAIS',\n",
       "       'OUTRAS DESPESAS OPERACIONAIS', 'DESPESA', 'RECEITA',\n",
       "       'TRIBUTOS DIRETOS', 'IMPOSTO SOBRE LUCRO', 'PEONA_SUS', 'PEONA_OUTROS',\n",
       "       'PESL_OUTROS', 'PESL_SUS', 'REMISSAO', 'PPCNG', 'PROVISOES_TECNICAS',\n",
       "       'DESPESA_ADM', 'DESPESA_COM', 'VARIACAO_PEONA',\n",
       "       'EVENTOS_INDENIZAVEIS_POS', 'EVENTOS_INDENIZAVEIS_PRE',\n",
       "       'EVENTOS_INDENIZAVEIS_LIQUIDOS', 'CORRESP_CEDIDA_POS',\n",
       "       'CORRESP_CEDIDA_PRE', 'CONTRAPRESTACAO_POS', 'CONTRAPRESTACAO_PRE',\n",
       "       'RECEITA_COM_ASSISTENCIA_A_SAUDE', 'PL', 'PASSIVO_NAO_CIRCULANTE',\n",
       "       'PASSIVO_CIRCULANTE', 'PASSIVO', 'CREDITO_OPER_PS', 'ATIVO_CIRCULANTE',\n",
       "       'ATIVO', 'Registro_ANS', 'ano', 'porte', 'alto_nivel',\n",
       "       'RESULTADO_LIQUIDO', 'CORRESPONSABILIDADE_CEDIDA_EFETIVA',\n",
       "       'CONTRAPRESTACOES_EFETIVAS', 'MLL', 'ROE', 'ROA',\n",
       "       'Eventos indenizáveis líquidos', 'DM', 'DA', 'DC', 'DOP',\n",
       "       'RESULTADO_FINANCEIRO_LIQUIDO', 'IRF', 'LC', 'CT/CP', 'PMRC',\n",
       "       'PROVISAO_EVENTOS_A_LIQUIDAR', 'PMPE', 'PROVISOES_TECNICAS_EXIGIDAS',\n",
       "       'Lastro P T'],\n",
       "      dtype='object')"
      ]
     },
     "execution_count": 25,
     "metadata": {},
     "output_type": "execute_result"
    }
   ],
   "source": [
    "df_demons.columns"
   ]
  },
  {
   "cell_type": "code",
   "execution_count": 26,
   "metadata": {},
   "outputs": [],
   "source": [
    "df_indicadores = df_demons.groupby(['ANO','SEMESTRE','porte'],as_index=False).mean()"
   ]
  },
  {
   "cell_type": "code",
   "execution_count": 27,
   "metadata": {},
   "outputs": [],
   "source": [
    "df_indicadores = df_indicadores[[\n",
    "    'ANO','SEMESTRE','porte','MLL','ROE','ROA','DM','DA','DC','DOP','IRF','LC','CT/CP','PMRC','PMPE','Lastro P T'\n",
    "]]"
   ]
  },
  {
   "cell_type": "code",
   "execution_count": 29,
   "metadata": {},
   "outputs": [],
   "source": [
    "df_indicadores.to_csv('../entrada/indicadores_cooperativas.csv',index=False,encoding=\"ISO-8859-1\",float_format='%.2f')"
   ]
  },
  {
   "cell_type": "code",
   "execution_count": null,
   "metadata": {},
   "outputs": [],
   "source": []
  }
 ],
 "metadata": {
  "kernelspec": {
   "display_name": "Python 3",
   "language": "python",
   "name": "python3"
  },
  "language_info": {
   "codemirror_mode": {
    "name": "ipython",
    "version": 3
   },
   "file_extension": ".py",
   "mimetype": "text/x-python",
   "name": "python",
   "nbconvert_exporter": "python",
   "pygments_lexer": "ipython3",
   "version": "3.6.5"
  }
 },
 "nbformat": 4,
 "nbformat_minor": 4
}
