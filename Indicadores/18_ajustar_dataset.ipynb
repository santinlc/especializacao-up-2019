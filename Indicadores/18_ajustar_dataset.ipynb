{
 "cells": [
  {
   "cell_type": "code",
   "execution_count": null,
   "metadata": {},
   "outputs": [],
   "source": [
    "import pandas as pd"
   ]
  },
  {
   "cell_type": "code",
   "execution_count": null,
   "metadata": {},
   "outputs": [],
   "source": [
    "df_demonstracoes_plano_contas = pd.read_csv(\"../Datasets/todas_demonstracoes_concatenadas.csv\",encoding=\"ISO-8859-1\")"
   ]
  },
  {
   "cell_type": "code",
   "execution_count": null,
   "metadata": {},
   "outputs": [],
   "source": [
    "len(df_demonstracoes_plano_contas)"
   ]
  },
  {
   "cell_type": "code",
   "execution_count": null,
   "metadata": {},
   "outputs": [],
   "source": [
    "colunas_gerar_variacao = [\n",
    "    'RECEITA_COM_ASSISTENCIA_A_SAUDE',\n",
    "    'CONTRAPRESTACAO_PRE',\n",
    "    'CONTRAPRESTACAO_POS',\n",
    "    'CORRESP_CEDIDA_PRE',\n",
    "    'CORRESP_CEDIDA_POS',\n",
    "    'EVENTOS_INDENIZAVEIS_LIQUIDOS',\n",
    "    'EVENTOS_INDENIZAVEIS_PRE',\n",
    "    'EVENTOS_INDENIZAVEIS_POS',\n",
    "    'VARIACAO_PEONA',\n",
    "    'DESPESA_COM',\n",
    "    'DESPESA_ADM',\n",
    "    'IMPOSTO SOBRE LUCRO',\n",
    "    'TRIBUTOS DIRETOS',\n",
    "    'RECEITA',\n",
    "    'DESPESA',\n",
    "    'OUTRAS DESPESAS OPERACIONAIS',\n",
    "    'OUTRAS RECEITAS OPERACIONAIS',\n",
    "    'DESPESAS FINANCEIRAS',\n",
    "    'RECEITAS FINANCEIRAS',\n",
    "    'PPSC'\n",
    "]"
   ]
  },
  {
   "cell_type": "code",
   "execution_count": null,
   "metadata": {},
   "outputs": [],
   "source": [
    "df_demonstracoes_plano_contas['CHAVE_PERIODO'] = df_demonstracoes_plano_contas['REG_ANS'].astype(str)+\\\n",
    "                                                  df_demonstracoes_plano_contas['PERIODO'].astype(str)\n",
    "df_demonstracoes_plano_contas['CHAVE_PERIODO'] = df_demonstracoes_plano_contas['CHAVE_PERIODO'].astype(int)"
   ]
  },
  {
   "cell_type": "code",
   "execution_count": null,
   "metadata": {},
   "outputs": [],
   "source": [
    "## Visualizando \n",
    "df_demonstracoes_plano_contas[(df_demonstracoes_plano_contas['REG_ANS'] == 300136)\\\n",
    "                             &(df_demonstracoes_plano_contas['ANO'] == 2015)][['CHAVE_PERIODO']+colunas_gerar_variacao]"
   ]
  },
  {
   "cell_type": "code",
   "execution_count": null,
   "metadata": {},
   "outputs": [],
   "source": [
    "def calcular_variacao(x):\n",
    "    #verifica se o periodo não é o primeiro trimestre\n",
    "    chave_per_anterior = x['CHAVE_PERIODO'] -1\n",
    "    if (chave_per_anterior%10 > 0):\n",
    "        df_anterior = df_demonstracoes_plano_contas[df_demonstracoes_plano_contas[\"CHAVE_PERIODO\"] == chave_per_anterior]\n",
    "        periodo_anterior = df_anterior.sum()\n",
    "#         print(x['CHAVE_PERIODO'],periodo_anterior['CHAVE_PERIODO'])\n",
    "        for conta in colunas_gerar_variacao:\n",
    "            x[conta] = x[conta] - periodo_anterior[conta]\n",
    "    return x"
   ]
  },
  {
   "cell_type": "code",
   "execution_count": null,
   "metadata": {},
   "outputs": [],
   "source": [
    "df_temp = df_demonstracoes_plano_contas.apply(lambda x: calcular_variacao(x),axis=1)"
   ]
  },
  {
   "cell_type": "code",
   "execution_count": null,
   "metadata": {},
   "outputs": [],
   "source": [
    "df_temp[(df_temp['REG_ANS'] == 300136)\\\n",
    "                             &(df_temp['ANO'] == 2015)][['CHAVE_PERIODO']+colunas_gerar_variacao]"
   ]
  },
  {
   "cell_type": "code",
   "execution_count": null,
   "metadata": {},
   "outputs": [],
   "source": [
    "df_temp.to_csv(\"../Datasets/todas_demonstracoes_concatenadas.csv\",encoding=\"ISO-8859-1\",index=False)"
   ]
  },
  {
   "cell_type": "code",
   "execution_count": null,
   "metadata": {},
   "outputs": [],
   "source": []
  }
 ],
 "metadata": {
  "kernelspec": {
   "display_name": "Python 3",
   "language": "python",
   "name": "python3"
  },
  "language_info": {
   "codemirror_mode": {
    "name": "ipython",
    "version": 3
   },
   "file_extension": ".py",
   "mimetype": "text/x-python",
   "name": "python",
   "nbconvert_exporter": "python",
   "pygments_lexer": "ipython3",
   "version": "3.7.4"
  }
 },
 "nbformat": 4,
 "nbformat_minor": 4
}
