{
 "cells": [
  {
   "cell_type": "markdown",
   "metadata": {},
   "source": [
    "## Tranformar datase de IDS para utilizar apenas dimensão economica"
   ]
  },
  {
   "cell_type": "code",
   "execution_count": 32,
   "metadata": {},
   "outputs": [],
   "source": [
    "import pandas as pd\n",
    "from lxml import html\n",
    "import requests\n",
    "import zipfile\n",
    "import io\n",
    "import os\n",
    "from pathlib import Path\n",
    "import csv"
   ]
  },
  {
   "cell_type": "code",
   "execution_count": 33,
   "metadata": {},
   "outputs": [],
   "source": [
    "df = pd.read_csv(\"http://ftp.dadosabertos.ans.gov.br/FTP/PDA/historico_idss/historico_idss.csv\",sep=\";\",encoding=\"ISO-8859-1\")"
   ]
  },
  {
   "cell_type": "code",
   "execution_count": 34,
   "metadata": {},
   "outputs": [
    {
     "data": {
      "text/plain": [
       "Index(['Registro', 'CNPJ', 'Razao_Social', 'Modalidade', 'IDSS_2009_2008',\n",
       "       'IDSS_2010_2009', 'IDSS_2011_2010', 'IDAS_2011_2010', 'IDEO_2011_2010',\n",
       "       'IDEF_2011_2010', 'IDSB_2011_2010', 'IDSS_2012_2011', 'IDAS_2012_2011',\n",
       "       'IDEO_2012_2011', 'IDEF_2012_2011', 'IDSB_2012_2011', 'IDSS_2013_2012',\n",
       "       'IDAS_2013_2012', 'IDEO_2013_2012', 'IDEF_2013_2012', 'IDSB_2013_2012',\n",
       "       'IDSS_2014_2013', 'IDAS_2014_2013', 'IDEO_2014_2013', 'IDEF_2014_2013',\n",
       "       'IDSB_2014_2013', 'IDSS_2015_2014', 'IDAS_2015_2014', 'IDEO_2015_2014',\n",
       "       'IDEF_2015_2014', 'IDSB_2015_2014', 'IDSS_2016_2015', 'IDQS_2016_2015',\n",
       "       'IDGA_2016_2015', 'IDSM_2016_2015', 'IDGR_2016_2015', 'IDSS_2017_2016',\n",
       "       'IDQS_2017_2016', 'IDGA_2017_2016', 'IDSM_2017_2016', 'IDGR_2017_2016',\n",
       "       'IDSS_2018_2017', 'IDQS_2018_2017', 'IDGA_2018_2017', 'IDSM_2018_2017',\n",
       "       'IDGR_2018_2017'],\n",
       "      dtype='object')"
      ]
     },
     "execution_count": 34,
     "metadata": {},
     "output_type": "execute_result"
    }
   ],
   "source": [
    "df.columns"
   ]
  },
  {
   "cell_type": "code",
   "execution_count": 35,
   "metadata": {},
   "outputs": [],
   "source": [
    "df = df[['Registro','Razao_Social','Modalidade','IDSM_2018_2017']]"
   ]
  },
  {
   "cell_type": "markdown",
   "metadata": {},
   "source": [
    "## Filtrando para obter apenas cooperativas"
   ]
  },
  {
   "cell_type": "code",
   "execution_count": 36,
   "metadata": {},
   "outputs": [],
   "source": [
    "df_cooperativas = df[df['Modalidade'] == \"Cooperativa Médica\"]"
   ]
  },
  {
   "cell_type": "code",
   "execution_count": 37,
   "metadata": {},
   "outputs": [
    {
     "name": "stderr",
     "output_type": "stream",
     "text": [
      "/home/leticia/anaconda3/lib/python3.7/site-packages/ipykernel_launcher.py:1: SettingWithCopyWarning: \n",
      "A value is trying to be set on a copy of a slice from a DataFrame\n",
      "\n",
      "See the caveats in the documentation: http://pandas.pydata.org/pandas-docs/stable/user_guide/indexing.html#returning-a-view-versus-a-copy\n",
      "  \"\"\"Entry point for launching an IPython kernel.\n"
     ]
    }
   ],
   "source": [
    "df_cooperativas.dropna(inplace=True)"
   ]
  },
  {
   "cell_type": "code",
   "execution_count": 38,
   "metadata": {},
   "outputs": [
    {
     "data": {
      "text/html": [
       "<div>\n",
       "<style scoped>\n",
       "    .dataframe tbody tr th:only-of-type {\n",
       "        vertical-align: middle;\n",
       "    }\n",
       "\n",
       "    .dataframe tbody tr th {\n",
       "        vertical-align: top;\n",
       "    }\n",
       "\n",
       "    .dataframe thead th {\n",
       "        text-align: right;\n",
       "    }\n",
       "</style>\n",
       "<table border=\"1\" class=\"dataframe\">\n",
       "  <thead>\n",
       "    <tr style=\"text-align: right;\">\n",
       "      <th></th>\n",
       "      <th>Registro</th>\n",
       "      <th>Razao_Social</th>\n",
       "      <th>Modalidade</th>\n",
       "      <th>IDSM_2018_2017</th>\n",
       "    </tr>\n",
       "  </thead>\n",
       "  <tbody>\n",
       "    <tr>\n",
       "      <td>14</td>\n",
       "      <td>300136</td>\n",
       "      <td>UNIMED LITORAL SUL/RS - COOPERATIVA MÉDICA LTDA.</td>\n",
       "      <td>Cooperativa Médica</td>\n",
       "      <td>0,6030</td>\n",
       "    </tr>\n",
       "    <tr>\n",
       "      <td>18</td>\n",
       "      <td>300713</td>\n",
       "      <td>UNIMED DE ASSIS COOPERATIVA DE TRABALHO MÉDICO</td>\n",
       "      <td>Cooperativa Médica</td>\n",
       "      <td>0,9640</td>\n",
       "    </tr>\n",
       "    <tr>\n",
       "      <td>21</td>\n",
       "      <td>300870</td>\n",
       "      <td>UNIMED DO BRASIL - CONF. NACIONAL DAS COOPERAT...</td>\n",
       "      <td>Cooperativa Médica</td>\n",
       "      <td>0,5714</td>\n",
       "    </tr>\n",
       "    <tr>\n",
       "      <td>25</td>\n",
       "      <td>301060</td>\n",
       "      <td>UNIMED ITUIUTABA COOPERATIVA TRABALHO MÉDICO L...</td>\n",
       "      <td>Cooperativa Médica</td>\n",
       "      <td>0,9914</td>\n",
       "    </tr>\n",
       "    <tr>\n",
       "      <td>26</td>\n",
       "      <td>301124</td>\n",
       "      <td>UNIMED GURUPI COOPERATIVA DE TRABALHO MÉDICO</td>\n",
       "      <td>Cooperativa Médica</td>\n",
       "      <td>0,6660</td>\n",
       "    </tr>\n",
       "  </tbody>\n",
       "</table>\n",
       "</div>"
      ],
      "text/plain": [
       "    Registro                                       Razao_Social  \\\n",
       "14    300136   UNIMED LITORAL SUL/RS - COOPERATIVA MÉDICA LTDA.   \n",
       "18    300713     UNIMED DE ASSIS COOPERATIVA DE TRABALHO MÉDICO   \n",
       "21    300870  UNIMED DO BRASIL - CONF. NACIONAL DAS COOPERAT...   \n",
       "25    301060  UNIMED ITUIUTABA COOPERATIVA TRABALHO MÉDICO L...   \n",
       "26    301124       UNIMED GURUPI COOPERATIVA DE TRABALHO MÉDICO   \n",
       "\n",
       "            Modalidade IDSM_2018_2017  \n",
       "14  Cooperativa Médica         0,6030  \n",
       "18  Cooperativa Médica         0,9640  \n",
       "21  Cooperativa Médica         0,5714  \n",
       "25  Cooperativa Médica         0,9914  \n",
       "26  Cooperativa Médica         0,6660  "
      ]
     },
     "execution_count": 38,
     "metadata": {},
     "output_type": "execute_result"
    }
   ],
   "source": [
    "df_cooperativas.head()"
   ]
  },
  {
   "cell_type": "code",
   "execution_count": 39,
   "metadata": {},
   "outputs": [],
   "source": [
    "def converter_para_float(x):\n",
    "    try:\n",
    "        return float(x.replace(\".\",\"\").replace(\",\",\".\"))\n",
    "    except:\n",
    "        return 0\n",
    "        "
   ]
  },
  {
   "cell_type": "markdown",
   "metadata": {},
   "source": [
    "### Tranformando índices em variáveis do tipo float"
   ]
  },
  {
   "cell_type": "code",
   "execution_count": 40,
   "metadata": {},
   "outputs": [
    {
     "name": "stderr",
     "output_type": "stream",
     "text": [
      "/home/leticia/anaconda3/lib/python3.7/site-packages/ipykernel_launcher.py:3: SettingWithCopyWarning: \n",
      "A value is trying to be set on a copy of a slice from a DataFrame.\n",
      "Try using .loc[row_indexer,col_indexer] = value instead\n",
      "\n",
      "See the caveats in the documentation: http://pandas.pydata.org/pandas-docs/stable/user_guide/indexing.html#returning-a-view-versus-a-copy\n",
      "  This is separate from the ipykernel package so we can avoid doing imports until\n"
     ]
    }
   ],
   "source": [
    "colunas_indices = ['IDSM_2018_2017']\n",
    "for coluna in colunas_indices:\n",
    "    df_cooperativas[coluna] = df_cooperativas[coluna].apply(lambda x: converter_para_float(x))"
   ]
  },
  {
   "cell_type": "code",
   "execution_count": 41,
   "metadata": {},
   "outputs": [
    {
     "data": {
      "text/html": [
       "<div>\n",
       "<style scoped>\n",
       "    .dataframe tbody tr th:only-of-type {\n",
       "        vertical-align: middle;\n",
       "    }\n",
       "\n",
       "    .dataframe tbody tr th {\n",
       "        vertical-align: top;\n",
       "    }\n",
       "\n",
       "    .dataframe thead th {\n",
       "        text-align: right;\n",
       "    }\n",
       "</style>\n",
       "<table border=\"1\" class=\"dataframe\">\n",
       "  <thead>\n",
       "    <tr style=\"text-align: right;\">\n",
       "      <th></th>\n",
       "      <th>Registro</th>\n",
       "      <th>Razao_Social</th>\n",
       "      <th>Modalidade</th>\n",
       "      <th>IDSM_2018_2017</th>\n",
       "    </tr>\n",
       "  </thead>\n",
       "  <tbody>\n",
       "    <tr>\n",
       "      <td>14</td>\n",
       "      <td>300136</td>\n",
       "      <td>UNIMED LITORAL SUL/RS - COOPERATIVA MÉDICA LTDA.</td>\n",
       "      <td>Cooperativa Médica</td>\n",
       "      <td>0.6030</td>\n",
       "    </tr>\n",
       "    <tr>\n",
       "      <td>18</td>\n",
       "      <td>300713</td>\n",
       "      <td>UNIMED DE ASSIS COOPERATIVA DE TRABALHO MÉDICO</td>\n",
       "      <td>Cooperativa Médica</td>\n",
       "      <td>0.9640</td>\n",
       "    </tr>\n",
       "    <tr>\n",
       "      <td>21</td>\n",
       "      <td>300870</td>\n",
       "      <td>UNIMED DO BRASIL - CONF. NACIONAL DAS COOPERAT...</td>\n",
       "      <td>Cooperativa Médica</td>\n",
       "      <td>0.5714</td>\n",
       "    </tr>\n",
       "    <tr>\n",
       "      <td>25</td>\n",
       "      <td>301060</td>\n",
       "      <td>UNIMED ITUIUTABA COOPERATIVA TRABALHO MÉDICO L...</td>\n",
       "      <td>Cooperativa Médica</td>\n",
       "      <td>0.9914</td>\n",
       "    </tr>\n",
       "    <tr>\n",
       "      <td>26</td>\n",
       "      <td>301124</td>\n",
       "      <td>UNIMED GURUPI COOPERATIVA DE TRABALHO MÉDICO</td>\n",
       "      <td>Cooperativa Médica</td>\n",
       "      <td>0.6660</td>\n",
       "    </tr>\n",
       "  </tbody>\n",
       "</table>\n",
       "</div>"
      ],
      "text/plain": [
       "    Registro                                       Razao_Social  \\\n",
       "14    300136   UNIMED LITORAL SUL/RS - COOPERATIVA MÉDICA LTDA.   \n",
       "18    300713     UNIMED DE ASSIS COOPERATIVA DE TRABALHO MÉDICO   \n",
       "21    300870  UNIMED DO BRASIL - CONF. NACIONAL DAS COOPERAT...   \n",
       "25    301060  UNIMED ITUIUTABA COOPERATIVA TRABALHO MÉDICO L...   \n",
       "26    301124       UNIMED GURUPI COOPERATIVA DE TRABALHO MÉDICO   \n",
       "\n",
       "            Modalidade  IDSM_2018_2017  \n",
       "14  Cooperativa Médica          0.6030  \n",
       "18  Cooperativa Médica          0.9640  \n",
       "21  Cooperativa Médica          0.5714  \n",
       "25  Cooperativa Médica          0.9914  \n",
       "26  Cooperativa Médica          0.6660  "
      ]
     },
     "execution_count": 41,
     "metadata": {},
     "output_type": "execute_result"
    }
   ],
   "source": [
    "df_cooperativas.head()"
   ]
  },
  {
   "cell_type": "code",
   "execution_count": 42,
   "metadata": {},
   "outputs": [],
   "source": [
    "def converter_para_binario(x):\n",
    "    for coluna in colunas_indices:\n",
    "        valor_coluna = coluna.split(\"_\")[-1]\n",
    "#         print(coluna,valor_coluna)\n",
    "        if (x[coluna] >= 0.8):\n",
    "            x[\"utilizar_\"+valor_coluna] = 1\n",
    "        else:\n",
    "            x[\"utilizar_\"+valor_coluna] = 0\n",
    "    return x"
   ]
  },
  {
   "cell_type": "code",
   "execution_count": 43,
   "metadata": {},
   "outputs": [],
   "source": [
    "df_cooperativas= df_cooperativas.apply(lambda row: converter_para_binario(row) , axis=1)"
   ]
  },
  {
   "cell_type": "code",
   "execution_count": 44,
   "metadata": {},
   "outputs": [],
   "source": [
    "df_cooperativas.drop(columns=colunas_indices,inplace=True)"
   ]
  },
  {
   "cell_type": "code",
   "execution_count": 45,
   "metadata": {},
   "outputs": [
    {
     "data": {
      "text/plain": [
       "Index(['Registro', 'Razao_Social', 'Modalidade', 'utilizar_2017'], dtype='object')"
      ]
     },
     "execution_count": 45,
     "metadata": {},
     "output_type": "execute_result"
    }
   ],
   "source": [
    "df_cooperativas.columns"
   ]
  },
  {
   "cell_type": "code",
   "execution_count": 46,
   "metadata": {},
   "outputs": [
    {
     "data": {
      "text/html": [
       "<div>\n",
       "<style scoped>\n",
       "    .dataframe tbody tr th:only-of-type {\n",
       "        vertical-align: middle;\n",
       "    }\n",
       "\n",
       "    .dataframe tbody tr th {\n",
       "        vertical-align: top;\n",
       "    }\n",
       "\n",
       "    .dataframe thead th {\n",
       "        text-align: right;\n",
       "    }\n",
       "</style>\n",
       "<table border=\"1\" class=\"dataframe\">\n",
       "  <thead>\n",
       "    <tr style=\"text-align: right;\">\n",
       "      <th></th>\n",
       "      <th>Registro</th>\n",
       "      <th>Razao_Social</th>\n",
       "      <th>Modalidade</th>\n",
       "      <th>utilizar_2017</th>\n",
       "    </tr>\n",
       "  </thead>\n",
       "  <tbody>\n",
       "    <tr>\n",
       "      <td>14</td>\n",
       "      <td>300136</td>\n",
       "      <td>UNIMED LITORAL SUL/RS - COOPERATIVA MÉDICA LTDA.</td>\n",
       "      <td>Cooperativa Médica</td>\n",
       "      <td>0</td>\n",
       "    </tr>\n",
       "    <tr>\n",
       "      <td>18</td>\n",
       "      <td>300713</td>\n",
       "      <td>UNIMED DE ASSIS COOPERATIVA DE TRABALHO MÉDICO</td>\n",
       "      <td>Cooperativa Médica</td>\n",
       "      <td>1</td>\n",
       "    </tr>\n",
       "    <tr>\n",
       "      <td>21</td>\n",
       "      <td>300870</td>\n",
       "      <td>UNIMED DO BRASIL - CONF. NACIONAL DAS COOPERAT...</td>\n",
       "      <td>Cooperativa Médica</td>\n",
       "      <td>0</td>\n",
       "    </tr>\n",
       "    <tr>\n",
       "      <td>25</td>\n",
       "      <td>301060</td>\n",
       "      <td>UNIMED ITUIUTABA COOPERATIVA TRABALHO MÉDICO L...</td>\n",
       "      <td>Cooperativa Médica</td>\n",
       "      <td>1</td>\n",
       "    </tr>\n",
       "    <tr>\n",
       "      <td>26</td>\n",
       "      <td>301124</td>\n",
       "      <td>UNIMED GURUPI COOPERATIVA DE TRABALHO MÉDICO</td>\n",
       "      <td>Cooperativa Médica</td>\n",
       "      <td>0</td>\n",
       "    </tr>\n",
       "  </tbody>\n",
       "</table>\n",
       "</div>"
      ],
      "text/plain": [
       "    Registro                                       Razao_Social  \\\n",
       "14    300136   UNIMED LITORAL SUL/RS - COOPERATIVA MÉDICA LTDA.   \n",
       "18    300713     UNIMED DE ASSIS COOPERATIVA DE TRABALHO MÉDICO   \n",
       "21    300870  UNIMED DO BRASIL - CONF. NACIONAL DAS COOPERAT...   \n",
       "25    301060  UNIMED ITUIUTABA COOPERATIVA TRABALHO MÉDICO L...   \n",
       "26    301124       UNIMED GURUPI COOPERATIVA DE TRABALHO MÉDICO   \n",
       "\n",
       "            Modalidade  utilizar_2017  \n",
       "14  Cooperativa Médica              0  \n",
       "18  Cooperativa Médica              1  \n",
       "21  Cooperativa Médica              0  \n",
       "25  Cooperativa Médica              1  \n",
       "26  Cooperativa Médica              0  "
      ]
     },
     "execution_count": 46,
     "metadata": {},
     "output_type": "execute_result"
    }
   ],
   "source": [
    "df_cooperativas.head()"
   ]
  },
  {
   "cell_type": "code",
   "execution_count": 47,
   "metadata": {},
   "outputs": [],
   "source": [
    "df_cooperativas.set_index(\"Registro\",inplace=True)"
   ]
  },
  {
   "cell_type": "code",
   "execution_count": 48,
   "metadata": {},
   "outputs": [],
   "source": [
    "df_porte = pd.read_csv(\"../entrada/porte_operadoras.csv\",encoding=\"ISO-8859-1\")\n",
    "df_porte.drop(columns=['beneficiarios'],inplace=True)"
   ]
  },
  {
   "cell_type": "code",
   "execution_count": null,
   "metadata": {},
   "outputs": [],
   "source": []
  },
  {
   "cell_type": "code",
   "execution_count": 49,
   "metadata": {},
   "outputs": [],
   "source": [
    "df_porte[\"alto_nivel\"] = 0"
   ]
  },
  {
   "cell_type": "code",
   "execution_count": 50,
   "metadata": {},
   "outputs": [],
   "source": [
    "def marcar_registros_utilizacao(x):\n",
    "    _ano = x['ano']\n",
    "    valor = 0\n",
    "    if (_ano in range(2011,2018)):\n",
    "        nome_coluna = \"utilizar_\"+str(_ano)\n",
    "        try:\n",
    "            valor =  df_cooperativas.loc[x['Registro_ANS'],:][nome_coluna]\n",
    "        except:\n",
    "            pass\n",
    "    return valor"
   ]
  },
  {
   "cell_type": "code",
   "execution_count": 51,
   "metadata": {},
   "outputs": [],
   "source": [
    "df_porte['alto_nivel'] = df_porte.apply(lambda x: marcar_registros_utilizacao(x),axis=1)"
   ]
  },
  {
   "cell_type": "code",
   "execution_count": 52,
   "metadata": {},
   "outputs": [],
   "source": [
    "if (not(os.path.exists('../entrada'))):\n",
    "    os.mkdir('../entrada')"
   ]
  },
  {
   "cell_type": "code",
   "execution_count": 53,
   "metadata": {},
   "outputs": [
    {
     "data": {
      "text/plain": [
       "11700"
      ]
     },
     "execution_count": 53,
     "metadata": {},
     "output_type": "execute_result"
    }
   ],
   "source": [
    "len(df_porte)"
   ]
  },
  {
   "cell_type": "code",
   "execution_count": 54,
   "metadata": {},
   "outputs": [],
   "source": [
    "df_porte = df_porte[df_porte['alto_nivel'] == 1]"
   ]
  },
  {
   "cell_type": "code",
   "execution_count": 55,
   "metadata": {},
   "outputs": [],
   "source": [
    "df_porte = df_porte[['Registro_ANS',\"porte\"]]"
   ]
  },
  {
   "cell_type": "code",
   "execution_count": 56,
   "metadata": {},
   "outputs": [],
   "source": [
    "df_porte.to_csv(\"../entrada/idss_alto_nivel.csv\",index=False,encoding=\"ISO-8859-1\")"
   ]
  }
 ],
 "metadata": {
  "kernelspec": {
   "display_name": "Python 3",
   "language": "python",
   "name": "python3"
  },
  "language_info": {
   "codemirror_mode": {
    "name": "ipython",
    "version": 3
   },
   "file_extension": ".py",
   "mimetype": "text/x-python",
   "name": "python",
   "nbconvert_exporter": "python",
   "pygments_lexer": "ipython3",
   "version": "3.7.4"
  }
 },
 "nbformat": 4,
 "nbformat_minor": 4
}
