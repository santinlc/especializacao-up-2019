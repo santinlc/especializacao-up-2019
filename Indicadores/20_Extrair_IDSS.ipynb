{
 "cells": [
  {
   "cell_type": "markdown",
   "metadata": {},
   "source": [
    "## Tranformar datase de IDS para utilizar apenas dimensão economica"
   ]
  },
  {
   "cell_type": "code",
   "execution_count": null,
   "metadata": {},
   "outputs": [],
   "source": [
    "import pandas as pd\n",
    "from lxml import html\n",
    "import requests\n",
    "import zipfile\n",
    "import io\n",
    "import os\n",
    "from pathlib import Path\n",
    "import csv"
   ]
  },
  {
   "cell_type": "code",
   "execution_count": null,
   "metadata": {},
   "outputs": [],
   "source": [
    "df = pd.read_csv(\"http://ftp.dadosabertos.ans.gov.br/FTP/PDA/historico_idss/historico_idss.csv\",sep=\";\",encoding=\"ISO-8859-1\")"
   ]
  },
  {
   "cell_type": "code",
   "execution_count": null,
   "metadata": {},
   "outputs": [],
   "source": [
    "df.columns"
   ]
  },
  {
   "cell_type": "code",
   "execution_count": null,
   "metadata": {},
   "outputs": [],
   "source": [
    "df = df[['Registro','Razao_Social','Modalidade','IDEF_2012_2011','IDEF_2013_2012','IDEF_2014_2013','IDEF_2015_2014','IDSM_2016_2015','IDSM_2017_2016','IDSM_2018_2017']]"
   ]
  },
  {
   "cell_type": "markdown",
   "metadata": {},
   "source": [
    "## Filtrando para obter apenas cooperativas"
   ]
  },
  {
   "cell_type": "code",
   "execution_count": null,
   "metadata": {},
   "outputs": [],
   "source": [
    "df_cooperativas = df[df['Modalidade'] == \"Cooperativa Médica\"]"
   ]
  },
  {
   "cell_type": "code",
   "execution_count": null,
   "metadata": {},
   "outputs": [],
   "source": [
    "df_cooperativas.dropna(inplace=True)"
   ]
  },
  {
   "cell_type": "code",
   "execution_count": null,
   "metadata": {},
   "outputs": [],
   "source": [
    "df_cooperativas.head()"
   ]
  },
  {
   "cell_type": "code",
   "execution_count": null,
   "metadata": {},
   "outputs": [],
   "source": [
    "def converter_para_float(x):\n",
    "    try:\n",
    "        return float(x.replace(\".\",\"\").replace(\",\",\".\"))\n",
    "    except:\n",
    "        return 0\n",
    "        "
   ]
  },
  {
   "cell_type": "markdown",
   "metadata": {},
   "source": [
    "### Tranformando índices em variáveis do tipo float"
   ]
  },
  {
   "cell_type": "code",
   "execution_count": null,
   "metadata": {},
   "outputs": [],
   "source": [
    "colunas_indices = ['IDEF_2012_2011','IDEF_2013_2012','IDEF_2014_2013','IDEF_2015_2014','IDSM_2016_2015','IDSM_2017_2016','IDSM_2018_2017']\n",
    "for coluna in colunas_indices:\n",
    "    df_cooperativas[coluna] = df_cooperativas[coluna].apply(lambda x: converter_para_float(x))"
   ]
  },
  {
   "cell_type": "code",
   "execution_count": null,
   "metadata": {},
   "outputs": [],
   "source": [
    "df_cooperativas.head()"
   ]
  },
  {
   "cell_type": "code",
   "execution_count": null,
   "metadata": {},
   "outputs": [],
   "source": [
    "def converter_para_binario(x):\n",
    "    for coluna in colunas_indices:\n",
    "        valor_coluna = coluna.split(\"_\")[-1]\n",
    "#         print(coluna,valor_coluna)\n",
    "        if (x[coluna] >= 0.8):\n",
    "            x[\"utilizar_\"+valor_coluna] = 1\n",
    "        else:\n",
    "            x[\"utilizar_\"+valor_coluna] = 0\n",
    "    return x"
   ]
  },
  {
   "cell_type": "code",
   "execution_count": null,
   "metadata": {},
   "outputs": [],
   "source": [
    "df_cooperativas= df_cooperativas.apply(lambda row: converter_para_binario(row) , axis=1)"
   ]
  },
  {
   "cell_type": "code",
   "execution_count": null,
   "metadata": {},
   "outputs": [],
   "source": [
    "df_cooperativas.drop(columns=colunas_indices,inplace=True)"
   ]
  },
  {
   "cell_type": "code",
   "execution_count": null,
   "metadata": {},
   "outputs": [],
   "source": [
    "df_cooperativas.columns"
   ]
  },
  {
   "cell_type": "code",
   "execution_count": null,
   "metadata": {},
   "outputs": [],
   "source": [
    "df_cooperativas.head()"
   ]
  },
  {
   "cell_type": "code",
   "execution_count": null,
   "metadata": {},
   "outputs": [],
   "source": [
    "df_cooperativas.set_index(\"Registro\",inplace=True)"
   ]
  },
  {
   "cell_type": "code",
   "execution_count": null,
   "metadata": {},
   "outputs": [],
   "source": [
    "df_porte = pd.read_csv(\"../entrada/porte_operadoras.csv\",encoding=\"ISO-8859-1\")\n",
    "df_porte.drop(columns=['beneficiarios'],inplace=True)"
   ]
  },
  {
   "cell_type": "code",
   "execution_count": null,
   "metadata": {},
   "outputs": [],
   "source": []
  },
  {
   "cell_type": "code",
   "execution_count": null,
   "metadata": {},
   "outputs": [],
   "source": [
    "df_porte[\"alto_nivel\"] = 0"
   ]
  },
  {
   "cell_type": "code",
   "execution_count": null,
   "metadata": {},
   "outputs": [],
   "source": [
    "def marcar_registros_utilizacao(x):\n",
    "    _ano = x['ano']\n",
    "    valor = 0\n",
    "    if (_ano in range(2011,2018)):\n",
    "        nome_coluna = \"utilizar_\"+str(_ano)\n",
    "        try:\n",
    "            valor =  df_cooperativas.loc[x['Registro_ANS'],:][nome_coluna]\n",
    "        except:\n",
    "            pass\n",
    "    return valor"
   ]
  },
  {
   "cell_type": "code",
   "execution_count": null,
   "metadata": {},
   "outputs": [],
   "source": [
    "df_porte['alto_nivel'] = df_porte.apply(lambda x: marcar_registros_utilizacao(x),axis=1)"
   ]
  },
  {
   "cell_type": "code",
   "execution_count": null,
   "metadata": {},
   "outputs": [],
   "source": [
    "if (not(os.path.exists('../entrada'))):\n",
    "    os.mkdir('../entrada')"
   ]
  },
  {
   "cell_type": "code",
   "execution_count": null,
   "metadata": {},
   "outputs": [],
   "source": [
    "len(df_porte)"
   ]
  },
  {
   "cell_type": "code",
   "execution_count": null,
   "metadata": {},
   "outputs": [],
   "source": [
    "df_porte = df_porte[df_porte['alto_nivel'] == 1]"
   ]
  },
  {
   "cell_type": "code",
   "execution_count": null,
   "metadata": {},
   "outputs": [],
   "source": [
    "len(df_porte)"
   ]
  },
  {
   "cell_type": "code",
   "execution_count": null,
   "metadata": {},
   "outputs": [],
   "source": [
    "df_porte.to_csv(\"../entrada/idss_alto_nivel.csv\",index=False,encoding=\"ISO-8859-1\")"
   ]
  },
  {
   "cell_type": "code",
   "execution_count": null,
   "metadata": {},
   "outputs": [],
   "source": [
    "df_porte.groupby(['ano','porte'])['Registro_ANS'].count()"
   ]
  },
  {
   "cell_type": "code",
   "execution_count": null,
   "metadata": {},
   "outputs": [],
   "source": []
  }
 ],
 "metadata": {
  "kernelspec": {
   "display_name": "Python 3",
   "language": "python",
   "name": "python3"
  },
  "language_info": {
   "codemirror_mode": {
    "name": "ipython",
    "version": 3
   },
   "file_extension": ".py",
   "mimetype": "text/x-python",
   "name": "python",
   "nbconvert_exporter": "python",
   "pygments_lexer": "ipython3",
   "version": "3.7.4"
  }
 },
 "nbformat": 4,
 "nbformat_minor": 4
}
