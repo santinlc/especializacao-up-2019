{
 "cells": [
  {
   "cell_type": "code",
   "execution_count": 1,
   "metadata": {},
   "outputs": [],
   "source": [
    "import pandas as pd\n",
    "from calculo_indicadores import CalculoIndicadores\n"
   ]
  },
  {
   "cell_type": "code",
   "execution_count": 2,
   "metadata": {},
   "outputs": [],
   "source": [
    "df_demonstracoes_plano_contas = pd.read_csv(\"../Datasets/todas_demonstracoes_concatenadas.csv\",encoding=\"ISO-8859-1\")"
   ]
  },
  {
   "cell_type": "code",
   "execution_count": 3,
   "metadata": {},
   "outputs": [],
   "source": [
    "df_idss = pd.read_csv(\"../Datasets/idss_alto_nivel.csv\",encoding=\"ISO-8859-1\")"
   ]
  },
  {
   "cell_type": "code",
   "execution_count": 4,
   "metadata": {},
   "outputs": [],
   "source": [
    "df_demons = df_demonstracoes_plano_contas[df_demonstracoes_plano_contas[\"REG_ANS\"].isin(df_idss['Registro_ANS'].tolist())]"
   ]
  },
  {
   "cell_type": "code",
   "execution_count": 5,
   "metadata": {},
   "outputs": [
    {
     "data": {
      "text/plain": [
       "7500"
      ]
     },
     "execution_count": 5,
     "metadata": {},
     "output_type": "execute_result"
    }
   ],
   "source": [
    "len(df_demonstracoes_plano_contas)"
   ]
  },
  {
   "cell_type": "code",
   "execution_count": 6,
   "metadata": {},
   "outputs": [],
   "source": [
    "calcIndicadores = CalculoIndicadores()"
   ]
  },
  {
   "cell_type": "markdown",
   "metadata": {},
   "source": [
    "#### Margem de lucro líquida (MLL)"
   ]
  },
  {
   "cell_type": "code",
   "execution_count": 7,
   "metadata": {},
   "outputs": [
    {
     "name": "stderr",
     "output_type": "stream",
     "text": [
      "/home/leticia/anaconda3/lib/python3.7/site-packages/ipykernel_launcher.py:1: SettingWithCopyWarning: \n",
      "A value is trying to be set on a copy of a slice from a DataFrame.\n",
      "Try using .loc[row_indexer,col_indexer] = value instead\n",
      "\n",
      "See the caveats in the documentation: http://pandas.pydata.org/pandas-docs/stable/user_guide/indexing.html#returning-a-view-versus-a-copy\n",
      "  \"\"\"Entry point for launching an IPython kernel.\n"
     ]
    }
   ],
   "source": [
    "df_demons['MLL'] = df_demons.apply(lambda x: calcIndicadores.calcular_mll(x),axis=1)"
   ]
  },
  {
   "cell_type": "markdown",
   "metadata": {},
   "source": [
    "#### Retorno sobre o Patrimônio Líquido (ROE)"
   ]
  },
  {
   "cell_type": "code",
   "execution_count": 8,
   "metadata": {},
   "outputs": [
    {
     "name": "stderr",
     "output_type": "stream",
     "text": [
      "/home/leticia/anaconda3/lib/python3.7/site-packages/ipykernel_launcher.py:1: SettingWithCopyWarning: \n",
      "A value is trying to be set on a copy of a slice from a DataFrame.\n",
      "Try using .loc[row_indexer,col_indexer] = value instead\n",
      "\n",
      "See the caveats in the documentation: http://pandas.pydata.org/pandas-docs/stable/user_guide/indexing.html#returning-a-view-versus-a-copy\n",
      "  \"\"\"Entry point for launching an IPython kernel.\n"
     ]
    }
   ],
   "source": [
    "df_demons[\"ROE\"] = df_demons.apply(lambda x:  calcIndicadores.calcular_roe(x),axis=1)"
   ]
  },
  {
   "cell_type": "markdown",
   "metadata": {},
   "source": [
    "#### Retorno sobre o Ativo (ROA)"
   ]
  },
  {
   "cell_type": "code",
   "execution_count": 9,
   "metadata": {},
   "outputs": [
    {
     "name": "stderr",
     "output_type": "stream",
     "text": [
      "/home/leticia/anaconda3/lib/python3.7/site-packages/ipykernel_launcher.py:1: SettingWithCopyWarning: \n",
      "A value is trying to be set on a copy of a slice from a DataFrame.\n",
      "Try using .loc[row_indexer,col_indexer] = value instead\n",
      "\n",
      "See the caveats in the documentation: http://pandas.pydata.org/pandas-docs/stable/user_guide/indexing.html#returning-a-view-versus-a-copy\n",
      "  \"\"\"Entry point for launching an IPython kernel.\n"
     ]
    }
   ],
   "source": [
    "df_demons[\"ROA\"] = df_demons.apply(lambda x:  calcIndicadores.calcular_roa(x),axis=1)"
   ]
  },
  {
   "cell_type": "markdown",
   "metadata": {},
   "source": [
    "#### Percentual de Despesas Assistenciais em relação às Receitas de Contraprestações (DM)"
   ]
  },
  {
   "cell_type": "code",
   "execution_count": 10,
   "metadata": {},
   "outputs": [
    {
     "name": "stderr",
     "output_type": "stream",
     "text": [
      "/home/leticia/anaconda3/lib/python3.7/site-packages/ipykernel_launcher.py:1: SettingWithCopyWarning: \n",
      "A value is trying to be set on a copy of a slice from a DataFrame.\n",
      "Try using .loc[row_indexer,col_indexer] = value instead\n",
      "\n",
      "See the caveats in the documentation: http://pandas.pydata.org/pandas-docs/stable/user_guide/indexing.html#returning-a-view-versus-a-copy\n",
      "  \"\"\"Entry point for launching an IPython kernel.\n"
     ]
    }
   ],
   "source": [
    "df_demons['DM'] = df_demons.apply(lambda x:  calcIndicadores.calcular_dm(x),axis=1)\n"
   ]
  },
  {
   "cell_type": "markdown",
   "metadata": {},
   "source": [
    "#### Percentual de Despesas Administrativas em relação às Receitas de Contraprestações (DA)"
   ]
  },
  {
   "cell_type": "code",
   "execution_count": 11,
   "metadata": {},
   "outputs": [
    {
     "name": "stderr",
     "output_type": "stream",
     "text": [
      "/home/leticia/anaconda3/lib/python3.7/site-packages/ipykernel_launcher.py:1: SettingWithCopyWarning: \n",
      "A value is trying to be set on a copy of a slice from a DataFrame.\n",
      "Try using .loc[row_indexer,col_indexer] = value instead\n",
      "\n",
      "See the caveats in the documentation: http://pandas.pydata.org/pandas-docs/stable/user_guide/indexing.html#returning-a-view-versus-a-copy\n",
      "  \"\"\"Entry point for launching an IPython kernel.\n"
     ]
    }
   ],
   "source": [
    "df_demons['DA'] = df_demons.apply(lambda x:  calcIndicadores.calcular_da(x),axis=1)"
   ]
  },
  {
   "cell_type": "markdown",
   "metadata": {},
   "source": [
    "#### Percentual de Despesa Comercial em relação à Receita de Contraprestações (DC)"
   ]
  },
  {
   "cell_type": "code",
   "execution_count": 12,
   "metadata": {},
   "outputs": [
    {
     "name": "stderr",
     "output_type": "stream",
     "text": [
      "/home/leticia/anaconda3/lib/python3.7/site-packages/ipykernel_launcher.py:1: SettingWithCopyWarning: \n",
      "A value is trying to be set on a copy of a slice from a DataFrame.\n",
      "Try using .loc[row_indexer,col_indexer] = value instead\n",
      "\n",
      "See the caveats in the documentation: http://pandas.pydata.org/pandas-docs/stable/user_guide/indexing.html#returning-a-view-versus-a-copy\n",
      "  \"\"\"Entry point for launching an IPython kernel.\n"
     ]
    }
   ],
   "source": [
    "df_demons['DC'] = df_demons.apply(lambda x:  calcIndicadores.calcular_dc(x),axis=1)"
   ]
  },
  {
   "cell_type": "markdown",
   "metadata": {},
   "source": [
    "### Percentual de Despesas Operacionais em relação às Receitas Operacionais (DOP)"
   ]
  },
  {
   "cell_type": "code",
   "execution_count": 13,
   "metadata": {},
   "outputs": [
    {
     "name": "stderr",
     "output_type": "stream",
     "text": [
      "/home/leticia/anaconda3/lib/python3.7/site-packages/ipykernel_launcher.py:1: SettingWithCopyWarning: \n",
      "A value is trying to be set on a copy of a slice from a DataFrame.\n",
      "Try using .loc[row_indexer,col_indexer] = value instead\n",
      "\n",
      "See the caveats in the documentation: http://pandas.pydata.org/pandas-docs/stable/user_guide/indexing.html#returning-a-view-versus-a-copy\n",
      "  \"\"\"Entry point for launching an IPython kernel.\n"
     ]
    }
   ],
   "source": [
    "df_demons['DOP'] = df_demons.apply(lambda x:  calcIndicadores.calcular_dop(x),axis=1)"
   ]
  },
  {
   "cell_type": "markdown",
   "metadata": {},
   "source": [
    "#### Índice de Resultado Financeiro (IRF)"
   ]
  },
  {
   "cell_type": "code",
   "execution_count": 14,
   "metadata": {},
   "outputs": [
    {
     "name": "stderr",
     "output_type": "stream",
     "text": [
      "/home/leticia/anaconda3/lib/python3.7/site-packages/ipykernel_launcher.py:1: SettingWithCopyWarning: \n",
      "A value is trying to be set on a copy of a slice from a DataFrame.\n",
      "Try using .loc[row_indexer,col_indexer] = value instead\n",
      "\n",
      "See the caveats in the documentation: http://pandas.pydata.org/pandas-docs/stable/user_guide/indexing.html#returning-a-view-versus-a-copy\n",
      "  \"\"\"Entry point for launching an IPython kernel.\n"
     ]
    }
   ],
   "source": [
    "df_demons['IRF'] = df_demons.apply(lambda x:  calcIndicadores.calcular_irf(x),axis=1)"
   ]
  },
  {
   "cell_type": "markdown",
   "metadata": {},
   "source": [
    "#### Liquidez Corrente (LC)"
   ]
  },
  {
   "cell_type": "code",
   "execution_count": 15,
   "metadata": {},
   "outputs": [
    {
     "name": "stderr",
     "output_type": "stream",
     "text": [
      "/home/leticia/anaconda3/lib/python3.7/site-packages/ipykernel_launcher.py:1: SettingWithCopyWarning: \n",
      "A value is trying to be set on a copy of a slice from a DataFrame.\n",
      "Try using .loc[row_indexer,col_indexer] = value instead\n",
      "\n",
      "See the caveats in the documentation: http://pandas.pydata.org/pandas-docs/stable/user_guide/indexing.html#returning-a-view-versus-a-copy\n",
      "  \"\"\"Entry point for launching an IPython kernel.\n"
     ]
    }
   ],
   "source": [
    "df_demons['LC'] = df_demons.apply(lambda x:  calcIndicadores.calcular_liquidez_corrente(x),axis=1)"
   ]
  },
  {
   "cell_type": "markdown",
   "metadata": {},
   "source": [
    "#### Capital de terceiros sobre o Capital próprio (CT/CP)"
   ]
  },
  {
   "cell_type": "code",
   "execution_count": 16,
   "metadata": {},
   "outputs": [
    {
     "name": "stderr",
     "output_type": "stream",
     "text": [
      "/home/leticia/anaconda3/lib/python3.7/site-packages/ipykernel_launcher.py:1: SettingWithCopyWarning: \n",
      "A value is trying to be set on a copy of a slice from a DataFrame.\n",
      "Try using .loc[row_indexer,col_indexer] = value instead\n",
      "\n",
      "See the caveats in the documentation: http://pandas.pydata.org/pandas-docs/stable/user_guide/indexing.html#returning-a-view-versus-a-copy\n",
      "  \"\"\"Entry point for launching an IPython kernel.\n"
     ]
    }
   ],
   "source": [
    "df_demons['CT/CP'] = df_demons.apply(lambda x:  calcIndicadores.calcular_ct_cp(x),axis=1)\n"
   ]
  },
  {
   "cell_type": "markdown",
   "metadata": {},
   "source": [
    "### Prazo Médio de Recebimento de Contraprestações (PMRC)"
   ]
  },
  {
   "cell_type": "code",
   "execution_count": 17,
   "metadata": {},
   "outputs": [
    {
     "name": "stderr",
     "output_type": "stream",
     "text": [
      "/home/leticia/anaconda3/lib/python3.7/site-packages/ipykernel_launcher.py:1: SettingWithCopyWarning: \n",
      "A value is trying to be set on a copy of a slice from a DataFrame.\n",
      "Try using .loc[row_indexer,col_indexer] = value instead\n",
      "\n",
      "See the caveats in the documentation: http://pandas.pydata.org/pandas-docs/stable/user_guide/indexing.html#returning-a-view-versus-a-copy\n",
      "  \"\"\"Entry point for launching an IPython kernel.\n"
     ]
    }
   ],
   "source": [
    "df_demons['PMRC'] = df_demons.apply(lambda x:  calcIndicadores.calcular_pmrc(x),axis=1)"
   ]
  },
  {
   "cell_type": "markdown",
   "metadata": {},
   "source": [
    "### Prazo Médio de Pagamento de Eventos (PMPE)"
   ]
  },
  {
   "cell_type": "code",
   "execution_count": 18,
   "metadata": {},
   "outputs": [
    {
     "name": "stderr",
     "output_type": "stream",
     "text": [
      "/home/leticia/anaconda3/lib/python3.7/site-packages/ipykernel_launcher.py:1: SettingWithCopyWarning: \n",
      "A value is trying to be set on a copy of a slice from a DataFrame.\n",
      "Try using .loc[row_indexer,col_indexer] = value instead\n",
      "\n",
      "See the caveats in the documentation: http://pandas.pydata.org/pandas-docs/stable/user_guide/indexing.html#returning-a-view-versus-a-copy\n",
      "  \"\"\"Entry point for launching an IPython kernel.\n"
     ]
    }
   ],
   "source": [
    "df_demons['PMPE'] = df_demons.apply(lambda x:  calcIndicadores.calcular_pmpe(x),axis=1)"
   ]
  },
  {
   "cell_type": "markdown",
   "metadata": {},
   "source": [
    "#### Suficiência de lastro das provisões técnicas"
   ]
  },
  {
   "cell_type": "code",
   "execution_count": 19,
   "metadata": {},
   "outputs": [
    {
     "name": "stderr",
     "output_type": "stream",
     "text": [
      "/home/leticia/anaconda3/lib/python3.7/site-packages/ipykernel_launcher.py:1: SettingWithCopyWarning: \n",
      "A value is trying to be set on a copy of a slice from a DataFrame.\n",
      "Try using .loc[row_indexer,col_indexer] = value instead\n",
      "\n",
      "See the caveats in the documentation: http://pandas.pydata.org/pandas-docs/stable/user_guide/indexing.html#returning-a-view-versus-a-copy\n",
      "  \"\"\"Entry point for launching an IPython kernel.\n"
     ]
    }
   ],
   "source": [
    "df_demons['Lastro P T'] = df_demons.apply(lambda x:  calcIndicadores.calcular_latro_pt(x),axis=1)"
   ]
  },
  {
   "cell_type": "code",
   "execution_count": 20,
   "metadata": {},
   "outputs": [],
   "source": [
    "df_indicadores = df_demons.groupby(['ANO','TRIMESTRE','porte'],as_index=False).mean()"
   ]
  },
  {
   "cell_type": "code",
   "execution_count": 21,
   "metadata": {},
   "outputs": [],
   "source": [
    "df_indicadores = df_indicadores[[\n",
    "    'ANO','TRIMESTRE','porte','MLL','ROE','ROA','DM','DA','DC','DOP','IRF','LC','CT/CP','PMRC','PMPE','Lastro P T'\n",
    "]]"
   ]
  },
  {
   "cell_type": "code",
   "execution_count": 22,
   "metadata": {},
   "outputs": [],
   "source": [
    "df_indicadores.to_csv('../Datasets/indicadores_alto.csv',index=False,encoding=\"ISO-8859-1\",float_format='%13.2f')"
   ]
  },
  {
   "cell_type": "code",
   "execution_count": 23,
   "metadata": {},
   "outputs": [
    {
     "data": {
      "text/html": [
       "<div>\n",
       "<style scoped>\n",
       "    .dataframe tbody tr th:only-of-type {\n",
       "        vertical-align: middle;\n",
       "    }\n",
       "\n",
       "    .dataframe tbody tr th {\n",
       "        vertical-align: top;\n",
       "    }\n",
       "\n",
       "    .dataframe thead th {\n",
       "        text-align: right;\n",
       "    }\n",
       "</style>\n",
       "<table border=\"1\" class=\"dataframe\">\n",
       "  <thead>\n",
       "    <tr style=\"text-align: right;\">\n",
       "      <th></th>\n",
       "      <th>ANO</th>\n",
       "      <th>TRIMESTRE</th>\n",
       "      <th>MLL</th>\n",
       "      <th>ROE</th>\n",
       "      <th>ROA</th>\n",
       "      <th>DM</th>\n",
       "      <th>DA</th>\n",
       "      <th>DC</th>\n",
       "      <th>DOP</th>\n",
       "      <th>IRF</th>\n",
       "      <th>LC</th>\n",
       "      <th>CT/CP</th>\n",
       "      <th>PMRC</th>\n",
       "      <th>PMPE</th>\n",
       "      <th>Lastro P T</th>\n",
       "    </tr>\n",
       "  </thead>\n",
       "  <tbody>\n",
       "    <tr>\n",
       "      <td>count</td>\n",
       "      <td>81.000000</td>\n",
       "      <td>81.000000</td>\n",
       "      <td>81.000000</td>\n",
       "      <td>81.000000</td>\n",
       "      <td>81.000000</td>\n",
       "      <td>81.000000</td>\n",
       "      <td>81.000000</td>\n",
       "      <td>81.000000</td>\n",
       "      <td>81.000000</td>\n",
       "      <td>81.000000</td>\n",
       "      <td>81.000000</td>\n",
       "      <td>81.000000</td>\n",
       "      <td>81.000000</td>\n",
       "      <td>81.000000</td>\n",
       "      <td>81.000000</td>\n",
       "    </tr>\n",
       "    <tr>\n",
       "      <td>mean</td>\n",
       "      <td>2015.888889</td>\n",
       "      <td>2.444444</td>\n",
       "      <td>0.154053</td>\n",
       "      <td>0.044295</td>\n",
       "      <td>0.018634</td>\n",
       "      <td>2.251218</td>\n",
       "      <td>0.199299</td>\n",
       "      <td>0.008335</td>\n",
       "      <td>1.291244</td>\n",
       "      <td>0.032895</td>\n",
       "      <td>1.785739</td>\n",
       "      <td>1.923680</td>\n",
       "      <td>86.198627</td>\n",
       "      <td>76.880017</td>\n",
       "      <td>0.901812</td>\n",
       "    </tr>\n",
       "    <tr>\n",
       "      <td>std</td>\n",
       "      <td>1.962142</td>\n",
       "      <td>1.106797</td>\n",
       "      <td>0.329025</td>\n",
       "      <td>0.032235</td>\n",
       "      <td>0.012056</td>\n",
       "      <td>1.952340</td>\n",
       "      <td>0.238600</td>\n",
       "      <td>0.001746</td>\n",
       "      <td>0.097541</td>\n",
       "      <td>0.099155</td>\n",
       "      <td>0.513543</td>\n",
       "      <td>0.835673</td>\n",
       "      <td>21.643944</td>\n",
       "      <td>15.794192</td>\n",
       "      <td>0.320545</td>\n",
       "    </tr>\n",
       "    <tr>\n",
       "      <td>min</td>\n",
       "      <td>2013.000000</td>\n",
       "      <td>1.000000</td>\n",
       "      <td>-0.995799</td>\n",
       "      <td>-0.029930</td>\n",
       "      <td>-0.003636</td>\n",
       "      <td>-0.751115</td>\n",
       "      <td>-0.304367</td>\n",
       "      <td>0.003819</td>\n",
       "      <td>1.114232</td>\n",
       "      <td>-0.551548</td>\n",
       "      <td>1.158562</td>\n",
       "      <td>0.810392</td>\n",
       "      <td>50.701849</td>\n",
       "      <td>40.700489</td>\n",
       "      <td>0.511873</td>\n",
       "    </tr>\n",
       "    <tr>\n",
       "      <td>25%</td>\n",
       "      <td>2014.000000</td>\n",
       "      <td>1.000000</td>\n",
       "      <td>0.023507</td>\n",
       "      <td>0.024758</td>\n",
       "      <td>0.009043</td>\n",
       "      <td>1.129833</td>\n",
       "      <td>0.119506</td>\n",
       "      <td>0.007089</td>\n",
       "      <td>1.221786</td>\n",
       "      <td>0.008473</td>\n",
       "      <td>1.407891</td>\n",
       "      <td>1.357465</td>\n",
       "      <td>71.071466</td>\n",
       "      <td>68.308488</td>\n",
       "      <td>0.592008</td>\n",
       "    </tr>\n",
       "    <tr>\n",
       "      <td>50%</td>\n",
       "      <td>2016.000000</td>\n",
       "      <td>2.000000</td>\n",
       "      <td>0.052191</td>\n",
       "      <td>0.036191</td>\n",
       "      <td>0.015868</td>\n",
       "      <td>1.214704</td>\n",
       "      <td>0.137987</td>\n",
       "      <td>0.008839</td>\n",
       "      <td>1.274840</td>\n",
       "      <td>0.014439</td>\n",
       "      <td>1.606314</td>\n",
       "      <td>1.587448</td>\n",
       "      <td>75.143167</td>\n",
       "      <td>79.253917</td>\n",
       "      <td>0.871182</td>\n",
       "    </tr>\n",
       "    <tr>\n",
       "      <td>75%</td>\n",
       "      <td>2018.000000</td>\n",
       "      <td>3.000000</td>\n",
       "      <td>0.101251</td>\n",
       "      <td>0.062760</td>\n",
       "      <td>0.026333</td>\n",
       "      <td>4.056044</td>\n",
       "      <td>0.172932</td>\n",
       "      <td>0.009559</td>\n",
       "      <td>1.350869</td>\n",
       "      <td>0.022042</td>\n",
       "      <td>2.147219</td>\n",
       "      <td>2.330078</td>\n",
       "      <td>110.134825</td>\n",
       "      <td>90.734768</td>\n",
       "      <td>1.054972</td>\n",
       "    </tr>\n",
       "    <tr>\n",
       "      <td>max</td>\n",
       "      <td>2019.000000</td>\n",
       "      <td>4.000000</td>\n",
       "      <td>1.193371</td>\n",
       "      <td>0.137283</td>\n",
       "      <td>0.045839</td>\n",
       "      <td>8.201237</td>\n",
       "      <td>1.358512</td>\n",
       "      <td>0.011610</td>\n",
       "      <td>1.566434</td>\n",
       "      <td>0.302848</td>\n",
       "      <td>3.148074</td>\n",
       "      <td>4.628444</td>\n",
       "      <td>155.724190</td>\n",
       "      <td>108.856888</td>\n",
       "      <td>1.820874</td>\n",
       "    </tr>\n",
       "  </tbody>\n",
       "</table>\n",
       "</div>"
      ],
      "text/plain": [
       "               ANO  TRIMESTRE        MLL        ROE        ROA         DM  \\\n",
       "count    81.000000  81.000000  81.000000  81.000000  81.000000  81.000000   \n",
       "mean   2015.888889   2.444444   0.154053   0.044295   0.018634   2.251218   \n",
       "std       1.962142   1.106797   0.329025   0.032235   0.012056   1.952340   \n",
       "min    2013.000000   1.000000  -0.995799  -0.029930  -0.003636  -0.751115   \n",
       "25%    2014.000000   1.000000   0.023507   0.024758   0.009043   1.129833   \n",
       "50%    2016.000000   2.000000   0.052191   0.036191   0.015868   1.214704   \n",
       "75%    2018.000000   3.000000   0.101251   0.062760   0.026333   4.056044   \n",
       "max    2019.000000   4.000000   1.193371   0.137283   0.045839   8.201237   \n",
       "\n",
       "              DA         DC        DOP        IRF         LC      CT/CP  \\\n",
       "count  81.000000  81.000000  81.000000  81.000000  81.000000  81.000000   \n",
       "mean    0.199299   0.008335   1.291244   0.032895   1.785739   1.923680   \n",
       "std     0.238600   0.001746   0.097541   0.099155   0.513543   0.835673   \n",
       "min    -0.304367   0.003819   1.114232  -0.551548   1.158562   0.810392   \n",
       "25%     0.119506   0.007089   1.221786   0.008473   1.407891   1.357465   \n",
       "50%     0.137987   0.008839   1.274840   0.014439   1.606314   1.587448   \n",
       "75%     0.172932   0.009559   1.350869   0.022042   2.147219   2.330078   \n",
       "max     1.358512   0.011610   1.566434   0.302848   3.148074   4.628444   \n",
       "\n",
       "             PMRC        PMPE  Lastro P T  \n",
       "count   81.000000   81.000000   81.000000  \n",
       "mean    86.198627   76.880017    0.901812  \n",
       "std     21.643944   15.794192    0.320545  \n",
       "min     50.701849   40.700489    0.511873  \n",
       "25%     71.071466   68.308488    0.592008  \n",
       "50%     75.143167   79.253917    0.871182  \n",
       "75%    110.134825   90.734768    1.054972  \n",
       "max    155.724190  108.856888    1.820874  "
      ]
     },
     "execution_count": 23,
     "metadata": {},
     "output_type": "execute_result"
    }
   ],
   "source": [
    "df_indicadores.describe()"
   ]
  },
  {
   "cell_type": "code",
   "execution_count": null,
   "metadata": {},
   "outputs": [],
   "source": []
  },
  {
   "cell_type": "code",
   "execution_count": null,
   "metadata": {},
   "outputs": [],
   "source": []
  }
 ],
 "metadata": {
  "kernelspec": {
   "display_name": "Python 3",
   "language": "python",
   "name": "python3"
  },
  "language_info": {
   "codemirror_mode": {
    "name": "ipython",
    "version": 3
   },
   "file_extension": ".py",
   "mimetype": "text/x-python",
   "name": "python",
   "nbconvert_exporter": "python",
   "pygments_lexer": "ipython3",
   "version": "3.7.4"
  }
 },
 "nbformat": 4,
 "nbformat_minor": 4
}
