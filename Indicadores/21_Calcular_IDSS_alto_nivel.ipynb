{
 "cells": [
  {
   "cell_type": "code",
   "execution_count": 33,
   "metadata": {},
   "outputs": [],
   "source": [
    "import pandas as pd\n",
    "from calculo_indicadores import CalculoIndicadores\n"
   ]
  },
  {
   "cell_type": "code",
   "execution_count": 34,
   "metadata": {},
   "outputs": [],
   "source": [
    "df_demonstracoes_plano_contas = pd.read_csv(\"../Datasets/todas_demonstracoes_concatenadas.csv\",encoding=\"ISO-8859-1\")"
   ]
  },
  {
   "cell_type": "code",
   "execution_count": 35,
   "metadata": {},
   "outputs": [],
   "source": [
    "df_idss = pd.read_csv(\"../entrada/idss_alto_nivel.csv\",encoding=\"ISO-8859-1\")"
   ]
  },
  {
   "cell_type": "code",
   "execution_count": 36,
   "metadata": {},
   "outputs": [],
   "source": [
    "df_demons = df_demonstracoes_plano_contas[df_demonstracoes_plano_contas[\"REG_ANS\"].isin(df_idss['Registro_ANS'].tolist())]"
   ]
  },
  {
   "cell_type": "code",
   "execution_count": 37,
   "metadata": {},
   "outputs": [
    {
     "data": {
      "text/plain": [
       "7249"
      ]
     },
     "execution_count": 37,
     "metadata": {},
     "output_type": "execute_result"
    }
   ],
   "source": [
    "len(df_demonstracoes_plano_contas)"
   ]
  },
  {
   "cell_type": "code",
   "execution_count": 38,
   "metadata": {},
   "outputs": [],
   "source": [
    "calcIndicadores = CalculoIndicadores()"
   ]
  },
  {
   "cell_type": "markdown",
   "metadata": {},
   "source": [
    "#### Margem de lucro líquida (MLL)"
   ]
  },
  {
   "cell_type": "code",
   "execution_count": 39,
   "metadata": {},
   "outputs": [
    {
     "name": "stdout",
     "output_type": "stream",
     "text": [
      "316741 2013 1 contraprestacoes\n",
      "316741 2013 2 contraprestacoes\n",
      "316741 2013 3 contraprestacoes\n"
     ]
    },
    {
     "name": "stderr",
     "output_type": "stream",
     "text": [
      "/home/leticia/anaconda3/lib/python3.7/site-packages/ipykernel_launcher.py:1: SettingWithCopyWarning: \n",
      "A value is trying to be set on a copy of a slice from a DataFrame.\n",
      "Try using .loc[row_indexer,col_indexer] = value instead\n",
      "\n",
      "See the caveats in the documentation: http://pandas.pydata.org/pandas-docs/stable/user_guide/indexing.html#returning-a-view-versus-a-copy\n",
      "  \"\"\"Entry point for launching an IPython kernel.\n"
     ]
    }
   ],
   "source": [
    "df_demons['MLL'] = df_demons.apply(lambda x: calcIndicadores.calcular_mll(x),axis=1)"
   ]
  },
  {
   "cell_type": "markdown",
   "metadata": {},
   "source": [
    "#### Retorno sobre o Patrimônio Líquido (ROE)"
   ]
  },
  {
   "cell_type": "code",
   "execution_count": 40,
   "metadata": {},
   "outputs": [
    {
     "name": "stderr",
     "output_type": "stream",
     "text": [
      "/home/leticia/anaconda3/lib/python3.7/site-packages/ipykernel_launcher.py:1: SettingWithCopyWarning: \n",
      "A value is trying to be set on a copy of a slice from a DataFrame.\n",
      "Try using .loc[row_indexer,col_indexer] = value instead\n",
      "\n",
      "See the caveats in the documentation: http://pandas.pydata.org/pandas-docs/stable/user_guide/indexing.html#returning-a-view-versus-a-copy\n",
      "  \"\"\"Entry point for launching an IPython kernel.\n"
     ]
    }
   ],
   "source": [
    "df_demons[\"ROE\"] = df_demons.apply(lambda x:  calcIndicadores.calcular_roe(x),axis=1)"
   ]
  },
  {
   "cell_type": "markdown",
   "metadata": {},
   "source": [
    "#### Retorno sobre o Ativo (ROA)"
   ]
  },
  {
   "cell_type": "code",
   "execution_count": 41,
   "metadata": {},
   "outputs": [
    {
     "name": "stderr",
     "output_type": "stream",
     "text": [
      "/home/leticia/anaconda3/lib/python3.7/site-packages/ipykernel_launcher.py:1: SettingWithCopyWarning: \n",
      "A value is trying to be set on a copy of a slice from a DataFrame.\n",
      "Try using .loc[row_indexer,col_indexer] = value instead\n",
      "\n",
      "See the caveats in the documentation: http://pandas.pydata.org/pandas-docs/stable/user_guide/indexing.html#returning-a-view-versus-a-copy\n",
      "  \"\"\"Entry point for launching an IPython kernel.\n"
     ]
    }
   ],
   "source": [
    "df_demons[\"ROA\"] = df_demons.apply(lambda x:  calcIndicadores.calcular_roa(x),axis=1)"
   ]
  },
  {
   "cell_type": "markdown",
   "metadata": {},
   "source": [
    "#### Percentual de Despesas Assistenciais em relação às Receitas de Contraprestações (DM)"
   ]
  },
  {
   "cell_type": "code",
   "execution_count": 42,
   "metadata": {},
   "outputs": [
    {
     "name": "stdout",
     "output_type": "stream",
     "text": [
      "316741 2013 1 contraprestacoes\n",
      "316741 2013 2 contraprestacoes\n",
      "316741 2013 3 contraprestacoes\n"
     ]
    },
    {
     "name": "stderr",
     "output_type": "stream",
     "text": [
      "/home/leticia/anaconda3/lib/python3.7/site-packages/ipykernel_launcher.py:1: SettingWithCopyWarning: \n",
      "A value is trying to be set on a copy of a slice from a DataFrame.\n",
      "Try using .loc[row_indexer,col_indexer] = value instead\n",
      "\n",
      "See the caveats in the documentation: http://pandas.pydata.org/pandas-docs/stable/user_guide/indexing.html#returning-a-view-versus-a-copy\n",
      "  \"\"\"Entry point for launching an IPython kernel.\n"
     ]
    }
   ],
   "source": [
    "df_demons['DM'] = df_demons.apply(lambda x:  calcIndicadores.calcular_dm(x),axis=1)\n"
   ]
  },
  {
   "cell_type": "markdown",
   "metadata": {},
   "source": [
    "#### Percentual de Despesas Administrativas em relação às Receitas de Contraprestações (DA)"
   ]
  },
  {
   "cell_type": "code",
   "execution_count": 43,
   "metadata": {},
   "outputs": [
    {
     "name": "stdout",
     "output_type": "stream",
     "text": [
      "316741 2013 1 contraprestacoes\n",
      "316741 2013 2 contraprestacoes\n",
      "316741 2013 3 contraprestacoes\n"
     ]
    },
    {
     "name": "stderr",
     "output_type": "stream",
     "text": [
      "/home/leticia/anaconda3/lib/python3.7/site-packages/ipykernel_launcher.py:1: SettingWithCopyWarning: \n",
      "A value is trying to be set on a copy of a slice from a DataFrame.\n",
      "Try using .loc[row_indexer,col_indexer] = value instead\n",
      "\n",
      "See the caveats in the documentation: http://pandas.pydata.org/pandas-docs/stable/user_guide/indexing.html#returning-a-view-versus-a-copy\n",
      "  \"\"\"Entry point for launching an IPython kernel.\n"
     ]
    }
   ],
   "source": [
    "df_demons['DA'] = df_demons.apply(lambda x:  calcIndicadores.calcular_da(x),axis=1)"
   ]
  },
  {
   "cell_type": "markdown",
   "metadata": {},
   "source": [
    "#### Percentual de Despesa Comercial em relação à Receita de Contraprestações (DC)"
   ]
  },
  {
   "cell_type": "code",
   "execution_count": 44,
   "metadata": {},
   "outputs": [
    {
     "name": "stdout",
     "output_type": "stream",
     "text": [
      "316741 2013 1 contraprestacoes\n",
      "316741 2013 2 contraprestacoes\n",
      "316741 2013 3 contraprestacoes\n"
     ]
    },
    {
     "name": "stderr",
     "output_type": "stream",
     "text": [
      "/home/leticia/anaconda3/lib/python3.7/site-packages/ipykernel_launcher.py:1: SettingWithCopyWarning: \n",
      "A value is trying to be set on a copy of a slice from a DataFrame.\n",
      "Try using .loc[row_indexer,col_indexer] = value instead\n",
      "\n",
      "See the caveats in the documentation: http://pandas.pydata.org/pandas-docs/stable/user_guide/indexing.html#returning-a-view-versus-a-copy\n",
      "  \"\"\"Entry point for launching an IPython kernel.\n"
     ]
    }
   ],
   "source": [
    "df_demons['DC'] = df_demons.apply(lambda x:  calcIndicadores.calcular_dc(x),axis=1)"
   ]
  },
  {
   "cell_type": "markdown",
   "metadata": {},
   "source": [
    "### Percentual de Despesas Operacionais em relação às Receitas Operacionais (DOP)"
   ]
  },
  {
   "cell_type": "code",
   "execution_count": 45,
   "metadata": {},
   "outputs": [
    {
     "name": "stdout",
     "output_type": "stream",
     "text": [
      "316741 2013 1 contraprestacoes_efetivas+ OUTRAS DESPESAS OPERACIONAIS\n",
      "316741 2013 2 contraprestacoes_efetivas+ OUTRAS DESPESAS OPERACIONAIS\n",
      "316741 2013 3 contraprestacoes_efetivas+ OUTRAS DESPESAS OPERACIONAIS\n"
     ]
    },
    {
     "name": "stderr",
     "output_type": "stream",
     "text": [
      "/home/leticia/anaconda3/lib/python3.7/site-packages/ipykernel_launcher.py:1: SettingWithCopyWarning: \n",
      "A value is trying to be set on a copy of a slice from a DataFrame.\n",
      "Try using .loc[row_indexer,col_indexer] = value instead\n",
      "\n",
      "See the caveats in the documentation: http://pandas.pydata.org/pandas-docs/stable/user_guide/indexing.html#returning-a-view-versus-a-copy\n",
      "  \"\"\"Entry point for launching an IPython kernel.\n"
     ]
    }
   ],
   "source": [
    "df_demons['DOP'] = df_demons.apply(lambda x:  calcIndicadores.calcular_dop(x),axis=1)"
   ]
  },
  {
   "cell_type": "markdown",
   "metadata": {},
   "source": [
    "#### Índice de Resultado Financeiro (IRF)"
   ]
  },
  {
   "cell_type": "code",
   "execution_count": 46,
   "metadata": {},
   "outputs": [
    {
     "name": "stdout",
     "output_type": "stream",
     "text": [
      "316741 2013 1 contraprestracoes_efetivas\n",
      "316741 2013 2 contraprestracoes_efetivas\n",
      "316741 2013 3 contraprestracoes_efetivas\n"
     ]
    },
    {
     "name": "stderr",
     "output_type": "stream",
     "text": [
      "/home/leticia/anaconda3/lib/python3.7/site-packages/ipykernel_launcher.py:1: SettingWithCopyWarning: \n",
      "A value is trying to be set on a copy of a slice from a DataFrame.\n",
      "Try using .loc[row_indexer,col_indexer] = value instead\n",
      "\n",
      "See the caveats in the documentation: http://pandas.pydata.org/pandas-docs/stable/user_guide/indexing.html#returning-a-view-versus-a-copy\n",
      "  \"\"\"Entry point for launching an IPython kernel.\n"
     ]
    }
   ],
   "source": [
    "df_demons['IRF'] = df_demons.apply(lambda x:  calcIndicadores.calcular_irf(x),axis=1)"
   ]
  },
  {
   "cell_type": "markdown",
   "metadata": {},
   "source": [
    "#### Liquidez Corrente (LC)"
   ]
  },
  {
   "cell_type": "code",
   "execution_count": 47,
   "metadata": {},
   "outputs": [
    {
     "name": "stderr",
     "output_type": "stream",
     "text": [
      "/home/leticia/anaconda3/lib/python3.7/site-packages/ipykernel_launcher.py:1: SettingWithCopyWarning: \n",
      "A value is trying to be set on a copy of a slice from a DataFrame.\n",
      "Try using .loc[row_indexer,col_indexer] = value instead\n",
      "\n",
      "See the caveats in the documentation: http://pandas.pydata.org/pandas-docs/stable/user_guide/indexing.html#returning-a-view-versus-a-copy\n",
      "  \"\"\"Entry point for launching an IPython kernel.\n"
     ]
    }
   ],
   "source": [
    "df_demons['LC'] = df_demons.apply(lambda x:  calcIndicadores.calcular_liquidez_corrente(x),axis=1)"
   ]
  },
  {
   "cell_type": "markdown",
   "metadata": {},
   "source": [
    "#### Capital de terceiros sobre o Capital próprio (CT/CP)"
   ]
  },
  {
   "cell_type": "code",
   "execution_count": 48,
   "metadata": {},
   "outputs": [
    {
     "name": "stderr",
     "output_type": "stream",
     "text": [
      "/home/leticia/anaconda3/lib/python3.7/site-packages/ipykernel_launcher.py:1: SettingWithCopyWarning: \n",
      "A value is trying to be set on a copy of a slice from a DataFrame.\n",
      "Try using .loc[row_indexer,col_indexer] = value instead\n",
      "\n",
      "See the caveats in the documentation: http://pandas.pydata.org/pandas-docs/stable/user_guide/indexing.html#returning-a-view-versus-a-copy\n",
      "  \"\"\"Entry point for launching an IPython kernel.\n"
     ]
    }
   ],
   "source": [
    "df_demons['CT/CP'] = df_demons.apply(lambda x:  calcIndicadores.calcular_ct_cp(x),axis=1)\n"
   ]
  },
  {
   "cell_type": "markdown",
   "metadata": {},
   "source": [
    "### Prazo Médio de Recebimento de Contraprestações (PMRC)"
   ]
  },
  {
   "cell_type": "code",
   "execution_count": 49,
   "metadata": {},
   "outputs": [
    {
     "name": "stdout",
     "output_type": "stream",
     "text": [
      "316741 2013 1 contraprestacao_efetiva\n",
      "316741 2013 2 contraprestacao_efetiva\n",
      "316741 2013 3 contraprestacao_efetiva\n"
     ]
    },
    {
     "name": "stderr",
     "output_type": "stream",
     "text": [
      "/home/leticia/anaconda3/lib/python3.7/site-packages/ipykernel_launcher.py:1: SettingWithCopyWarning: \n",
      "A value is trying to be set on a copy of a slice from a DataFrame.\n",
      "Try using .loc[row_indexer,col_indexer] = value instead\n",
      "\n",
      "See the caveats in the documentation: http://pandas.pydata.org/pandas-docs/stable/user_guide/indexing.html#returning-a-view-versus-a-copy\n",
      "  \"\"\"Entry point for launching an IPython kernel.\n"
     ]
    }
   ],
   "source": [
    "df_demons['PMRC'] = df_demons.apply(lambda x:  calcIndicadores.calcular_pmrc(x),axis=1)"
   ]
  },
  {
   "cell_type": "markdown",
   "metadata": {},
   "source": [
    "### Prazo Médio de Pagamento de Eventos (PMPE)"
   ]
  },
  {
   "cell_type": "code",
   "execution_count": 50,
   "metadata": {},
   "outputs": [
    {
     "name": "stderr",
     "output_type": "stream",
     "text": [
      "/home/leticia/anaconda3/lib/python3.7/site-packages/ipykernel_launcher.py:1: SettingWithCopyWarning: \n",
      "A value is trying to be set on a copy of a slice from a DataFrame.\n",
      "Try using .loc[row_indexer,col_indexer] = value instead\n",
      "\n",
      "See the caveats in the documentation: http://pandas.pydata.org/pandas-docs/stable/user_guide/indexing.html#returning-a-view-versus-a-copy\n",
      "  \"\"\"Entry point for launching an IPython kernel.\n"
     ]
    }
   ],
   "source": [
    "df_demons['PMPE'] = df_demons.apply(lambda x:  calcIndicadores.calcular_pmpe(x),axis=1)"
   ]
  },
  {
   "cell_type": "markdown",
   "metadata": {},
   "source": [
    "#### Suficiência de lastro das provisões técnicas"
   ]
  },
  {
   "cell_type": "code",
   "execution_count": 51,
   "metadata": {},
   "outputs": [
    {
     "name": "stdout",
     "output_type": "stream",
     "text": [
      "316741 2013 1 provisoes_tecnicas\n",
      "316741 2013 2 provisoes_tecnicas\n"
     ]
    },
    {
     "name": "stderr",
     "output_type": "stream",
     "text": [
      "/home/leticia/anaconda3/lib/python3.7/site-packages/ipykernel_launcher.py:1: SettingWithCopyWarning: \n",
      "A value is trying to be set on a copy of a slice from a DataFrame.\n",
      "Try using .loc[row_indexer,col_indexer] = value instead\n",
      "\n",
      "See the caveats in the documentation: http://pandas.pydata.org/pandas-docs/stable/user_guide/indexing.html#returning-a-view-versus-a-copy\n",
      "  \"\"\"Entry point for launching an IPython kernel.\n"
     ]
    }
   ],
   "source": [
    "df_demons['Lastro P T'] = df_demons.apply(lambda x:  calcIndicadores.calcular_latro_pt(x),axis=1)"
   ]
  },
  {
   "cell_type": "code",
   "execution_count": 52,
   "metadata": {},
   "outputs": [],
   "source": [
    "df_indicadores = df_demons.groupby(['ANO','TRIMESTRE','porte'],as_index=False).mean()"
   ]
  },
  {
   "cell_type": "code",
   "execution_count": 53,
   "metadata": {},
   "outputs": [],
   "source": [
    "df_indicadores = df_indicadores[[\n",
    "    'ANO','TRIMESTRE','porte','MLL','ROE','ROA','DM','DA','DC','DOP','IRF','LC','CT/CP','PMRC','PMPE','Lastro P T'\n",
    "]]"
   ]
  },
  {
   "cell_type": "code",
   "execution_count": 54,
   "metadata": {},
   "outputs": [],
   "source": [
    "df_indicadores.to_csv('../entrada/indicadores_alto.csv',index=False,encoding=\"ISO-8859-1\",float_format='%13.2f')"
   ]
  },
  {
   "cell_type": "code",
   "execution_count": 55,
   "metadata": {},
   "outputs": [
    {
     "data": {
      "text/html": [
       "<div>\n",
       "<style scoped>\n",
       "    .dataframe tbody tr th:only-of-type {\n",
       "        vertical-align: middle;\n",
       "    }\n",
       "\n",
       "    .dataframe tbody tr th {\n",
       "        vertical-align: top;\n",
       "    }\n",
       "\n",
       "    .dataframe thead th {\n",
       "        text-align: right;\n",
       "    }\n",
       "</style>\n",
       "<table border=\"1\" class=\"dataframe\">\n",
       "  <thead>\n",
       "    <tr style=\"text-align: right;\">\n",
       "      <th></th>\n",
       "      <th>ANO</th>\n",
       "      <th>TRIMESTRE</th>\n",
       "      <th>MLL</th>\n",
       "      <th>ROE</th>\n",
       "      <th>ROA</th>\n",
       "      <th>DM</th>\n",
       "      <th>DA</th>\n",
       "      <th>DC</th>\n",
       "      <th>DOP</th>\n",
       "      <th>IRF</th>\n",
       "      <th>LC</th>\n",
       "      <th>CT/CP</th>\n",
       "      <th>PMRC</th>\n",
       "      <th>PMPE</th>\n",
       "      <th>Lastro P T</th>\n",
       "    </tr>\n",
       "  </thead>\n",
       "  <tbody>\n",
       "    <tr>\n",
       "      <td>count</td>\n",
       "      <td>78.000000</td>\n",
       "      <td>78.000000</td>\n",
       "      <td>78.000000</td>\n",
       "      <td>78.000000</td>\n",
       "      <td>78.000000</td>\n",
       "      <td>78.000000</td>\n",
       "      <td>78.000000</td>\n",
       "      <td>78.000000</td>\n",
       "      <td>78.000000</td>\n",
       "      <td>78.000000</td>\n",
       "      <td>78.000000</td>\n",
       "      <td>78.000000</td>\n",
       "      <td>78.000000</td>\n",
       "      <td>78.000000</td>\n",
       "      <td>78.000000</td>\n",
       "    </tr>\n",
       "    <tr>\n",
       "      <td>mean</td>\n",
       "      <td>2015.807692</td>\n",
       "      <td>2.461538</td>\n",
       "      <td>1.338910</td>\n",
       "      <td>0.054346</td>\n",
       "      <td>0.021483</td>\n",
       "      <td>2.835485</td>\n",
       "      <td>1.532322</td>\n",
       "      <td>0.008970</td>\n",
       "      <td>4.111744</td>\n",
       "      <td>0.223825</td>\n",
       "      <td>1.714579</td>\n",
       "      <td>2.158430</td>\n",
       "      <td>77.984444</td>\n",
       "      <td>53.992712</td>\n",
       "      <td>0.878899</td>\n",
       "    </tr>\n",
       "    <tr>\n",
       "      <td>std</td>\n",
       "      <td>1.954400</td>\n",
       "      <td>1.124604</td>\n",
       "      <td>3.071880</td>\n",
       "      <td>0.042836</td>\n",
       "      <td>0.015963</td>\n",
       "      <td>4.142306</td>\n",
       "      <td>3.854081</td>\n",
       "      <td>0.002095</td>\n",
       "      <td>7.952710</td>\n",
       "      <td>0.530958</td>\n",
       "      <td>0.328030</td>\n",
       "      <td>0.748754</td>\n",
       "      <td>14.781224</td>\n",
       "      <td>243.125162</td>\n",
       "      <td>0.270828</td>\n",
       "    </tr>\n",
       "    <tr>\n",
       "      <td>min</td>\n",
       "      <td>2013.000000</td>\n",
       "      <td>1.000000</td>\n",
       "      <td>0.002956</td>\n",
       "      <td>-0.028306</td>\n",
       "      <td>0.000635</td>\n",
       "      <td>1.025600</td>\n",
       "      <td>0.079145</td>\n",
       "      <td>0.004768</td>\n",
       "      <td>0.686776</td>\n",
       "      <td>-0.007541</td>\n",
       "      <td>1.264020</td>\n",
       "      <td>0.882670</td>\n",
       "      <td>25.602491</td>\n",
       "      <td>-2061.512223</td>\n",
       "      <td>0.490183</td>\n",
       "    </tr>\n",
       "    <tr>\n",
       "      <td>25%</td>\n",
       "      <td>2014.000000</td>\n",
       "      <td>1.000000</td>\n",
       "      <td>0.027174</td>\n",
       "      <td>0.025827</td>\n",
       "      <td>0.009719</td>\n",
       "      <td>1.151334</td>\n",
       "      <td>0.115142</td>\n",
       "      <td>0.007610</td>\n",
       "      <td>1.232105</td>\n",
       "      <td>0.012600</td>\n",
       "      <td>1.496766</td>\n",
       "      <td>1.518774</td>\n",
       "      <td>72.742373</td>\n",
       "      <td>75.338279</td>\n",
       "      <td>0.584216</td>\n",
       "    </tr>\n",
       "    <tr>\n",
       "      <td>50%</td>\n",
       "      <td>2016.000000</td>\n",
       "      <td>2.500000</td>\n",
       "      <td>0.062641</td>\n",
       "      <td>0.042212</td>\n",
       "      <td>0.017276</td>\n",
       "      <td>1.255823</td>\n",
       "      <td>0.149415</td>\n",
       "      <td>0.008912</td>\n",
       "      <td>1.285698</td>\n",
       "      <td>0.019201</td>\n",
       "      <td>1.636747</td>\n",
       "      <td>2.003731</td>\n",
       "      <td>79.441492</td>\n",
       "      <td>87.284359</td>\n",
       "      <td>0.907732</td>\n",
       "    </tr>\n",
       "    <tr>\n",
       "      <td>75%</td>\n",
       "      <td>2017.000000</td>\n",
       "      <td>3.000000</td>\n",
       "      <td>1.252546</td>\n",
       "      <td>0.087988</td>\n",
       "      <td>0.031305</td>\n",
       "      <td>2.329375</td>\n",
       "      <td>1.271968</td>\n",
       "      <td>0.010652</td>\n",
       "      <td>3.502406</td>\n",
       "      <td>0.156851</td>\n",
       "      <td>1.833979</td>\n",
       "      <td>2.599225</td>\n",
       "      <td>86.598016</td>\n",
       "      <td>90.518465</td>\n",
       "      <td>1.075736</td>\n",
       "    </tr>\n",
       "    <tr>\n",
       "      <td>max</td>\n",
       "      <td>2019.000000</td>\n",
       "      <td>4.000000</td>\n",
       "      <td>19.971906</td>\n",
       "      <td>0.178812</td>\n",
       "      <td>0.083328</td>\n",
       "      <td>31.695971</td>\n",
       "      <td>29.763482</td>\n",
       "      <td>0.015662</td>\n",
       "      <td>62.180934</td>\n",
       "      <td>3.583105</td>\n",
       "      <td>2.570190</td>\n",
       "      <td>4.345406</td>\n",
       "      <td>112.086292</td>\n",
       "      <td>114.911985</td>\n",
       "      <td>1.390292</td>\n",
       "    </tr>\n",
       "  </tbody>\n",
       "</table>\n",
       "</div>"
      ],
      "text/plain": [
       "               ANO  TRIMESTRE        MLL        ROE        ROA         DM  \\\n",
       "count    78.000000  78.000000  78.000000  78.000000  78.000000  78.000000   \n",
       "mean   2015.807692   2.461538   1.338910   0.054346   0.021483   2.835485   \n",
       "std       1.954400   1.124604   3.071880   0.042836   0.015963   4.142306   \n",
       "min    2013.000000   1.000000   0.002956  -0.028306   0.000635   1.025600   \n",
       "25%    2014.000000   1.000000   0.027174   0.025827   0.009719   1.151334   \n",
       "50%    2016.000000   2.500000   0.062641   0.042212   0.017276   1.255823   \n",
       "75%    2017.000000   3.000000   1.252546   0.087988   0.031305   2.329375   \n",
       "max    2019.000000   4.000000  19.971906   0.178812   0.083328  31.695971   \n",
       "\n",
       "              DA         DC        DOP        IRF         LC      CT/CP  \\\n",
       "count  78.000000  78.000000  78.000000  78.000000  78.000000  78.000000   \n",
       "mean    1.532322   0.008970   4.111744   0.223825   1.714579   2.158430   \n",
       "std     3.854081   0.002095   7.952710   0.530958   0.328030   0.748754   \n",
       "min     0.079145   0.004768   0.686776  -0.007541   1.264020   0.882670   \n",
       "25%     0.115142   0.007610   1.232105   0.012600   1.496766   1.518774   \n",
       "50%     0.149415   0.008912   1.285698   0.019201   1.636747   2.003731   \n",
       "75%     1.271968   0.010652   3.502406   0.156851   1.833979   2.599225   \n",
       "max    29.763482   0.015662  62.180934   3.583105   2.570190   4.345406   \n",
       "\n",
       "             PMRC         PMPE  Lastro P T  \n",
       "count   78.000000    78.000000   78.000000  \n",
       "mean    77.984444    53.992712    0.878899  \n",
       "std     14.781224   243.125162    0.270828  \n",
       "min     25.602491 -2061.512223    0.490183  \n",
       "25%     72.742373    75.338279    0.584216  \n",
       "50%     79.441492    87.284359    0.907732  \n",
       "75%     86.598016    90.518465    1.075736  \n",
       "max    112.086292   114.911985    1.390292  "
      ]
     },
     "execution_count": 55,
     "metadata": {},
     "output_type": "execute_result"
    }
   ],
   "source": [
    "df_indicadores.describe()"
   ]
  },
  {
   "cell_type": "code",
   "execution_count": null,
   "metadata": {},
   "outputs": [],
   "source": []
  }
 ],
 "metadata": {
  "kernelspec": {
   "display_name": "Python 3",
   "language": "python",
   "name": "python3"
  },
  "language_info": {
   "codemirror_mode": {
    "name": "ipython",
    "version": 3
   },
   "file_extension": ".py",
   "mimetype": "text/x-python",
   "name": "python",
   "nbconvert_exporter": "python",
   "pygments_lexer": "ipython3",
   "version": "3.7.4"
  }
 },
 "nbformat": 4,
 "nbformat_minor": 4
}
