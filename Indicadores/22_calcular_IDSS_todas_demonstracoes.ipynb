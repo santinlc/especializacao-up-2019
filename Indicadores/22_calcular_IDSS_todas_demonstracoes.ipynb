{
 "cells": [
  {
   "cell_type": "code",
   "execution_count": 1,
   "metadata": {},
   "outputs": [],
   "source": [
    "import pandas as pd\n",
    "from calculo_indicadores import CalculoIndicadores\n"
   ]
  },
  {
   "cell_type": "code",
   "execution_count": 2,
   "metadata": {},
   "outputs": [],
   "source": [
    "df_demons = pd.read_csv(\"../Datasets/todas_demonstracoes_concatenadas.csv\",encoding=\"ISO-8859-1\")"
   ]
  },
  {
   "cell_type": "code",
   "execution_count": 3,
   "metadata": {},
   "outputs": [
    {
     "data": {
      "text/plain": [
       "Index(['REG_ANS', 'ANO', 'TRIMESTRE', 'PERIODO',\n",
       "       'DESPESA DE COMERCIALIZAÇÃO DIFERIDA',\n",
       "       'ATIVO NÃO CIRCULANTE INTANGÍVEL', 'DESPESAS ANTECIPADAS',\n",
       "       'CRÉDITO TRIBUTÁRIO', 'PARTICIPAÇÕES OPS',\n",
       "       'PARTICIPAÇÕES INSTITUIÇÕES REGULADAS', 'PARTICIPAÇÕES COOPERATIVAS',\n",
       "       'APLICAÇÕES GARANTIDORAS', 'PPSC', 'RECEITAS FINANCEIRAS',\n",
       "       'DESPESAS FINANCEIRAS', 'OUTRAS RECEITAS OPERACIONAIS',\n",
       "       'OUTRAS DESPESAS OPERACIONAIS', 'DESPESA', 'RECEITA',\n",
       "       'TRIBUTOS DIRETOS', 'IMPOSTO SOBRE LUCRO', 'PEONA_OUTROS',\n",
       "       'PESL_OUTROS', 'PESL_SUS', 'REMISSAO', 'PPCNG', 'PROVISOES_TECNICAS',\n",
       "       'DESPESA_ADM', 'DESPESA_COM', 'VARIACAO_PEONA',\n",
       "       'EVENTOS_INDENIZAVEIS_POS', 'EVENTOS_INDENIZAVEIS_PRE',\n",
       "       'EVENTOS_INDENIZAVEIS_LIQUIDOS', 'CORRESP_CEDIDA_POS',\n",
       "       'CORRESP_CEDIDA_PRE', 'CONTRAPRESTACAO_POS', 'CONTRAPRESTACAO_PRE',\n",
       "       'RECEITA_COM_ASSISTENCIA_A_SAUDE', 'PL', 'PASSIVO_NAO_CIRCULANTE',\n",
       "       'PASSIVO_CIRCULANTE', 'PASSIVO', 'CREDITO_OPER_PS', 'ATIVO_CIRCULANTE',\n",
       "       'ATIVO', 'beneficiarios', 'porte', 'CHAVE_PERIODO'],\n",
       "      dtype='object')"
      ]
     },
     "execution_count": 3,
     "metadata": {},
     "output_type": "execute_result"
    }
   ],
   "source": [
    "df_demons.columns"
   ]
  },
  {
   "cell_type": "code",
   "execution_count": 4,
   "metadata": {},
   "outputs": [],
   "source": [
    "calcIndicadores = CalculoIndicadores()"
   ]
  },
  {
   "cell_type": "code",
   "execution_count": 5,
   "metadata": {},
   "outputs": [
    {
     "data": {
      "text/plain": [
       "Index(['REG_ANS', 'ANO', 'TRIMESTRE', 'PERIODO',\n",
       "       'DESPESA DE COMERCIALIZAÇÃO DIFERIDA',\n",
       "       'ATIVO NÃO CIRCULANTE INTANGÍVEL', 'DESPESAS ANTECIPADAS',\n",
       "       'CRÉDITO TRIBUTÁRIO', 'PARTICIPAÇÕES OPS',\n",
       "       'PARTICIPAÇÕES INSTITUIÇÕES REGULADAS', 'PARTICIPAÇÕES COOPERATIVAS',\n",
       "       'APLICAÇÕES GARANTIDORAS', 'PPSC', 'RECEITAS FINANCEIRAS',\n",
       "       'DESPESAS FINANCEIRAS', 'OUTRAS RECEITAS OPERACIONAIS',\n",
       "       'OUTRAS DESPESAS OPERACIONAIS', 'DESPESA', 'RECEITA',\n",
       "       'TRIBUTOS DIRETOS', 'IMPOSTO SOBRE LUCRO', 'PEONA_OUTROS',\n",
       "       'PESL_OUTROS', 'PESL_SUS', 'REMISSAO', 'PPCNG', 'PROVISOES_TECNICAS',\n",
       "       'DESPESA_ADM', 'DESPESA_COM', 'VARIACAO_PEONA',\n",
       "       'EVENTOS_INDENIZAVEIS_POS', 'EVENTOS_INDENIZAVEIS_PRE',\n",
       "       'EVENTOS_INDENIZAVEIS_LIQUIDOS', 'CORRESP_CEDIDA_POS',\n",
       "       'CORRESP_CEDIDA_PRE', 'CONTRAPRESTACAO_POS', 'CONTRAPRESTACAO_PRE',\n",
       "       'RECEITA_COM_ASSISTENCIA_A_SAUDE', 'PL', 'PASSIVO_NAO_CIRCULANTE',\n",
       "       'PASSIVO_CIRCULANTE', 'PASSIVO', 'CREDITO_OPER_PS', 'ATIVO_CIRCULANTE',\n",
       "       'ATIVO', 'beneficiarios', 'porte', 'CHAVE_PERIODO'],\n",
       "      dtype='object')"
      ]
     },
     "execution_count": 5,
     "metadata": {},
     "output_type": "execute_result"
    }
   ],
   "source": [
    "df_demons.columns"
   ]
  },
  {
   "cell_type": "code",
   "execution_count": 6,
   "metadata": {},
   "outputs": [
    {
     "data": {
      "text/html": [
       "<div>\n",
       "<style scoped>\n",
       "    .dataframe tbody tr th:only-of-type {\n",
       "        vertical-align: middle;\n",
       "    }\n",
       "\n",
       "    .dataframe tbody tr th {\n",
       "        vertical-align: top;\n",
       "    }\n",
       "\n",
       "    .dataframe thead th {\n",
       "        text-align: right;\n",
       "    }\n",
       "</style>\n",
       "<table border=\"1\" class=\"dataframe\">\n",
       "  <thead>\n",
       "    <tr style=\"text-align: right;\">\n",
       "      <th></th>\n",
       "      <th>REG_ANS</th>\n",
       "      <th>ANO</th>\n",
       "      <th>TRIMESTRE</th>\n",
       "      <th>PERIODO</th>\n",
       "      <th>DESPESA DE COMERCIALIZAÇÃO DIFERIDA</th>\n",
       "      <th>ATIVO NÃO CIRCULANTE INTANGÍVEL</th>\n",
       "      <th>DESPESAS ANTECIPADAS</th>\n",
       "      <th>CRÉDITO TRIBUTÁRIO</th>\n",
       "      <th>PARTICIPAÇÕES OPS</th>\n",
       "      <th>PARTICIPAÇÕES INSTITUIÇÕES REGULADAS</th>\n",
       "      <th>...</th>\n",
       "      <th>PL</th>\n",
       "      <th>PASSIVO_NAO_CIRCULANTE</th>\n",
       "      <th>PASSIVO_CIRCULANTE</th>\n",
       "      <th>PASSIVO</th>\n",
       "      <th>CREDITO_OPER_PS</th>\n",
       "      <th>ATIVO_CIRCULANTE</th>\n",
       "      <th>ATIVO</th>\n",
       "      <th>beneficiarios</th>\n",
       "      <th>porte</th>\n",
       "      <th>CHAVE_PERIODO</th>\n",
       "    </tr>\n",
       "  </thead>\n",
       "  <tbody>\n",
       "    <tr>\n",
       "      <td>0</td>\n",
       "      <td>300136</td>\n",
       "      <td>2015</td>\n",
       "      <td>1</td>\n",
       "      <td>201501</td>\n",
       "      <td>0.0</td>\n",
       "      <td>48495.29</td>\n",
       "      <td>160608.25</td>\n",
       "      <td>0.0</td>\n",
       "      <td>0.0</td>\n",
       "      <td>0.00</td>\n",
       "      <td>...</td>\n",
       "      <td>9897276.32</td>\n",
       "      <td>11841245.42</td>\n",
       "      <td>23903002.46</td>\n",
       "      <td>45641524.20</td>\n",
       "      <td>3381214.87</td>\n",
       "      <td>23392037.55</td>\n",
       "      <td>45641524.20</td>\n",
       "      <td>39.231</td>\n",
       "      <td>Médio Porte</td>\n",
       "      <td>300136201501</td>\n",
       "    </tr>\n",
       "    <tr>\n",
       "      <td>1</td>\n",
       "      <td>300136</td>\n",
       "      <td>2015</td>\n",
       "      <td>2</td>\n",
       "      <td>201502</td>\n",
       "      <td>0.0</td>\n",
       "      <td>41077.19</td>\n",
       "      <td>131979.09</td>\n",
       "      <td>0.0</td>\n",
       "      <td>0.0</td>\n",
       "      <td>0.00</td>\n",
       "      <td>...</td>\n",
       "      <td>10667692.81</td>\n",
       "      <td>11714472.71</td>\n",
       "      <td>26845389.32</td>\n",
       "      <td>49227554.84</td>\n",
       "      <td>3752622.61</td>\n",
       "      <td>26781779.50</td>\n",
       "      <td>49227554.84</td>\n",
       "      <td>40.258</td>\n",
       "      <td>Médio Porte</td>\n",
       "      <td>300136201502</td>\n",
       "    </tr>\n",
       "    <tr>\n",
       "      <td>2</td>\n",
       "      <td>300136</td>\n",
       "      <td>2015</td>\n",
       "      <td>3</td>\n",
       "      <td>201503</td>\n",
       "      <td>0.0</td>\n",
       "      <td>33659.09</td>\n",
       "      <td>187360.57</td>\n",
       "      <td>0.0</td>\n",
       "      <td>0.0</td>\n",
       "      <td>0.00</td>\n",
       "      <td>...</td>\n",
       "      <td>10759908.80</td>\n",
       "      <td>11417152.92</td>\n",
       "      <td>24767448.29</td>\n",
       "      <td>46944510.01</td>\n",
       "      <td>2430121.78</td>\n",
       "      <td>24336351.03</td>\n",
       "      <td>46944510.01</td>\n",
       "      <td>40.936</td>\n",
       "      <td>Médio Porte</td>\n",
       "      <td>300136201503</td>\n",
       "    </tr>\n",
       "    <tr>\n",
       "      <td>3</td>\n",
       "      <td>300136</td>\n",
       "      <td>2015</td>\n",
       "      <td>4</td>\n",
       "      <td>201504</td>\n",
       "      <td>0.0</td>\n",
       "      <td>26240.99</td>\n",
       "      <td>152494.75</td>\n",
       "      <td>0.0</td>\n",
       "      <td>0.0</td>\n",
       "      <td>0.00</td>\n",
       "      <td>...</td>\n",
       "      <td>10883122.95</td>\n",
       "      <td>11225608.22</td>\n",
       "      <td>21226705.79</td>\n",
       "      <td>43335436.96</td>\n",
       "      <td>6704705.64</td>\n",
       "      <td>25423831.25</td>\n",
       "      <td>43335436.96</td>\n",
       "      <td>40.075</td>\n",
       "      <td>Médio Porte</td>\n",
       "      <td>300136201504</td>\n",
       "    </tr>\n",
       "    <tr>\n",
       "      <td>4</td>\n",
       "      <td>300713</td>\n",
       "      <td>2015</td>\n",
       "      <td>1</td>\n",
       "      <td>201501</td>\n",
       "      <td>0.0</td>\n",
       "      <td>98906.88</td>\n",
       "      <td>29754.94</td>\n",
       "      <td>0.0</td>\n",
       "      <td>965070.7</td>\n",
       "      <td>365315.36</td>\n",
       "      <td>...</td>\n",
       "      <td>10041388.88</td>\n",
       "      <td>2314640.15</td>\n",
       "      <td>18939623.98</td>\n",
       "      <td>31295653.01</td>\n",
       "      <td>4465838.65</td>\n",
       "      <td>24334944.02</td>\n",
       "      <td>31952575.90</td>\n",
       "      <td>19.912</td>\n",
       "      <td>Médio Porte</td>\n",
       "      <td>300713201501</td>\n",
       "    </tr>\n",
       "    <tr>\n",
       "      <td>...</td>\n",
       "      <td>...</td>\n",
       "      <td>...</td>\n",
       "      <td>...</td>\n",
       "      <td>...</td>\n",
       "      <td>...</td>\n",
       "      <td>...</td>\n",
       "      <td>...</td>\n",
       "      <td>...</td>\n",
       "      <td>...</td>\n",
       "      <td>...</td>\n",
       "      <td>...</td>\n",
       "      <td>...</td>\n",
       "      <td>...</td>\n",
       "      <td>...</td>\n",
       "      <td>...</td>\n",
       "      <td>...</td>\n",
       "      <td>...</td>\n",
       "      <td>...</td>\n",
       "      <td>...</td>\n",
       "      <td>...</td>\n",
       "      <td>...</td>\n",
       "    </tr>\n",
       "    <tr>\n",
       "      <td>7495</td>\n",
       "      <td>415014</td>\n",
       "      <td>2018</td>\n",
       "      <td>4</td>\n",
       "      <td>201804</td>\n",
       "      <td>0.0</td>\n",
       "      <td>83973.39</td>\n",
       "      <td>13902.89</td>\n",
       "      <td>0.0</td>\n",
       "      <td>0.0</td>\n",
       "      <td>0.00</td>\n",
       "      <td>...</td>\n",
       "      <td>10436447.59</td>\n",
       "      <td>3143220.22</td>\n",
       "      <td>9641796.34</td>\n",
       "      <td>23221464.15</td>\n",
       "      <td>928313.26</td>\n",
       "      <td>15423177.61</td>\n",
       "      <td>23221464.15</td>\n",
       "      <td>18.381</td>\n",
       "      <td>Pequeno Porte</td>\n",
       "      <td>415014201804</td>\n",
       "    </tr>\n",
       "    <tr>\n",
       "      <td>7496</td>\n",
       "      <td>417092</td>\n",
       "      <td>2018</td>\n",
       "      <td>1</td>\n",
       "      <td>201801</td>\n",
       "      <td>0.0</td>\n",
       "      <td>0.00</td>\n",
       "      <td>0.00</td>\n",
       "      <td>0.0</td>\n",
       "      <td>0.0</td>\n",
       "      <td>0.00</td>\n",
       "      <td>...</td>\n",
       "      <td>20822744.96</td>\n",
       "      <td>1490180.74</td>\n",
       "      <td>3073449.73</td>\n",
       "      <td>25386375.43</td>\n",
       "      <td>0.00</td>\n",
       "      <td>23069512.53</td>\n",
       "      <td>25386375.43</td>\n",
       "      <td>1.411</td>\n",
       "      <td>Pequeno Porte</td>\n",
       "      <td>417092201801</td>\n",
       "    </tr>\n",
       "    <tr>\n",
       "      <td>7497</td>\n",
       "      <td>417092</td>\n",
       "      <td>2018</td>\n",
       "      <td>2</td>\n",
       "      <td>201802</td>\n",
       "      <td>0.0</td>\n",
       "      <td>0.00</td>\n",
       "      <td>0.00</td>\n",
       "      <td>0.0</td>\n",
       "      <td>0.0</td>\n",
       "      <td>0.00</td>\n",
       "      <td>...</td>\n",
       "      <td>22033259.92</td>\n",
       "      <td>1278838.16</td>\n",
       "      <td>3780889.56</td>\n",
       "      <td>27092987.64</td>\n",
       "      <td>0.00</td>\n",
       "      <td>24800161.56</td>\n",
       "      <td>27092987.64</td>\n",
       "      <td>1.395</td>\n",
       "      <td>Pequeno Porte</td>\n",
       "      <td>417092201802</td>\n",
       "    </tr>\n",
       "    <tr>\n",
       "      <td>7498</td>\n",
       "      <td>417092</td>\n",
       "      <td>2018</td>\n",
       "      <td>3</td>\n",
       "      <td>201803</td>\n",
       "      <td>0.0</td>\n",
       "      <td>0.00</td>\n",
       "      <td>0.00</td>\n",
       "      <td>0.0</td>\n",
       "      <td>0.0</td>\n",
       "      <td>487512.91</td>\n",
       "      <td>...</td>\n",
       "      <td>22373370.42</td>\n",
       "      <td>1561360.21</td>\n",
       "      <td>4297914.46</td>\n",
       "      <td>28232645.09</td>\n",
       "      <td>0.00</td>\n",
       "      <td>25963985.21</td>\n",
       "      <td>28232645.09</td>\n",
       "      <td>1.378</td>\n",
       "      <td>Pequeno Porte</td>\n",
       "      <td>417092201803</td>\n",
       "    </tr>\n",
       "    <tr>\n",
       "      <td>7499</td>\n",
       "      <td>417092</td>\n",
       "      <td>2018</td>\n",
       "      <td>4</td>\n",
       "      <td>201804</td>\n",
       "      <td>0.0</td>\n",
       "      <td>0.00</td>\n",
       "      <td>0.00</td>\n",
       "      <td>0.0</td>\n",
       "      <td>0.0</td>\n",
       "      <td>0.00</td>\n",
       "      <td>...</td>\n",
       "      <td>22463579.10</td>\n",
       "      <td>2232765.33</td>\n",
       "      <td>6240903.02</td>\n",
       "      <td>30937247.45</td>\n",
       "      <td>92754.15</td>\n",
       "      <td>7795842.62</td>\n",
       "      <td>30937247.45</td>\n",
       "      <td>1.370</td>\n",
       "      <td>Pequeno Porte</td>\n",
       "      <td>417092201804</td>\n",
       "    </tr>\n",
       "  </tbody>\n",
       "</table>\n",
       "<p>7500 rows × 48 columns</p>\n",
       "</div>"
      ],
      "text/plain": [
       "      REG_ANS   ANO  TRIMESTRE  PERIODO  DESPESA DE COMERCIALIZAÇÃO DIFERIDA  \\\n",
       "0      300136  2015          1   201501                                  0.0   \n",
       "1      300136  2015          2   201502                                  0.0   \n",
       "2      300136  2015          3   201503                                  0.0   \n",
       "3      300136  2015          4   201504                                  0.0   \n",
       "4      300713  2015          1   201501                                  0.0   \n",
       "...       ...   ...        ...      ...                                  ...   \n",
       "7495   415014  2018          4   201804                                  0.0   \n",
       "7496   417092  2018          1   201801                                  0.0   \n",
       "7497   417092  2018          2   201802                                  0.0   \n",
       "7498   417092  2018          3   201803                                  0.0   \n",
       "7499   417092  2018          4   201804                                  0.0   \n",
       "\n",
       "      ATIVO NÃO CIRCULANTE INTANGÍVEL  DESPESAS ANTECIPADAS  \\\n",
       "0                            48495.29             160608.25   \n",
       "1                            41077.19             131979.09   \n",
       "2                            33659.09             187360.57   \n",
       "3                            26240.99             152494.75   \n",
       "4                            98906.88              29754.94   \n",
       "...                               ...                   ...   \n",
       "7495                         83973.39              13902.89   \n",
       "7496                             0.00                  0.00   \n",
       "7497                             0.00                  0.00   \n",
       "7498                             0.00                  0.00   \n",
       "7499                             0.00                  0.00   \n",
       "\n",
       "      CRÉDITO TRIBUTÁRIO  PARTICIPAÇÕES OPS  \\\n",
       "0                    0.0                0.0   \n",
       "1                    0.0                0.0   \n",
       "2                    0.0                0.0   \n",
       "3                    0.0                0.0   \n",
       "4                    0.0           965070.7   \n",
       "...                  ...                ...   \n",
       "7495                 0.0                0.0   \n",
       "7496                 0.0                0.0   \n",
       "7497                 0.0                0.0   \n",
       "7498                 0.0                0.0   \n",
       "7499                 0.0                0.0   \n",
       "\n",
       "      PARTICIPAÇÕES INSTITUIÇÕES REGULADAS  ...           PL  \\\n",
       "0                                     0.00  ...   9897276.32   \n",
       "1                                     0.00  ...  10667692.81   \n",
       "2                                     0.00  ...  10759908.80   \n",
       "3                                     0.00  ...  10883122.95   \n",
       "4                                365315.36  ...  10041388.88   \n",
       "...                                    ...  ...          ...   \n",
       "7495                                  0.00  ...  10436447.59   \n",
       "7496                                  0.00  ...  20822744.96   \n",
       "7497                                  0.00  ...  22033259.92   \n",
       "7498                             487512.91  ...  22373370.42   \n",
       "7499                                  0.00  ...  22463579.10   \n",
       "\n",
       "      PASSIVO_NAO_CIRCULANTE  PASSIVO_CIRCULANTE      PASSIVO  \\\n",
       "0                11841245.42         23903002.46  45641524.20   \n",
       "1                11714472.71         26845389.32  49227554.84   \n",
       "2                11417152.92         24767448.29  46944510.01   \n",
       "3                11225608.22         21226705.79  43335436.96   \n",
       "4                 2314640.15         18939623.98  31295653.01   \n",
       "...                      ...                 ...          ...   \n",
       "7495              3143220.22          9641796.34  23221464.15   \n",
       "7496              1490180.74          3073449.73  25386375.43   \n",
       "7497              1278838.16          3780889.56  27092987.64   \n",
       "7498              1561360.21          4297914.46  28232645.09   \n",
       "7499              2232765.33          6240903.02  30937247.45   \n",
       "\n",
       "      CREDITO_OPER_PS  ATIVO_CIRCULANTE        ATIVO  beneficiarios  \\\n",
       "0          3381214.87       23392037.55  45641524.20         39.231   \n",
       "1          3752622.61       26781779.50  49227554.84         40.258   \n",
       "2          2430121.78       24336351.03  46944510.01         40.936   \n",
       "3          6704705.64       25423831.25  43335436.96         40.075   \n",
       "4          4465838.65       24334944.02  31952575.90         19.912   \n",
       "...               ...               ...          ...            ...   \n",
       "7495        928313.26       15423177.61  23221464.15         18.381   \n",
       "7496             0.00       23069512.53  25386375.43          1.411   \n",
       "7497             0.00       24800161.56  27092987.64          1.395   \n",
       "7498             0.00       25963985.21  28232645.09          1.378   \n",
       "7499         92754.15        7795842.62  30937247.45          1.370   \n",
       "\n",
       "              porte  CHAVE_PERIODO  \n",
       "0       Médio Porte   300136201501  \n",
       "1       Médio Porte   300136201502  \n",
       "2       Médio Porte   300136201503  \n",
       "3       Médio Porte   300136201504  \n",
       "4       Médio Porte   300713201501  \n",
       "...             ...            ...  \n",
       "7495  Pequeno Porte   415014201804  \n",
       "7496  Pequeno Porte   417092201801  \n",
       "7497  Pequeno Porte   417092201802  \n",
       "7498  Pequeno Porte   417092201803  \n",
       "7499  Pequeno Porte   417092201804  \n",
       "\n",
       "[7500 rows x 48 columns]"
      ]
     },
     "execution_count": 6,
     "metadata": {},
     "output_type": "execute_result"
    }
   ],
   "source": [
    "df_demons"
   ]
  },
  {
   "cell_type": "markdown",
   "metadata": {},
   "source": [
    "#### Margem de lucro líquida (MLL)"
   ]
  },
  {
   "cell_type": "code",
   "execution_count": 7,
   "metadata": {},
   "outputs": [
    {
     "name": "stdout",
     "output_type": "stream",
     "text": [
      "300870 2013 1 contraprestacoes\n",
      "300870 2013 2 contraprestacoes\n",
      "300870 2013 4 contraprestacoes\n",
      "415014 2019 2 contraprestacoes\n",
      "302228 2018 1 contraprestacoes\n"
     ]
    }
   ],
   "source": [
    "df_demons['MLL'] = df_demons.apply(lambda x: calcIndicadores.calcular_mll(x),axis=1)"
   ]
  },
  {
   "cell_type": "markdown",
   "metadata": {},
   "source": [
    "#### Retorno sobre o Patrimônio Líquido (ROE)"
   ]
  },
  {
   "cell_type": "code",
   "execution_count": 8,
   "metadata": {},
   "outputs": [],
   "source": [
    "df_demons[\"ROE\"] = df_demons.apply(lambda x:  calcIndicadores.calcular_roe(x),axis=1)"
   ]
  },
  {
   "cell_type": "markdown",
   "metadata": {},
   "source": [
    "#### Retorno sobre o Ativo (ROA)"
   ]
  },
  {
   "cell_type": "code",
   "execution_count": 9,
   "metadata": {},
   "outputs": [],
   "source": [
    "df_demons[\"ROA\"] = df_demons.apply(lambda x:  calcIndicadores.calcular_roa(x),axis=1)"
   ]
  },
  {
   "cell_type": "markdown",
   "metadata": {},
   "source": [
    "#### Percentual de Despesas Assistenciais em relação às Receitas de Contraprestações (DM)"
   ]
  },
  {
   "cell_type": "code",
   "execution_count": 10,
   "metadata": {},
   "outputs": [
    {
     "name": "stdout",
     "output_type": "stream",
     "text": [
      "300870 2013 1 contraprestacoes\n",
      "300870 2013 2 contraprestacoes\n",
      "300870 2013 4 contraprestacoes\n",
      "415014 2019 2 contraprestacoes\n",
      "302228 2018 1 contraprestacoes\n"
     ]
    }
   ],
   "source": [
    "df_demons['DM'] = df_demons.apply(lambda x:  calcIndicadores.calcular_dm(x),axis=1)\n"
   ]
  },
  {
   "cell_type": "markdown",
   "metadata": {},
   "source": [
    "#### Percentual de Despesas Administrativas em relação às Receitas de Contraprestações (DA)"
   ]
  },
  {
   "cell_type": "code",
   "execution_count": 11,
   "metadata": {},
   "outputs": [
    {
     "name": "stdout",
     "output_type": "stream",
     "text": [
      "300870 2013 1 contraprestacoes\n",
      "300870 2013 2 contraprestacoes\n",
      "300870 2013 4 contraprestacoes\n",
      "415014 2019 2 contraprestacoes\n",
      "302228 2018 1 contraprestacoes\n"
     ]
    }
   ],
   "source": [
    "df_demons['DA'] = df_demons.apply(lambda x:  calcIndicadores.calcular_da(x),axis=1)"
   ]
  },
  {
   "cell_type": "markdown",
   "metadata": {},
   "source": [
    "#### Percentual de Despesa Comercial em relação à Receita de Contraprestações (DC)"
   ]
  },
  {
   "cell_type": "code",
   "execution_count": 12,
   "metadata": {},
   "outputs": [
    {
     "name": "stdout",
     "output_type": "stream",
     "text": [
      "300870 2013 1 contraprestacoes\n",
      "300870 2013 2 contraprestacoes\n",
      "300870 2013 4 contraprestacoes\n",
      "415014 2019 2 contraprestacoes\n",
      "302228 2018 1 contraprestacoes\n"
     ]
    }
   ],
   "source": [
    "df_demons['DC'] = df_demons.apply(lambda x:  calcIndicadores.calcular_dc(x),axis=1)"
   ]
  },
  {
   "cell_type": "markdown",
   "metadata": {},
   "source": [
    "### Percentual de Despesas Operacionais em relação às Receitas Operacionais (DOP)"
   ]
  },
  {
   "cell_type": "code",
   "execution_count": 13,
   "metadata": {},
   "outputs": [
    {
     "name": "stdout",
     "output_type": "stream",
     "text": [
      "415014 2019 2 contraprestacoes_efetivas+ OUTRAS DESPESAS OPERACIONAIS\n",
      "302228 2018 1 contraprestacoes_efetivas+ OUTRAS DESPESAS OPERACIONAIS\n"
     ]
    }
   ],
   "source": [
    "df_demons['DOP'] = df_demons.apply(lambda x:  calcIndicadores.calcular_dop(x),axis=1)"
   ]
  },
  {
   "cell_type": "markdown",
   "metadata": {},
   "source": [
    "#### Índice de Resultado Financeiro (IRF)"
   ]
  },
  {
   "cell_type": "code",
   "execution_count": 14,
   "metadata": {},
   "outputs": [
    {
     "name": "stdout",
     "output_type": "stream",
     "text": [
      "300870 2013 1 contraprestracoes_efetivas\n",
      "300870 2013 2 contraprestracoes_efetivas\n",
      "300870 2013 4 contraprestracoes_efetivas\n",
      "415014 2019 2 contraprestracoes_efetivas\n",
      "302228 2018 1 contraprestracoes_efetivas\n"
     ]
    }
   ],
   "source": [
    "df_demons['IRF'] = df_demons.apply(lambda x:  calcIndicadores.calcular_irf(x),axis=1)"
   ]
  },
  {
   "cell_type": "markdown",
   "metadata": {},
   "source": [
    "#### Liquidez Corrente (LC)"
   ]
  },
  {
   "cell_type": "code",
   "execution_count": 15,
   "metadata": {},
   "outputs": [],
   "source": [
    "df_demons['LC'] = df_demons.apply(lambda x:  calcIndicadores.calcular_liquidez_corrente(x),axis=1)"
   ]
  },
  {
   "cell_type": "markdown",
   "metadata": {},
   "source": [
    "#### Capital de terceiros sobre o Capital próprio (CT/CP)"
   ]
  },
  {
   "cell_type": "code",
   "execution_count": 16,
   "metadata": {},
   "outputs": [],
   "source": [
    "df_demons['CT/CP'] = df_demons.apply(lambda x:  calcIndicadores.calcular_ct_cp(x),axis=1)\n"
   ]
  },
  {
   "cell_type": "markdown",
   "metadata": {},
   "source": [
    "### Prazo Médio de Recebimento de Contraprestações (PMRC)"
   ]
  },
  {
   "cell_type": "code",
   "execution_count": 17,
   "metadata": {},
   "outputs": [
    {
     "name": "stdout",
     "output_type": "stream",
     "text": [
      "300870 2013 1 contraprestacao_efetiva\n",
      "300870 2013 2 contraprestacao_efetiva\n",
      "300870 2013 4 contraprestacao_efetiva\n",
      "415014 2019 2 contraprestacao_efetiva\n",
      "302228 2018 1 contraprestacao_efetiva\n"
     ]
    }
   ],
   "source": [
    "df_demons['PMRC'] = df_demons.apply(lambda x:  calcIndicadores.calcular_pmrc(x),axis=1)"
   ]
  },
  {
   "cell_type": "markdown",
   "metadata": {},
   "source": [
    "### Prazo Médio de Pagamento de Eventos (PMPE)"
   ]
  },
  {
   "cell_type": "code",
   "execution_count": 18,
   "metadata": {},
   "outputs": [
    {
     "name": "stdout",
     "output_type": "stream",
     "text": [
      "415014 2019 2 eventos_indenizaveis\n"
     ]
    }
   ],
   "source": [
    "df_demons['PMPE'] = df_demons.apply(lambda x:  calcIndicadores.calcular_pmpe(x),axis=1)"
   ]
  },
  {
   "cell_type": "markdown",
   "metadata": {},
   "source": [
    "#### Suficiência de lastro das provisões técnicas"
   ]
  },
  {
   "cell_type": "code",
   "execution_count": 19,
   "metadata": {},
   "outputs": [],
   "source": [
    "df_demons['Lastro P T'] = df_demons.apply(lambda x:  calcIndicadores.calcular_latro_pt(x),axis=1)"
   ]
  },
  {
   "cell_type": "code",
   "execution_count": 20,
   "metadata": {},
   "outputs": [],
   "source": [
    "df_demons = df_demons[[\n",
    "    'REG_ANS','PERIODO','ANO','TRIMESTRE','porte','MLL','ROE','ROA','DM','DA','DC','DOP','IRF','LC','CT/CP','PMRC','PMPE','Lastro P T'\n",
    "]]"
   ]
  },
  {
   "cell_type": "code",
   "execution_count": 21,
   "metadata": {},
   "outputs": [],
   "source": [
    "df_demons.to_csv('../Datasets/todos_indicadores.csv',index=False,encoding=\"ISO-8859-1\",float_format='%13.2f')"
   ]
  },
  {
   "cell_type": "code",
   "execution_count": null,
   "metadata": {},
   "outputs": [],
   "source": []
  },
  {
   "cell_type": "code",
   "execution_count": null,
   "metadata": {},
   "outputs": [],
   "source": []
  }
 ],
 "metadata": {
  "kernelspec": {
   "display_name": "Python 3",
   "language": "python",
   "name": "python3"
  },
  "language_info": {
   "codemirror_mode": {
    "name": "ipython",
    "version": 3
   },
   "file_extension": ".py",
   "mimetype": "text/x-python",
   "name": "python",
   "nbconvert_exporter": "python",
   "pygments_lexer": "ipython3",
   "version": "3.7.4"
  }
 },
 "nbformat": 4,
 "nbformat_minor": 4
}
