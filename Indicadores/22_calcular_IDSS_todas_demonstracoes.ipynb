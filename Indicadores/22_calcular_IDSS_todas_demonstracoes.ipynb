{
 "cells": [
  {
   "cell_type": "code",
   "execution_count": 22,
   "metadata": {},
   "outputs": [],
   "source": [
    "import pandas as pd\n",
    "from calculo_indicadores import CalculoIndicadores\n"
   ]
  },
  {
   "cell_type": "code",
   "execution_count": 23,
   "metadata": {},
   "outputs": [],
   "source": [
    "df_demons = pd.read_csv(\"..\",encoding=\"ISO-8859-1\")"
   ]
  },
  {
   "cell_type": "code",
   "execution_count": 24,
   "metadata": {},
   "outputs": [
    {
     "data": {
      "text/plain": [
       "Index(['REG_ANS', 'ANO', 'TRIMESTRE', 'PERIODO',\n",
       "       'DESPESA DE COMERCIALIZAÇÃO DIFERIDA',\n",
       "       'ATIVO NÃO CIRCULANTE INTANGÍVEL', 'DESPESAS ANTECIPADAS',\n",
       "       'CRÉDITO TRIBUTÁRIO', 'PARTICIPAÇÕES OPS',\n",
       "       'PARTICIPAÇÕES INSTITUIÇÕES REGULADAS', 'PARTICIPAÇÕES COOPERATIVAS',\n",
       "       'APLICAÇÕES GARANTIDORAS', 'PPSC', 'RECEITAS FINANCEIRAS',\n",
       "       'DESPESAS FINANCEIRAS', 'OUTRAS RECEITAS OPERACIONAIS',\n",
       "       'OUTRAS DESPESAS OPERACIONAIS', 'DESPESA', 'RECEITA',\n",
       "       'TRIBUTOS DIRETOS', 'IMPOSTO SOBRE LUCRO', 'PEONA_OUTROS',\n",
       "       'PESL_OUTROS', 'PESL_SUS', 'REMISSAO', 'PPCNG', 'PROVISOES_TECNICAS',\n",
       "       'DESPESA_ADM', 'DESPESA_COM', 'VARIACAO_PEONA',\n",
       "       'EVENTOS_INDENIZAVEIS_POS', 'EVENTOS_INDENIZAVEIS_PRE',\n",
       "       'EVENTOS_INDENIZAVEIS_LIQUIDOS', 'CORRESP_CEDIDA_POS',\n",
       "       'CORRESP_CEDIDA_PRE', 'CONTRAPRESTACAO_POS', 'CONTRAPRESTACAO_PRE',\n",
       "       'RECEITA_COM_ASSISTENCIA_A_SAUDE', 'PL', 'PASSIVO_NAO_CIRCULANTE',\n",
       "       'PASSIVO_CIRCULANTE', 'PASSIVO', 'CREDITO_OPER_PS', 'ATIVO_CIRCULANTE',\n",
       "       'ATIVO', 'beneficiarios', 'porte', 'CORRESPONSABILIDADE',\n",
       "       'RESULTADO LÍQUIDO', 'RESULTADO FINANCEIRO LÍQUIDO',\n",
       "       'CONTRAPRESTAÇÃO EFETIVA', 'MLL', 'ROE', 'ROA', 'DM', 'DA', 'DC', 'DOP',\n",
       "       'IRF', 'LC', 'CT/CP', 'PMRC', 'PMPE', 'LASTRO PT',\n",
       "       'SUFICIÊNCIA MS INTEGRAL', 'SUFICIÊNCIA MS PARCIAL', 'TÍQUETE MÉDIO',\n",
       "       'DESPESA PER CAPTA', 'CHAVE_PERIODO'],\n",
       "      dtype='object')"
      ]
     },
     "execution_count": 24,
     "metadata": {},
     "output_type": "execute_result"
    }
   ],
   "source": [
    "df_demons.columns"
   ]
  },
  {
   "cell_type": "code",
   "execution_count": 25,
   "metadata": {},
   "outputs": [],
   "source": [
    "calcIndicadores = CalculoIndicadores()"
   ]
  },
  {
   "cell_type": "code",
   "execution_count": 26,
   "metadata": {},
   "outputs": [
    {
     "data": {
      "text/plain": [
       "Index(['REG_ANS', 'ANO', 'TRIMESTRE', 'PERIODO',\n",
       "       'DESPESA DE COMERCIALIZAÇÃO DIFERIDA',\n",
       "       'ATIVO NÃO CIRCULANTE INTANGÍVEL', 'DESPESAS ANTECIPADAS',\n",
       "       'CRÉDITO TRIBUTÁRIO', 'PARTICIPAÇÕES OPS',\n",
       "       'PARTICIPAÇÕES INSTITUIÇÕES REGULADAS', 'PARTICIPAÇÕES COOPERATIVAS',\n",
       "       'APLICAÇÕES GARANTIDORAS', 'PPSC', 'RECEITAS FINANCEIRAS',\n",
       "       'DESPESAS FINANCEIRAS', 'OUTRAS RECEITAS OPERACIONAIS',\n",
       "       'OUTRAS DESPESAS OPERACIONAIS', 'DESPESA', 'RECEITA',\n",
       "       'TRIBUTOS DIRETOS', 'IMPOSTO SOBRE LUCRO', 'PEONA_OUTROS',\n",
       "       'PESL_OUTROS', 'PESL_SUS', 'REMISSAO', 'PPCNG', 'PROVISOES_TECNICAS',\n",
       "       'DESPESA_ADM', 'DESPESA_COM', 'VARIACAO_PEONA',\n",
       "       'EVENTOS_INDENIZAVEIS_POS', 'EVENTOS_INDENIZAVEIS_PRE',\n",
       "       'EVENTOS_INDENIZAVEIS_LIQUIDOS', 'CORRESP_CEDIDA_POS',\n",
       "       'CORRESP_CEDIDA_PRE', 'CONTRAPRESTACAO_POS', 'CONTRAPRESTACAO_PRE',\n",
       "       'RECEITA_COM_ASSISTENCIA_A_SAUDE', 'PL', 'PASSIVO_NAO_CIRCULANTE',\n",
       "       'PASSIVO_CIRCULANTE', 'PASSIVO', 'CREDITO_OPER_PS', 'ATIVO_CIRCULANTE',\n",
       "       'ATIVO', 'beneficiarios', 'porte', 'CORRESPONSABILIDADE',\n",
       "       'RESULTADO LÍQUIDO', 'RESULTADO FINANCEIRO LÍQUIDO',\n",
       "       'CONTRAPRESTAÇÃO EFETIVA', 'MLL', 'ROE', 'ROA', 'DM', 'DA', 'DC', 'DOP',\n",
       "       'IRF', 'LC', 'CT/CP', 'PMRC', 'PMPE', 'LASTRO PT',\n",
       "       'SUFICIÊNCIA MS INTEGRAL', 'SUFICIÊNCIA MS PARCIAL', 'TÍQUETE MÉDIO',\n",
       "       'DESPESA PER CAPTA', 'CHAVE_PERIODO'],\n",
       "      dtype='object')"
      ]
     },
     "execution_count": 26,
     "metadata": {},
     "output_type": "execute_result"
    }
   ],
   "source": [
    "df_demons.columns"
   ]
  },
  {
   "cell_type": "code",
   "execution_count": 27,
   "metadata": {},
   "outputs": [
    {
     "data": {
      "text/html": [
       "<div>\n",
       "<style scoped>\n",
       "    .dataframe tbody tr th:only-of-type {\n",
       "        vertical-align: middle;\n",
       "    }\n",
       "\n",
       "    .dataframe tbody tr th {\n",
       "        vertical-align: top;\n",
       "    }\n",
       "\n",
       "    .dataframe thead th {\n",
       "        text-align: right;\n",
       "    }\n",
       "</style>\n",
       "<table border=\"1\" class=\"dataframe\">\n",
       "  <thead>\n",
       "    <tr style=\"text-align: right;\">\n",
       "      <th></th>\n",
       "      <th>REG_ANS</th>\n",
       "      <th>ANO</th>\n",
       "      <th>TRIMESTRE</th>\n",
       "      <th>PERIODO</th>\n",
       "      <th>DESPESA DE COMERCIALIZAÇÃO DIFERIDA</th>\n",
       "      <th>ATIVO NÃO CIRCULANTE INTANGÍVEL</th>\n",
       "      <th>DESPESAS ANTECIPADAS</th>\n",
       "      <th>CRÉDITO TRIBUTÁRIO</th>\n",
       "      <th>PARTICIPAÇÕES OPS</th>\n",
       "      <th>PARTICIPAÇÕES INSTITUIÇÕES REGULADAS</th>\n",
       "      <th>...</th>\n",
       "      <th>LC</th>\n",
       "      <th>CT/CP</th>\n",
       "      <th>PMRC</th>\n",
       "      <th>PMPE</th>\n",
       "      <th>LASTRO PT</th>\n",
       "      <th>SUFICIÊNCIA MS INTEGRAL</th>\n",
       "      <th>SUFICIÊNCIA MS PARCIAL</th>\n",
       "      <th>TÍQUETE MÉDIO</th>\n",
       "      <th>DESPESA PER CAPTA</th>\n",
       "      <th>CHAVE_PERIODO</th>\n",
       "    </tr>\n",
       "  </thead>\n",
       "  <tbody>\n",
       "    <tr>\n",
       "      <td>0</td>\n",
       "      <td>300136</td>\n",
       "      <td>2015</td>\n",
       "      <td>1</td>\n",
       "      <td>201501</td>\n",
       "      <td>0.0</td>\n",
       "      <td>48495.29</td>\n",
       "      <td>160608.25</td>\n",
       "      <td>0.0</td>\n",
       "      <td>0.00</td>\n",
       "      <td>0.00</td>\n",
       "      <td>...</td>\n",
       "      <td>0.978623</td>\n",
       "      <td>3.611524</td>\n",
       "      <td>73.024706</td>\n",
       "      <td>78.262353</td>\n",
       "      <td>0.740383</td>\n",
       "      <td>NaN</td>\n",
       "      <td>NaN</td>\n",
       "      <td>141.789654</td>\n",
       "      <td>124.982490</td>\n",
       "      <td>300136201501</td>\n",
       "    </tr>\n",
       "    <tr>\n",
       "      <td>1</td>\n",
       "      <td>300136</td>\n",
       "      <td>2015</td>\n",
       "      <td>2</td>\n",
       "      <td>201502</td>\n",
       "      <td>0.0</td>\n",
       "      <td>41077.19</td>\n",
       "      <td>131979.09</td>\n",
       "      <td>0.0</td>\n",
       "      <td>0.00</td>\n",
       "      <td>0.00</td>\n",
       "      <td>...</td>\n",
       "      <td>0.997631</td>\n",
       "      <td>3.614639</td>\n",
       "      <td>37.881473</td>\n",
       "      <td>38.203905</td>\n",
       "      <td>0.721759</td>\n",
       "      <td>NaN</td>\n",
       "      <td>NaN</td>\n",
       "      <td>148.344859</td>\n",
       "      <td>125.445012</td>\n",
       "      <td>300136201502</td>\n",
       "    </tr>\n",
       "    <tr>\n",
       "      <td>2</td>\n",
       "      <td>300136</td>\n",
       "      <td>2015</td>\n",
       "      <td>3</td>\n",
       "      <td>201503</td>\n",
       "      <td>0.0</td>\n",
       "      <td>33659.09</td>\n",
       "      <td>187360.57</td>\n",
       "      <td>0.0</td>\n",
       "      <td>0.00</td>\n",
       "      <td>0.00</td>\n",
       "      <td>...</td>\n",
       "      <td>0.982594</td>\n",
       "      <td>3.362910</td>\n",
       "      <td>16.519655</td>\n",
       "      <td>27.155831</td>\n",
       "      <td>0.746502</td>\n",
       "      <td>NaN</td>\n",
       "      <td>NaN</td>\n",
       "      <td>147.266324</td>\n",
       "      <td>125.955491</td>\n",
       "      <td>300136201503</td>\n",
       "    </tr>\n",
       "    <tr>\n",
       "      <td>3</td>\n",
       "      <td>300136</td>\n",
       "      <td>2015</td>\n",
       "      <td>4</td>\n",
       "      <td>201504</td>\n",
       "      <td>0.0</td>\n",
       "      <td>26240.99</td>\n",
       "      <td>152494.75</td>\n",
       "      <td>0.0</td>\n",
       "      <td>0.00</td>\n",
       "      <td>0.00</td>\n",
       "      <td>...</td>\n",
       "      <td>1.197729</td>\n",
       "      <td>2.981894</td>\n",
       "      <td>32.852888</td>\n",
       "      <td>17.773252</td>\n",
       "      <td>0.833249</td>\n",
       "      <td>NaN</td>\n",
       "      <td>NaN</td>\n",
       "      <td>153.858948</td>\n",
       "      <td>126.480029</td>\n",
       "      <td>300136201504</td>\n",
       "    </tr>\n",
       "    <tr>\n",
       "      <td>4</td>\n",
       "      <td>300713</td>\n",
       "      <td>2015</td>\n",
       "      <td>1</td>\n",
       "      <td>201501</td>\n",
       "      <td>0.0</td>\n",
       "      <td>98906.88</td>\n",
       "      <td>29754.94</td>\n",
       "      <td>0.0</td>\n",
       "      <td>965070.70</td>\n",
       "      <td>365315.36</td>\n",
       "      <td>...</td>\n",
       "      <td>1.284869</td>\n",
       "      <td>2.116666</td>\n",
       "      <td>151.716064</td>\n",
       "      <td>249.760667</td>\n",
       "      <td>0.537953</td>\n",
       "      <td>NaN</td>\n",
       "      <td>NaN</td>\n",
       "      <td>186.016140</td>\n",
       "      <td>125.809257</td>\n",
       "      <td>300713201501</td>\n",
       "    </tr>\n",
       "    <tr>\n",
       "      <td>...</td>\n",
       "      <td>...</td>\n",
       "      <td>...</td>\n",
       "      <td>...</td>\n",
       "      <td>...</td>\n",
       "      <td>...</td>\n",
       "      <td>...</td>\n",
       "      <td>...</td>\n",
       "      <td>...</td>\n",
       "      <td>...</td>\n",
       "      <td>...</td>\n",
       "      <td>...</td>\n",
       "      <td>...</td>\n",
       "      <td>...</td>\n",
       "      <td>...</td>\n",
       "      <td>...</td>\n",
       "      <td>...</td>\n",
       "      <td>...</td>\n",
       "      <td>...</td>\n",
       "      <td>...</td>\n",
       "      <td>...</td>\n",
       "      <td>...</td>\n",
       "    </tr>\n",
       "    <tr>\n",
       "      <td>7414</td>\n",
       "      <td>414573</td>\n",
       "      <td>2018</td>\n",
       "      <td>4</td>\n",
       "      <td>201804</td>\n",
       "      <td>0.0</td>\n",
       "      <td>117438.27</td>\n",
       "      <td>13141.07</td>\n",
       "      <td>0.0</td>\n",
       "      <td>8719968.27</td>\n",
       "      <td>69548.66</td>\n",
       "      <td>...</td>\n",
       "      <td>2.916278</td>\n",
       "      <td>0.467324</td>\n",
       "      <td>11.240653</td>\n",
       "      <td>12.680718</td>\n",
       "      <td>1.094399</td>\n",
       "      <td>NaN</td>\n",
       "      <td>NaN</td>\n",
       "      <td>9075.831545</td>\n",
       "      <td>8000.302258</td>\n",
       "      <td>414573201804</td>\n",
       "    </tr>\n",
       "    <tr>\n",
       "      <td>7415</td>\n",
       "      <td>415014</td>\n",
       "      <td>2018</td>\n",
       "      <td>1</td>\n",
       "      <td>201801</td>\n",
       "      <td>0.0</td>\n",
       "      <td>94135.48</td>\n",
       "      <td>26539.19</td>\n",
       "      <td>0.0</td>\n",
       "      <td>0.00</td>\n",
       "      <td>0.00</td>\n",
       "      <td>...</td>\n",
       "      <td>1.520281</td>\n",
       "      <td>1.119296</td>\n",
       "      <td>24.987000</td>\n",
       "      <td>137.150646</td>\n",
       "      <td>1.087648</td>\n",
       "      <td>NaN</td>\n",
       "      <td>NaN</td>\n",
       "      <td>230.106596</td>\n",
       "      <td>154.195779</td>\n",
       "      <td>415014201801</td>\n",
       "    </tr>\n",
       "    <tr>\n",
       "      <td>7416</td>\n",
       "      <td>415014</td>\n",
       "      <td>2018</td>\n",
       "      <td>2</td>\n",
       "      <td>201802</td>\n",
       "      <td>0.0</td>\n",
       "      <td>101502.39</td>\n",
       "      <td>6478.71</td>\n",
       "      <td>0.0</td>\n",
       "      <td>0.00</td>\n",
       "      <td>0.00</td>\n",
       "      <td>...</td>\n",
       "      <td>1.491724</td>\n",
       "      <td>1.358806</td>\n",
       "      <td>12.629128</td>\n",
       "      <td>67.222390</td>\n",
       "      <td>1.103756</td>\n",
       "      <td>NaN</td>\n",
       "      <td>NaN</td>\n",
       "      <td>231.998584</td>\n",
       "      <td>166.488635</td>\n",
       "      <td>415014201802</td>\n",
       "    </tr>\n",
       "    <tr>\n",
       "      <td>7417</td>\n",
       "      <td>415014</td>\n",
       "      <td>2018</td>\n",
       "      <td>3</td>\n",
       "      <td>201803</td>\n",
       "      <td>0.0</td>\n",
       "      <td>103162.32</td>\n",
       "      <td>14732.49</td>\n",
       "      <td>0.0</td>\n",
       "      <td>0.00</td>\n",
       "      <td>0.00</td>\n",
       "      <td>...</td>\n",
       "      <td>1.534115</td>\n",
       "      <td>1.272418</td>\n",
       "      <td>6.903110</td>\n",
       "      <td>46.689366</td>\n",
       "      <td>1.088655</td>\n",
       "      <td>NaN</td>\n",
       "      <td>NaN</td>\n",
       "      <td>235.078406</td>\n",
       "      <td>174.654819</td>\n",
       "      <td>415014201803</td>\n",
       "    </tr>\n",
       "    <tr>\n",
       "      <td>7418</td>\n",
       "      <td>415014</td>\n",
       "      <td>2018</td>\n",
       "      <td>4</td>\n",
       "      <td>201804</td>\n",
       "      <td>0.0</td>\n",
       "      <td>83973.39</td>\n",
       "      <td>13902.89</td>\n",
       "      <td>0.0</td>\n",
       "      <td>0.00</td>\n",
       "      <td>0.00</td>\n",
       "      <td>...</td>\n",
       "      <td>1.599617</td>\n",
       "      <td>1.225035</td>\n",
       "      <td>7.423007</td>\n",
       "      <td>28.802832</td>\n",
       "      <td>1.145642</td>\n",
       "      <td>NaN</td>\n",
       "      <td>NaN</td>\n",
       "      <td>267.030809</td>\n",
       "      <td>200.012605</td>\n",
       "      <td>415014201804</td>\n",
       "    </tr>\n",
       "  </tbody>\n",
       "</table>\n",
       "<p>7419 rows × 69 columns</p>\n",
       "</div>"
      ],
      "text/plain": [
       "      REG_ANS   ANO  TRIMESTRE  PERIODO  DESPESA DE COMERCIALIZAÇÃO DIFERIDA  \\\n",
       "0      300136  2015          1   201501                                  0.0   \n",
       "1      300136  2015          2   201502                                  0.0   \n",
       "2      300136  2015          3   201503                                  0.0   \n",
       "3      300136  2015          4   201504                                  0.0   \n",
       "4      300713  2015          1   201501                                  0.0   \n",
       "...       ...   ...        ...      ...                                  ...   \n",
       "7414   414573  2018          4   201804                                  0.0   \n",
       "7415   415014  2018          1   201801                                  0.0   \n",
       "7416   415014  2018          2   201802                                  0.0   \n",
       "7417   415014  2018          3   201803                                  0.0   \n",
       "7418   415014  2018          4   201804                                  0.0   \n",
       "\n",
       "      ATIVO NÃO CIRCULANTE INTANGÍVEL  DESPESAS ANTECIPADAS  \\\n",
       "0                            48495.29             160608.25   \n",
       "1                            41077.19             131979.09   \n",
       "2                            33659.09             187360.57   \n",
       "3                            26240.99             152494.75   \n",
       "4                            98906.88              29754.94   \n",
       "...                               ...                   ...   \n",
       "7414                        117438.27              13141.07   \n",
       "7415                         94135.48              26539.19   \n",
       "7416                        101502.39               6478.71   \n",
       "7417                        103162.32              14732.49   \n",
       "7418                         83973.39              13902.89   \n",
       "\n",
       "      CRÉDITO TRIBUTÁRIO  PARTICIPAÇÕES OPS  \\\n",
       "0                    0.0               0.00   \n",
       "1                    0.0               0.00   \n",
       "2                    0.0               0.00   \n",
       "3                    0.0               0.00   \n",
       "4                    0.0          965070.70   \n",
       "...                  ...                ...   \n",
       "7414                 0.0         8719968.27   \n",
       "7415                 0.0               0.00   \n",
       "7416                 0.0               0.00   \n",
       "7417                 0.0               0.00   \n",
       "7418                 0.0               0.00   \n",
       "\n",
       "      PARTICIPAÇÕES INSTITUIÇÕES REGULADAS  ...        LC     CT/CP  \\\n",
       "0                                     0.00  ...  0.978623  3.611524   \n",
       "1                                     0.00  ...  0.997631  3.614639   \n",
       "2                                     0.00  ...  0.982594  3.362910   \n",
       "3                                     0.00  ...  1.197729  2.981894   \n",
       "4                                365315.36  ...  1.284869  2.116666   \n",
       "...                                    ...  ...       ...       ...   \n",
       "7414                              69548.66  ...  2.916278  0.467324   \n",
       "7415                                  0.00  ...  1.520281  1.119296   \n",
       "7416                                  0.00  ...  1.491724  1.358806   \n",
       "7417                                  0.00  ...  1.534115  1.272418   \n",
       "7418                                  0.00  ...  1.599617  1.225035   \n",
       "\n",
       "            PMRC        PMPE  LASTRO PT  SUFICIÊNCIA MS INTEGRAL  \\\n",
       "0      73.024706   78.262353   0.740383                      NaN   \n",
       "1      37.881473   38.203905   0.721759                      NaN   \n",
       "2      16.519655   27.155831   0.746502                      NaN   \n",
       "3      32.852888   17.773252   0.833249                      NaN   \n",
       "4     151.716064  249.760667   0.537953                      NaN   \n",
       "...          ...         ...        ...                      ...   \n",
       "7414   11.240653   12.680718   1.094399                      NaN   \n",
       "7415   24.987000  137.150646   1.087648                      NaN   \n",
       "7416   12.629128   67.222390   1.103756                      NaN   \n",
       "7417    6.903110   46.689366   1.088655                      NaN   \n",
       "7418    7.423007   28.802832   1.145642                      NaN   \n",
       "\n",
       "      SUFICIÊNCIA MS PARCIAL  TÍQUETE MÉDIO  DESPESA PER CAPTA  CHAVE_PERIODO  \n",
       "0                        NaN     141.789654         124.982490   300136201501  \n",
       "1                        NaN     148.344859         125.445012   300136201502  \n",
       "2                        NaN     147.266324         125.955491   300136201503  \n",
       "3                        NaN     153.858948         126.480029   300136201504  \n",
       "4                        NaN     186.016140         125.809257   300713201501  \n",
       "...                      ...            ...                ...            ...  \n",
       "7414                     NaN    9075.831545        8000.302258   414573201804  \n",
       "7415                     NaN     230.106596         154.195779   415014201801  \n",
       "7416                     NaN     231.998584         166.488635   415014201802  \n",
       "7417                     NaN     235.078406         174.654819   415014201803  \n",
       "7418                     NaN     267.030809         200.012605   415014201804  \n",
       "\n",
       "[7419 rows x 69 columns]"
      ]
     },
     "execution_count": 27,
     "metadata": {},
     "output_type": "execute_result"
    }
   ],
   "source": [
    "df_demons"
   ]
  },
  {
   "cell_type": "markdown",
   "metadata": {},
   "source": [
    "#### Margem de lucro líquida (MLL)"
   ]
  },
  {
   "cell_type": "code",
   "execution_count": 28,
   "metadata": {},
   "outputs": [
    {
     "name": "stdout",
     "output_type": "stream",
     "text": [
      "300870 2013 1 contraprestacoes\n",
      "300870 2013 2 contraprestacoes\n",
      "300870 2013 4 contraprestacoes\n",
      "415014 2019 2 contraprestacoes\n",
      "384577 2017 3 contraprestacoes\n",
      "302228 2018 1 contraprestacoes\n"
     ]
    }
   ],
   "source": [
    "df_demons['MLL'] = df_demons.apply(lambda x: calcIndicadores.calcular_mll(x),axis=1)"
   ]
  },
  {
   "cell_type": "markdown",
   "metadata": {},
   "source": [
    "#### Retorno sobre o Patrimônio Líquido (ROE)"
   ]
  },
  {
   "cell_type": "code",
   "execution_count": 29,
   "metadata": {},
   "outputs": [],
   "source": [
    "df_demons[\"ROE\"] = df_demons.apply(lambda x:  calcIndicadores.calcular_roe(x),axis=1)"
   ]
  },
  {
   "cell_type": "markdown",
   "metadata": {},
   "source": [
    "#### Retorno sobre o Ativo (ROA)"
   ]
  },
  {
   "cell_type": "code",
   "execution_count": 30,
   "metadata": {},
   "outputs": [],
   "source": [
    "df_demons[\"ROA\"] = df_demons.apply(lambda x:  calcIndicadores.calcular_roa(x),axis=1)"
   ]
  },
  {
   "cell_type": "markdown",
   "metadata": {},
   "source": [
    "#### Percentual de Despesas Assistenciais em relação às Receitas de Contraprestações (DM)"
   ]
  },
  {
   "cell_type": "code",
   "execution_count": 31,
   "metadata": {},
   "outputs": [
    {
     "name": "stdout",
     "output_type": "stream",
     "text": [
      "300870 2013 1 contraprestacoes\n",
      "300870 2013 2 contraprestacoes\n",
      "300870 2013 4 contraprestacoes\n",
      "415014 2019 2 contraprestacoes\n",
      "384577 2017 3 contraprestacoes\n",
      "302228 2018 1 contraprestacoes\n"
     ]
    }
   ],
   "source": [
    "df_demons['DM'] = df_demons.apply(lambda x:  calcIndicadores.calcular_dm(x),axis=1)\n"
   ]
  },
  {
   "cell_type": "markdown",
   "metadata": {},
   "source": [
    "#### Percentual de Despesas Administrativas em relação às Receitas de Contraprestações (DA)"
   ]
  },
  {
   "cell_type": "code",
   "execution_count": 32,
   "metadata": {},
   "outputs": [
    {
     "name": "stdout",
     "output_type": "stream",
     "text": [
      "300870 2013 1 contraprestacoes\n",
      "300870 2013 2 contraprestacoes\n",
      "300870 2013 4 contraprestacoes\n",
      "415014 2019 2 contraprestacoes\n",
      "384577 2017 3 contraprestacoes\n",
      "302228 2018 1 contraprestacoes\n"
     ]
    }
   ],
   "source": [
    "df_demons['DA'] = df_demons.apply(lambda x:  calcIndicadores.calcular_da(x),axis=1)"
   ]
  },
  {
   "cell_type": "markdown",
   "metadata": {},
   "source": [
    "#### Percentual de Despesa Comercial em relação à Receita de Contraprestações (DC)"
   ]
  },
  {
   "cell_type": "code",
   "execution_count": 33,
   "metadata": {},
   "outputs": [
    {
     "name": "stdout",
     "output_type": "stream",
     "text": [
      "300870 2013 1 contraprestacoes\n",
      "300870 2013 2 contraprestacoes\n",
      "300870 2013 4 contraprestacoes\n",
      "415014 2019 2 contraprestacoes\n",
      "384577 2017 3 contraprestacoes\n",
      "302228 2018 1 contraprestacoes\n"
     ]
    }
   ],
   "source": [
    "df_demons['DC'] = df_demons.apply(lambda x:  calcIndicadores.calcular_dc(x),axis=1)"
   ]
  },
  {
   "cell_type": "markdown",
   "metadata": {},
   "source": [
    "### Percentual de Despesas Operacionais em relação às Receitas Operacionais (DOP)"
   ]
  },
  {
   "cell_type": "code",
   "execution_count": 34,
   "metadata": {},
   "outputs": [
    {
     "name": "stdout",
     "output_type": "stream",
     "text": [
      "415014 2019 2 contraprestacoes_efetivas+ OUTRAS DESPESAS OPERACIONAIS\n",
      "384577 2017 3 contraprestacoes_efetivas+ OUTRAS DESPESAS OPERACIONAIS\n",
      "302228 2018 1 contraprestacoes_efetivas+ OUTRAS DESPESAS OPERACIONAIS\n"
     ]
    }
   ],
   "source": [
    "df_demons['DOP'] = df_demons.apply(lambda x:  calcIndicadores.calcular_dop(x),axis=1)"
   ]
  },
  {
   "cell_type": "markdown",
   "metadata": {},
   "source": [
    "#### Índice de Resultado Financeiro (IRF)"
   ]
  },
  {
   "cell_type": "code",
   "execution_count": 35,
   "metadata": {},
   "outputs": [
    {
     "name": "stdout",
     "output_type": "stream",
     "text": [
      "300870 2013 1 contraprestracoes_efetivas\n",
      "300870 2013 2 contraprestracoes_efetivas\n",
      "300870 2013 4 contraprestracoes_efetivas\n",
      "415014 2019 2 contraprestracoes_efetivas\n",
      "384577 2017 3 contraprestracoes_efetivas\n",
      "302228 2018 1 contraprestracoes_efetivas\n"
     ]
    }
   ],
   "source": [
    "df_demons['IRF'] = df_demons.apply(lambda x:  calcIndicadores.calcular_irf(x),axis=1)"
   ]
  },
  {
   "cell_type": "markdown",
   "metadata": {},
   "source": [
    "#### Liquidez Corrente (LC)"
   ]
  },
  {
   "cell_type": "code",
   "execution_count": 36,
   "metadata": {},
   "outputs": [],
   "source": [
    "df_demons['LC'] = df_demons.apply(lambda x:  calcIndicadores.calcular_liquidez_corrente(x),axis=1)"
   ]
  },
  {
   "cell_type": "markdown",
   "metadata": {},
   "source": [
    "#### Capital de terceiros sobre o Capital próprio (CT/CP)"
   ]
  },
  {
   "cell_type": "code",
   "execution_count": 37,
   "metadata": {},
   "outputs": [],
   "source": [
    "df_demons['CT/CP'] = df_demons.apply(lambda x:  calcIndicadores.calcular_ct_cp(x),axis=1)\n"
   ]
  },
  {
   "cell_type": "markdown",
   "metadata": {},
   "source": [
    "### Prazo Médio de Recebimento de Contraprestações (PMRC)"
   ]
  },
  {
   "cell_type": "code",
   "execution_count": 38,
   "metadata": {},
   "outputs": [
    {
     "name": "stdout",
     "output_type": "stream",
     "text": [
      "300870 2013 1 contraprestacao_efetiva\n",
      "300870 2013 2 contraprestacao_efetiva\n",
      "300870 2013 4 contraprestacao_efetiva\n",
      "415014 2019 2 contraprestacao_efetiva\n",
      "384577 2017 3 contraprestacao_efetiva\n",
      "302228 2018 1 contraprestacao_efetiva\n"
     ]
    }
   ],
   "source": [
    "df_demons['PMRC'] = df_demons.apply(lambda x:  calcIndicadores.calcular_pmrc(x),axis=1)"
   ]
  },
  {
   "cell_type": "markdown",
   "metadata": {},
   "source": [
    "### Prazo Médio de Pagamento de Eventos (PMPE)"
   ]
  },
  {
   "cell_type": "code",
   "execution_count": 39,
   "metadata": {},
   "outputs": [
    {
     "name": "stdout",
     "output_type": "stream",
     "text": [
      "415014 2019 2 eventos_indenizaveis\n",
      "384577 2017 3 eventos_indenizaveis\n"
     ]
    }
   ],
   "source": [
    "df_demons['PMPE'] = df_demons.apply(lambda x:  calcIndicadores.calcular_pmpe(x),axis=1)"
   ]
  },
  {
   "cell_type": "markdown",
   "metadata": {},
   "source": [
    "#### Suficiência de lastro das provisões técnicas"
   ]
  },
  {
   "cell_type": "code",
   "execution_count": 40,
   "metadata": {},
   "outputs": [],
   "source": [
    "df_demons['Lastro P T'] = df_demons.apply(lambda x:  calcIndicadores.calcular_latro_pt(x),axis=1)"
   ]
  },
  {
   "cell_type": "code",
   "execution_count": 41,
   "metadata": {},
   "outputs": [],
   "source": [
    "df_demons = df_demons[[\n",
    "    'REG_ANS','PERIODO','ANO','TRIMESTRE','porte','MLL','ROE','ROA','DM','DA','DC','DOP','IRF','LC','CT/CP','PMRC','PMPE','Lastro P T'\n",
    "]]"
   ]
  },
  {
   "cell_type": "code",
   "execution_count": 42,
   "metadata": {},
   "outputs": [],
   "source": [
    "df_demons.to_csv('../entrada/todos_indicadores.csv',index=False,encoding=\"ISO-8859-1\",float_format='%13.2f')"
   ]
  },
  {
   "cell_type": "code",
   "execution_count": null,
   "metadata": {},
   "outputs": [],
   "source": []
  },
  {
   "cell_type": "code",
   "execution_count": null,
   "metadata": {},
   "outputs": [],
   "source": []
  }
 ],
 "metadata": {
  "kernelspec": {
   "display_name": "Python 3",
   "language": "python",
   "name": "python3"
  },
  "language_info": {
   "codemirror_mode": {
    "name": "ipython",
    "version": 3
   },
   "file_extension": ".py",
   "mimetype": "text/x-python",
   "name": "python",
   "nbconvert_exporter": "python",
   "pygments_lexer": "ipython3",
   "version": "3.7.4"
  }
 },
 "nbformat": 4,
 "nbformat_minor": 4
}
