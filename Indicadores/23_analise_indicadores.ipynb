{
 "cells": [
  {
   "cell_type": "code",
   "execution_count": null,
   "metadata": {},
   "outputs": [],
   "source": [
    "import pandas as pd\n",
    "pd.set_option(\"display.precision\", 2)\n",
    "import numpy as np\n",
    "from matplotlib import pyplot as plt\n",
    "%matplotlib inline"
   ]
  },
  {
   "cell_type": "markdown",
   "metadata": {},
   "source": [
    "## df_indic_calculados"
   ]
  },
  {
   "cell_type": "code",
   "execution_count": null,
   "metadata": {},
   "outputs": [],
   "source": [
    "df_indic_calculados = pd.read_csv('../entrada/todos_indicadores.csv',encoding=\"ISO-8859-1\")\n",
    "df_indic_calculados.head(2)"
   ]
  },
  {
   "cell_type": "code",
   "execution_count": null,
   "metadata": {},
   "outputs": [],
   "source": [
    "df_indic_alto_nivel = pd.read_csv('../entrada/indicadores_alto.csv',encoding=\"ISO-8859-1\")\n",
    "df_indic_alto_nivel.head(2)"
   ]
  },
  {
   "cell_type": "code",
   "execution_count": null,
   "metadata": {},
   "outputs": [],
   "source": [
    "df_idss_alto_nivel = pd.read_csv('../entrada/idss_alto_nivel.csv',encoding=\"ISO-8859-1\")\n",
    "df_idss_alto_nivel.columns = ['Registro_ANS', 'ANO', 'TRIMESTRE', 'porte', 'alto_nivel']\n",
    "df_idss_alto_nivel.head(2)"
   ]
  },
  {
   "cell_type": "code",
   "execution_count": null,
   "metadata": {},
   "outputs": [],
   "source": [
    "def get_df_filtrado_by_chave(df,ano,trimestre,porte,Verbose=False):\n",
    "    if(Verbose == True):\n",
    "        print(\"Filtrando por: \",ano,trimestre,porte)\n",
    "    return df[(df['ANO'] ==  ano) \\\n",
    "                & (df['TRIMESTRE'] == trimestre) \\\n",
    "                & (df['porte'] == porte)]"
   ]
  },
  {
   "cell_type": "code",
   "execution_count": null,
   "metadata": {},
   "outputs": [],
   "source": [
    "def eh_alto_nivel(x):\n",
    "    df_alto_nivel = df_idss_alto_nivel[(df_idss_alto_nivel['ANO'] == x['ANO']) \\\n",
    "                                      & (df_idss_alto_nivel['TRIMESTRE'] == x['TRIMESTRE'])\n",
    "                                      & (df_idss_alto_nivel['Registro_ANS'] == x['REG_ANS'])\n",
    "                                      ]\n",
    "    if len(df_alto_nivel) > 0:\n",
    "        x['alto_nivel'] = 1\n",
    "        x['n_alto_nivel'] = 0\n",
    "    else:\n",
    "        x['n_alto_nivel'] = 1\n",
    "        x['alto_nivel'] = 0\n",
    "    return x"
   ]
  },
  {
   "cell_type": "code",
   "execution_count": null,
   "metadata": {},
   "outputs": [],
   "source": [
    "df_indic_calculados = df_indic_calculados.apply(lambda x: eh_alto_nivel(x),axis=1)"
   ]
  },
  {
   "cell_type": "code",
   "execution_count": null,
   "metadata": {},
   "outputs": [],
   "source": [
    "df_indic_calculados.head()"
   ]
  },
  {
   "cell_type": "markdown",
   "metadata": {},
   "source": [
    "## Gerando gráfico para verificar porcentagem de cooperativas avaliadas com a melhor faixa do IDEF/IDSM"
   ]
  },
  {
   "cell_type": "code",
   "execution_count": null,
   "metadata": {},
   "outputs": [],
   "source": [
    "def gerar_grafico_alto_nivel_porte(df, nome_porte):\n",
    "    N = len(df)\n",
    "    n_alto_nivel = ((df['n_alto_nivel']/df['total'])*100).tolist()\n",
    "    alto_nivel =  ((df['alto_nivel']/df['total'])*100).tolist()\n",
    "    ind = np.arange(N)\n",
    "    width = 0.35 \n",
    "    p2 = plt.bar(ind,n_alto_nivel,width)\n",
    "    p1 = plt.bar(ind, alto_nivel, width,bottom=n_alto_nivel)\n",
    "    \n",
    "    plt.ylabel('% de cooperativas')\n",
    "    plt.title('Porcentagem de cooperativas de '+nome_porte+' nota de IDEF/IDSM')\n",
    "    plt.xticks(ind, df.index)\n",
    "    plt.legend((p1[0], p2[0]), ('>= 0,8', '< 0,8'),)\n",
    "    plt.show()"
   ]
  },
  {
   "cell_type": "code",
   "execution_count": null,
   "metadata": {},
   "outputs": [],
   "source": [
    "for porte in df_indic_calculados['porte'].unique():\n",
    "    df_agrupado_por_porte = df_indic_calculados[(df_indic_calculados['porte'] == porte) & (df_indic_calculados['ANO'] < 2018)]\n",
    "    df_agrupado_por_porte = df_agrupado_por_porte.groupby(['ANO'])['alto_nivel','n_alto_nivel'].sum()\n",
    "    df_agrupado_por_porte['total'] = df_agrupado_por_porte['alto_nivel']+df_agrupado_por_porte['n_alto_nivel']\n",
    "    gerar_grafico_alto_nivel_porte(df_agrupado_por_porte,porte)"
   ]
  },
  {
   "cell_type": "markdown",
   "metadata": {},
   "source": [
    "#### Mostra a relação entre o resultado líquido e o total das receitas com operação de planos de saúde (contraprestações efetivas)"
   ]
  },
  {
   "cell_type": "code",
   "execution_count": null,
   "metadata": {},
   "outputs": [],
   "source": [
    "def get_indicador_melhor_avaliacao(ano,trimestre,porte,indicador):\n",
    "    df_result = df_indic_alto_nivel[(df_indic_alto_nivel[\"ANO\"] == ano) &\\\n",
    "                                    (df_indic_alto_nivel[\"TRIMESTRE\"] == trimestre) &\\\n",
    "                                    (df_indic_alto_nivel[\"porte\"] == porte)]\n",
    "    if (len(df_result) ==1):\n",
    "        return df_result[indicador].sum()\n",
    "    else:\n",
    "        raise NameError('Resultado não único!!!')"
   ]
  },
  {
   "cell_type": "code",
   "execution_count": null,
   "metadata": {},
   "outputs": [],
   "source": [
    "df_sumariza_indicadores = df_indic_alto_nivel.copy()"
   ]
  },
  {
   "cell_type": "code",
   "execution_count": null,
   "metadata": {},
   "outputs": [],
   "source": [
    "colunas_indicadores = df_indic_alto_nivel.columns[3:]"
   ]
  },
  {
   "cell_type": "code",
   "execution_count": null,
   "metadata": {},
   "outputs": [],
   "source": [
    "colunas_indicadores"
   ]
  },
  {
   "cell_type": "code",
   "execution_count": null,
   "metadata": {},
   "outputs": [],
   "source": [
    "colunas_indicadores2 = ['{0}_melhor_aval'.format(i) for i in colunas_indicadores]"
   ]
  },
  {
   "cell_type": "code",
   "execution_count": null,
   "metadata": {},
   "outputs": [],
   "source": [
    "df_sumariza_indicadores.columns = df_sumariza_indicadores.columns[:3].tolist() + colunas_indicadores2"
   ]
  },
  {
   "cell_type": "code",
   "execution_count": null,
   "metadata": {},
   "outputs": [],
   "source": [
    "df_sumariza_indicadores = df_sumariza_indicadores.set_index([\"ANO\",\"TRIMESTRE\",'porte'])"
   ]
  },
  {
   "cell_type": "code",
   "execution_count": null,
   "metadata": {},
   "outputs": [],
   "source": [
    "def contar_cooperativas_acima_media(x):\n",
    "    ano,trimestre,porte = x.name\n",
    "    for indic in df_indic_alto_nivel.columns[3:]:\n",
    "        melhor_avaliacao = get_indicador_melhor_avaliacao(ano,trimestre,porte,indic)\n",
    "        df_by_chave = get_df_filtrado_by_chave(df_indic_calculados,ano=ano,trimestre=trimestre,porte=porte)\n",
    "        x[indic+\"_qtde_acima\"] = len(df_by_chave[df_by_chave[indic] > melhor_avaliacao])        \n",
    "        x[indic+\"_qtde_abaixo\"] = len(df_by_chave[df_by_chave[indic] <= melhor_avaliacao])\n",
    "        x[indic+\"_media_geral\"] = df_by_chave[indic].mean()\n",
    "    return x"
   ]
  },
  {
   "cell_type": "code",
   "execution_count": null,
   "metadata": {},
   "outputs": [],
   "source": [
    "df_summarizado2 = df_sumariza_indicadores.apply(lambda x: contar_cooperativas_acima_media(x),axis=1)"
   ]
  },
  {
   "cell_type": "code",
   "execution_count": null,
   "metadata": {},
   "outputs": [],
   "source": [
    "df_summarizado2.head()"
   ]
  },
  {
   "cell_type": "code",
   "execution_count": null,
   "metadata": {},
   "outputs": [],
   "source": [
    "df_summarizado2 = df_summarizado2.reset_index()"
   ]
  },
  {
   "cell_type": "code",
   "execution_count": null,
   "metadata": {},
   "outputs": [],
   "source": [
    "def gerar_periodo(x):\n",
    "    ano =  str(x['ANO'])\n",
    "    trimestre = str(x['TRIMESTRE']).zfill(2)\n",
    "    return ano+trimestre\n",
    "    "
   ]
  },
  {
   "cell_type": "code",
   "execution_count": null,
   "metadata": {},
   "outputs": [],
   "source": [
    "df_summarizado2['PERIODO'] = df_summarizado2.apply(lambda x: gerar_periodo(x),axis=1)"
   ]
  },
  {
   "cell_type": "code",
   "execution_count": null,
   "metadata": {},
   "outputs": [],
   "source": [
    "for _indic in colunas_indicadores:\n",
    "    for porte in df_summarizado2['porte'].unique():\n",
    "        print(\"############ Indicador \",_indic,\" para cooperativas de \",porte,\"############ \")\n",
    "        df_porte = df_summarizado2[(df_summarizado2['porte'] == porte) \\\n",
    "                                  & (df_summarizado2['ANO'] < 2018)]\n",
    "        labels = df_porte[\"PERIODO\"].tolist()\n",
    "        ymelhor = df_porte[_indic+'_melhor_aval'].tolist()\n",
    "        ygeral = df_porte[_indic+'_media_geral'].tolist()\n",
    "        \n",
    "\n",
    "        fig, (ax1, ax2) = plt.subplots(nrows=2,ncols=1)\n",
    "        fig.set_size_inches(20, 12)\n",
    "\n",
    "        #--grafico de linha--#\n",
    "        p1, = ax1.plot(labels, ygeral,color='black',linewidth=2.0)\n",
    "        p2, = ax1.plot(labels, ymelhor, color='green',linewidth=2.0)\n",
    "        \n",
    "        ax1.title.set_text('Comparação média do indicador '+_indic+' das cooperativas de '+porte+' melhor avaliadas com média geral por ano')\n",
    "        ax1.title.set_fontsize(20)\n",
    "        ax1.legend([p1,p2],['Média Geral','Média melhor avaliadas'])\n",
    "        #--------------------------------------------------------------------------------#\n",
    "\n",
    "        y_acima_media =  df_porte[_indic+\"_qtde_acima\"].astype(int).tolist()\n",
    "        y_abaixo_media =  df_porte[_indic+\"_qtde_abaixo\"].astype(int).tolist()\n",
    "\n",
    "        x = np.arange(len(labels))  \n",
    "        width = 0.35  \n",
    "\n",
    "        rects1 = ax2.bar(x - width/2, y_acima_media, width, label='Acima da média')\n",
    "        rects2 = ax2.bar(x + width/2, y_abaixo_media, width, label='Abaixo da média')\n",
    "\n",
    "        ax2.title.set_text(\"Quantidade de cooperativas em comparação a média das melhores avaliadas\")\n",
    "        ax2.title.set_fontsize(20)\n",
    "        ax2.set_xticks(x)\n",
    "        ax2.set_xticklabels(labels)\n",
    "        ax2.legend()\n",
    "\n",
    "\n",
    "        def autolabel(rects):\n",
    "            \"\"\"Attach a text label above each bar in *rects*, displaying its height.\"\"\"\n",
    "            for rect in rects:\n",
    "                height = rect.get_height()\n",
    "                ax2.annotate('{}'.format(height),\n",
    "                            xy=(rect.get_x() + rect.get_width() / 2, height),\n",
    "                            xytext=(0, 3),  # 3 points vertical offset\n",
    "                            textcoords=\"offset points\",\n",
    "                            ha='center', va='bottom')\n",
    "\n",
    "\n",
    "        autolabel(rects1)\n",
    "        autolabel(rects2)\n",
    "        \n",
    "       \n",
    "        plt.tight_layout()\n",
    "\n",
    "        plt.show()\n",
    "        print(\"--------------------------------------------------------------------------------------------------------------------------\")"
   ]
  },
  {
   "cell_type": "code",
   "execution_count": null,
   "metadata": {},
   "outputs": [],
   "source": []
  }
 ],
 "metadata": {
  "kernelspec": {
   "display_name": "Python 3",
   "language": "python",
   "name": "python3"
  },
  "language_info": {
   "codemirror_mode": {
    "name": "ipython",
    "version": 3
   },
   "file_extension": ".py",
   "mimetype": "text/x-python",
   "name": "python",
   "nbconvert_exporter": "python",
   "pygments_lexer": "ipython3",
   "version": "3.7.4"
  }
 },
 "nbformat": 4,
 "nbformat_minor": 4
}
