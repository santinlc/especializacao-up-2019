{
 "cells": [
  {
   "cell_type": "code",
   "execution_count": 1,
   "metadata": {},
   "outputs": [],
   "source": [
    "import pandas as pd "
   ]
  },
  {
   "cell_type": "code",
   "execution_count": 2,
   "metadata": {},
   "outputs": [],
   "source": [
    "df_demonstracoes = pd.read_csv('../entrada/todas_demonstracoes_concatenadas.csv',encoding=\"ISO-8859-1\")\n",
    "df_indicadores = pd.read_csv('../entrada/indicadores_melhores_cooperativas.csv',encoding=\"ISO-8859-1\")"
   ]
  },
  {
   "cell_type": "code",
   "execution_count": 3,
   "metadata": {},
   "outputs": [
    {
     "name": "stdout",
     "output_type": "stream",
     "text": [
      "<class 'pandas.core.frame.DataFrame'>\n",
      "RangeIndex: 9601 entries, 0 to 9600\n",
      "Data columns (total 45 columns):\n",
      "REG_ANS                                 9601 non-null int64\n",
      "ANO                                     9601 non-null int64\n",
      "SEMESTRE                                9601 non-null int64\n",
      "DESPESA DE COMERCIALIZAÇÃO DIFERIDA     9601 non-null float64\n",
      "ATIVO NÃO CIRCULANTE INTANGÍVEL         9601 non-null float64\n",
      "DESPESAS ANTECIPADAS                    9601 non-null float64\n",
      "CRÉDITO TRIBUTÁRIO                      9601 non-null float64\n",
      "PARTICIPAÇÕES OPS                       9601 non-null float64\n",
      "PARTICIPAÇÕES INSTITUIÇÕES REGULADAS    9601 non-null float64\n",
      "PARTICIPAÇÕES COOPERATIVAS              9601 non-null float64\n",
      "APLICAÇÕES GARANTIDORAS                 9601 non-null float64\n",
      "PPSC                                    9601 non-null float64\n",
      "RECEITAS FINANCEIRAS                    9601 non-null float64\n",
      "DESPESAS FINANCEIRAS                    9601 non-null float64\n",
      "OUTRAS RECEITAS OPERACIONAIS            9601 non-null float64\n",
      "OUTRAS DESPESAS OPERACIONAIS            9601 non-null float64\n",
      "DESPESA                                 9601 non-null float64\n",
      "RECEITA                                 9601 non-null float64\n",
      "TRIBUTOS DIRETOS                        9601 non-null float64\n",
      "IMPOSTO SOBRE LUCRO                     9601 non-null float64\n",
      "PEONA_SUS                               9601 non-null float64\n",
      "PEONA_OUTROS                            9601 non-null float64\n",
      "PESL_OUTROS                             9601 non-null float64\n",
      "PESL_SUS                                9601 non-null float64\n",
      "REMISSAO                                9601 non-null float64\n",
      "PPCNG                                   9601 non-null float64\n",
      "PROVISOES_TECNICAS                      9601 non-null float64\n",
      "DESPESA_ADM                             9601 non-null float64\n",
      "DESPESA_COM                             9601 non-null float64\n",
      "VARIACAO_PEONA                          9601 non-null float64\n",
      "EVENTOS_INDENIZAVEIS_POS                9601 non-null float64\n",
      "EVENTOS_INDENIZAVEIS_PRE                9601 non-null float64\n",
      "EVENTOS_INDENIZAVEIS_LIQUIDOS           9601 non-null float64\n",
      "CORRESP_CEDIDA_POS                      9601 non-null float64\n",
      "CORRESP_CEDIDA_PRE                      9601 non-null float64\n",
      "CONTRAPRESTACAO_POS                     9601 non-null float64\n",
      "CONTRAPRESTACAO_PRE                     9601 non-null float64\n",
      "RECEITA_COM_ASSISTENCIA_A_SAUDE         9601 non-null float64\n",
      "PL                                      9601 non-null float64\n",
      "PASSIVO_NAO_CIRCULANTE                  9601 non-null float64\n",
      "PASSIVO_CIRCULANTE                      9601 non-null float64\n",
      "PASSIVO                                 9601 non-null float64\n",
      "CREDITO_OPER_PS                         9601 non-null float64\n",
      "ATIVO_CIRCULANTE                        9601 non-null float64\n",
      "ATIVO                                   9601 non-null float64\n",
      "dtypes: float64(42), int64(3)\n",
      "memory usage: 3.3 MB\n"
     ]
    }
   ],
   "source": []
  },
  {
   "cell_type": "code",
   "execution_count": null,
   "metadata": {},
   "outputs": [],
   "source": []
  }
 ],
 "metadata": {
  "kernelspec": {
   "display_name": "Python 3",
   "language": "python",
   "name": "python3"
  },
  "language_info": {
   "codemirror_mode": {
    "name": "ipython",
    "version": 3
   },
   "file_extension": ".py",
   "mimetype": "text/x-python",
   "name": "python",
   "nbconvert_exporter": "python",
   "pygments_lexer": "ipython3",
   "version": "3.6.5"
  }
 },
 "nbformat": 4,
 "nbformat_minor": 2
}
