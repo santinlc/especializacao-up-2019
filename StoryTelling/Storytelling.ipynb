{
 "cells": [
  {
   "cell_type": "code",
   "execution_count": null,
   "metadata": {},
   "outputs": [],
   "source": [
    "import pandas as pd\n",
    "import matplotlib.pyplot as plt\n",
    "import numpy as np\n",
    "from matplotlib import gridspec"
   ]
  },
  {
   "cell_type": "code",
   "execution_count": null,
   "metadata": {},
   "outputs": [],
   "source": [
    "df_porte_operadoras = pd.read_csv('../entrada/porte_operadoras.csv',encoding=\"ISO-8859-1\")\n",
    "df_cadu = pd.read_excel('../entrada/CADU.xls',encoding=\"ISO-8859-1\")\n",
    "df_cadop = pd.read_csv(\"../entrada/CooperativasMedicasAtivas_CADOP.txt\",sep=\"\\t\",encoding=\"ISO-8859-1\")"
   ]
  },
  {
   "cell_type": "markdown",
   "metadata": {},
   "source": [
    "### FILTRANDO OPERADARAS ATIVAS DO ARQUIVO DE CADASTROS"
   ]
  },
  {
   "cell_type": "code",
   "execution_count": null,
   "metadata": {},
   "outputs": [],
   "source": [
    "df_cadu_operadoras  = df_cadu[(df_cadu[\"STATUS\"] == \"Ativo\") & (df_cadu[\"TIPO DE ATUAÇÃO\"] == 'OPERADORA')]"
   ]
  },
  {
   "cell_type": "markdown",
   "metadata": {},
   "source": [
    "## INFORMAÇÕES RELEVANTES DO CONJUNTO DE DADOS"
   ]
  },
  {
   "cell_type": "code",
   "execution_count": null,
   "metadata": {},
   "outputs": [],
   "source": [
    "print(\"Quantidade de operadoras ativas:\\t\",df_cadu_operadoras['REGISTRO ANS'].count())\n",
    "print(\"Total Beneficiários:\\t\\t\\t\",df_cadu_operadoras['QUANTIDADE DE BENEFICIÁRIOS'].sum())\n",
    "print(\"Total Cooperados:\\t\\t\\t\",df_cadu_operadoras['COOPERADOS TOTAL'].sum())\n",
    "print(\"Total de funcionários:\\t\\t\\t\",df_cadu_operadoras['QUANTIDADE DE FUNCIONÁRIOS'].sum())"
   ]
  },
  {
   "cell_type": "code",
   "execution_count": null,
   "metadata": {},
   "outputs": [],
   "source": [
    "def gera_grafico_group_by(serie_valores,titulo) :\n",
    "    \n",
    "    fig = plt.figure(figsize=(18,20))\n",
    "    gs = gridspec.GridSpec(9,1)\n",
    "    \n",
    "    ax1 = fig.add_subplot((gs[0:-3]))\n",
    "    serie_valores.plot(kind='pie', y = \"Classes\", ax=ax1, autopct='%1.1f%%', \n",
    "    startangle=90,   legend = True, fontsize=16,)\n",
    "    ax1.title.set_text(titulo)\n",
    "    ax1.title.set_size(30)\n",
    "    \n",
    "\n",
    "    ax2 = fig.add_subplot((gs[7:]))\n",
    "    serie_valores.plot(kind='bar',fontsize=16)\n",
    "    ax2.title.set_text(titulo)\n",
    "    ax2.title.set_size(30)\n",
    "\n",
    "    #Ajuste das labels dos gráfico de barras\n",
    "    for xticks in ax2.get_xticklabels():\n",
    "        xticks.set_rotation(0)    \n",
    "\n",
    "    rects = ax2.patches\n",
    "    for rect, label in zip(rects, serie_valores.values):\n",
    "        height = rect.get_height()\n",
    "        ax2.text(rect.get_x() + rect.get_width() / 2, height, label,\n",
    "                ha='center', va='bottom')\n",
    "    plt.legend(loc='best',fontsize=\"small\")\n",
    "#     plt.tight_layout()\n",
    "    plt.subplots_adjust(hspace = 0.5)\n",
    "    nome_arquivo = titulo.replace(\".\",\"\").replace(\" \",\"_\")\n",
    "    plt.savefig(\"../graficos/\"+nome_arquivo)\n",
    "    plt.show()\n",
    "    \n",
    "    \n",
    "   "
   ]
  },
  {
   "cell_type": "markdown",
   "metadata": {},
   "source": [
    "\n",
    "## Quantidade de Operadoras por Porte"
   ]
  },
  {
   "cell_type": "code",
   "execution_count": null,
   "metadata": {},
   "outputs": [],
   "source": [
    "serie_quantidade_operadoras_por_porte = df_cadu_operadoras.groupby(by=['PORTE'])['REGISTRO ANS'].count()"
   ]
  },
  {
   "cell_type": "code",
   "execution_count": null,
   "metadata": {},
   "outputs": [],
   "source": [
    "gera_grafico_group_by(serie_quantidade_operadoras_por_porte,\"Quantidade Operadora por porte\")"
   ]
  },
  {
   "cell_type": "markdown",
   "metadata": {},
   "source": [
    "## Operadora por região"
   ]
  },
  {
   "cell_type": "code",
   "execution_count": null,
   "metadata": {},
   "outputs": [],
   "source": [
    "serie_quantidade_operadoras_por_regiao = df_cadu_operadoras.groupby(by=['REGIÃO'])['REGISTRO ANS'].count()\n",
    "gera_grafico_group_by(serie_quantidade_operadoras_por_regiao,\"Quantidade operadoras por região\")"
   ]
  },
  {
   "cell_type": "code",
   "execution_count": null,
   "metadata": {},
   "outputs": [],
   "source": [
    "df_cadu.groupby(['PORTE','REGIÃO'])['REGISTRO ANS'].count()"
   ]
  },
  {
   "cell_type": "markdown",
   "metadata": {},
   "source": [
    "## Região por porte da operadora"
   ]
  },
  {
   "cell_type": "code",
   "execution_count": null,
   "metadata": {},
   "outputs": [],
   "source": [
    "for porte in df_cadu_operadoras[\"PORTE\"].unique():\n",
    "    serie_porte_por_regiao = df_cadu_operadoras[df_cadu_operadoras[\"PORTE\"] == porte].groupby(by=[\"REGIÃO\"])['REGISTRO ANS'].count()\n",
    "    gera_grafico_group_by(serie_porte_por_regiao, \"Distribuição porte operadora por região - \"+porte)"
   ]
  },
  {
   "cell_type": "markdown",
   "metadata": {},
   "source": [
    "## Beneficiários das operadoras por região "
   ]
  },
  {
   "cell_type": "code",
   "execution_count": null,
   "metadata": {},
   "outputs": [],
   "source": [
    "serie_quantidade_beneficiarios_por_regiao =  df_cadu_operadoras.groupby(by=['REGIÃO'])['QUANTIDADE DE BENEFICIÁRIOS'].sum()"
   ]
  },
  {
   "cell_type": "code",
   "execution_count": null,
   "metadata": {},
   "outputs": [],
   "source": [
    "gera_grafico_group_by(serie_quantidade_beneficiarios_por_regiao, \"Quantidade beneficiários por região\")"
   ]
  },
  {
   "cell_type": "markdown",
   "metadata": {},
   "source": [
    "## Porte Operadoras por Região"
   ]
  },
  {
   "cell_type": "code",
   "execution_count": null,
   "metadata": {},
   "outputs": [],
   "source": [
    "for regiao in df_cadu_operadoras[\"REGIÃO\"].unique():\n",
    "    serie_operadoras_por_regiao = df_cadu_operadoras[df_cadu_operadoras[\"REGIÃO\"] == regiao].groupby(by=[\"PORTE\"])['REGISTRO ANS'].count()\n",
    "    gera_grafico_group_by(serie_operadoras_por_regiao, \"Porte operadoras da região \"+regiao)"
   ]
  },
  {
   "cell_type": "markdown",
   "metadata": {},
   "source": [
    "## Todas as operadores por região"
   ]
  },
  {
   "cell_type": "code",
   "execution_count": null,
   "metadata": {},
   "outputs": [],
   "source": [
    "total_beneficiarios_por_ano = df_porte_operadoras.groupby(by=[\"ano\"],as_index=False)['beneficiarios'].sum()\n",
    "total_beneficiarios_por_ano.set_index(\"ano\")\n",
    "total_beneficiarios_por_ano.columns = [\"ano\", \"total\"]\n"
   ]
  },
  {
   "cell_type": "code",
   "execution_count": null,
   "metadata": {},
   "outputs": [],
   "source": [
    "media_beneficiarios_por_ano = df_porte_operadoras.groupby(by=[\"ano\"],as_index=False)['beneficiarios'].mean()\n",
    "media_beneficiarios_por_ano.set_index(\"ano\")\n",
    "media_beneficiarios_por_ano.columns = [\"ano\", \"media\"]\n",
    "media_beneficiarios_por_ano['media'] = media_beneficiarios_por_ano['media'].map(lambda x: '%2.0f' % x).astype(float)"
   ]
  },
  {
   "cell_type": "code",
   "execution_count": null,
   "metadata": {},
   "outputs": [],
   "source": [
    "df_beneficiarios_por_ano = total_beneficiarios_por_ano.merge(media_beneficiarios_por_ano,on=\"ano\")"
   ]
  },
  {
   "cell_type": "code",
   "execution_count": null,
   "metadata": {},
   "outputs": [],
   "source": [
    "plt.figure(figsize=(20,10))\n",
    "ax1 = df_beneficiarios_por_ano['media'].plot(secondary_y=True, color='red',linewidth=5.0)\n",
    "ax2 = df_beneficiarios_por_ano['total'].plot(kind='bar')\n",
    "ax = plt.gca()\n",
    "ax.set_xticklabels(df_beneficiarios_por_ano['ano'])\n",
    "\n",
    "plt.legend(loc='best')\n",
    "plt.tight_layout()\n",
    "plt.show()"
   ]
  },
  {
   "cell_type": "code",
   "execution_count": null,
   "metadata": {},
   "outputs": [],
   "source": [
    "def sinalizar_mudanca_porte(x):\n",
    "    ano_anterior = x['ano'] - 1\n",
    "    df_ano_anterior = df_porte_operadoras[(df_porte_operadoras['ano'] == ano_anterior) & (df_porte_operadoras['Registro_ANS'] == x['Registro_ANS'])].squeeze()\n",
    "    variacao = \"0\"\n",
    "    if (len(df_ano_anterior) > 0):\n",
    "        porte_anterior = df_ano_anterior['porte']\n",
    "        porte_atual = x['porte']\n",
    "        if ((porte_anterior == \"Pequeno Porte\" and porte_atual in [\"Médio Porte\",'Grande Porte']) or  (porte_anterior == \"Médio Porte\" and porte_atual=='Grande Porte')):\n",
    "            return  \"subiu\"\n",
    "        elif ((porte_anterior == \"Grande Porte\" and porte_atual in [\"Médio Porte\",\"Pequeno Porte\"]) or  (porte_anterior == \"Médio Porte\" and porte_atual==\"Pequeno Porte\")):\n",
    "            return \"abaixou\"\n",
    "        else:\n",
    "            return \"manteve\""
   ]
  },
  {
   "cell_type": "code",
   "execution_count": 215,
   "metadata": {},
   "outputs": [],
   "source": [
    "df_porte_operadoras['variacao'] = df_porte_operadoras.apply(lambda x: sinalizar_mudanca_porte(x),axis=1)"
   ]
  },
  {
   "cell_type": "code",
   "execution_count": 217,
   "metadata": {},
   "outputs": [
    {
     "data": {
      "text/plain": [
       "Index(['REGISTRO ANS', 'RAZÃO SOCIAL', 'TIPO DE COOPERATIVA',\n",
       "       'TIPO DE ATUAÇÃO', 'GRAU DA COOPERATIVA', 'HIERARQUIA 1',\n",
       "       'HIERARQUIA 2', 'HIERARQUIA 3', 'CEP', 'ESTADO', 'REGIÃO', 'LOCALIDADE',\n",
       "       'CNPJ', ' DATA DA FUNDAÇÃO', ' ÁREA DE AÇÃO',\n",
       "       'QUANTIDADE DE FUNCIONÁRIOS', 'COOPERADOS TOTAL',\n",
       "       'QUANTIDADE DE BENEFICIÁRIOS', 'PORTE', 'STATUS', 'DATA DE INATIVAÇÃO'],\n",
       "      dtype='object')"
      ]
     },
     "execution_count": 217,
     "metadata": {},
     "output_type": "execute_result"
    }
   ],
   "source": [
    "df_cadu.columns"
   ]
  },
  {
   "cell_type": "code",
   "execution_count": 220,
   "metadata": {},
   "outputs": [
    {
     "data": {
      "text/plain": [
       "Index(['Registro_ANS', 'Razao_Social', 'Nome_Fantasia', 'Regiao_de_Atuacao'], dtype='object')"
      ]
     },
     "execution_count": 220,
     "metadata": {},
     "output_type": "execute_result"
    }
   ],
   "source": [
    "df_cadop.columns"
   ]
  },
  {
   "cell_type": "code",
   "execution_count": 221,
   "metadata": {},
   "outputs": [
    {
     "data": {
      "text/plain": [
       "Index(['Registro_ANS', 'ano', 'beneficiarios', 'porte', 'variacao'], dtype='object')"
      ]
     },
     "execution_count": 221,
     "metadata": {},
     "output_type": "execute_result"
    }
   ],
   "source": [
    "df_porte_operadoras.columns"
   ]
  },
  {
   "cell_type": "code",
   "execution_count": 222,
   "metadata": {},
   "outputs": [],
   "source": [
    "df_cadu_todas_operadoras  = df_cadu[(df_cadu[\"TIPO DE ATUAÇÃO\"] == 'OPERADORA')]"
   ]
  },
  {
   "cell_type": "code",
   "execution_count": 230,
   "metadata": {},
   "outputs": [],
   "source": [
    "df_cadu_todas_operadoras = df_cadu_todas_operadoras[['REGISTRO ANS',' DATA DA FUNDAÇÃO','STATUS', 'DATA DE INATIVAÇÃO']]"
   ]
  },
  {
   "cell_type": "code",
   "execution_count": 232,
   "metadata": {},
   "outputs": [
    {
     "data": {
      "text/html": [
       "<div>\n",
       "<style scoped>\n",
       "    .dataframe tbody tr th:only-of-type {\n",
       "        vertical-align: middle;\n",
       "    }\n",
       "\n",
       "    .dataframe tbody tr th {\n",
       "        vertical-align: top;\n",
       "    }\n",
       "\n",
       "    .dataframe thead th {\n",
       "        text-align: right;\n",
       "    }\n",
       "</style>\n",
       "<table border=\"1\" class=\"dataframe\">\n",
       "  <thead>\n",
       "    <tr style=\"text-align: right;\">\n",
       "      <th></th>\n",
       "      <th>REGISTRO ANS</th>\n",
       "      <th>DATA DA FUNDAÇÃO</th>\n",
       "      <th>STATUS</th>\n",
       "      <th>DATA DE INATIVAÇÃO</th>\n",
       "    </tr>\n",
       "  </thead>\n",
       "  <tbody>\n",
       "    <tr>\n",
       "      <td>0</td>\n",
       "      <td>355721</td>\n",
       "      <td>18/12/1967</td>\n",
       "      <td>Ativo</td>\n",
       "      <td>NaN</td>\n",
       "    </tr>\n",
       "    <tr>\n",
       "      <td>1</td>\n",
       "      <td>335690</td>\n",
       "      <td>17/12/1970</td>\n",
       "      <td>Ativo</td>\n",
       "      <td>NaN</td>\n",
       "    </tr>\n",
       "    <tr>\n",
       "      <td>2</td>\n",
       "      <td>315729</td>\n",
       "      <td>14/12/1970</td>\n",
       "      <td>Ativo</td>\n",
       "      <td>NaN</td>\n",
       "    </tr>\n",
       "    <tr>\n",
       "      <td>3</td>\n",
       "      <td>331872</td>\n",
       "      <td>13/02/1971</td>\n",
       "      <td>Ativo</td>\n",
       "      <td>NaN</td>\n",
       "    </tr>\n",
       "    <tr>\n",
       "      <td>4</td>\n",
       "      <td>343269</td>\n",
       "      <td>11/03/1971</td>\n",
       "      <td>Ativo</td>\n",
       "      <td>NaN</td>\n",
       "    </tr>\n",
       "  </tbody>\n",
       "</table>\n",
       "</div>"
      ],
      "text/plain": [
       "   REGISTRO ANS  DATA DA FUNDAÇÃO STATUS DATA DE INATIVAÇÃO\n",
       "0        355721        18/12/1967  Ativo                NaN\n",
       "1        335690        17/12/1970  Ativo                NaN\n",
       "2        315729        14/12/1970  Ativo                NaN\n",
       "3        331872        13/02/1971  Ativo                NaN\n",
       "4        343269        11/03/1971  Ativo                NaN"
      ]
     },
     "execution_count": 232,
     "metadata": {},
     "output_type": "execute_result"
    }
   ],
   "source": [
    "df_cadu_todas_operadoras[].head()"
   ]
  },
  {
   "cell_type": "code",
   "execution_count": null,
   "metadata": {},
   "outputs": [],
   "source": []
  }
 ],
 "metadata": {
  "kernelspec": {
   "display_name": "Python 3",
   "language": "python",
   "name": "python3"
  },
  "language_info": {
   "codemirror_mode": {
    "name": "ipython",
    "version": 3
   },
   "file_extension": ".py",
   "mimetype": "text/x-python",
   "name": "python",
   "nbconvert_exporter": "python",
   "pygments_lexer": "ipython3",
   "version": "3.7.4"
  }
 },
 "nbformat": 4,
 "nbformat_minor": 4
}
